{
 "cells": [
  {
   "cell_type": "markdown",
   "metadata": {},
   "source": [
    "# Лемматизация и очистка скачаных словарей с новостями"
   ]
  },
  {
   "cell_type": "code",
   "execution_count": 3,
   "metadata": {},
   "outputs": [],
   "source": [
    "import numpy as np\n",
    "import re\n",
    "\n",
    "import pandas as pd\n",
    "import pickle\n",
    "\n",
    "# Токенизатор (разбивает на слова) \n",
    "from nltk.tokenize import RegexpTokenizer\n",
    "tokenizer = RegexpTokenizer(r'\\w+')\n",
    "\n",
    "# Лемматизатор \n",
    "# ВАЖНО: надо поставить !pip install pymorphy2\n",
    "# документация на русском: https://pymorphy2.readthedocs.io/en/latest/\n",
    "import pymorphy2\n",
    "morph = pymorphy2.MorphAnalyzer()\n",
    "\n",
    "# Стоп-слова \n",
    "from nltk.corpus import stopwords\n",
    "stop = set(stopwords.words('russian'))"
   ]
  },
  {
   "cell_type": "code",
   "execution_count": 4,
   "metadata": {},
   "outputs": [],
   "source": [
    "# Функция для токенизации, лемматизации и очистки от стоп-слов\n",
    "def token_lemma(statia, stop = stop):\n",
    "    # Токенизация \n",
    "    out_1 = tokenizer.tokenize(statia.lower())\n",
    "    # Лемматизация и очистка от стоп-слов\n",
    "    out_2 = [morph.parse(tx)[0].normal_form for tx in out_1 if tx not in stop]\n",
    "    return out_2"
   ]
  },
  {
   "cell_type": "code",
   "execution_count": 9,
   "metadata": {},
   "outputs": [],
   "source": [
    "files = ['president_speach.pickle']"
   ]
  },
  {
   "cell_type": "code",
   "execution_count": 10,
   "metadata": {},
   "outputs": [],
   "source": [
    "# Библиотека для распараллеливания кода\n",
    "from joblib import Parallel, delayed\n",
    "from tqdm import tqdm_notebook\n",
    "n_jobs = -1 # параллелим на все ядра \n",
    "\n",
    "\n",
    "def prep(text):\n",
    "    return token_lemma(text, stop = stop)"
   ]
  },
  {
   "cell_type": "code",
   "execution_count": null,
   "metadata": {},
   "outputs": [],
   "source": [
    "# подгрузили данные \n",
    "with open('data.pickle', 'rb') as f:\n",
    "    texts = pickle.load(f)"
   ]
  },
  {
   "cell_type": "code",
   "execution_count": null,
   "metadata": {},
   "outputs": [],
   "source": [
    "# лемматизируем тексты\n",
    "texts_lemm = Parallel(n_jobs=n_jobs)(delayed(prep)(\n",
    "    text) for text in tqdm_notebook(texts))"
   ]
  },
  {
   "cell_type": "code",
   "execution_count": null,
   "metadata": {},
   "outputs": [],
   "source": [
    "# сохраняем данные\n",
    "with open('data_lemm.pickle', 'wb') as f:\n",
    "    pickle.dump(texts_lemm, f)    "
   ]
  },
  {
   "cell_type": "markdown",
   "metadata": {},
   "source": [
    "Это для одной группы. Можно сразу подгрузить все группы в большой список и запустить лемматизацию. "
   ]
  },
  {
   "cell_type": "markdown",
   "metadata": {},
   "source": [
    "  "
   ]
  }
 ],
 "metadata": {
  "kernelspec": {
   "display_name": "Python 3",
   "language": "python",
   "name": "python3"
  },
  "language_info": {
   "codemirror_mode": {
    "name": "ipython",
    "version": 3
   },
   "file_extension": ".py",
   "mimetype": "text/x-python",
   "name": "python",
   "nbconvert_exporter": "python",
   "pygments_lexer": "ipython3",
   "version": "3.6.5"
  }
 },
 "nbformat": 4,
 "nbformat_minor": 2
}
