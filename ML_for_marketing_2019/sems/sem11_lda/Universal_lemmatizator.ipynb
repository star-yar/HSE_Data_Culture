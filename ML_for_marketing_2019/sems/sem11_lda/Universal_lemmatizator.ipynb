{
 "cells": [
  {
   "cell_type": "markdown",
   "metadata": {},
   "source": [
    "# Лемматизация и очистка скачаных словарей с новостями"
   ]
  },
  {
   "cell_type": "code",
   "execution_count": 3,
   "metadata": {},
   "outputs": [],
   "source": [
    "import numpy as np\n",
    "import re\n",
    "\n",
    "import pandas as pd\n",
    "import pickle\n",
    "from tqdm import tqdm_notebook\n",
    "import time\n",
    "\n",
    "# Токенизатор \n",
    "#from nltk.tokenize import WhitespaceTokenizer\n",
    "#tokenizer = WhitespaceTokenizer()\n",
    "\n",
    "from nltk.tokenize import ToktokTokenizer\n",
    "tokenizer = ToktokTokenizer()\n",
    "\n",
    "# Лемматизатор \n",
    "import pymorphy2\n",
    "morph = pymorphy2.MorphAnalyzer()\n",
    "\n",
    "# Стоп-слова \n",
    "from nltk.corpus import stopwords\n",
    "stop = set(stopwords.words('russian'))"
   ]
  },
  {
   "cell_type": "code",
   "execution_count": 4,
   "metadata": {},
   "outputs": [],
   "source": [
    "# Функция для токенизации, лемматизации и очистки от стоп-слов\n",
    "def token_lemma(statia, stop = stop):\n",
    "    # Токенизация \n",
    "    out_1 = tokenizer.tokenize(statia.lower())\n",
    "    # Лемматизация и очистка от стоп-слов\n",
    "    out_2 = [morph.parse(tx)[0].normal_form for tx in out_1 if tx not in stop]\n",
    "    # Объединение назад, в текст (Countvectorizer так, сука, хочет, уёбок)\n",
    "    out_3 = ' '.join(out_2)\n",
    "    return out_3"
   ]
  },
  {
   "cell_type": "code",
   "execution_count": 5,
   "metadata": {},
   "outputs": [
    {
     "name": "stdout",
     "output_type": "stream",
     "text": [
      "\u001b[1m\u001b[34minterfax\u001b[m\u001b[m                president_speach.pickle \u001b[1m\u001b[34mtass_lemm\u001b[m\u001b[m\r\n",
      "\u001b[1m\u001b[34minterfax_lemm\u001b[m\u001b[m           \u001b[1m\u001b[34mrbc\u001b[m\u001b[m                     \u001b[1m\u001b[34mvedomosty\u001b[m\u001b[m\r\n",
      "\u001b[1m\u001b[34mlenta\u001b[m\u001b[m                   \u001b[1m\u001b[34mria\u001b[m\u001b[m                     \u001b[1m\u001b[34mvk_news\u001b[m\u001b[m\r\n",
      "\u001b[1m\u001b[34mlenta_lemm\u001b[m\u001b[m              \u001b[1m\u001b[34mria_lemm\u001b[m\u001b[m\r\n",
      "\u001b[1m\u001b[34mold_trio\u001b[m\u001b[m                \u001b[1m\u001b[34mtass\u001b[m\u001b[m\r\n"
     ]
    }
   ],
   "source": [
    "!ls ../Сборщик\\ новостей/news_data"
   ]
  },
  {
   "cell_type": "code",
   "execution_count": 6,
   "metadata": {},
   "outputs": [
    {
     "name": "stdout",
     "output_type": "stream",
     "text": [
      "mkdir: ../Сборщик новостей/news_data/lenta_lemm: File exists\r\n"
     ]
    }
   ],
   "source": [
    "!mkdir ../Сборщик\\ новостей/news_data/lenta_lemm "
   ]
  },
  {
   "cell_type": "code",
   "execution_count": 7,
   "metadata": {
    "scrolled": true
   },
   "outputs": [
    {
     "name": "stdout",
     "output_type": "stream",
     "text": [
      "total 3009896\r\n",
      "-rw-r--r--  1 fulyankin  staff   1,4G 24 ноя 23:17 lenta_news.pickle\r\n"
     ]
    }
   ],
   "source": [
    "!ls -lh ../Сборщик\\ новостей/news_data/lenta_lemm"
   ]
  },
  {
   "cell_type": "code",
   "execution_count": 8,
   "metadata": {},
   "outputs": [
    {
     "data": {
      "text/plain": [
       "['lenta_news.pickle']"
      ]
     },
     "execution_count": 8,
     "metadata": {},
     "output_type": "execute_result"
    }
   ],
   "source": [
    "files = !ls ../Сборщик\\ новостей/news_data/lenta\n",
    "files = files[:1]\n",
    "files"
   ]
  },
  {
   "cell_type": "code",
   "execution_count": 9,
   "metadata": {},
   "outputs": [],
   "source": [
    "files = ['president_speach.pickle']"
   ]
  },
  {
   "cell_type": "code",
   "execution_count": 10,
   "metadata": {},
   "outputs": [],
   "source": [
    "# Библиотека для распараллеливания кода\n",
    "from joblib import Parallel, delayed\n",
    "from tqdm import tqdm_notebook\n",
    "n_jobs = -1 # параллелим на все ядра "
   ]
  },
  {
   "cell_type": "code",
   "execution_count": 11,
   "metadata": {},
   "outputs": [],
   "source": [
    "def prep(nws):\n",
    "    nws['text'] = token_lemma(nws['text'], stop = stop)\n",
    "    nws['title'] = token_lemma(nws['title'], stop = stop)\n",
    "    return nws"
   ]
  },
  {
   "cell_type": "code",
   "execution_count": 20,
   "metadata": {},
   "outputs": [],
   "source": [
    "# with open('../Сборщик новостей/news_data/tass/{}'.format(files[0]), 'rb') as f:\n",
    "#     itog_news = pickle.load(f)"
   ]
  },
  {
   "cell_type": "code",
   "execution_count": 60,
   "metadata": {},
   "outputs": [
    {
     "data": {
      "application/vnd.jupyter.widget-view+json": {
       "model_id": "b38108a129024798b0d88bcdcf39a2c3",
       "version_major": 2,
       "version_minor": 0
      },
      "text/plain": [
       "HBox(children=(IntProgress(value=0, max=1), HTML(value='')))"
      ]
     },
     "metadata": {},
     "output_type": "display_data"
    },
    {
     "name": "stdout",
     "output_type": "stream",
     "text": [
      "1574613661.609377\n",
      "464637\n",
      "464637\n"
     ]
    },
    {
     "data": {
      "application/vnd.jupyter.widget-view+json": {
       "model_id": "c6d5641071634076ba2e00d0c2f518c3",
       "version_major": 2,
       "version_minor": 0
      },
      "text/plain": [
       "HBox(children=(IntProgress(value=0, max=464637), HTML(value='')))"
      ]
     },
     "metadata": {},
     "output_type": "display_data"
    },
    {
     "name": "stdout",
     "output_type": "stream",
     "text": [
      "\n",
      "\n"
     ]
    }
   ],
   "source": [
    "for i in tqdm_notebook(files):\n",
    "    with open('../Сборщик новостей/news_data/lenta/{}'.format(i), 'rb') as f:\n",
    "        itog_news = pickle.load(f)\n",
    "    \n",
    "    # Мало ли! Бывает же... \n",
    "    print(time.time())\n",
    "    print(len(itog_news))\n",
    "    itog_news  = [itn for itn in itog_news if len(itn) > 0]\n",
    "    print(len(itog_news))\n",
    "    \n",
    "    texts_lemm = Parallel(n_jobs=n_jobs)(delayed(prep)(\n",
    "        text) for text in tqdm_notebook(itog_news))\n",
    "        \n",
    "    with open('../Сборщик новостей/news_data/lenta_lemm/{}'.format(i), 'wb') as f:\n",
    "        pickle.dump(texts_lemm, f)    "
   ]
  },
  {
   "cell_type": "code",
   "execution_count": 1,
   "metadata": {},
   "outputs": [
    {
     "name": "stdout",
     "output_type": "stream",
     "text": [
      "total 3009896\r\n",
      "-rw-r--r--  1 fulyankin  staff   1,4G 24 ноя 23:17 lenta_news.pickle\r\n"
     ]
    }
   ],
   "source": [
    "!ls -lh ../Сборщик\\ новостей/news_data/lenta_lemm"
   ]
  },
  {
   "cell_type": "code",
   "execution_count": 2,
   "metadata": {},
   "outputs": [
    {
     "name": "stdout",
     "output_type": "stream",
     "text": [
      "total 3328720\r\n",
      "-rw-r--r--  1 fulyankin  staff   1,5G 23 ноя 20:12 lenta_news.pickle\r\n",
      "-rw-r--r--  1 fulyankin  staff   101M 23 ноя 13:32 lenta_titles.pickle\r\n"
     ]
    }
   ],
   "source": [
    "!ls -lh ../Сборщик\\ новостей/news_data/lenta"
   ]
  },
  {
   "cell_type": "code",
   "execution_count": null,
   "metadata": {},
   "outputs": [],
   "source": []
  }
 ],
 "metadata": {
  "kernelspec": {
   "display_name": "Python 3",
   "language": "python",
   "name": "python3"
  },
  "language_info": {
   "codemirror_mode": {
    "name": "ipython",
    "version": 3
   },
   "file_extension": ".py",
   "mimetype": "text/x-python",
   "name": "python",
   "nbconvert_exporter": "python",
   "pygments_lexer": "ipython3",
   "version": "3.7.2"
  }
 },
 "nbformat": 4,
 "nbformat_minor": 2
}
