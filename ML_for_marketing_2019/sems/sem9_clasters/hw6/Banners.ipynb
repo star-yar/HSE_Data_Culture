{
 "cells": [
  {
   "cell_type": "markdown",
   "metadata": {},
   "source": [
    "<img src=\"https://github.com/FUlyankin/HSE_Data_Culture/blob/master/ML_for_marketing_2019/sems/sem9_clasters/embedding.gif?raw=true\" height=\"500\" width=\"500\"> \n",
    "\n",
    "# <center> ML для маркетинга. <br>  <br> Cюжетная арка 3: сегментация </center>\n",
    "\n",
    "В этом семестре мы с вами пройдём через несколько сюжетных арок. Третьей и заключительной такой аркой будет сегментация. \n",
    "\n",
    "\n",
    "#  Глава I (Люси заглядывает в платяной шкаф) "
   ]
  },
  {
   "cell_type": "markdown",
   "metadata": {},
   "source": [
    "## 1. Постановка задачи \n",
    "\n",
    "Представим, что международное круизное агентство \"Carnival Cruise Line\" решило себя разрекламировать с помощью баннеров и обратилось для этого к вам. Чтобы протестировать, велика ли от таких баннеров польза, их будет размещено всего 20 штук по всему миру. Вам надо выбрать 20 таких локаций для размещения, чтобы польза была большой, и агентство продолжило с Вами сотрудничать.\n",
    "\n",
    "Агентство крупное, и у него есть офисы по всему миру. Вблизи этих офисов оно и хочет разместить баннеры - легче договариваться и проверять результат. Также эти места должны хорошо просматриваться. Подумайте как бы вы решали эту задачу. Откуда бы вы взяли данные и какие? __Сначала подумайте, а после читайте блокнот дальше. Там ответы...__\n",
    "\n",
    "\n",
    "## 2. Ход мыслей\n",
    "\n",
    "Примерный ход ваших мыслей должен был выглядеть так: \n",
    "\n",
    "- Банеры. Нужно, чтобы их чаще смотрели. В точках, где они стоят нужны большие скопления людей. \n",
    "- Как найти большое скопление людей? По геолокации! Нужна база чекинов. \n",
    "- Тогда мы сможем кластеризовать чекины, найти самые популярные места в окрестнсоти каждого офиса и поставить там банеры. Задача будет решена, на банеры будут смотреть, а нам дадут денег. \n",
    "\n",
    "\n",
    "## 3. Учим машины и рисуем карты\n",
    "\n",
    "Для поиска оптимальных мест воспользуемся базой данных крупнейшей социальной сети, основанной на локациях - Foursqare. Часть открытых данных есть, например, на сайте [archive.org.](https://archive.org/details/201309_foursquare_dataset_umn) Нас будет интересовать файл `checkins.dat`. Подгрузим его и посмотрим, что лежит внутри. "
   ]
  },
  {
   "cell_type": "code",
   "execution_count": null,
   "metadata": {},
   "outputs": [],
   "source": [
    "import pandas as pd\n",
    "import numpy as np\n",
    "import matplotlib.pyplot as plt\n",
    "%matplotlib inline"
   ]
  },
  {
   "cell_type": "code",
   "execution_count": null,
   "metadata": {
    "scrolled": true
   },
   "outputs": [],
   "source": [
    "df = pd.read_csv('checkins.csv')\n",
    "print('Размер выборки:', df.shape)\n",
    "df.head()"
   ]
  },
  {
   "cell_type": "markdown",
   "metadata": {},
   "source": [
    "Внутри лежат  id наблюдений, id тех, кто зачекинился, время чекина, ещё какое-то id и координаты чекина. Именно координаты нас и интересуют. Заберём их в отдельную таблицу $X.$"
   ]
  },
  {
   "cell_type": "code",
   "execution_count": null,
   "metadata": {},
   "outputs": [],
   "source": [
    "X = df[['longitude', 'latitude']]\n",
    "X.head()"
   ]
  },
  {
   "cell_type": "markdown",
   "metadata": {},
   "source": [
    "Как мы помним, 20 баннеров надо разместить около офисов компании. Если воспользоваться Google Maps, можно узнать координаты этих офисов.\n",
    "\n",
    "```\n",
    "33.751277, -118.188740 (Los Angeles)\n",
    "\n",
    "25.867736, -80.324116 (Miami)\n",
    "\n",
    "51.503016, -0.075479 (London)\n",
    "\n",
    "52.378894, 4.885084 (Amsterdam)\n",
    "\n",
    "39.366487, 117.036146 (Beijing)\n",
    "\n",
    "-33.868457, 151.205134 (Sydney)\n",
    "```"
   ]
  },
  {
   "cell_type": "code",
   "execution_count": null,
   "metadata": {},
   "outputs": [],
   "source": [
    "# координаты офисов\n",
    "ofices = np.array([[-118.188740, 33.751277],[-80.324116, 25.867736], [-0.075479, 51.503016],\n",
    "                  [4.885084, 52.378894], [117.036146, 39.366487], [151.205134, -33.868457]])"
   ]
  },
  {
   "cell_type": "markdown",
   "metadata": {},
   "source": [
    "Посмотрим как расположение офисов и чекинов выглядит на картинке и попробуем догадаться где какой материк."
   ]
  },
  {
   "cell_type": "code",
   "execution_count": null,
   "metadata": {},
   "outputs": [],
   "source": [
    "plt.figure(figsize=(16,8))\n",
    "plt.scatter(X.longitude.values,X.latitude.values)\n",
    "plt.scatter(ofices[:,0], ofices[:,1], color='red')"
   ]
  },
  {
   "cell_type": "markdown",
   "metadata": {},
   "source": [
    "## 4. Кластеризация\n",
    "\n",
    "Пришло время разбивать чекины на однородные группы. Будем делать это с помощью кластеризации. \n",
    "\n",
    "**Примечание**: при подсчете расстояний и в кластеризации можно пренебречь тем, что Земля круглая, так как в точках, расположенных близко друг к другу погрешность мала, а в остальных точках значение достаточно велико, чтобы не повлиять на кластеризацию или сортировку.\n",
    "\n",
    "**Примечание**: на 396632 строках, кластеризация будет работать долго. Для получения корректного ответа достаточно и 100000 (~2 минуты на \"среднем\" ноутбуке). Быть очень терпеливым не возбраняется - результат от этого только улучшится. Если 100000 компьютер тоже отказывается тянуть, возьмите более мелкую выборку. \n",
    "\n",
    "Сделаем сэмпл. "
   ]
  },
  {
   "cell_type": "code",
   "execution_count": null,
   "metadata": {},
   "outputs": [],
   "source": [
    "ind = np.random.choice(range(X.shape[0]), 100000)\n",
    "X_sample = X.get_values()[ind]\n",
    "X_sample.shape"
   ]
  },
  {
   "cell_type": "markdown",
   "metadata": {},
   "source": [
    "__[1]__ Для начала попробуем сделать кластеризацию методом K-means на два кластера. "
   ]
  },
  {
   "cell_type": "code",
   "execution_count": null,
   "metadata": {},
   "outputs": [],
   "source": [
    "# Ваша кластеризация"
   ]
  },
  {
   "cell_type": "code",
   "execution_count": null,
   "metadata": {},
   "outputs": [],
   "source": [
    "centers = #запишите сюда центры кластеров \n",
    "centers"
   ]
  },
  {
   "cell_type": "code",
   "execution_count": null,
   "metadata": {},
   "outputs": [],
   "source": [
    "labels =   # запишите сюда лэйблы кластеров (единичка или нолик) \n",
    "labels[:10]"
   ]
  },
  {
   "cell_type": "markdown",
   "metadata": {},
   "source": [
    "Запустите код ниже. Построится карта, где все точки будут покрашены в соотвествующие кластеры."
   ]
  },
  {
   "cell_type": "code",
   "execution_count": null,
   "metadata": {},
   "outputs": [],
   "source": [
    "from itertools import cycle\n",
    "\n",
    "labels_unique = np.unique(labels)\n",
    "n_clusters_ = len(labels_unique)\n",
    "\n",
    "plt.figure(figsize=(16,8))\n",
    "\n",
    "# Будем перебирать все цвета внутри вот этого цикла\n",
    "colors = cycle('bgrcmykbgrcmykbgrcmykbgrcmyk')\n",
    "for k, col in zip(range(n_clusters_), colors):\n",
    "    my_members = labels == k\n",
    "    center = centers[k]\n",
    "    # Каждый кластер наносим на график своим цветом \n",
    "    plt.plot(X_sample[my_members,0],X_sample[my_members,1],col + '.' )"
   ]
  },
  {
   "cell_type": "markdown",
   "metadata": {},
   "source": [
    "__[1]__ Попробуйте оценить k-means c 4, 5, 10, 20, 50 кластерами. Каждый раз просто перезапускайте код выше с новым числом $K$. Что происходит с точками на карте? Как именно чекины разбиваются на сегменты? Есть ли что-то плохое в таком поведении алгоритма для нашей задачи? \n",
    "\n",
    "__Ответ:__ "
   ]
  },
  {
   "cell_type": "markdown",
   "metadata": {},
   "source": [
    "Давайте попробуем теперь реализовать на наших данных немного другой алгоритм. Он называется DBSCAN. Пока что мы о нём ничего не знаем и понятия не имеем как он работает. \n",
    "\n",
    "__[1]__  Разберитесь как работает этот алгоритм и опишите интуицию которая за ним стоит. Математику опустите. В описании интуиции вам поможет [вот эта статья.](https://habr.com/ru/post/322034/)\n",
    "\n",
    "__Ответ:__ \n",
    "\n",
    "\n",
    "__[1]__ Ну а теперь реализуйте алгоритм на наших данных. Написать несколько волшебных строк для этого вам поможет [документация к sklearn.](https://scikit-learn.org/stable/modules/generated/sklearn.cluster.DBSCAN.html) Обоснуйте свой выбор параметров алгоритма (параметры `eps` и `min_samples`)."
   ]
  },
  {
   "cell_type": "code",
   "execution_count": null,
   "metadata": {},
   "outputs": [],
   "source": [
    "# Ваша кластеризация :) "
   ]
  },
  {
   "cell_type": "code",
   "execution_count": null,
   "metadata": {},
   "outputs": [],
   "source": [
    "labels = # запишите сюда лэйблы кластеров "
   ]
  },
  {
   "cell_type": "markdown",
   "metadata": {},
   "source": [
    "Давайте посмотрим что у нас получится на карте. "
   ]
  },
  {
   "cell_type": "code",
   "execution_count": null,
   "metadata": {
    "scrolled": false
   },
   "outputs": [],
   "source": [
    "from itertools import cycle\n",
    "\n",
    "labels_unique = np.unique(labels)\n",
    "n_clusters_ = len(labels_unique)\n",
    "\n",
    "plt.figure(figsize=(16,8))\n",
    "\n",
    "# Будем перебирать все цвета внутри вот этого цикла\n",
    "colors = cycle('bgrcmykbgrcmykbgrcmykbgrcmyk')\n",
    "for k, col in zip(range(n_clusters_), colors):\n",
    "    my_members = labels == k\n",
    "    # Каждый кластер наносим на график своим цветом \n",
    "    plt.plot(X_sample[my_members,0],X_sample[my_members,1],col + '.' )"
   ]
  },
  {
   "cell_type": "markdown",
   "metadata": {},
   "source": [
    "__[1]__  Сколько получилось кластеров? "
   ]
  },
  {
   "cell_type": "code",
   "execution_count": null,
   "metadata": {},
   "outputs": [],
   "source": [
    "# выведите на экран ответ (прям кодом!)"
   ]
  },
  {
   "cell_type": "markdown",
   "metadata": {},
   "source": [
    "Что такое $-1$ кластер? Какой в нём смысл (чтобы ответить на этот вопрос надо было почитать про алгоритм...) \n",
    "\n",
    "__Ответ:__ \n",
    "\n",
    "Сколько в него попало точек? "
   ]
  },
  {
   "cell_type": "code",
   "execution_count": null,
   "metadata": {},
   "outputs": [],
   "source": [
    "# выведите на экран ответ (прям кодом!)"
   ]
  },
  {
   "cell_type": "markdown",
   "metadata": {},
   "source": [
    "__[1]__ Как думаете, подходит ли DBSCAN для решения нашей задачи? У него явно есть какие-то минусы, которые конфликтуют с бизнец-целью, поставленной перед нами. Что это за минусы? \n",
    "\n",
    "__Ответ:__ "
   ]
  },
  {
   "cell_type": "markdown",
   "metadata": {},
   "source": [
    " "
   ]
  },
  {
   "cell_type": "markdown",
   "metadata": {},
   "source": [
    "Это всё, конечно, круто, но баннеры имеют сравнительно небольшую площадь действия. Кластеры, которые мы получили выше оказались какими-то слишком большими. Хочется найти какой-то алгоритм, который позволяет ограничить размер кластера. Он должен не зависеть от их числа.  \n",
    "\n",
    "И такой алгоритм, действительно есть! Он называется `MeanShift`. Его описание при желании можно посмотреть в [sklearn user guide.](http://scikit-learn.org/stable/modules/generated/sklearn.cluster.MeanShift.html)  В этом алгоритме можно искуственно ограничить радиус каждого кластера с помощью специальной опции `bandwidth`. Укажем `bandwidth=0.1`, что в переводе из градусов в метры колеблется примерно от 5 до 10 км в средних широтах.\n",
    "\n",
    "\n",
    "__[2]__  Подгрузете `MeanShift` из `sklearn` и запустите его на наших данных. Установите параметры `bin_seeding=True` и `min_bin_freq=15`. За что отвечают эти параметры? (ответ ищите в документации)\n",
    "\n",
    "__Ответ:__ "
   ]
  },
  {
   "cell_type": "code",
   "execution_count": null,
   "metadata": {},
   "outputs": [],
   "source": [
    "# Ваша кластеризация"
   ]
  },
  {
   "cell_type": "markdown",
   "metadata": {},
   "source": [
    "Сколько всего кластеров выделила модель? "
   ]
  },
  {
   "cell_type": "code",
   "execution_count": null,
   "metadata": {},
   "outputs": [],
   "source": [
    "# выведите на экран ответ (прям кодом!)"
   ]
  },
  {
   "cell_type": "code",
   "execution_count": null,
   "metadata": {},
   "outputs": [],
   "source": [
    "labels =    # запишите сюда лэйблы кластеров \n",
    "centers =   # запишите сюда координаты центров кластеров"
   ]
  },
  {
   "cell_type": "markdown",
   "metadata": {},
   "source": [
    "Посмотрим на то, как наши кластеры выглядят на карте мира!"
   ]
  },
  {
   "cell_type": "code",
   "execution_count": null,
   "metadata": {},
   "outputs": [],
   "source": [
    "from itertools import cycle\n",
    "\n",
    "labels = clt.labels_\n",
    "labels_unique = np.unique(labels)\n",
    "n_clusters_ = len(labels_unique)\n",
    "\n",
    "plt.figure(figsize=(16,8))\n",
    "\n",
    "# Будем перебирать все цвета внутри вот этого цикла\n",
    "colors = cycle('bgrcmykbgrcmykbgrcmykbgrcmyk')\n",
    "for k, col in zip(range(n_clusters_), colors):\n",
    "    my_members = labels == k\n",
    "    center = centers[k]\n",
    "    # Каждый кластер наносим на график своим цветом \n",
    "    plt.plot(X_sample[my_members,0],X_sample[my_members,1],col + '.' )"
   ]
  },
  {
   "cell_type": "markdown",
   "metadata": {},
   "source": [
    "Каждый кластер нанесён на карту своим цветом. Красота! Давайте построим точно такую же картинку, но ещё и с центрами кластеров."
   ]
  },
  {
   "cell_type": "code",
   "execution_count": null,
   "metadata": {},
   "outputs": [],
   "source": [
    "plt.figure(figsize=(16,8))\n",
    "\n",
    "colors = cycle('bgrcmykbgrcmykbgrcmykbgrcmyk')\n",
    "for k, col in zip(range(n_clusters_), colors):\n",
    "    my_members = labels == k\n",
    "    center = centers[k]\n",
    "    \n",
    "    # Каждый кластер наносим на график своим цветом \n",
    "    plt.plot(X_sample[my_members,0],X_sample[my_members,1],col + '.' )\n",
    "    \n",
    "    # Выделяем у кластеров центры \n",
    "    plt.plot(center[0], center[1], 'o', markerfacecolor=col, markeredgecolor='k', markersize=14)"
   ]
  },
  {
   "cell_type": "markdown",
   "metadata": {},
   "source": [
    "Мы немного отвлеклись на картинки. Давайте вернёмся к нашей задаче. Мы должны выбрать 20 самых близких к офисам точек. \n",
    "\n",
    "__[2]__ Давайте найдём такие точки. Для этого отсортируем центры кластеров по расстояниям до каждого офиса. "
   ]
  },
  {
   "cell_type": "code",
   "execution_count": null,
   "metadata": {},
   "outputs": [],
   "source": [
    "results = [ ]\n",
    "for item in ofices:\n",
    "    for jtem in centers:\n",
    "        \n",
    "        ###############\n",
    "        cur_rast = # посчитайте евклидово расстояние от текущего центра jtem до текущего офиса item\n",
    "        ###############\n",
    "        \n",
    "        trio = (cur_rast, jtem, item)\n",
    "        results.append(trio)"
   ]
  },
  {
   "cell_type": "code",
   "execution_count": null,
   "metadata": {},
   "outputs": [],
   "source": [
    "# внутри results лежат тройки (расстояние, координаты центра кластера, координаты офиса)\n",
    "results[0]  "
   ]
  },
  {
   "cell_type": "code",
   "execution_count": null,
   "metadata": {},
   "outputs": [],
   "source": [
    "# всего у нас есть вот столько вариантов расположить рекламные щиты\n",
    "len(results)"
   ]
  },
  {
   "cell_type": "markdown",
   "metadata": {},
   "source": [
    "Возьмём 20 самых близких офисов."
   ]
  },
  {
   "cell_type": "code",
   "execution_count": null,
   "metadata": {},
   "outputs": [],
   "source": [
    "results.sort()         # отсортировали по расстоянию\n",
    "best_20 = results[:20] # взяли 20 самых близких\n",
    "best_20[:5]"
   ]
  },
  {
   "cell_type": "code",
   "execution_count": null,
   "metadata": {},
   "outputs": [],
   "source": [
    "# Распакуем координаты для строительства картинки \n",
    "coord = np.array([[item[1][0],item[1][1]] for item in best_20])"
   ]
  },
  {
   "cell_type": "code",
   "execution_count": null,
   "metadata": {},
   "outputs": [],
   "source": [
    "coord[:5] # координаты распаковались :) "
   ]
  },
  {
   "cell_type": "markdown",
   "metadata": {},
   "source": [
    "Строим ещё картинку! Красным нанесём офисы, лиловым точки для рекламы. Из-за больших масштабов, точки наложились друг на друга."
   ]
  },
  {
   "cell_type": "code",
   "execution_count": null,
   "metadata": {},
   "outputs": [],
   "source": [
    "plt.figure(figsize=(16,8))\n",
    "plt.scatter(X.longitude.values,X.latitude.values, alpha=0.1)  # Наносим все чекины\n",
    "plt.scatter(ofices[:,0], ofices[:,1], color='red')            # Наносим офисы \n",
    "plt.scatter(coord[:,0], coord[:,1], color='magenta')          # Наносим точки для рекламы "
   ]
  },
  {
   "cell_type": "markdown",
   "metadata": {},
   "source": [
    "Посмотрим в окрестностях какого офиса оказалась большая часть баннеров."
   ]
  },
  {
   "cell_type": "code",
   "execution_count": null,
   "metadata": {},
   "outputs": [],
   "source": [
    "l = 5\n",
    "с_long = -118.18874\n",
    "c_lat = 33.751277\n",
    "\n",
    "X_int = X[(X.longitude > с_long - l)&(X.longitude < с_long + l)& \n",
    "          (X.latitude >  - l)&(X.latitude < c_lat + l)]\n",
    "    \n",
    "coord_int = coord[(coord[:,0] > с_long - l)&(coord[:,0] < с_long + l)& \n",
    "                  (coord[:,1] > c_lat - l)&(coord[:,1] < c_lat + l)]    \n",
    "\n",
    "\n",
    "ofices_int = ofices[(ofices[:,0] > с_long - l)&(ofices[:,0] < с_long + l)& \n",
    "                    (ofices[:,1] > c_lat - l)&(ofices[:,1] < c_lat + l)] \n",
    "\n",
    "plt.figure(figsize=(16,8))\n",
    "plt.scatter(X_int.longitude.values,X_int.latitude.values, alpha=0.1)  # Наносим все чекины\n",
    "plt.scatter(ofices_int[:,0], ofices_int[:,1], color='red')            # Наносим офисы \n",
    "plt.scatter(coord_int[:,0], coord_int[:,1], color='magenta')          # Наносим точки для рекламы "
   ]
  },
  {
   "cell_type": "markdown",
   "metadata": {},
   "source": [
    "Это Калифорния! "
   ]
  },
  {
   "cell_type": "markdown",
   "metadata": {},
   "source": [
    "__[дополнительные 5 баллов]__ Компании безумно понравился наш алгоритм! Она просит нас внести небольшую правку. Ребята согласны пожертвовать близостью щита к офису в пользу большего числа чекинов, то есть в пользу большей просматриваемости. \n",
    "\n",
    "Найдите $20$ самых близких к офисам точек с более, чем $100$ чекинами. Нарисуйте их на карте. "
   ]
  },
  {
   "cell_type": "code",
   "execution_count": null,
   "metadata": {},
   "outputs": [],
   "source": [
    "# Ваш код"
   ]
  },
  {
   "cell_type": "code",
   "execution_count": null,
   "metadata": {},
   "outputs": [],
   "source": [
    "# И ещё немного вашего кода "
   ]
  },
  {
   "cell_type": "markdown",
   "metadata": {},
   "source": [
    "## 4. Подводим итоги\n",
    "\n",
    "Итак, мы только что помогли выбрать круизному агенству просматриваемые и близкие к офисам точки для рекламы. В ходе решения задачи: \n",
    "\n",
    "- Мы выслушали заказчика и поняли какие есть ограничения.\n",
    "- Мы придумали откуда взять данные и как по ним найти популярные места. \n",
    "- Мы нашли подходящий алгоритм кластеризации и обучили модель.\n",
    "- Мы подыскали самые просматриваемые локации в окрестности офисов. \n",
    "- Мы клёвые и заслужили гору бабла. \n",
    "\n",
    "Осталось только нарисовать красивую презентацию и показать это добро \"Carnival Cruise Line\". "
   ]
  },
  {
   "cell_type": "markdown",
   "metadata": {},
   "source": [
    " "
   ]
  }
 ],
 "metadata": {
  "kernelspec": {
   "display_name": "Python 3",
   "language": "python",
   "name": "python3"
  },
  "language_info": {
   "codemirror_mode": {
    "name": "ipython",
    "version": 3
   },
   "file_extension": ".py",
   "mimetype": "text/x-python",
   "name": "python",
   "nbconvert_exporter": "python",
   "pygments_lexer": "ipython3",
   "version": "3.7.2"
  }
 },
 "nbformat": 4,
 "nbformat_minor": 2
}
