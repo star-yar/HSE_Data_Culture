{
 "cells": [
  {
   "cell_type": "markdown",
   "metadata": {},
   "source": [
    "# Домашняя работа №1"
   ]
  },
  {
   "cell_type": "markdown",
   "metadata": {},
   "source": [
    "## Задача 0 (5 баллов)\n",
    "Напишите код который будет выводить только нечетные буквы вашего имени, а четные заменять на `?`.\n",
    "\n",
    "Пример: `Vladimir` -> `V?a?i?i?`"
   ]
  },
  {
   "cell_type": "code",
   "execution_count": 0,
   "metadata": {},
   "outputs": [],
   "source": [
    "# TODO:\n"
   ]
  },
  {
   "cell_type": "markdown",
   "metadata": {},
   "source": [
    "## Задача 1 (5 баллов)\n",
    "Найти кол-во дубликатов каждого числа в поданной на вход последовательности"
   ]
  },
  {
   "cell_type": "code",
   "execution_count": 0,
   "metadata": {},
   "outputs": [],
   "source": [
    "# входные данные\n",
    "list_in = [1,4,2,3,3,1,1,4,2,1,2,1,3,1,2,3,1,1,4,2,3,4,2,3,5,2,2,3,1,1]\n",
    "\n",
    "# TODO:\n"
   ]
  },
  {
   "cell_type": "markdown",
   "metadata": {},
   "source": [
    "## Задача 2 (5 баллов)\n",
    "В строке элементов убрать все дубликаты (в том числе пробелы) и вывести полученную строку"
   ]
  },
  {
   "cell_type": "code",
   "execution_count": 0,
   "metadata": {},
   "outputs": [],
   "source": [
    "str_in = 'Thhhhiiissss iisss vicctttorrryyy!!!'\n",
    "\n",
    "# TODO:\n"
   ]
  },
  {
   "cell_type": "markdown",
   "metadata": {},
   "source": [
    "## Задача 3 (11 баллов)\n",
    "\n",
    "Напиишите функцию для вычисления площади круга по заданному радиусу. И обратную к ней, которая будет вычислять радиус у круга заданной площади.\n",
    "$$S = π*r^2$$\n",
    "Приведите пример вызова функций."
   ]
  },
  {
   "cell_type": "code",
   "execution_count": 0,
   "metadata": {},
   "outputs": [],
   "source": [
    "# используйте эту переменную в качестве значения числа π\n",
    "from math import pi\n",
    "\n",
    "# TODO:\n"
   ]
  },
  {
   "cell_type": "markdown",
   "metadata": {},
   "source": [
    "## Задача 4 (18 баллов)\n",
    "\n",
    "Вывести два списка - один содержащий только положительные элементы списка, второй только отрицаетельные. И выясните где больше элементов и на сколько."
   ]
  },
  {
   "cell_type": "code",
   "execution_count": 0,
   "metadata": {},
   "outputs": [],
   "source": [
    "# входные данные\n",
    "M = [[8, -9, -6, -9, 10, -8, 1, 7, 5, -2],\n",
    "     [9, 10, -10, 9, 3, 5, -6, 3, -6, 10],\n",
    "     [0, 2, 2, 3, -3, -2, -6, 5, 1, -1],\n",
    "     [-4, 3, -9, -7, -7, 7, -7, 3, 8, -9],\n",
    "     [1, -10, -2, 6, -10, 4, 1, 8, -3, 4],\n",
    "     [-2, 8, 10, -9, 10, 0, -8, -5, 2, 0]]\n",
    "\n",
    "# TODO:\n"
   ]
  },
  {
   "cell_type": "markdown",
   "metadata": {},
   "source": [
    "## Задача 5 (24 балл)\n",
    "\n",
    "Напишите функцию, которая выводит заданное кол-во чисел Фибоначчи.\n",
    "\n",
    "**Подсказка:** последовательность Фибоначчи - это последовательность чисел, где следующее число в последовательности является суммой двух предыдущих чисел в последовательности. Последовательность выглядит следующим образом: 0, 1, 1, 2, 3, 5, 8, 13, …"
   ]
  },
  {
   "cell_type": "code",
   "execution_count": 0,
   "metadata": {},
   "outputs": [],
   "source": [
    "# TODO:\n"
   ]
  },
  {
   "cell_type": "markdown",
   "metadata": {},
   "source": [
    "## Задача 6 (32 балла)\n",
    "\n",
    "Написать **функцию**, которая запрашивает у пользователя строку, содержащую несколько слов. Затем выводит пользователю ту же строку но в обратном порядке.\n",
    "- в строке предложений может быть несколько\n",
    "- предложение начинается с большой буквы\n",
    "- кроме слова в начале предложения остальные должны начинаться с маленькой\n",
    "- гарантируется отсутствие любых знаков кроме точки в качестве знака препинания\n",
    "\n",
    "Пример:\n",
    "```\n",
    "[In]:  'Я есть Грут. Ты нет.'\n",
    "[Out]: 'Грут есть я. Нет ты.'\n",
    "```\n",
    "\n",
    "Пример:\n",
    "```\n",
    "[In]:  'Мама мыла раму. А папа мыл паркет.'\n",
    "[Out]: 'Раму мыла мама. Паркет мыл папа а.'\n",
    "```"
   ]
  },
  {
   "cell_type": "code",
   "execution_count": 0,
   "metadata": {},
   "outputs": [],
   "source": [
    "# TODO:\n"
   ]
  }
 ],
 "metadata": {
  "kernelspec": {
   "display_name": "Python 3",
   "language": "python",
   "name": "python3"
  },
  "language_info": {
   "codemirror_mode": {
    "name": "ipython",
    "version": 3
   },
   "file_extension": ".py",
   "mimetype": "text/x-python",
   "name": "python",
   "nbconvert_exporter": "python",
   "pygments_lexer": "ipython3",
   "version": "3.7.4"
  },
  "toc": {
   "base_numbering": 1,
   "nav_menu": {},
   "number_sections": false,
   "sideBar": true,
   "skip_h1_title": false,
   "title_cell": "Table of Contents",
   "title_sidebar": "Contents",
   "toc_cell": false,
   "toc_position": {},
   "toc_section_display": true,
   "toc_window_display": true
  }
 },
 "nbformat": 4,
 "nbformat_minor": 2
}
