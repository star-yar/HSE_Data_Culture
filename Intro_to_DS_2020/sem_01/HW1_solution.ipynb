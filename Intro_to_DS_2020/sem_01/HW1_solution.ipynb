{
 "cells": [
  {
   "cell_type": "markdown",
   "metadata": {},
   "source": [
    "# Домашняя работа №1"
   ]
  },
  {
   "cell_type": "markdown",
   "metadata": {},
   "source": [
    "## Задача 0\n",
    "Напишите код который будет выводить только нечетные буквы вашего имени, а четные заменять на `?`\n",
    "\n",
    "Пример: \n",
    "'Vladimir' -> 'V?a?i?i?'"
   ]
  },
  {
   "cell_type": "code",
   "execution_count": 11,
   "metadata": {},
   "outputs": [
    {
     "name": "stdout",
     "output_type": "stream",
     "text": [
      "V?a?i?i?"
     ]
    }
   ],
   "source": [
    "name = 'Vladimir'\n",
    "\n",
    "for i in range(len(name)):\n",
    "    if i%2==0:\n",
    "        print(name[i], end='')\n",
    "    else:\n",
    "        print('?', end='')"
   ]
  },
  {
   "cell_type": "markdown",
   "metadata": {},
   "source": [
    "## Задача 1\n",
    "Найти кол-во дубликатов каждого числа в поданной на вход последовательности"
   ]
  },
  {
   "cell_type": "code",
   "execution_count": 1,
   "metadata": {},
   "outputs": [
    {
     "name": "stdout",
     "output_type": "stream",
     "text": [
      "1: 10\n",
      "4: 4\n",
      "2: 8\n",
      "3: 7\n",
      "5: 1\n"
     ]
    }
   ],
   "source": [
    "# входные данные\n",
    "list_in = [1,4,2,3,3,1,1,4,2,1,2,1,3,1,2,3,1,1,4,2,3,4,2,3,5,2,2,3,1,1]\n",
    "\n",
    "# SOLUTION:\n",
    "\n",
    "my_dict = {i:list_in.count(i) for i in list_in}\n",
    "for el, cnt in my_dict.items():\n",
    "    print(f'{el}: {cnt}')"
   ]
  },
  {
   "cell_type": "markdown",
   "metadata": {},
   "source": [
    "## Задача 2\n",
    "\n",
    "Вывести два списка - один содержащий только положительные элементы списка, второй только отрицаетельные. И выясните где больше элементов и на сколько."
   ]
  },
  {
   "cell_type": "code",
   "execution_count": 2,
   "metadata": {},
   "outputs": [
    {
     "name": "stdout",
     "output_type": "stream",
     "text": [
      "Больше положительных на 5\n"
     ]
    }
   ],
   "source": [
    "# входные данные\n",
    "M = [[8, -9, -6, -9, 10, -8, 1, 7, 5, -2],\n",
    "     [9, 10, -10, 9, 3, 5, -6, 3, -6, 10],\n",
    "     [0, 2, 2, 3, -3, -2, -6, 5, 1, -1],\n",
    "     [-4, 3, -9, -7, -7, 7, -7, 3, 8, -9],\n",
    "     [1, -10, -2, 6, -10, 4, 1, 8, -3, 4],\n",
    "     [-2, 8, 10, -9, 10, 0, -8, -5, 2, 0]]\n",
    "\n",
    "# SOLUTION:\n",
    "\n",
    "positive = [el for row in M\n",
    "            for el in row\n",
    "            if el > 0]\n",
    "negative = [el for row in M\n",
    "            for el in row\n",
    "            if el < 0]\n",
    "\n",
    "diff = abs(len(positive)-len(negative))\n",
    "if positive > negative:\n",
    "    print(f'Больше положительных на {diff}')\n",
    "elif negative > positive:\n",
    "    print(f'Больше отрицательных на {diff}')\n",
    "else:\n",
    "    print('Поровну')"
   ]
  },
  {
   "cell_type": "markdown",
   "metadata": {},
   "source": [
    "## Задача 3\n",
    "В строке элементов убрать все дубликаты (в том числе пробелы) и вывести полученную строку"
   ]
  },
  {
   "cell_type": "code",
   "execution_count": 3,
   "metadata": {},
   "outputs": [
    {
     "data": {
      "text/plain": [
       "'This vctory!'"
      ]
     },
     "execution_count": 3,
     "metadata": {},
     "output_type": "execute_result"
    }
   ],
   "source": [
    "str_in = 'Thhhhiiissss iisss vicctttorrryyy!!!'\n",
    "\n",
    "# SOLUTION:\n",
    "res = ''\n",
    "for c in str_in:\n",
    "    if c not in res:\n",
    "        res+=c\n",
    "res"
   ]
  },
  {
   "cell_type": "markdown",
   "metadata": {},
   "source": [
    "## Задача 4\n",
    "\n",
    "Написать **функцию**, которая запрашивает у пользователя строку, содержащую несколько слов. Затем выводит пользователю ту же строку но в обратном порядке.\n",
    "- в строке предложений может быть несколько\n",
    "- предложение начинается с большой буквы\n",
    "- кроме слова в начале предложения остальные должны начинаться с маленькой\n",
    "- гарантируется отсутствие любых знаков кроме точки в качестве знака препинания\n",
    "\n",
    "Пример:\n",
    "```\n",
    "[In]:  'Я есть Грут. Ты нет.'\n",
    "[Out]: 'Грут есть я. Нет ты.'\n",
    "```\n",
    "\n",
    "Пример:\n",
    "```\n",
    "[In]:  'Мама мыла раму. А папа мыл паркет.'\n",
    "[Out]: 'Раму мыла мама. Паркет мыл папа а.'\n",
    "```"
   ]
  },
  {
   "cell_type": "code",
   "execution_count": 4,
   "metadata": {},
   "outputs": [
    {
     "name": "stdout",
     "output_type": "stream",
     "text": [
      "Введите предложение: Мама мыла раму. А папа мыл паркет.\n",
      "Раму мыла мама. Паркет мыл папа а. \n"
     ]
    }
   ],
   "source": [
    "# SOLUTION:\n",
    "\n",
    "def reverse_sentence():\n",
    "    string_in = input('Введите предложение: ')\n",
    "    sentences = string_in.split('.')\n",
    "    result = ''\n",
    "    sentence_start = True\n",
    "    for sentence in sentences:\n",
    "        if len(result) > 0:\n",
    "            result = result[:-1] + '. '\n",
    "            sentence_start = True\n",
    "        for word in reversed(sentence.split()):\n",
    "            if sentence_start:\n",
    "                word = word[0].upper() + word[1:].lower()\n",
    "                sentence_start = False\n",
    "            else:\n",
    "                word = word.lower()\n",
    "            result += f\"{word} \"\n",
    "\n",
    "    print(result)\n",
    "\n",
    "\n",
    "reverse_sentence()"
   ]
  },
  {
   "cell_type": "markdown",
   "metadata": {},
   "source": [
    "## Задача 5\n",
    "\n",
    "Напишите функцию, которая выводит заданное кол-во чисел Фибоначчи.\n",
    "\n",
    "**Подсказка:** последовательность Фибоначчи - это последовательность чисел, где следующее число в последовательности является суммой двух предыдущих чисел в последовательности. Последовательность выглядит следующим образом: 0, 1, 1, 2, 3, 5, 8, 13, …"
   ]
  },
  {
   "cell_type": "code",
   "execution_count": 5,
   "metadata": {},
   "outputs": [
    {
     "name": "stdout",
     "output_type": "stream",
     "text": [
      "[0, 1, 1, 2, 3, 5, 8, 13, 21]\n"
     ]
    }
   ],
   "source": [
    "# SOLUTION:\n",
    "\n",
    "res = [0,1] \n",
    "  \n",
    "def fibonacci(n): \n",
    "    if n<0: \n",
    "        print(\"Incorrect input\") \n",
    "    elif n<=len(res): \n",
    "        return res[n-1] \n",
    "    else: \n",
    "        temp_fib = fibonacci(n-1)+fibonacci(n-2) \n",
    "        res.append(temp_fib) \n",
    "        return temp_fib \n",
    "\n",
    "fibonacci(9)\n",
    "print(res)"
   ]
  },
  {
   "cell_type": "markdown",
   "metadata": {},
   "source": [
    "## Задача 6\n",
    "\n",
    "Напиишите функцию для вычисления площади круга по заданному радиусу. И обратную к ней, которая будет вычислять радиус у круга заданной площади.\n",
    "$$S = π*r^2$$\n",
    "Приведите пример вызова функций."
   ]
  },
  {
   "cell_type": "code",
   "execution_count": 6,
   "metadata": {},
   "outputs": [
    {
     "name": "stdout",
     "output_type": "stream",
     "text": [
      "Площадь круга с радиусом r = 1.23 равна S = 4.752915525615998\n",
      "Радиус круга с площадью S = 4.752915525615998 равен r = 1.23\n"
     ]
    }
   ],
   "source": [
    "# используйте эту переменную в качестве значения числа π\n",
    "from math import pi\n",
    "\n",
    "# SOLUTION:\n",
    "\n",
    "def count_S(r):\n",
    "    return pi * r**2\n",
    "\n",
    "def count_r(S):\n",
    "    return (S/pi)**0.5\n",
    "\n",
    "# проверка\n",
    "r = 1.23\n",
    "S = count_S(r)\n",
    "r_calculated = count_r(S)\n",
    "print(f\"Площадь круга с радиусом r = {r} равна S = {S}\")\n",
    "print(f\"Радиус круга с площадью S = {S} равен r = {r_calculated}\")"
   ]
  }
 ],
 "metadata": {
  "kernelspec": {
   "display_name": "Python 3",
   "language": "python",
   "name": "python3"
  },
  "language_info": {
   "codemirror_mode": {
    "name": "ipython",
    "version": 3
   },
   "file_extension": ".py",
   "mimetype": "text/x-python",
   "name": "python",
   "nbconvert_exporter": "python",
   "pygments_lexer": "ipython3",
   "version": "3.7.4"
  },
  "toc": {
   "base_numbering": 1,
   "nav_menu": {},
   "number_sections": false,
   "sideBar": true,
   "skip_h1_title": false,
   "title_cell": "Table of Contents",
   "title_sidebar": "Contents",
   "toc_cell": false,
   "toc_position": {},
   "toc_section_display": true,
   "toc_window_display": true
  }
 },
 "nbformat": 4,
 "nbformat_minor": 2
}
