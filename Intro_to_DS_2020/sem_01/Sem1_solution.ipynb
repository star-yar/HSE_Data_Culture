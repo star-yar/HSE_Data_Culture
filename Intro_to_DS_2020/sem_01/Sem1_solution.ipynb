{
 "cells": [
  {
   "cell_type": "markdown",
   "metadata": {},
   "source": [
    "# Семинар №1\n",
    "\n",
    "Задачи на python по темам:\n",
    "- листы\n",
    "- словари\n",
    "- условия\n",
    "- циклы\n",
    "- функции"
   ]
  },
  {
   "cell_type": "markdown",
   "metadata": {},
   "source": [
    "# Листы\n",
    "\n",
    "```python\n",
    "items = [1, 2, 3, [-5, -6], 'b']\n",
    "```"
   ]
  },
  {
   "cell_type": "markdown",
   "metadata": {},
   "source": [
    "Для данной ниже выборки решить задачи"
   ]
  },
  {
   "cell_type": "code",
   "execution_count": 66,
   "metadata": {},
   "outputs": [],
   "source": [
    "items = [5, -24, 76, 44, 4, -16, 57, 0, -11,\n",
    "         98, 13, 80, 16, 30, -27, -21, 78, 72]"
   ]
  },
  {
   "cell_type": "markdown",
   "metadata": {},
   "source": [
    "## Задача 0\n",
    "\n",
    "Найти произведение первого и последнего элемента выборки"
   ]
  },
  {
   "cell_type": "code",
   "execution_count": 106,
   "metadata": {},
   "outputs": [
    {
     "data": {
      "text/plain": [
       "360"
      ]
     },
     "execution_count": 106,
     "metadata": {},
     "output_type": "execute_result"
    }
   ],
   "source": [
    "# SOLUTION:\n",
    "\n",
    "items[0] * items[-1]"
   ]
  },
  {
   "cell_type": "markdown",
   "metadata": {},
   "source": [
    "## Задача 1\n",
    "\n",
    "Найти разность столбца 3 в строке 2 и суммы элементов столбцов 1 и 2 в строке 5"
   ]
  },
  {
   "cell_type": "code",
   "execution_count": 192,
   "metadata": {},
   "outputs": [
    {
     "name": "stdout",
     "output_type": "stream",
     "text": [
      "-2\n"
     ]
    }
   ],
   "source": [
    "# входные данные\n",
    "A = [[-2, 2, 6, 6, -3, -6, -5, 8, -4],\n",
    "     [-8, -2, -5, -1, -10, 5, -5, -6, -10],\n",
    "     [2, 8, 10, 6, -6, 10, 8, 4, -1],\n",
    "     [6, 10, 2, 9, -5, 6, -1, -10, -3],\n",
    "     [6, -9, -2, -6, 0, 6, 4, 6, -5],\n",
    "     [3, -5, -8, 8, 3, -8, 7, -1, 1],\n",
    "     [-8, -7, -4, 1, 0, -4, 3, -5, 4],\n",
    "     [-3, -6, -3, 10, 5, 0, 5, 10, -2],\n",
    "     [-7, 4, -7, -9, 7, -6, 8, -10, 5]]\n",
    "\n",
    "# SOLUTION:\n",
    "\n",
    "print(A[1][2] - sum(A[4][:2]))"
   ]
  },
  {
   "cell_type": "markdown",
   "metadata": {},
   "source": [
    "## Задача 2\n",
    "\n",
    "Найти частное суммы первых трех эл-ов, начиная со второго и суммы последних двух эл-ов"
   ]
  },
  {
   "cell_type": "code",
   "execution_count": 136,
   "metadata": {},
   "outputs": [
    {
     "data": {
      "text/plain": [
       "0.64"
      ]
     },
     "execution_count": 136,
     "metadata": {},
     "output_type": "execute_result"
    }
   ],
   "source": [
    "# SOLUTION:\n",
    "\n",
    "s1 = items[1:4]\n",
    "s2 = items[-2:]\n",
    "res = sum(s1) / sum(s2)\n",
    "res"
   ]
  },
  {
   "cell_type": "markdown",
   "metadata": {},
   "source": [
    "## Задача 3\n",
    "\n",
    "Найти размах выборки (разницу максимального и минимального элемента списка)"
   ]
  },
  {
   "cell_type": "code",
   "execution_count": 137,
   "metadata": {},
   "outputs": [
    {
     "data": {
      "text/plain": [
       "125"
      ]
     },
     "execution_count": 137,
     "metadata": {},
     "output_type": "execute_result"
    }
   ],
   "source": [
    "# SOLUTION:\n",
    "\n",
    "r = max(items) - min(items)\n",
    "r"
   ]
  },
  {
   "cell_type": "markdown",
   "metadata": {},
   "source": [
    "## Задача 4\n",
    "\n",
    "Найти среднее по выборке: $\\frac{1}{n}\\sum_i^n(a_i)$, где $n$ - размер выборки"
   ]
  },
  {
   "cell_type": "code",
   "execution_count": 126,
   "metadata": {},
   "outputs": [
    {
     "data": {
      "text/plain": [
       "26.333333333333332"
      ]
     },
     "execution_count": 126,
     "metadata": {},
     "output_type": "execute_result"
    }
   ],
   "source": [
    "# SOLUTION:\n",
    "\n",
    "res = sum(items) / len(items)\n",
    "res"
   ]
  },
  {
   "cell_type": "markdown",
   "metadata": {},
   "source": [
    "## Задача 5\n",
    "\n",
    "Найти медиану выборки (для списка с \"выброшенным\" третьим значением)"
   ]
  },
  {
   "cell_type": "code",
   "execution_count": 125,
   "metadata": {},
   "outputs": [
    {
     "data": {
      "text/plain": [
       "13"
      ]
     },
     "execution_count": 125,
     "metadata": {},
     "output_type": "execute_result"
    }
   ],
   "source": [
    "# SOLUTION:\n",
    "\n",
    "# способ №1\n",
    "items_ = items.copy()\n",
    "items_.remove(items_[2])\n",
    "\n",
    "# способ №2\n",
    "# items_ = items[:2] + items[3:]\n",
    "\n",
    "n = len(items_)\n",
    "items_.sort()\n",
    "res = items_[round(n/2)]\n",
    "res"
   ]
  },
  {
   "cell_type": "markdown",
   "metadata": {},
   "source": [
    "## Задача 6\n",
    "\n",
    "Найти медиану выборки (для списка с \"выброшенным\" третьим значением)"
   ]
  },
  {
   "cell_type": "code",
   "execution_count": 124,
   "metadata": {},
   "outputs": [
    {
     "data": {
      "text/plain": [
       "14.5"
      ]
     },
     "execution_count": 124,
     "metadata": {},
     "output_type": "execute_result"
    }
   ],
   "source": [
    "# SOLUTION:\n",
    "\n",
    "n = len(items)\n",
    "res = (sorted(items)[round(n/2)] + sorted(items)[round(n/2)-1])/2\n",
    "res"
   ]
  },
  {
   "cell_type": "markdown",
   "metadata": {},
   "source": [
    "## Задача 7\n",
    "\n",
    "Получить квадраты всех элементов массива, применив inline выражение"
   ]
  },
  {
   "cell_type": "code",
   "execution_count": 123,
   "metadata": {},
   "outputs": [
    {
     "data": {
      "text/plain": [
       "[25,\n",
       " 576,\n",
       " 5776,\n",
       " 1936,\n",
       " 16,\n",
       " 256,\n",
       " 3249,\n",
       " 0,\n",
       " 121,\n",
       " 9604,\n",
       " 169,\n",
       " 6400,\n",
       " 256,\n",
       " 900,\n",
       " 729,\n",
       " 441,\n",
       " 6084,\n",
       " 5184]"
      ]
     },
     "execution_count": 123,
     "metadata": {},
     "output_type": "execute_result"
    }
   ],
   "source": [
    "# SOLUTION:\n",
    "\n",
    "res = [a**2 for a in items]\n",
    "res"
   ]
  },
  {
   "cell_type": "markdown",
   "metadata": {},
   "source": [
    "## Задача 8\n",
    "\n",
    "Обратить в ноль все элементы массива меньше нуля"
   ]
  },
  {
   "cell_type": "code",
   "execution_count": 122,
   "metadata": {},
   "outputs": [
    {
     "data": {
      "text/plain": [
       "[5, 0, 76, 44, 4, 0, 57, 0, 0, 98, 13, 80, 16, 30, 0, 0, 78, 72]"
      ]
     },
     "execution_count": 122,
     "metadata": {},
     "output_type": "execute_result"
    }
   ],
   "source": [
    "# SOLUTION:\n",
    "\n",
    "res = [a if a >= 0 else 0 for a in items]\n",
    "res"
   ]
  },
  {
   "cell_type": "markdown",
   "metadata": {},
   "source": [
    "## Задача 9\n",
    "\n",
    "Вернуть элементы больше нуля"
   ]
  },
  {
   "cell_type": "code",
   "execution_count": 121,
   "metadata": {},
   "outputs": [
    {
     "data": {
      "text/plain": [
       "[5, 76, 44, 4, 57, 0, 98, 13, 80, 16, 30, 78, 72]"
      ]
     },
     "execution_count": 121,
     "metadata": {},
     "output_type": "execute_result"
    }
   ],
   "source": [
    "# SOLUTION:\n",
    "\n",
    "res = [a for a in items if a >= 0]\n",
    "res"
   ]
  },
  {
   "cell_type": "markdown",
   "metadata": {},
   "source": [
    "## Задача 10\n",
    "\n",
    "Вернуть список где\n",
    "- сначала идут элементы меньше нуля, в порядке возрастания\n",
    "- затем больше нуля, в порядке убывания"
   ]
  },
  {
   "cell_type": "code",
   "execution_count": 120,
   "metadata": {},
   "outputs": [
    {
     "data": {
      "text/plain": [
       "[-27, -24, -21, -16, -11, 98, 80, 78, 76, 72, 57, 44, 30, 16, 13, 5, 4, 0]"
      ]
     },
     "execution_count": 120,
     "metadata": {},
     "output_type": "execute_result"
    }
   ],
   "source": [
    "# SOLUTION:\n",
    "\n",
    "res = []\n",
    "res += sorted([a for a in items if a < 0])\n",
    "res += sorted([a for a in items if a >= 0], reverse=True)\n",
    "res"
   ]
  },
  {
   "cell_type": "markdown",
   "metadata": {},
   "source": [
    "# Словари\n",
    "\n",
    "```python\n",
    "items\n",
    "```"
   ]
  },
  {
   "cell_type": "code",
   "execution_count": 157,
   "metadata": {},
   "outputs": [],
   "source": [
    "items = {\"key0\": -2,\n",
    "         \"key1\": 'value1',\n",
    "         \"key2\": 2,\n",
    "         \"key3\": 1.22}"
   ]
  },
  {
   "cell_type": "code",
   "execution_count": 151,
   "metadata": {},
   "outputs": [],
   "source": [
    "# items = [4, 2, -6, 6, -3, 10, -1, -4, -1, 4, 3, 2, 4,\n",
    "#          -1, 2, 3, -2, -5, -2, 2, 10, -5, -8, 8,\n",
    "#          6, -2, 8, -7, -4, -5, 8, -6, -3, -2, -2,\n",
    "#          4, 4, 3, -1, 9, 8, 5, -6, 1, 7, 0, 4,\n",
    "#          -3, 9, 10, -8, -4, -5, -4, -4, 4, 2, 1,\n",
    "#          0, 9, -10, 1, 2, -1, 5, 4, -10, -7, -4,\n",
    "#          -3, -3, 7, -7, -2, -9, -9, 9, -8, -6, 4,\n",
    "#          1, 9, -4, 10, 3, 10, 0, -2, -6, -6, 10,\n",
    "#          -1, 4, -4, -6, -4, -1, -2, 8, -10]"
   ]
  },
  {
   "cell_type": "markdown",
   "metadata": {},
   "source": [
    "## Задача 1\n",
    "\n",
    "Добавьте по ключу `1` значение `-20`"
   ]
  },
  {
   "cell_type": "code",
   "execution_count": 172,
   "metadata": {},
   "outputs": [],
   "source": [
    "# SOLUTION:\n",
    "\n",
    "items[1] = -20"
   ]
  },
  {
   "cell_type": "markdown",
   "metadata": {},
   "source": [
    "## Задача 2\n",
    "\n",
    "Найдите значение по наименьшему из ключей"
   ]
  },
  {
   "cell_type": "code",
   "execution_count": 173,
   "metadata": {},
   "outputs": [
    {
     "ename": "TypeError",
     "evalue": "'<' not supported between instances of 'int' and 'str'",
     "output_type": "error",
     "traceback": [
      "\u001b[0;31m---------------------------------------------------------------------------\u001b[0m",
      "\u001b[0;31mTypeError\u001b[0m                                 Traceback (most recent call last)",
      "\u001b[0;32m<ipython-input-173-937120bd10ef>\u001b[0m in \u001b[0;36m<module>\u001b[0;34m\u001b[0m\n\u001b[1;32m      1\u001b[0m \u001b[0;31m# SOLUTION:\u001b[0m\u001b[0;34m\u001b[0m\u001b[0;34m\u001b[0m\u001b[0;34m\u001b[0m\u001b[0m\n\u001b[1;32m      2\u001b[0m \u001b[0;34m\u001b[0m\u001b[0m\n\u001b[0;32m----> 3\u001b[0;31m \u001b[0mitems\u001b[0m\u001b[0;34m[\u001b[0m\u001b[0mmin\u001b[0m\u001b[0;34m(\u001b[0m\u001b[0mitems\u001b[0m\u001b[0;34m.\u001b[0m\u001b[0mkeys\u001b[0m\u001b[0;34m(\u001b[0m\u001b[0;34m)\u001b[0m\u001b[0;34m)\u001b[0m\u001b[0;34m]\u001b[0m\u001b[0;34m\u001b[0m\u001b[0;34m\u001b[0m\u001b[0m\n\u001b[0m",
      "\u001b[0;31mTypeError\u001b[0m: '<' not supported between instances of 'int' and 'str'"
     ]
    }
   ],
   "source": [
    "# SOLUTION:\n",
    "\n",
    "items[min(items.keys())]"
   ]
  },
  {
   "cell_type": "markdown",
   "metadata": {},
   "source": [
    "## Задача 3\n",
    "\n",
    "Удалите *лишний* ключ и решите **Задачу 2**"
   ]
  },
  {
   "cell_type": "code",
   "execution_count": 174,
   "metadata": {},
   "outputs": [
    {
     "data": {
      "text/plain": [
       "-2"
      ]
     },
     "execution_count": 174,
     "metadata": {},
     "output_type": "execute_result"
    }
   ],
   "source": [
    "# SOLUTION:\n",
    "\n",
    "items.pop(1)\n",
    "items[min(items.keys())]"
   ]
  },
  {
   "cell_type": "markdown",
   "metadata": {},
   "source": [
    "## Задача 4\n",
    "Сведите три словаря в один и замените хранимые значения на их квадраты"
   ]
  },
  {
   "cell_type": "code",
   "execution_count": 175,
   "metadata": {},
   "outputs": [
    {
     "data": {
      "text/plain": [
       "{1: 100, 2: 400, 3: 900, 4: 1600, 5: 2500, 6: 3600}"
      ]
     },
     "execution_count": 175,
     "metadata": {},
     "output_type": "execute_result"
    }
   ],
   "source": [
    "dict_1={1:10, 2:20} \n",
    "dict_2={3:30, 4:40} \n",
    "dict_3={5:50,6:60}\n",
    "\n",
    "# SOLUTION:\n",
    "dict_all = {}\n",
    "dict_all.update(dict_1)\n",
    "dict_all.update(dict_2)\n",
    "dict_all.update(dict_3)\n",
    "res = {key: value**2 for key, value in dict_all.items()}\n",
    "res"
   ]
  },
  {
   "cell_type": "markdown",
   "metadata": {},
   "source": [
    "# Условия"
   ]
  },
  {
   "cell_type": "markdown",
   "metadata": {},
   "source": [
    "## Задача (условия)\n",
    "Напишите программу для преобразования температуры в градус Цельсия, Фаренгейта и обратно.\n",
    "\n",
    "Подсказка: системы измерения связанны соотношением: $ C = (5/9) * (F - 32) $\n",
    "\n",
    "```\n",
    "[In]:  Введите температуру, которую вы хотите перевести? (напр., 45F, 102C etc.) : 104f                                   \n",
    "[Out]: Температура по Цельсию 40 градусов.\n",
    "```"
   ]
  },
  {
   "cell_type": "code",
   "execution_count": 195,
   "metadata": {},
   "outputs": [
    {
     "name": "stdout",
     "output_type": "stream",
     "text": [
      "Температура в Celsius составляет 7 градусов.\n"
     ]
    }
   ],
   "source": [
    "# SOLUTION:\n",
    "\n",
    "temp = '45F' # входная температура (45F, 102C etc.)\n",
    "degree = int(temp[:-1])\n",
    "i_convention = temp[-1]\n",
    "\n",
    "if i_convention.upper() == \"C\":\n",
    "    result = int(round((9 * degree) / 5 + 32))\n",
    "    o_convention = \"Fahrenheit\"\n",
    "    result = \"Температура в \" + str(o_convention) + \" составляет \" + str(result) + \" градусов.\"\n",
    "elif i_convention.upper() == \"F\":\n",
    "    result = int(round((degree - 32) * 5 / 9))\n",
    "    o_convention = \"Celsius\"\n",
    "    result = \"Температура в \" + str(o_convention) + \" составляет \" + str(result) + \" градусов.\"\n",
    "else:\n",
    "    result = \"Введите корректные ед. изм.\"\n",
    "print(result)\n",
    "\n",
    "# TIPS:\n",
    "# Удобная запись строк выводящих значения переменных (f-strings)\n",
    "# Было:  `result = \"Температура в \" + str(o_convention) + \" составляет \" + str(result) + \" градусов.\"`\n",
    "# Стало: `result = f\"Температура в {o_convention} составляет {result} градусов.\"`"
   ]
  },
  {
   "cell_type": "markdown",
   "metadata": {},
   "source": [
    "# Циклы"
   ]
  },
  {
   "cell_type": "markdown",
   "metadata": {},
   "source": [
    "## Задача (Циклы)\n",
    "\n",
    "Напишите программу для вывода картинки заданной глубины (используйте вложенные циклы).\n",
    "```\n",
    "[In]: 5\n",
    "[Out]: * \n",
    "       * * \n",
    "       * * * \n",
    "       * * * * \n",
    "       * * * * * \n",
    "       * * * * \n",
    "       * * * \n",
    "       * * \n",
    "       *\n",
    "```"
   ]
  },
  {
   "cell_type": "code",
   "execution_count": 14,
   "metadata": {},
   "outputs": [
    {
     "name": "stdout",
     "output_type": "stream",
     "text": [
      "\n",
      "* \n",
      "* * \n",
      "* * * \n",
      "* * * * \n",
      "* * * * * \n",
      "* * * * \n",
      "* * * \n",
      "* * \n",
      "* \n"
     ]
    }
   ],
   "source": [
    "# SOLUTION:\n",
    "\n",
    "n=5\n",
    "for i in range(n):\n",
    "    for j in range(i):\n",
    "        print ('* ', end=\"\")\n",
    "    print('')\n",
    "\n",
    "for i in range(n,0,-1):\n",
    "    for j in range(i):\n",
    "        print('* ', end=\"\")\n",
    "    print('')"
   ]
  },
  {
   "cell_type": "markdown",
   "metadata": {},
   "source": [
    "## Задача (условия + цикл)\n",
    "\n",
    "Выведите те числа отрезка $[1500, 2700]$, которые делятся на 7 и кратны 5."
   ]
  },
  {
   "cell_type": "code",
   "execution_count": 5,
   "metadata": {},
   "outputs": [
    {
     "name": "stdout",
     "output_type": "stream",
     "text": [
      "1505,1540,1575,1610,1645,1680,1715,1750,1785,1820,1855,1890,1925,1960,1995,2030,2065,2100,2135,2170,2205,2240,2275,2310,2345,2380,2415,2450,2485,2520,2555,2590,2625,2660,2695\n"
     ]
    }
   ],
   "source": [
    "# SOLUTION:\n",
    "\n",
    "nl=[]\n",
    "for x in range(1500, 2701):\n",
    "    if (x%7==0) and (x%5==0):\n",
    "        nl.append(str(x))\n",
    "print (','.join(nl))"
   ]
  },
  {
   "cell_type": "markdown",
   "metadata": {},
   "source": [
    "# Функции"
   ]
  },
  {
   "cell_type": "markdown",
   "metadata": {},
   "source": [
    "## Задача (функции + циклы)\n",
    "\n",
    "Напишите функцию, которая принимает слово на вход и выводит его в обратно порядке."
   ]
  },
  {
   "cell_type": "code",
   "execution_count": 196,
   "metadata": {},
   "outputs": [
    {
     "name": "stdout",
     "output_type": "stream",
     "text": [
      "cba\n",
      "\n"
     ]
    }
   ],
   "source": [
    "# SOLUTION:\n",
    "\n",
    "def reverse_word(word):\n",
    "    for char in range(len(word) - 1, -1, -1):\n",
    "        print(word[char], end=\"\")\n",
    "    print(\"\\n\")\n",
    "\n",
    "reverse_word('abc')"
   ]
  },
  {
   "cell_type": "markdown",
   "metadata": {},
   "source": [
    "## Задача (Функции + Условия + Циклы)\n",
    "\n",
    "- Напишите функцию генерации `n` чисел каждое из отрезка от `a` до `b`\n",
    "- Напишите функцию для подсчета числа четных и нечетных чисел из входного ряда.\n",
    "- запустите генерацию последовательности и посчитайте в ней четные и нечетные эл-ты"
   ]
  },
  {
   "cell_type": "code",
   "execution_count": 186,
   "metadata": {},
   "outputs": [
    {
     "data": {
      "text/plain": [
       "3"
      ]
     },
     "execution_count": 186,
     "metadata": {},
     "output_type": "execute_result"
    }
   ],
   "source": [
    "import random \n",
    "numbers = random.randint(0, 10)  # пример работы функции генерации числа\n",
    "numbers"
   ]
  },
  {
   "cell_type": "code",
   "execution_count": 183,
   "metadata": {},
   "outputs": [
    {
     "name": "stdout",
     "output_type": "stream",
     "text": [
      "Кол-во нечетных чисел: 532\n",
      "Кол-во четных чисел  : 468\n"
     ]
    }
   ],
   "source": [
    "# SOLUTION:\n",
    "\n",
    "\n",
    "def gen_numbers(n, a, b):\n",
    "    import random\n",
    "    numbers = [random.randint(a, b) for i in range(n)]\n",
    "    return numbers\n",
    "\n",
    "\n",
    "def func(numbers):\n",
    "    count_odd = 0\n",
    "    count_even = 0\n",
    "    for x in numbers:\n",
    "        if not x % 2:\n",
    "            count_even += 1\n",
    "        else:\n",
    "            count_odd += 1\n",
    "    print(\"Кол-во нечетных чисел:\", count_even)\n",
    "    print(\"Кол-во четных чисел  :\", count_odd)\n",
    "\n",
    "\n",
    "func(gen_numbers(1000, 0, 10))"
   ]
  }
 ],
 "metadata": {
  "kernelspec": {
   "display_name": "Python 3",
   "language": "python",
   "name": "python3"
  },
  "language_info": {
   "codemirror_mode": {
    "name": "ipython",
    "version": 3
   },
   "file_extension": ".py",
   "mimetype": "text/x-python",
   "name": "python",
   "nbconvert_exporter": "python",
   "pygments_lexer": "ipython3",
   "version": "3.7.4"
  },
  "toc": {
   "base_numbering": 1,
   "nav_menu": {},
   "number_sections": false,
   "sideBar": true,
   "skip_h1_title": false,
   "title_cell": "Table of Contents",
   "title_sidebar": "Contents",
   "toc_cell": false,
   "toc_position": {
    "height": "calc(100% - 180px)",
    "left": "10px",
    "top": "150px",
    "width": "264.796875px"
   },
   "toc_section_display": true,
   "toc_window_display": true
  }
 },
 "nbformat": 4,
 "nbformat_minor": 2
}
