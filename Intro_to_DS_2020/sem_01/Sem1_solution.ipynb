{
 "cells": [
  {
   "cell_type": "markdown",
   "metadata": {},
   "source": [
    "**TODO:**\n",
    "- условия\n",
    "- циклы\n",
    "- функции\n",
    "- листы\n",
    "- словари"
   ]
  },
  {
   "cell_type": "code",
   "execution_count": null,
   "metadata": {},
   "outputs": [],
   "source": []
  },
  {
   "cell_type": "code",
   "execution_count": null,
   "metadata": {},
   "outputs": [],
   "source": []
  },
  {
   "cell_type": "code",
   "execution_count": null,
   "metadata": {},
   "outputs": [],
   "source": []
  },
  {
   "cell_type": "markdown",
   "metadata": {},
   "source": [
    "## Задача (условия)\n",
    "Напишите программу для преобразования температуры в градус Цельсия, Фаренгейта и обратно.\n",
    "\n",
    "Подсказка: системы измерения связанны соотношением: $ C = (5/9) * (F - 32) $\n",
    "\n",
    "```\n",
    "[In]:  Введите температуру, которую вы хотите перевести? (напр., 45F, 102C etc.) : 104f                                   \n",
    "[Out]: Температура по Цельсию 40 градусов.\n",
    "```"
   ]
  },
  {
   "cell_type": "code",
   "execution_count": 11,
   "metadata": {},
   "outputs": [
    {
     "name": "stdout",
     "output_type": "stream",
     "text": [
      "Input the  temperature you like to convert? (e.g., 45F, 102C etc.) : 12f\n",
      "Температура в Celsius составляет -11 градусов.\n"
     ]
    }
   ],
   "source": [
    "# SOLUTION:\n",
    "\n",
    "temp = input(\"Input the  temperature you like to convert? (e.g., 45F, 102C etc.) : \")\n",
    "degree = int(temp[:-1])\n",
    "i_convention = temp[-1]\n",
    "\n",
    "if i_convention.upper() == \"C\":\n",
    "    result = int(round((9 * degree) / 5 + 32))\n",
    "    o_convention = \"Fahrenheit\"\n",
    "    result = \"Температура в \" + str(o_convention) + \" составляет \" + str(result) + \" градусов.\"\n",
    "elif i_convention.upper() == \"F\":\n",
    "    result = int(round((degree - 32) * 5 / 9))\n",
    "    o_convention = \"Celsius\"\n",
    "    result = \"Температура в \" + str(o_convention) + \" составляет \" + str(result) + \" градусов.\"\n",
    "else:\n",
    "    result = \"Введите корректные ед. изм.\"\n",
    "print(result)\n",
    "\n",
    "# Удобная запись строк выводящих значения переменных (f-strings)\n",
    "# result = \"Температура в \" + str(o_convention) + \" составляет \" + str(result) + \" градусов.\"\n",
    "# result = f\"Температура в {o_convention} составляет {result} градусов.\""
   ]
  },
  {
   "cell_type": "markdown",
   "metadata": {},
   "source": [
    "## Задача (Циклы)\n",
    "\n",
    "Напишите программу для вывода картинки заданной глубины (используйте вложенные циклы).\n",
    "```\n",
    "[In]: 5\n",
    "[Out]: * \n",
    "       * * \n",
    "       * * * \n",
    "       * * * * \n",
    "       * * * * * \n",
    "       * * * * \n",
    "       * * * \n",
    "       * * \n",
    "       *\n",
    "```"
   ]
  },
  {
   "cell_type": "code",
   "execution_count": 14,
   "metadata": {},
   "outputs": [
    {
     "name": "stdout",
     "output_type": "stream",
     "text": [
      "\n",
      "* \n",
      "* * \n",
      "* * * \n",
      "* * * * \n",
      "* * * * * \n",
      "* * * * \n",
      "* * * \n",
      "* * \n",
      "* \n"
     ]
    }
   ],
   "source": [
    "# SOLUTION:\n",
    "\n",
    "n=5\n",
    "for i in range(n):\n",
    "    for j in range(i):\n",
    "        print ('* ', end=\"\")\n",
    "    print('')\n",
    "\n",
    "for i in range(n,0,-1):\n",
    "    for j in range(i):\n",
    "        print('* ', end=\"\")\n",
    "    print('')"
   ]
  },
  {
   "cell_type": "markdown",
   "metadata": {},
   "source": [
    "## Задача (условия + цикл)\n",
    "\n",
    "Выведите те числа отрезка $[1500, 2700]$, которые делятся на 7 и кратны 5."
   ]
  },
  {
   "cell_type": "code",
   "execution_count": 5,
   "metadata": {},
   "outputs": [
    {
     "name": "stdout",
     "output_type": "stream",
     "text": [
      "1505,1540,1575,1610,1645,1680,1715,1750,1785,1820,1855,1890,1925,1960,1995,2030,2065,2100,2135,2170,2205,2240,2275,2310,2345,2380,2415,2450,2485,2520,2555,2590,2625,2660,2695\n"
     ]
    }
   ],
   "source": [
    "# SOLUTION:\n",
    "\n",
    "nl=[]\n",
    "for x in range(1500, 2701):\n",
    "    if (x%7==0) and (x%5==0):\n",
    "        nl.append(str(x))\n",
    "print (','.join(nl))"
   ]
  },
  {
   "cell_type": "markdown",
   "metadata": {},
   "source": [
    "## Задача (функции + циклы)\n",
    "\n",
    "Напишите функцию, которая принимает слово на вход и выводит его в обратно порядке."
   ]
  },
  {
   "cell_type": "code",
   "execution_count": 18,
   "metadata": {},
   "outputs": [
    {
     "name": "stdout",
     "output_type": "stream",
     "text": [
      "Введите слово: abc\n",
      "cba\n",
      "\n"
     ]
    }
   ],
   "source": [
    "# SOLUTION:\n",
    "\n",
    "def reverse_word():\n",
    "    word = input(\"Введите слово: \")\n",
    "\n",
    "    for char in range(len(word) - 1, -1, -1):\n",
    "        print(word[char], end=\"\")\n",
    "    print(\"\\n\")\n",
    "\n",
    "reverse_word()"
   ]
  }
 ],
 "metadata": {
  "kernelspec": {
   "display_name": "Python 3",
   "language": "python",
   "name": "python3"
  },
  "language_info": {
   "codemirror_mode": {
    "name": "ipython",
    "version": 3
   },
   "file_extension": ".py",
   "mimetype": "text/x-python",
   "name": "python",
   "nbconvert_exporter": "python",
   "pygments_lexer": "ipython3",
   "version": "3.7.4"
  },
  "toc": {
   "base_numbering": 1,
   "nav_menu": {},
   "number_sections": false,
   "sideBar": true,
   "skip_h1_title": false,
   "title_cell": "Table of Contents",
   "title_sidebar": "Contents",
   "toc_cell": false,
   "toc_position": {},
   "toc_section_display": true,
   "toc_window_display": false
  }
 },
 "nbformat": 4,
 "nbformat_minor": 2
}
