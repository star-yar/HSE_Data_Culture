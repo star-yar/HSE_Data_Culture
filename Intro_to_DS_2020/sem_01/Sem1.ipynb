{
 "cells": [
  {
   "cell_type": "markdown",
   "metadata": {},
   "source": [
    "# Семинар №1\n",
    "\n",
    "Задачи на python по темам:\n",
    "- листы\n",
    "- словари\n",
    "- условия\n",
    "- циклы\n",
    "- функции"
   ]
  },
  {
   "cell_type": "markdown",
   "metadata": {},
   "source": [
    "# Листы\n",
    "\n",
    "```python\n",
    "items = [1, 2, 3, [-5, -6], 'b']\n",
    "```"
   ]
  },
  {
   "cell_type": "markdown",
   "metadata": {},
   "source": [
    "Для данной ниже выборки решить задачи"
   ]
  },
  {
   "cell_type": "code",
   "execution_count": 0,
   "metadata": {},
   "outputs": [],
   "source": [
    "items = [5, -24, 76, 44, 4, -16, 57, 0, -11,\n",
    "         98, 13, 80, 16, 30, -27, -21, 78, 72]"
   ]
  },
  {
   "cell_type": "markdown",
   "metadata": {},
   "source": [
    "## Задача 0\n",
    "\n",
    "Найти произведение первого и последнего элемента выборки"
   ]
  },
  {
   "cell_type": "code",
   "execution_count": 0,
   "metadata": {},
   "outputs": [],
   "source": [
    "# TODO:\n"
   ]
  },
  {
   "cell_type": "markdown",
   "metadata": {},
   "source": [
    "## Задача 1\n",
    "\n",
    "Найти разность столбца 3 в строке 2 и суммы элементов столбцов 1 и 2 в строке 5"
   ]
  },
  {
   "cell_type": "code",
   "execution_count": 0,
   "metadata": {},
   "outputs": [],
   "source": [
    "# входные данные\n",
    "A = [[-2, 2, 6, 6, -3, -6, -5, 8, -4],\n",
    "     [-8, -2, -5, -1, -10, 5, -5, -6, -10],\n",
    "     [2, 8, 10, 6, -6, 10, 8, 4, -1],\n",
    "     [6, 10, 2, 9, -5, 6, -1, -10, -3],\n",
    "     [6, -9, -2, -6, 0, 6, 4, 6, -5],\n",
    "     [3, -5, -8, 8, 3, -8, 7, -1, 1],\n",
    "     [-8, -7, -4, 1, 0, -4, 3, -5, 4],\n",
    "     [-3, -6, -3, 10, 5, 0, 5, 10, -2],\n",
    "     [-7, 4, -7, -9, 7, -6, 8, -10, 5]]\n",
    "\n",
    "# TODO:\n"
   ]
  },
  {
   "cell_type": "markdown",
   "metadata": {},
   "source": [
    "## Задача 2\n",
    "\n",
    "Найти частное суммы первых трех эл-ов, начиная со второго и суммы последних двух эл-ов"
   ]
  },
  {
   "cell_type": "code",
   "execution_count": 0,
   "metadata": {},
   "outputs": [],
   "source": [
    "# TODO:\n"
   ]
  },
  {
   "cell_type": "markdown",
   "metadata": {},
   "source": [
    "## Задача 3\n",
    "\n",
    "Найти размах выборки (разницу максимального и минимального элемента списка)"
   ]
  },
  {
   "cell_type": "code",
   "execution_count": 0,
   "metadata": {},
   "outputs": [],
   "source": [
    "# TODO:\n"
   ]
  },
  {
   "cell_type": "markdown",
   "metadata": {},
   "source": [
    "## Задача 4\n",
    "\n",
    "Найти среднее по выборке: $\\frac{1}{n}\\sum_i^n(a_i)$, где $n$ - размер выборки"
   ]
  },
  {
   "cell_type": "code",
   "execution_count": 0,
   "metadata": {},
   "outputs": [],
   "source": [
    "# TODO:\n"
   ]
  },
  {
   "cell_type": "markdown",
   "metadata": {},
   "source": [
    "## Задача 5\n",
    "\n",
    "Найти медиану выборки (для списка с \"выброшенным\" третьим значением)"
   ]
  },
  {
   "cell_type": "code",
   "execution_count": 0,
   "metadata": {},
   "outputs": [],
   "source": [
    "# TODO:\n"
   ]
  },
  {
   "cell_type": "markdown",
   "metadata": {},
   "source": [
    "## Задача 6\n",
    "\n",
    "Найти медиану выборки (для списка с \"выброшенным\" третьим значением)"
   ]
  },
  {
   "cell_type": "code",
   "execution_count": 0,
   "metadata": {},
   "outputs": [],
   "source": [
    "# TODO:\n"
   ]
  },
  {
   "cell_type": "markdown",
   "metadata": {},
   "source": [
    "## Задача 7\n",
    "\n",
    "Получить квадраты всех элементов массива, применив inline выражение"
   ]
  },
  {
   "cell_type": "code",
   "execution_count": 0,
   "metadata": {},
   "outputs": [],
   "source": [
    "# TODO:\n"
   ]
  },
  {
   "cell_type": "markdown",
   "metadata": {},
   "source": [
    "## Задача 8\n",
    "\n",
    "Обратить в ноль все элементы массива меньше нуля"
   ]
  },
  {
   "cell_type": "code",
   "execution_count": 0,
   "metadata": {},
   "outputs": [],
   "source": [
    "# TODO:\n"
   ]
  },
  {
   "cell_type": "markdown",
   "metadata": {},
   "source": [
    "## Задача 9\n",
    "\n",
    "Вернуть элементы больше нуля"
   ]
  },
  {
   "cell_type": "code",
   "execution_count": 0,
   "metadata": {},
   "outputs": [],
   "source": [
    "# TODO:\n"
   ]
  },
  {
   "cell_type": "markdown",
   "metadata": {},
   "source": [
    "## Задача 10\n",
    "\n",
    "Вернуть список где\n",
    "- сначала идут элементы меньше нуля, в порядке возрастания\n",
    "- затем больше нуля, в порядке убывания"
   ]
  },
  {
   "cell_type": "code",
   "execution_count": 0,
   "metadata": {},
   "outputs": [],
   "source": [
    "# TODO:\n"
   ]
  },
  {
   "cell_type": "markdown",
   "metadata": {},
   "source": [
    "# Словари\n",
    "\n",
    "```python\n",
    "items\n",
    "```"
   ]
  },
  {
   "cell_type": "code",
   "execution_count": 0,
   "metadata": {},
   "outputs": [],
   "source": [
    "items = {\"key0\": -2,\n",
    "         \"key1\": 'value1',\n",
    "         \"key2\": 2,\n",
    "         \"key3\": 1.22}"
   ]
  },
  {
   "cell_type": "code",
   "execution_count": 0,
   "metadata": {},
   "outputs": [],
   "source": [
    "# items = [4, 2, -6, 6, -3, 10, -1, -4, -1, 4, 3, 2, 4,\n",
    "#          -1, 2, 3, -2, -5, -2, 2, 10, -5, -8, 8,\n",
    "#          6, -2, 8, -7, -4, -5, 8, -6, -3, -2, -2,\n",
    "#          4, 4, 3, -1, 9, 8, 5, -6, 1, 7, 0, 4,\n",
    "#          -3, 9, 10, -8, -4, -5, -4, -4, 4, 2, 1,\n",
    "#          0, 9, -10, 1, 2, -1, 5, 4, -10, -7, -4,\n",
    "#          -3, -3, 7, -7, -2, -9, -9, 9, -8, -6, 4,\n",
    "#          1, 9, -4, 10, 3, 10, 0, -2, -6, -6, 10,\n",
    "#          -1, 4, -4, -6, -4, -1, -2, 8, -10]"
   ]
  },
  {
   "cell_type": "markdown",
   "metadata": {},
   "source": [
    "## Задача 1\n",
    "\n",
    "Добавьте по ключу `1` значение `-20`"
   ]
  },
  {
   "cell_type": "code",
   "execution_count": 0,
   "metadata": {},
   "outputs": [],
   "source": [
    "# TODO:\n"
   ]
  },
  {
   "cell_type": "markdown",
   "metadata": {},
   "source": [
    "## Задача 2\n",
    "\n",
    "Найдите значение по наименьшему из ключей"
   ]
  },
  {
   "cell_type": "code",
   "execution_count": 0,
   "metadata": {},
   "outputs": [],
   "source": [
    "# TODO:\n"
   ]
  },
  {
   "cell_type": "markdown",
   "metadata": {},
   "source": [
    "## Задача 3\n",
    "\n",
    "Удалите *лишний* ключ и решите **Задачу 2**"
   ]
  },
  {
   "cell_type": "code",
   "execution_count": 0,
   "metadata": {},
   "outputs": [],
   "source": [
    "# TODO:\n"
   ]
  },
  {
   "cell_type": "markdown",
   "metadata": {},
   "source": [
    "## Задача 4\n",
    "Сведите три словаря в один и замените хранимые значения на их квадраты"
   ]
  },
  {
   "cell_type": "code",
   "execution_count": 0,
   "metadata": {},
   "outputs": [],
   "source": [
    "dict_1={1:10, 2:20} \n",
    "dict_2={3:30, 4:40} \n",
    "dict_3={5:50,6:60}\n",
    "\n",
    "# TODO:\n"
   ]
  },
  {
   "cell_type": "markdown",
   "metadata": {},
   "source": [
    "# Условия"
   ]
  },
  {
   "cell_type": "markdown",
   "metadata": {},
   "source": [
    "## Задача (условия)\n",
    "Напишите программу для преобразования температуры в градус Цельсия, Фаренгейта и обратно.\n",
    "\n",
    "Подсказка: системы измерения связанны соотношением: $ C = (5/9) * (F - 32) $\n",
    "\n",
    "```\n",
    "[In]:  Введите температуру, которую вы хотите перевести? (напр., 45F, 102C etc.) : 104f                                   \n",
    "[Out]: Температура по Цельсию 40 градусов.\n",
    "```"
   ]
  },
  {
   "cell_type": "code",
   "execution_count": 0,
   "metadata": {},
   "outputs": [],
   "source": [
    "# TODO:\n"
   ]
  },
  {
   "cell_type": "markdown",
   "metadata": {},
   "source": [
    "# Циклы"
   ]
  },
  {
   "cell_type": "markdown",
   "metadata": {},
   "source": [
    "## Задача (Циклы)\n",
    "\n",
    "Напишите программу для вывода картинки заданной глубины (используйте вложенные циклы).\n",
    "```\n",
    "[In]: 5\n",
    "[Out]: * \n",
    "       * * \n",
    "       * * * \n",
    "       * * * * \n",
    "       * * * * * \n",
    "       * * * * \n",
    "       * * * \n",
    "       * * \n",
    "       *\n",
    "```"
   ]
  },
  {
   "cell_type": "code",
   "execution_count": 0,
   "metadata": {},
   "outputs": [],
   "source": [
    "# TODO:\n"
   ]
  },
  {
   "cell_type": "markdown",
   "metadata": {},
   "source": [
    "## Задача (условия + цикл)\n",
    "\n",
    "Выведите те числа отрезка $[1500, 2700]$, которые делятся на 7 и кратны 5."
   ]
  },
  {
   "cell_type": "code",
   "execution_count": 0,
   "metadata": {},
   "outputs": [],
   "source": [
    "# TODO:\n"
   ]
  },
  {
   "cell_type": "markdown",
   "metadata": {},
   "source": [
    "# Функции"
   ]
  },
  {
   "cell_type": "markdown",
   "metadata": {},
   "source": [
    "## Задача (функции + циклы)\n",
    "\n",
    "Напишите функцию, которая принимает слово на вход и выводит его в обратно порядке."
   ]
  },
  {
   "cell_type": "code",
   "execution_count": 0,
   "metadata": {},
   "outputs": [],
   "source": [
    "# TODO:\n"
   ]
  },
  {
   "cell_type": "markdown",
   "metadata": {},
   "source": [
    "## Задача (Функции + Условия + Циклы)\n",
    "\n",
    "- Напишите функцию генерации `n` чисел каждое из отрезка от `a` до `b`\n",
    "- Напишите функцию для подсчета числа четных и нечетных чисел из входного ряда.\n",
    "- запустите генерацию последовательности и посчитайте в ней четные и нечетные эл-ты"
   ]
  },
  {
   "cell_type": "code",
   "execution_count": 0,
   "metadata": {},
   "outputs": [],
   "source": [
    "import random \n",
    "numbers = random.randint(0, 10)  # пример работы функции генерации числа\n",
    "numbers"
   ]
  },
  {
   "cell_type": "code",
   "execution_count": 0,
   "metadata": {},
   "outputs": [],
   "source": [
    "# TODO:\n"
   ]
  }
 ],
 "metadata": {
  "kernelspec": {
   "display_name": "Python 3",
   "language": "python",
   "name": "python3"
  },
  "language_info": {
   "codemirror_mode": {
    "name": "ipython",
    "version": 3
   },
   "file_extension": ".py",
   "mimetype": "text/x-python",
   "name": "python",
   "nbconvert_exporter": "python",
   "pygments_lexer": "ipython3",
   "version": "3.7.4"
  },
  "toc": {
   "base_numbering": 1,
   "nav_menu": {},
   "number_sections": false,
   "sideBar": true,
   "skip_h1_title": false,
   "title_cell": "Table of Contents",
   "title_sidebar": "Contents",
   "toc_cell": false,
   "toc_position": {
    "height": "calc(100% - 180px)",
    "left": "10px",
    "top": "150px",
    "width": "264.796875px"
   },
   "toc_section_display": true,
   "toc_window_display": true
  }
 },
 "nbformat": 4,
 "nbformat_minor": 2
}
