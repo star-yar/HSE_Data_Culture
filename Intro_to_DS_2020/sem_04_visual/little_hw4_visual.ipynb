{
 "cells": [
  {
   "cell_type": "markdown",
   "metadata": {},
   "source": [
    "<img align=\"center\" src=\"https://raw.githubusercontent.com/FUlyankin/Parsers/master/images%20/cats.jpg\" height=\"1200\" width=\"1200\"> \n",
    "\n",
    "# Мини-домашка 5: визуализация\n",
    "\n",
    "У всех нас есть датасет по контакту. В нём лежит информация про всех нас. Эту информацию надо как следует проанализировать. Именно этим мы сейчас продолжим заниматься. В этот раз с картинками! \n",
    "\n",
    "Для начала подгрузите все необходимые библиотеки: `pandas`, `matplotlib.pyplot`, `seaborn` и включите опцию, отвечающую за прорисовку картинок прямо в питонячей тетрадке."
   ]
  },
  {
   "cell_type": "code",
   "execution_count": 1,
   "metadata": {},
   "outputs": [],
   "source": [
    "# Подгрузите тут пакеты :3 "
   ]
  },
  {
   "cell_type": "markdown",
   "metadata": {},
   "source": [
    "Подгрузите данные и посмотрите на первые 5 строк. Назовите табличку `df`. Иначе код ниже не будет работать. "
   ]
  },
  {
   "cell_type": "code",
   "execution_count": 2,
   "metadata": {},
   "outputs": [
    {
     "data": {
      "text/html": [
       "<div>\n",
       "<style scoped>\n",
       "    .dataframe tbody tr th:only-of-type {\n",
       "        vertical-align: middle;\n",
       "    }\n",
       "\n",
       "    .dataframe tbody tr th {\n",
       "        vertical-align: top;\n",
       "    }\n",
       "\n",
       "    .dataframe thead th {\n",
       "        text-align: right;\n",
       "    }\n",
       "</style>\n",
       "<table border=\"1\" class=\"dataframe\">\n",
       "  <thead>\n",
       "    <tr style=\"text-align: right;\">\n",
       "      <th></th>\n",
       "      <th>city</th>\n",
       "      <th>country</th>\n",
       "      <th>first_name</th>\n",
       "      <th>home_town</th>\n",
       "      <th>last_name</th>\n",
       "      <th>likes_memes</th>\n",
       "      <th>uid</th>\n",
       "      <th>male_dummy</th>\n",
       "      <th>facebook_dummy</th>\n",
       "      <th>instagram_dummy</th>\n",
       "      <th>...</th>\n",
       "      <th>photo_month_mean</th>\n",
       "      <th>photo_repost_cnt</th>\n",
       "      <th>photo_repost_max</th>\n",
       "      <th>photo_repost_mean</th>\n",
       "      <th>photo_repost_median</th>\n",
       "      <th>photo_text_len_cnt</th>\n",
       "      <th>photo_ava_change_cnt</th>\n",
       "      <th>photo_text_url_len_cnt</th>\n",
       "      <th>friends_from_course_cnt</th>\n",
       "      <th>friends_mail_from_course_pct</th>\n",
       "    </tr>\n",
       "  </thead>\n",
       "  <tbody>\n",
       "    <tr>\n",
       "      <th>0</th>\n",
       "      <td>Москва</td>\n",
       "      <td>Россия</td>\n",
       "      <td>Артём</td>\n",
       "      <td>MOSCOW</td>\n",
       "      <td>Еркин</td>\n",
       "      <td>0</td>\n",
       "      <td>181029517</td>\n",
       "      <td>1</td>\n",
       "      <td>0</td>\n",
       "      <td>0</td>\n",
       "      <td>...</td>\n",
       "      <td>1.000000</td>\n",
       "      <td>0.0</td>\n",
       "      <td>0.0</td>\n",
       "      <td>0.000000</td>\n",
       "      <td>0.0</td>\n",
       "      <td>0.0</td>\n",
       "      <td>0.0</td>\n",
       "      <td>0.0</td>\n",
       "      <td>16.0</td>\n",
       "      <td>0.375000</td>\n",
       "    </tr>\n",
       "    <tr>\n",
       "      <th>1</th>\n",
       "      <td>NaN</td>\n",
       "      <td>Россия</td>\n",
       "      <td>Армен</td>\n",
       "      <td>NaN</td>\n",
       "      <td>Хачатрян</td>\n",
       "      <td>15</td>\n",
       "      <td>73703994</td>\n",
       "      <td>1</td>\n",
       "      <td>0</td>\n",
       "      <td>1</td>\n",
       "      <td>...</td>\n",
       "      <td>1.750000</td>\n",
       "      <td>4.0</td>\n",
       "      <td>1.0</td>\n",
       "      <td>0.571429</td>\n",
       "      <td>1.0</td>\n",
       "      <td>0.0</td>\n",
       "      <td>0.0</td>\n",
       "      <td>0.0</td>\n",
       "      <td>47.0</td>\n",
       "      <td>0.531915</td>\n",
       "    </tr>\n",
       "    <tr>\n",
       "      <th>2</th>\n",
       "      <td>Москва</td>\n",
       "      <td>Россия</td>\n",
       "      <td>Abbos</td>\n",
       "      <td>Бекабад</td>\n",
       "      <td>Akhmedov</td>\n",
       "      <td>11</td>\n",
       "      <td>467673028</td>\n",
       "      <td>1</td>\n",
       "      <td>0</td>\n",
       "      <td>0</td>\n",
       "      <td>...</td>\n",
       "      <td>1.000000</td>\n",
       "      <td>0.0</td>\n",
       "      <td>0.0</td>\n",
       "      <td>0.000000</td>\n",
       "      <td>0.0</td>\n",
       "      <td>0.0</td>\n",
       "      <td>0.0</td>\n",
       "      <td>0.0</td>\n",
       "      <td>26.0</td>\n",
       "      <td>0.500000</td>\n",
       "    </tr>\n",
       "    <tr>\n",
       "      <th>3</th>\n",
       "      <td>Москва</td>\n",
       "      <td>Россия</td>\n",
       "      <td>Адам</td>\n",
       "      <td>NaN</td>\n",
       "      <td>Триандафилиди</td>\n",
       "      <td>0</td>\n",
       "      <td>144910934</td>\n",
       "      <td>1</td>\n",
       "      <td>0</td>\n",
       "      <td>1</td>\n",
       "      <td>...</td>\n",
       "      <td>1.428571</td>\n",
       "      <td>0.0</td>\n",
       "      <td>0.0</td>\n",
       "      <td>0.000000</td>\n",
       "      <td>0.0</td>\n",
       "      <td>0.0</td>\n",
       "      <td>0.0</td>\n",
       "      <td>0.0</td>\n",
       "      <td>83.0</td>\n",
       "      <td>0.518072</td>\n",
       "    </tr>\n",
       "    <tr>\n",
       "      <th>4</th>\n",
       "      <td>Алматы</td>\n",
       "      <td>Казахстан</td>\n",
       "      <td>Айжан</td>\n",
       "      <td>NaN</td>\n",
       "      <td>Саят</td>\n",
       "      <td>9</td>\n",
       "      <td>166045266</td>\n",
       "      <td>0</td>\n",
       "      <td>0</td>\n",
       "      <td>0</td>\n",
       "      <td>...</td>\n",
       "      <td>1.333333</td>\n",
       "      <td>0.0</td>\n",
       "      <td>0.0</td>\n",
       "      <td>0.000000</td>\n",
       "      <td>0.0</td>\n",
       "      <td>0.0</td>\n",
       "      <td>0.0</td>\n",
       "      <td>0.0</td>\n",
       "      <td>29.0</td>\n",
       "      <td>0.344828</td>\n",
       "    </tr>\n",
       "  </tbody>\n",
       "</table>\n",
       "<p>5 rows × 96 columns</p>\n",
       "</div>"
      ],
      "text/plain": [
       "     city    country first_name home_town      last_name  likes_memes  \\\n",
       "0  Москва     Россия      Артём   MOSCOW           Еркин            0   \n",
       "1     NaN     Россия      Армен       NaN       Хачатрян           15   \n",
       "2  Москва     Россия      Abbos   Бекабад       Akhmedov           11   \n",
       "3  Москва     Россия       Адам       NaN  Триандафилиди            0   \n",
       "4  Алматы  Казахстан      Айжан       NaN           Саят            9   \n",
       "\n",
       "         uid  male_dummy  facebook_dummy  instagram_dummy  ...  \\\n",
       "0  181029517           1               0                0  ...   \n",
       "1   73703994           1               0                1  ...   \n",
       "2  467673028           1               0                0  ...   \n",
       "3  144910934           1               0                1  ...   \n",
       "4  166045266           0               0                0  ...   \n",
       "\n",
       "   photo_month_mean  photo_repost_cnt  photo_repost_max  photo_repost_mean  \\\n",
       "0          1.000000               0.0               0.0           0.000000   \n",
       "1          1.750000               4.0               1.0           0.571429   \n",
       "2          1.000000               0.0               0.0           0.000000   \n",
       "3          1.428571               0.0               0.0           0.000000   \n",
       "4          1.333333               0.0               0.0           0.000000   \n",
       "\n",
       "   photo_repost_median  photo_text_len_cnt  photo_ava_change_cnt  \\\n",
       "0                  0.0                 0.0                   0.0   \n",
       "1                  1.0                 0.0                   0.0   \n",
       "2                  0.0                 0.0                   0.0   \n",
       "3                  0.0                 0.0                   0.0   \n",
       "4                  0.0                 0.0                   0.0   \n",
       "\n",
       "   photo_text_url_len_cnt  friends_from_course_cnt  \\\n",
       "0                     0.0                     16.0   \n",
       "1                     0.0                     47.0   \n",
       "2                     0.0                     26.0   \n",
       "3                     0.0                     83.0   \n",
       "4                     0.0                     29.0   \n",
       "\n",
       "   friends_mail_from_course_pct  \n",
       "0                      0.375000  \n",
       "1                      0.531915  \n",
       "2                      0.500000  \n",
       "3                      0.518072  \n",
       "4                      0.344828  \n",
       "\n",
       "[5 rows x 96 columns]"
      ]
     },
     "execution_count": 2,
     "metadata": {},
     "output_type": "execute_result"
    }
   ],
   "source": [
    "# Тут подгрузите данные и выведите 5 строк на экран"
   ]
  },
  {
   "cell_type": "markdown",
   "metadata": {},
   "source": [
    "Давайте посмотрим на все названия колонок, которые есть в таблице. "
   ]
  },
  {
   "cell_type": "code",
   "execution_count": 3,
   "metadata": {},
   "outputs": [
    {
     "data": {
      "text/plain": [
       "Index(['city', 'country', 'first_name', 'home_town', 'last_name',\n",
       "       'likes_memes', 'uid', 'male_dummy', 'facebook_dummy', 'instagram_dummy',\n",
       "       'skype_dummy', 'twitter_dummy', 'home_phone_dummy',\n",
       "       'mobile_phone_dummy', 'site_dummy', 'can_post_dummy',\n",
       "       'can_see_all_posts_dummy', 'can_see_audio_dummy',\n",
       "       'can_write_private_message_dummy', 'has_mobile_dummy', 'has_ava_dummy',\n",
       "       'wall_comments_dummy', 'english_dummy', 'folowers_cnt', 'albums_cnt',\n",
       "       'audio_cnt', 'followers_cnt', 'friends_cnt', 'gifts_cnt', 'groups_cnt',\n",
       "       'notes_cnt', 'photos_cnt', 'subscriptions_cnt', 'user_photos_cnt',\n",
       "       'videos_cnt', 'pages_cnt', 'lang_cnt', 'change_city_school_cnt',\n",
       "       'schools_cnt', 'relation_cat', 'alco_love_cat', 'smoke_love_cat',\n",
       "       'life_main_cat', 'people_main_cat', 'political_cat',\n",
       "       'private_prof_dummy', 'wall_can_comment_dummy', 'wall_comment_cnt',\n",
       "       'wall_comment_max', 'wall_comment_mean', 'wall_comment_median',\n",
       "       'wall_emoji_mean', 'wall_emoji_median', 'wall_emoji_cnt',\n",
       "       'wall_emoji_max', 'wall_like_cnt', 'wall_like_max', 'wall_like_mean',\n",
       "       'wall_like_median', 'wall_month_mean', 'wall_post_android_cnt',\n",
       "       'wall_post_cnt', 'wall_post_instagram_cnt', 'wall_post_ipad_cnt',\n",
       "       'wall_post_iphone_cnt', 'wall_post_original_cnt', 'wall_post_other_cnt',\n",
       "       'wall_post_reply_cnt', 'wall_post_wphone_cnt', 'wall_repost_cnt',\n",
       "       'wall_repost_group_cnt', 'wall_repost_max', 'wall_repost_mean',\n",
       "       'wall_repost_median', 'wall_repost_user_cnt', 'wall_text_len_cnt',\n",
       "       'wall_text_len_max', 'wall_text_len_mean', 'wall_text_len_median',\n",
       "       'wall_year_mean', 'wall_emoji_trace', 'wall_text', 'photo_like_cnt',\n",
       "       'photo_like_max', 'photo_like_mean', 'photo_like_median',\n",
       "       'photo_month_mean', 'photo_repost_cnt', 'photo_repost_max',\n",
       "       'photo_repost_mean', 'photo_repost_median', 'photo_text_len_cnt',\n",
       "       'photo_ava_change_cnt', 'photo_text_url_len_cnt',\n",
       "       'friends_from_course_cnt', 'friends_mail_from_course_pct'],\n",
       "      dtype='object')"
      ]
     },
     "execution_count": 3,
     "metadata": {},
     "output_type": "execute_result"
    }
   ],
   "source": [
    "df.columns"
   ]
  },
  {
   "cell_type": "markdown",
   "metadata": {},
   "source": [
    "Мы видим, что часть из них кончается на `cnt`. Это колонки-счётчики. В них лежат такие переменные как количество фоток, друзей, записей на стене и тд. Давайте вытащим все такие названия из таблички с помощью цикла. "
   ]
  },
  {
   "cell_type": "code",
   "execution_count": 4,
   "metadata": {},
   "outputs": [
    {
     "data": {
      "text/plain": [
       "['folowers_cnt',\n",
       " 'albums_cnt',\n",
       " 'audio_cnt',\n",
       " 'followers_cnt',\n",
       " 'friends_cnt',\n",
       " 'gifts_cnt',\n",
       " 'groups_cnt',\n",
       " 'notes_cnt',\n",
       " 'photos_cnt',\n",
       " 'subscriptions_cnt',\n",
       " 'user_photos_cnt',\n",
       " 'videos_cnt',\n",
       " 'pages_cnt',\n",
       " 'lang_cnt',\n",
       " 'change_city_school_cnt',\n",
       " 'schools_cnt',\n",
       " 'wall_comment_cnt',\n",
       " 'wall_emoji_cnt',\n",
       " 'wall_like_cnt',\n",
       " 'wall_post_android_cnt',\n",
       " 'wall_post_cnt',\n",
       " 'wall_post_instagram_cnt',\n",
       " 'wall_post_ipad_cnt',\n",
       " 'wall_post_iphone_cnt',\n",
       " 'wall_post_original_cnt',\n",
       " 'wall_post_other_cnt',\n",
       " 'wall_post_reply_cnt',\n",
       " 'wall_post_wphone_cnt',\n",
       " 'wall_repost_cnt',\n",
       " 'wall_repost_group_cnt',\n",
       " 'wall_repost_user_cnt',\n",
       " 'wall_text_len_cnt',\n",
       " 'photo_like_cnt',\n",
       " 'photo_repost_cnt',\n",
       " 'photo_text_len_cnt',\n",
       " 'photo_ava_change_cnt',\n",
       " 'photo_text_url_len_cnt',\n",
       " 'friends_from_course_cnt']"
      ]
     },
     "execution_count": 4,
     "metadata": {},
     "output_type": "execute_result"
    }
   ],
   "source": [
    "variables_cnt = [item for item in df.columns if item[-3:] == 'cnt']\n",
    "variables_cnt"
   ]
  },
  {
   "cell_type": "markdown",
   "metadata": {},
   "source": [
    "Разбиритесь как работает и устроен этот цикл, если вы ещё не разбираетесь. Почитать об этом можно [вот тут.](https://habr.com/ru/post/30232/) Чуть ниже вам предстоит написать свой такой. \n",
    "\n",
    "__[2]__ Вытащите из переменных счётчиков только те, которые отвечают за фото. Постройте для них гистограммы. Как думаете, в каких переменных есть выбросы? Какие из переменных неинформативны? Почему?\n",
    "\n",
    "__Ответ:__ "
   ]
  },
  {
   "cell_type": "code",
   "execution_count": 5,
   "metadata": {},
   "outputs": [],
   "source": [
    "# Ваш код"
   ]
  },
  {
   "cell_type": "markdown",
   "metadata": {},
   "source": [
    "Давайте вытащим из нашего большого датасета несколько интересных переменных. Это будет: число друзей с курса, число друзей, число подписчиков, число лайков на стене, количество символов (букв и тп) на стене, процент друзей девушек с курса, число лайков в паблике с мемами, пол. Переменная, отвечающая за пол, принимает значение $1$, если объект из выборки мужчина. "
   ]
  },
  {
   "cell_type": "code",
   "execution_count": 7,
   "metadata": {},
   "outputs": [],
   "source": [
    "vars_interesting = ['friends_from_course_cnt', 'friends_cnt', 'folowers_cnt', 'wall_like_cnt', \n",
    "                    'wall_text_len_cnt', 'friends_mail_from_course_pct', 'likes_memes', 'male_dummy']"
   ]
  },
  {
   "cell_type": "markdown",
   "metadata": {},
   "source": [
    "__[1]__ Визуализируйте вытащенные признаки попарно. Постройте `pairplot` для всех пар. На диагонали расположите оценки плотностей для признаков. Для этого используйте опцию `diag_kind = 'kde'`. С помощью параметра `hue` разбейте все наблюдения на мужские и женские, чтобы они отражались на картинках разными цветами."
   ]
  },
  {
   "cell_type": "code",
   "execution_count": 8,
   "metadata": {},
   "outputs": [],
   "source": [
    "# Ваш код"
   ]
  },
  {
   "cell_type": "markdown",
   "metadata": {},
   "source": [
    "__[2]__ Дайте ответы на соедущие вопросы. Свои мысли пишите прямо здесь! \n",
    "\n",
    "* Между какими признаками скорее всего есть линейная зависимость (чем больше один, тем в среднем больше второй, либо наоборот чем больше один, тем меньше другой)? Почему вы так решили? \n",
    "\n",
    "__Ответ:__\n",
    "\n",
    "\n",
    "* Есть ли объекты-выбросы, которые наблюдаются далеко от сгустков из точек. \n",
    "\n",
    "__Ответ:__ \n",
    "\n",
    "* Посмотрите не гистограмму, соответсвующую переменной `friends_mail_from_course_pct` (доля друзей парней с курса). Какую интересную особенность вы видите на ней? Почему так произошло? \n",
    "\n",
    "__Ответ:__\n",
    "\n",
    "* Какие ещё интересные особенности вы видите на картинке?\n",
    "\n",
    "__Ответ:__ "
   ]
  },
  {
   "cell_type": "markdown",
   "metadata": {},
   "source": [
    "__[1]__ Отлично! Половина домашки осталась позади. Давайте теперь для тех же самых признаков построим матрицу корреляций и провизуализируем её с помощью `heatmap`."
   ]
  },
  {
   "cell_type": "code",
   "execution_count": 9,
   "metadata": {},
   "outputs": [],
   "source": [
    "# Ваш код"
   ]
  },
  {
   "cell_type": "markdown",
   "metadata": {},
   "source": [
    "__[2]__ Между какими переменными корреляция самая высокая? Почему? Она отрицательная или положительная. Прокомментируйте все клетки, где она оказалась $\\ge 0.3$ либо $\\le -0.2$. \n",
    "\n",
    "__Ответ:__"
   ]
  },
  {
   "cell_type": "markdown",
   "metadata": {},
   "source": [
    "__[1]__ Дамми-переменная это переменная, которая принмает два значения. Либо $1$, если человек обладает закодированным в ней свойством, либо $0$, если не обладает. В нашей таблице все дамми-переменные оканчиваются на суффикc `dummy`.  \n",
    "\n",
    "Возьмите переменную `instagram_dummy`. Она принимает значение $1$, если у пользователя на страничке есть ссылка на инстаграм. Возьмите переменную `male_dummy`. Она примает значение $1$, если пользователь парень. Постройте картинку, на которой будет видно как между собой соотносятся владельцы инстаграмма по полу. (мы строили такую картинку на паре для распределения жанров музыки по годам)."
   ]
  },
  {
   "cell_type": "code",
   "execution_count": 10,
   "metadata": {},
   "outputs": [],
   "source": [
    "# Ваш код"
   ]
  },
  {
   "cell_type": "code",
   "execution_count": 11,
   "metadata": {},
   "outputs": [],
   "source": [
    "# Ваш код"
   ]
  },
  {
   "cell_type": "markdown",
   "metadata": {},
   "source": [
    "Правда ли, что девушки чаще указыают наличие инстаграмма на своей страничке?\n",
    "\n",
    "__Ответ:__ "
   ]
  },
  {
   "cell_type": "markdown",
   "metadata": {},
   "source": [
    "__[1]__  Категориальная переменная обычно принимает значения из какого-то фиксированного множества. Например, переменная `political_cat` описывает к какой категории относятся политические взгляды юзера. Постройте для этой переменной столбиковую диаграмму. Разбиритесь по [документации](http://seaborn.pydata.org/generated/seaborn.countplot.html#seaborn.countplot) как сделать у столбиков горизонтальное расположение. Можно ли сделать исходя из картинки вывод, что в вышке одни либералы? Почему? "
   ]
  },
  {
   "cell_type": "code",
   "execution_count": 12,
   "metadata": {},
   "outputs": [],
   "source": [
    "# Ваш код"
   ]
  },
  {
   "cell_type": "markdown",
   "metadata": {},
   "source": [
    "__[n]  Удиви нас. Попробуй найти в данных какую-то классную особенность и визуализируйте её. Если у тебя это получится, мы поставим дополнительные баллы.__ Если вы найдёте полную фигню (сколько всего друзей у Маши или типа того), баллов не будет. Найденный факт реально должен выносить мозг и сносить крышу."
   ]
  },
  {
   "cell_type": "code",
   "execution_count": 13,
   "metadata": {},
   "outputs": [],
   "source": [
    "# Ваша отчаяная попытка нас поразить"
   ]
  },
  {
   "cell_type": "markdown",
   "metadata": {},
   "source": [
    "Фидбэк по домашке, свои нюни и драгоценные слёзки нужно оставить в [анонимном опроснике.](https://docs.google.com/forms/d/e/1FAIpQLSeQRtu8Xo5g6jDJ3zxgpfMuPa5cgi3igrne40_vqVZwYnDAZA/viewform)"
   ]
  }
 ],
 "metadata": {
  "kernelspec": {
   "display_name": "Python 3",
   "language": "python",
   "name": "python3"
  },
  "language_info": {
   "codemirror_mode": {
    "name": "ipython",
    "version": 3
   },
   "file_extension": ".py",
   "mimetype": "text/x-python",
   "name": "python",
   "nbconvert_exporter": "python",
   "pygments_lexer": "ipython3",
   "version": "3.7.2"
  }
 },
 "nbformat": 4,
 "nbformat_minor": 2
}
