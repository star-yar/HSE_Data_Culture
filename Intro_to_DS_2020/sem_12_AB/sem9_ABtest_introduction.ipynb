{
 "cells": [
  {
   "cell_type": "markdown",
   "metadata": {},
   "source": [
    "# Семинар 9: введение в АБ-тесты\n",
    "\n",
    "Давайте попробуем проделать все ручные задачи на компьютере! Начнём с возраста и дяди Фёдора."
   ]
  },
  {
   "cell_type": "code",
   "execution_count": 1,
   "metadata": {},
   "outputs": [],
   "source": [
    "import numpy as np\n",
    "import pandas as pd"
   ]
  },
  {
   "cell_type": "code",
   "execution_count": 2,
   "metadata": {},
   "outputs": [],
   "source": [
    "# выбока Фёдора \n",
    "x_f = np.array([200, 140])\n",
    "\n",
    "# выбока Шарика\n",
    "x_s = np.array([200, 190])\n",
    "\n",
    "# выбока Матроскина\n",
    "x_m = np.array([150, 140])"
   ]
  },
  {
   "cell_type": "code",
   "execution_count": 3,
   "metadata": {},
   "outputs": [
    {
     "data": {
      "text/plain": [
       "170.0"
      ]
     },
     "execution_count": 3,
     "metadata": {},
     "output_type": "execute_result"
    }
   ],
   "source": [
    "# среднее можно найти так\n",
    "x_f.mean()"
   ]
  },
  {
   "cell_type": "code",
   "execution_count": 4,
   "metadata": {},
   "outputs": [
    {
     "data": {
      "text/plain": [
       "42.42640687119285"
      ]
     },
     "execution_count": 4,
     "metadata": {},
     "output_type": "execute_result"
    }
   ],
   "source": [
    "# стандартное отклонение \n",
    "np.std(x_f, ddof=1)"
   ]
  },
  {
   "cell_type": "code",
   "execution_count": 5,
   "metadata": {},
   "outputs": [
    {
     "name": "stdout",
     "output_type": "stream",
     "text": [
      "Доверительный интервал: [111.20; 228.80]\n"
     ]
    }
   ],
   "source": [
    "# доверительный интервал вручную \n",
    "\n",
    "mean = x_f.mean()\n",
    "sd = np.std(x_f, ddof=1)\n",
    "\n",
    "n = x_f.size\n",
    "\n",
    "left = mean - 1.96*sd/np.sqrt(n)\n",
    "right = mean + 1.96*sd/np.sqrt(n)\n",
    "\n",
    "print('Доверительный интервал: [{:.2f}; {:.2f}]'.format(left,right))"
   ]
  },
  {
   "cell_type": "markdown",
   "metadata": {},
   "source": [
    "Точно такой же интервал, но внутренними средствами питона: "
   ]
  },
  {
   "cell_type": "code",
   "execution_count": 6,
   "metadata": {},
   "outputs": [
    {
     "data": {
      "text/plain": [
       "(111.20108046379838, 228.79891953620162)"
      ]
     },
     "execution_count": 6,
     "metadata": {},
     "output_type": "execute_result"
    }
   ],
   "source": [
    "from statsmodels.stats.weightstats import _zconfint_generic\n",
    "_zconfint_generic(mean,  sd/np.sqrt(n), 0.05, 'two-sided')"
   ]
  },
  {
   "cell_type": "markdown",
   "metadata": {},
   "source": [
    "Проверим гипотезу о том, что $mu = 160$. Сначала построим доверительный интервал для разности. Будем использовать критическое значение $1.96$. "
   ]
  },
  {
   "cell_type": "code",
   "execution_count": 7,
   "metadata": {},
   "outputs": [
    {
     "data": {
      "text/plain": [
       "(-48.79891953620162, 68.79891953620162)"
      ]
     },
     "execution_count": 7,
     "metadata": {},
     "output_type": "execute_result"
    }
   ],
   "source": [
    "mu = 160\n",
    "_zconfint_generic(mean - mu,  sd/np.sqrt(n), 0.05, 'two-sided')"
   ]
  },
  {
   "cell_type": "markdown",
   "metadata": {},
   "source": [
    "Теперь посчитаем руками наблюдаемое значение $t-$статистики. Если оно меньше $1.96$, на уровне значимости $5\\%$ гипотеза не отвергается. "
   ]
  },
  {
   "cell_type": "code",
   "execution_count": 9,
   "metadata": {},
   "outputs": [
    {
     "data": {
      "text/plain": [
       "0.33333333333333337"
      ]
     },
     "execution_count": 9,
     "metadata": {},
     "output_type": "execute_result"
    }
   ],
   "source": [
    "(x_f.mean() - mu)/sd*np.sqrt(n)"
   ]
  },
  {
   "cell_type": "markdown",
   "metadata": {},
   "source": [
    "Теперь сделаем то же самое внутренними средствами питона. Первое число - $t-$ статистика. Второе число - максимальный уровень значимости, при котором гипотеза не отвергается. Если это число больше $5\\%$, гипотеза не отвергается на уровне доверия $95\\%$. Если меньше, отвергается. Просто пока что примите это как факт..."
   ]
  },
  {
   "cell_type": "code",
   "execution_count": 10,
   "metadata": {},
   "outputs": [
    {
     "data": {
      "text/plain": [
       "(0.3333333333333333, 0.7388826803635273)"
      ]
     },
     "execution_count": 10,
     "metadata": {},
     "output_type": "execute_result"
    }
   ],
   "source": [
    "from statsmodels.stats.weightstats import ztest\n",
    "ztest(x_f, value = mu)"
   ]
  },
  {
   "cell_type": "markdown",
   "metadata": {},
   "source": [
    " "
   ]
  }
 ],
 "metadata": {
  "kernelspec": {
   "display_name": "Python 3",
   "language": "python",
   "name": "python3"
  },
  "language_info": {
   "codemirror_mode": {
    "name": "ipython",
    "version": 3
   },
   "file_extension": ".py",
   "mimetype": "text/x-python",
   "name": "python",
   "nbconvert_exporter": "python",
   "pygments_lexer": "ipython3",
   "version": "3.7.2"
  }
 },
 "nbformat": 4,
 "nbformat_minor": 2
}
