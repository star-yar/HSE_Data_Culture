{
 "cells": [
  {
   "cell_type": "markdown",
   "metadata": {},
   "source": [
    "<img align=\"center\" src=\"https://raw.githubusercontent.com/FUlyankin/Parsers/master/images%20/cats.jpg\" height=\"1200\" width=\"1200\"> \n",
    "\n",
    "# Мини-домашка 7: классификация\n",
    "\n",
    "В 6 мини-домашки мы пытались решить задачу регрессии и спрогнозировать какое коилчество лайков пользователь оставит в паблике с мемами. У нас это вышло не очень удачно. Давайте попробуем построить модель, которая могла бы ответить на вопрос \"А поставит ли человек лайк в паблик в принципе?\". Возможно, что хотябы здесь нас ждёт успех. "
   ]
  },
  {
   "cell_type": "code",
   "execution_count": 1,
   "metadata": {},
   "outputs": [],
   "source": [
    "import pandas as pd               # уже знакомый вам пакет для работы с таблицами\n",
    "import numpy as np                # смутно знакомый вам пакет для работы с матрицами\n",
    "import matplotlib.pyplot as plt   # уже смутно знакомый вам пакет для картинок :3\n",
    "import matplotlib\n",
    "import seaborn as sns             # ещё один пакет для картинок \n",
    "plt.style.use('ggplot')     # правильный (очень красивый) стиль у графиков\n",
    "\n",
    "%matplotlib inline"
   ]
  },
  {
   "cell_type": "code",
   "execution_count": 2,
   "metadata": {},
   "outputs": [],
   "source": [
    "# Метрики для измерения качества алгоритмов \n",
    "from sklearn.metrics import accuracy_score\n",
    "from sklearn.metrics import roc_auc_score, roc_curve, auc"
   ]
  },
  {
   "cell_type": "code",
   "execution_count": 3,
   "metadata": {},
   "outputs": [],
   "source": [
    "# Функции для визуализации метрик \n",
    "import itertools\n",
    "\n",
    "# Функция для отрисовки roc-auc кривой    \n",
    "def roc_auc_pic(y_hat_test, y_test):    \n",
    "    fpr_test, tpr_test, thresholds_test = roc_curve(y_test, y_hat_test)\n",
    "    roc_auc_test = roc_auc_score(y_test, y_hat_test)\n",
    "\n",
    "    matplotlib.rcParams['figure.figsize'] = (8, 8)\n",
    "    plt.plot(fpr_test, tpr_test, label='Test ROC AUC {0}'.format(roc_auc_test))\n",
    "    plt.plot([0, 1], [0, 1], '--', color=(0.6, 0.6, 0.6))\n",
    "    plt.xlim([0, 1])\n",
    "    plt.ylim([0, 1])\n",
    "    plt.xlabel('False Positive Rate')\n",
    "    plt.ylabel('True Positive Rate')\n",
    "    plt.legend(loc='lower right')\n",
    "    plt.show() \n",
    "    pass\n",
    "\n",
    "\n",
    "# Картинки для PR-кривой, а-меры и прочих ништяков\n",
    "def plot_precision_recall_curve(y_pred_proba, y_test):\n",
    "    plt.figure(figsize=(10, 10))\n",
    "    f_scores = np.linspace(0.4, 0.9, num=6)\n",
    "    lines = []\n",
    "    labels = []\n",
    "    for f_score in f_scores:\n",
    "        x = np.linspace(0.01, 1)\n",
    "        y = f_score * x / (2 * x - f_score)\n",
    "        l, = plt.plot(x[y >= 0], y[y >= 0], color='gray', alpha=0.2)\n",
    "        plt.annotate('f1={0:0.2f}'.format(f_score), xy=(0.9, y[45] + 0.02))\n",
    "    precision, recall, _ =  precision_recall_curve(y_test, y_pred_proba)\n",
    "\n",
    "    plt.step(recall, precision, color='b', alpha=0.2, where='post')\n",
    "    plt.fill_between(recall, precision, step='post', alpha=0.2,\n",
    "                     color='b')\n",
    "    plt.xlabel('Recall', size=15)\n",
    "    plt.ylabel('Precision', size=15)\n",
    "    plt.title('Precision-Recall curve', size=18)\n",
    "    plt.xlim([0.0, 1.0])\n",
    "    plt.ylim([0.0, 1.05])\n",
    "    plt.show()"
   ]
  },
  {
   "cell_type": "markdown",
   "metadata": {},
   "source": [
    "# 1. Снова подгружаем данные\n",
    "\n",
    "В очередной раз подгрузим немного данных. "
   ]
  },
  {
   "cell_type": "code",
   "execution_count": 4,
   "metadata": {},
   "outputs": [
    {
     "data": {
      "text/html": [
       "<div>\n",
       "<style scoped>\n",
       "    .dataframe tbody tr th:only-of-type {\n",
       "        vertical-align: middle;\n",
       "    }\n",
       "\n",
       "    .dataframe tbody tr th {\n",
       "        vertical-align: top;\n",
       "    }\n",
       "\n",
       "    .dataframe thead th {\n",
       "        text-align: right;\n",
       "    }\n",
       "</style>\n",
       "<table border=\"1\" class=\"dataframe\">\n",
       "  <thead>\n",
       "    <tr style=\"text-align: right;\">\n",
       "      <th></th>\n",
       "      <th>city</th>\n",
       "      <th>country</th>\n",
       "      <th>first_name</th>\n",
       "      <th>home_town</th>\n",
       "      <th>last_name</th>\n",
       "      <th>likes_memes</th>\n",
       "      <th>uid</th>\n",
       "      <th>male_dummy</th>\n",
       "      <th>facebook_dummy</th>\n",
       "      <th>instagram_dummy</th>\n",
       "      <th>...</th>\n",
       "      <th>photo_month_mean</th>\n",
       "      <th>photo_repost_cnt</th>\n",
       "      <th>photo_repost_max</th>\n",
       "      <th>photo_repost_mean</th>\n",
       "      <th>photo_repost_median</th>\n",
       "      <th>photo_text_len_cnt</th>\n",
       "      <th>photo_ava_change_cnt</th>\n",
       "      <th>photo_text_url_len_cnt</th>\n",
       "      <th>friends_from_course_cnt</th>\n",
       "      <th>friends_mail_from_course_pct</th>\n",
       "    </tr>\n",
       "  </thead>\n",
       "  <tbody>\n",
       "    <tr>\n",
       "      <th>0</th>\n",
       "      <td>Москва</td>\n",
       "      <td>Россия</td>\n",
       "      <td>Артём</td>\n",
       "      <td>MOSCOW</td>\n",
       "      <td>Еркин</td>\n",
       "      <td>0</td>\n",
       "      <td>181029517</td>\n",
       "      <td>1</td>\n",
       "      <td>0</td>\n",
       "      <td>0</td>\n",
       "      <td>...</td>\n",
       "      <td>1.000000</td>\n",
       "      <td>0.0</td>\n",
       "      <td>0.0</td>\n",
       "      <td>0.000000</td>\n",
       "      <td>0.0</td>\n",
       "      <td>0.0</td>\n",
       "      <td>0.0</td>\n",
       "      <td>0.0</td>\n",
       "      <td>16.0</td>\n",
       "      <td>0.375000</td>\n",
       "    </tr>\n",
       "    <tr>\n",
       "      <th>1</th>\n",
       "      <td>NaN</td>\n",
       "      <td>Россия</td>\n",
       "      <td>Армен</td>\n",
       "      <td>NaN</td>\n",
       "      <td>Хачатрян</td>\n",
       "      <td>15</td>\n",
       "      <td>73703994</td>\n",
       "      <td>1</td>\n",
       "      <td>0</td>\n",
       "      <td>1</td>\n",
       "      <td>...</td>\n",
       "      <td>1.750000</td>\n",
       "      <td>4.0</td>\n",
       "      <td>1.0</td>\n",
       "      <td>0.571429</td>\n",
       "      <td>1.0</td>\n",
       "      <td>0.0</td>\n",
       "      <td>0.0</td>\n",
       "      <td>0.0</td>\n",
       "      <td>47.0</td>\n",
       "      <td>0.531915</td>\n",
       "    </tr>\n",
       "    <tr>\n",
       "      <th>2</th>\n",
       "      <td>Москва</td>\n",
       "      <td>Россия</td>\n",
       "      <td>Abbos</td>\n",
       "      <td>Бекабад</td>\n",
       "      <td>Akhmedov</td>\n",
       "      <td>11</td>\n",
       "      <td>467673028</td>\n",
       "      <td>1</td>\n",
       "      <td>0</td>\n",
       "      <td>0</td>\n",
       "      <td>...</td>\n",
       "      <td>1.000000</td>\n",
       "      <td>0.0</td>\n",
       "      <td>0.0</td>\n",
       "      <td>0.000000</td>\n",
       "      <td>0.0</td>\n",
       "      <td>0.0</td>\n",
       "      <td>0.0</td>\n",
       "      <td>0.0</td>\n",
       "      <td>26.0</td>\n",
       "      <td>0.500000</td>\n",
       "    </tr>\n",
       "    <tr>\n",
       "      <th>3</th>\n",
       "      <td>Москва</td>\n",
       "      <td>Россия</td>\n",
       "      <td>Адам</td>\n",
       "      <td>NaN</td>\n",
       "      <td>Триандафилиди</td>\n",
       "      <td>0</td>\n",
       "      <td>144910934</td>\n",
       "      <td>1</td>\n",
       "      <td>0</td>\n",
       "      <td>1</td>\n",
       "      <td>...</td>\n",
       "      <td>1.428571</td>\n",
       "      <td>0.0</td>\n",
       "      <td>0.0</td>\n",
       "      <td>0.000000</td>\n",
       "      <td>0.0</td>\n",
       "      <td>0.0</td>\n",
       "      <td>0.0</td>\n",
       "      <td>0.0</td>\n",
       "      <td>83.0</td>\n",
       "      <td>0.518072</td>\n",
       "    </tr>\n",
       "    <tr>\n",
       "      <th>4</th>\n",
       "      <td>Алматы</td>\n",
       "      <td>Казахстан</td>\n",
       "      <td>Айжан</td>\n",
       "      <td>NaN</td>\n",
       "      <td>Саят</td>\n",
       "      <td>9</td>\n",
       "      <td>166045266</td>\n",
       "      <td>0</td>\n",
       "      <td>0</td>\n",
       "      <td>0</td>\n",
       "      <td>...</td>\n",
       "      <td>1.333333</td>\n",
       "      <td>0.0</td>\n",
       "      <td>0.0</td>\n",
       "      <td>0.000000</td>\n",
       "      <td>0.0</td>\n",
       "      <td>0.0</td>\n",
       "      <td>0.0</td>\n",
       "      <td>0.0</td>\n",
       "      <td>29.0</td>\n",
       "      <td>0.344828</td>\n",
       "    </tr>\n",
       "  </tbody>\n",
       "</table>\n",
       "<p>5 rows × 96 columns</p>\n",
       "</div>"
      ],
      "text/plain": [
       "     city    country first_name home_town      last_name  likes_memes  \\\n",
       "0  Москва     Россия      Артём   MOSCOW           Еркин            0   \n",
       "1     NaN     Россия      Армен       NaN       Хачатрян           15   \n",
       "2  Москва     Россия      Abbos   Бекабад       Akhmedov           11   \n",
       "3  Москва     Россия       Адам       NaN  Триандафилиди            0   \n",
       "4  Алматы  Казахстан      Айжан       NaN           Саят            9   \n",
       "\n",
       "         uid  male_dummy  facebook_dummy  instagram_dummy  ...  \\\n",
       "0  181029517           1               0                0  ...   \n",
       "1   73703994           1               0                1  ...   \n",
       "2  467673028           1               0                0  ...   \n",
       "3  144910934           1               0                1  ...   \n",
       "4  166045266           0               0                0  ...   \n",
       "\n",
       "   photo_month_mean  photo_repost_cnt  photo_repost_max  photo_repost_mean  \\\n",
       "0          1.000000               0.0               0.0           0.000000   \n",
       "1          1.750000               4.0               1.0           0.571429   \n",
       "2          1.000000               0.0               0.0           0.000000   \n",
       "3          1.428571               0.0               0.0           0.000000   \n",
       "4          1.333333               0.0               0.0           0.000000   \n",
       "\n",
       "   photo_repost_median  photo_text_len_cnt  photo_ava_change_cnt  \\\n",
       "0                  0.0                 0.0                   0.0   \n",
       "1                  1.0                 0.0                   0.0   \n",
       "2                  0.0                 0.0                   0.0   \n",
       "3                  0.0                 0.0                   0.0   \n",
       "4                  0.0                 0.0                   0.0   \n",
       "\n",
       "   photo_text_url_len_cnt  friends_from_course_cnt  \\\n",
       "0                     0.0                     16.0   \n",
       "1                     0.0                     47.0   \n",
       "2                     0.0                     26.0   \n",
       "3                     0.0                     83.0   \n",
       "4                     0.0                     29.0   \n",
       "\n",
       "   friends_mail_from_course_pct  \n",
       "0                      0.375000  \n",
       "1                      0.531915  \n",
       "2                      0.500000  \n",
       "3                      0.518072  \n",
       "4                      0.344828  \n",
       "\n",
       "[5 rows x 96 columns]"
      ]
     },
     "execution_count": 4,
     "metadata": {},
     "output_type": "execute_result"
    }
   ],
   "source": [
    "df = pd.read_csv('../data/vk_main.csv', sep='\\t')   # подгружаем датасет\n",
    "df.head()"
   ]
  },
  {
   "cell_type": "code",
   "execution_count": 5,
   "metadata": {},
   "outputs": [],
   "source": [
    "# варим таргет в виде ответа на вопрос \"а он лайкнул мем хотя бы раз?\"\n",
    "df['ln_likes_memes'] = df['likes_memes'] > 0"
   ]
  },
  {
   "cell_type": "markdown",
   "metadata": {},
   "source": [
    "Ровно также, как мы это делали на семинаре, предобработаем данные. Если вы не понимаете какую-то из строчек в следущем большом кодище, выясните как она работает. Напишите в чат тех-поддержки, семинаристу, сходите к гадалке. Сделайте хоть что-то, потому что скоро такой код вам придётся писать самостоятельно. "
   ]
  },
  {
   "cell_type": "code",
   "execution_count": 6,
   "metadata": {},
   "outputs": [
    {
     "data": {
      "text/html": [
       "<div>\n",
       "<style scoped>\n",
       "    .dataframe tbody tr th:only-of-type {\n",
       "        vertical-align: middle;\n",
       "    }\n",
       "\n",
       "    .dataframe tbody tr th {\n",
       "        vertical-align: top;\n",
       "    }\n",
       "\n",
       "    .dataframe thead th {\n",
       "        text-align: right;\n",
       "    }\n",
       "</style>\n",
       "<table border=\"1\" class=\"dataframe\">\n",
       "  <thead>\n",
       "    <tr style=\"text-align: right;\">\n",
       "      <th></th>\n",
       "      <th>country</th>\n",
       "      <th>first_name</th>\n",
       "      <th>last_name</th>\n",
       "      <th>likes_memes</th>\n",
       "      <th>uid</th>\n",
       "      <th>male_dummy</th>\n",
       "      <th>facebook_dummy</th>\n",
       "      <th>instagram_dummy</th>\n",
       "      <th>skype_dummy</th>\n",
       "      <th>twitter_dummy</th>\n",
       "      <th>...</th>\n",
       "      <th>photo_repost_cnt</th>\n",
       "      <th>photo_repost_max</th>\n",
       "      <th>photo_repost_mean</th>\n",
       "      <th>photo_repost_median</th>\n",
       "      <th>photo_text_len_cnt</th>\n",
       "      <th>photo_ava_change_cnt</th>\n",
       "      <th>photo_text_url_len_cnt</th>\n",
       "      <th>friends_from_course_cnt</th>\n",
       "      <th>friends_mail_from_course_pct</th>\n",
       "      <th>ln_likes_memes</th>\n",
       "    </tr>\n",
       "  </thead>\n",
       "  <tbody>\n",
       "    <tr>\n",
       "      <th>0</th>\n",
       "      <td>Россия</td>\n",
       "      <td>Артём</td>\n",
       "      <td>Еркин</td>\n",
       "      <td>0</td>\n",
       "      <td>181029517</td>\n",
       "      <td>1</td>\n",
       "      <td>0</td>\n",
       "      <td>0</td>\n",
       "      <td>0</td>\n",
       "      <td>0</td>\n",
       "      <td>...</td>\n",
       "      <td>0.000000</td>\n",
       "      <td>0.0</td>\n",
       "      <td>0.000000</td>\n",
       "      <td>0.0</td>\n",
       "      <td>0.0</td>\n",
       "      <td>0.0</td>\n",
       "      <td>0.0</td>\n",
       "      <td>2.833213</td>\n",
       "      <td>0.375000</td>\n",
       "      <td>False</td>\n",
       "    </tr>\n",
       "    <tr>\n",
       "      <th>1</th>\n",
       "      <td>Россия</td>\n",
       "      <td>Армен</td>\n",
       "      <td>Хачатрян</td>\n",
       "      <td>15</td>\n",
       "      <td>73703994</td>\n",
       "      <td>1</td>\n",
       "      <td>0</td>\n",
       "      <td>1</td>\n",
       "      <td>0</td>\n",
       "      <td>0</td>\n",
       "      <td>...</td>\n",
       "      <td>1.609438</td>\n",
       "      <td>1.0</td>\n",
       "      <td>0.571429</td>\n",
       "      <td>1.0</td>\n",
       "      <td>0.0</td>\n",
       "      <td>0.0</td>\n",
       "      <td>0.0</td>\n",
       "      <td>3.871201</td>\n",
       "      <td>0.531915</td>\n",
       "      <td>True</td>\n",
       "    </tr>\n",
       "    <tr>\n",
       "      <th>2</th>\n",
       "      <td>Россия</td>\n",
       "      <td>Abbos</td>\n",
       "      <td>Akhmedov</td>\n",
       "      <td>11</td>\n",
       "      <td>467673028</td>\n",
       "      <td>1</td>\n",
       "      <td>0</td>\n",
       "      <td>0</td>\n",
       "      <td>0</td>\n",
       "      <td>0</td>\n",
       "      <td>...</td>\n",
       "      <td>0.000000</td>\n",
       "      <td>0.0</td>\n",
       "      <td>0.000000</td>\n",
       "      <td>0.0</td>\n",
       "      <td>0.0</td>\n",
       "      <td>0.0</td>\n",
       "      <td>0.0</td>\n",
       "      <td>3.295837</td>\n",
       "      <td>0.500000</td>\n",
       "      <td>True</td>\n",
       "    </tr>\n",
       "    <tr>\n",
       "      <th>3</th>\n",
       "      <td>Россия</td>\n",
       "      <td>Адам</td>\n",
       "      <td>Триандафилиди</td>\n",
       "      <td>0</td>\n",
       "      <td>144910934</td>\n",
       "      <td>1</td>\n",
       "      <td>0</td>\n",
       "      <td>1</td>\n",
       "      <td>1</td>\n",
       "      <td>0</td>\n",
       "      <td>...</td>\n",
       "      <td>0.000000</td>\n",
       "      <td>0.0</td>\n",
       "      <td>0.000000</td>\n",
       "      <td>0.0</td>\n",
       "      <td>0.0</td>\n",
       "      <td>0.0</td>\n",
       "      <td>0.0</td>\n",
       "      <td>4.430817</td>\n",
       "      <td>0.518072</td>\n",
       "      <td>False</td>\n",
       "    </tr>\n",
       "    <tr>\n",
       "      <th>4</th>\n",
       "      <td>Казахстан</td>\n",
       "      <td>Айжан</td>\n",
       "      <td>Саят</td>\n",
       "      <td>9</td>\n",
       "      <td>166045266</td>\n",
       "      <td>0</td>\n",
       "      <td>0</td>\n",
       "      <td>0</td>\n",
       "      <td>0</td>\n",
       "      <td>0</td>\n",
       "      <td>...</td>\n",
       "      <td>0.000000</td>\n",
       "      <td>0.0</td>\n",
       "      <td>0.000000</td>\n",
       "      <td>0.0</td>\n",
       "      <td>0.0</td>\n",
       "      <td>0.0</td>\n",
       "      <td>0.0</td>\n",
       "      <td>3.401197</td>\n",
       "      <td>0.344828</td>\n",
       "      <td>True</td>\n",
       "    </tr>\n",
       "  </tbody>\n",
       "</table>\n",
       "<p>5 rows × 81 columns</p>\n",
       "</div>"
      ],
      "text/plain": [
       "     country first_name      last_name  likes_memes        uid  male_dummy  \\\n",
       "0     Россия      Артём          Еркин            0  181029517           1   \n",
       "1     Россия      Армен       Хачатрян           15   73703994           1   \n",
       "2     Россия      Abbos       Akhmedov           11  467673028           1   \n",
       "3     Россия       Адам  Триандафилиди            0  144910934           1   \n",
       "4  Казахстан      Айжан           Саят            9  166045266           0   \n",
       "\n",
       "   facebook_dummy  instagram_dummy  skype_dummy  twitter_dummy  ...  \\\n",
       "0               0                0            0              0  ...   \n",
       "1               0                1            0              0  ...   \n",
       "2               0                0            0              0  ...   \n",
       "3               0                1            1              0  ...   \n",
       "4               0                0            0              0  ...   \n",
       "\n",
       "   photo_repost_cnt  photo_repost_max  photo_repost_mean  photo_repost_median  \\\n",
       "0          0.000000               0.0           0.000000                  0.0   \n",
       "1          1.609438               1.0           0.571429                  1.0   \n",
       "2          0.000000               0.0           0.000000                  0.0   \n",
       "3          0.000000               0.0           0.000000                  0.0   \n",
       "4          0.000000               0.0           0.000000                  0.0   \n",
       "\n",
       "   photo_text_len_cnt  photo_ava_change_cnt  photo_text_url_len_cnt  \\\n",
       "0                 0.0                   0.0                     0.0   \n",
       "1                 0.0                   0.0                     0.0   \n",
       "2                 0.0                   0.0                     0.0   \n",
       "3                 0.0                   0.0                     0.0   \n",
       "4                 0.0                   0.0                     0.0   \n",
       "\n",
       "   friends_from_course_cnt  friends_mail_from_course_pct  ln_likes_memes  \n",
       "0                 2.833213                      0.375000           False  \n",
       "1                 3.871201                      0.531915            True  \n",
       "2                 3.295837                      0.500000            True  \n",
       "3                 4.430817                      0.518072           False  \n",
       "4                 3.401197                      0.344828            True  \n",
       "\n",
       "[5 rows x 81 columns]"
      ]
     },
     "execution_count": 6,
     "metadata": {},
     "output_type": "execute_result"
    }
   ],
   "source": [
    "# выбрасываем из выборки все переменные, в которых слишком много пропусков\n",
    "isnull = df.isnull().sum()\n",
    "df = df[isnull[isnull <= 56].index]\n",
    "\n",
    "# Выборка с переменными-счётчиками\n",
    "variables_cnt = [item for item in df.columns if item[-3:] == 'cnt']\n",
    "\n",
    "# Оставляем только информативные переменные (картинки можно посмотреть в семинарской тетрадке)\n",
    "variables_cnt = [item for item in variables_cnt if len(df[item].unique()) > 10]\n",
    "\n",
    "# логарифмируем счётчики\n",
    "df[variables_cnt] = df[variables_cnt].apply(lambda w: np.log(w + 1))\n",
    "\n",
    "# отбираем дамми - переменные \n",
    "variables_dummy = [item for item in df.columns if item[-5:] == 'dummy']\n",
    "\n",
    "# средние, медианы и максимумы\n",
    "variables_mean = [item for item in df.columns if item[-4:] == 'mean']\n",
    "variables_median = [item for item in df.columns if item[-6:] == 'median']\n",
    "variables_max = [item for item in df.columns if item[-3:] == 'max']\n",
    "\n",
    "# все полезные переменные\n",
    "useful_variables = variables_cnt + variables_dummy + variables_mean + \\\n",
    "                   variables_median + variables_max + ['friends_mail_from_course_pct']\n",
    "\n",
    "# заполняем пропуски нулями\n",
    "df[useful_variables] = df[useful_variables].fillna(0)\n",
    "df.head()"
   ]
  },
  {
   "cell_type": "markdown",
   "metadata": {},
   "source": [
    "# 2. Подготовка к моделированию.\n",
    "\n",
    "Начнём с простого. \n",
    "\n",
    "__[1]__ Разделите выборку на тренировочную и тестовую. Запишите обучающую выборку в табличку `df_train`, а тестовую в `df_test`."
   ]
  },
  {
   "cell_type": "code",
   "execution_count": 7,
   "metadata": {},
   "outputs": [],
   "source": [
    "from sklearn.model_selection import train_test_split  # функция для деления \n",
    "\n",
    "# делим в пропорции 80 к 20\n",
    "df_train, df_test = train_test_split(df, test_size = 0.2, random_state=42) "
   ]
  },
  {
   "cell_type": "markdown",
   "metadata": {},
   "source": [
    "Для удобства запишем в `y` то, что мы хотим прогнозировать."
   ]
  },
  {
   "cell_type": "code",
   "execution_count": 8,
   "metadata": {},
   "outputs": [],
   "source": [
    "y_train = df_train['ln_likes_memes'].get_values()\n",
    "y_test = df_test['ln_likes_memes'].get_values()"
   ]
  },
  {
   "cell_type": "markdown",
   "metadata": {},
   "source": [
    "Посмотрим как соотносятся доли лайкавших и нелайкавших в тренировочной и тестовой выборках."
   ]
  },
  {
   "cell_type": "code",
   "execution_count": 9,
   "metadata": {},
   "outputs": [
    {
     "data": {
      "text/plain": [
       "(0.6455223880597015, 0.582089552238806)"
      ]
     },
     "execution_count": 9,
     "metadata": {},
     "output_type": "execute_result"
    }
   ],
   "source": [
    "np.mean(y_train), np.mean(y_test)"
   ]
  },
  {
   "cell_type": "markdown",
   "metadata": {},
   "source": [
    "В `X` запишем то, по чему мы будем прогнозировать. "
   ]
  },
  {
   "cell_type": "code",
   "execution_count": 10,
   "metadata": {},
   "outputs": [],
   "source": [
    "# Забираем в выборку лучших из лучших \n",
    "X_train = df_train[useful_variables].get_values()\n",
    "X_test = df_test[useful_variables].get_values()"
   ]
  },
  {
   "cell_type": "markdown",
   "metadata": {},
   "source": [
    "# 3. Метод ближайшего соседа\n",
    "\n",
    "Начнём моделирование с метода ближайшего соседа. \n",
    "\n",
    "__[1]__ Проскалируйте переменные. Поясните в виде текста зачем нужно это делать. Надо ли скалировать переменные для деревьев? "
   ]
  },
  {
   "cell_type": "code",
   "execution_count": 11,
   "metadata": {},
   "outputs": [],
   "source": [
    "from sklearn.preprocessing import MinMaxScaler\n",
    "scaler = MinMaxScaler( )\n",
    "scaler.fit(X_train) \n",
    "\n",
    "X_train_norm = scaler.transform(X_train) \n",
    "X_test_norm = scaler.transform(X_test)"
   ]
  },
  {
   "cell_type": "markdown",
   "metadata": {},
   "source": [
    "__[1]__ Обучите на тренировочной выборке алгоритм 10 ближайших соседей. Запишите прогнозы алгоритма в переменную `y_predict`."
   ]
  },
  {
   "cell_type": "code",
   "execution_count": 12,
   "metadata": {},
   "outputs": [],
   "source": [
    "from sklearn.neighbors import KNeighborsClassifier\n",
    "\n",
    "knn = KNeighborsClassifier(n_neighbors = 10)\n",
    "knn.fit(X_train_norm, y_train)\n",
    "y_predict = knn.predict(X_test_norm)"
   ]
  },
  {
   "cell_type": "markdown",
   "metadata": {},
   "source": [
    "Построим для получившегося алгоритма roc-кривую на тестовой выборке. "
   ]
  },
  {
   "cell_type": "code",
   "execution_count": 13,
   "metadata": {},
   "outputs": [
    {
     "data": {
      "image/png": "[encoded data removed]",
      "text/plain": [
       "<Figure size 576x576 with 1 Axes>"
      ]
     },
     "metadata": {
      "needs_background": "light"
     },
     "output_type": "display_data"
    }
   ],
   "source": [
    "# Для леса\n",
    "roc_auc_pic(y_predict, y_test)"
   ]
  },
  {
   "cell_type": "markdown",
   "metadata": {},
   "source": [
    "Посмотрим какой получилось accuracy (доля правильных ответов). "
   ]
  },
  {
   "cell_type": "code",
   "execution_count": 14,
   "metadata": {},
   "outputs": [
    {
     "data": {
      "text/plain": [
       "0.582089552238806"
      ]
     },
     "execution_count": 14,
     "metadata": {},
     "output_type": "execute_result"
    }
   ],
   "source": [
    "accuracy_score(y_test, y_predict)"
   ]
  },
  {
   "cell_type": "markdown",
   "metadata": {},
   "source": [
    "__[1]__ Какой вывод о прогнозной силе алгоритма вы можете сделать? Можно ли в данной ситуации в качестве метрики использовать `acuracy`? \n",
    "\n",
    "__Ответ:__  Тут должно быть написано, что всё плохо"
   ]
  },
  {
   "cell_type": "markdown",
   "metadata": {},
   "source": [
    "# 4. Пытаемся улучшить работу алгоритма\n",
    "\n",
    "Давайте попытаемся выжать из метода ближайших соседей максимум. \n",
    "\n",
    "__[2]__ Попробуйте перебрать разное количество соседей и разные дистанции. Насколько получилось улучшить работу классификатора? "
   ]
  },
  {
   "cell_type": "code",
   "execution_count": 15,
   "metadata": {},
   "outputs": [
    {
     "name": "stderr",
     "output_type": "stream",
     "text": [
      "/usr/local/lib/python3.7/site-packages/sklearn/model_selection/_search.py:841: DeprecationWarning: The default of the `iid` parameter will change from True to False in version 0.22 and will be removed in 0.24. This will change numeric results when test-set sizes are unequal.\n",
      "  DeprecationWarning)\n"
     ]
    },
    {
     "data": {
      "text/plain": [
       "GridSearchCV(cv=3, error_score='raise-deprecating',\n",
       "       estimator=KNeighborsClassifier(algorithm='auto', leaf_size=30, metric='minkowski',\n",
       "           metric_params=None, n_jobs=None, n_neighbors=5, p=2,\n",
       "           weights='uniform'),\n",
       "       fit_params=None, iid='warn', n_jobs=None,\n",
       "       param_grid={'n_neighbors': range(5, 16), 'weights': ['uniform', 'distance']},\n",
       "       pre_dispatch='2*n_jobs', refit=True, return_train_score='warn',\n",
       "       scoring='roc_auc', verbose=0)"
      ]
     },
     "execution_count": 15,
     "metadata": {},
     "output_type": "execute_result"
    }
   ],
   "source": [
    "# Решётка для перебора \n",
    "from sklearn.model_selection import GridSearchCV\n",
    "\n",
    "# параметры, которые мы будем перебирать \n",
    "parameters = {\n",
    "     'n_neighbors':range(5, 16),         # число соседей от 5 до 15\n",
    "     'weights':['uniform', 'distance']   # надо ли более близких соседей учитывать с большим весом\n",
    "             }\n",
    "\n",
    "# объявили модель\n",
    "knn_clf = KNeighborsClassifier()\n",
    "\n",
    "# завернули её в решётку для поиска параметров\n",
    "grid_knn = GridSearchCV(knn_clf, parameters, cv=3, scoring=\"roc_auc\")\n",
    "\n",
    "# обучаем нашу решётку (если мы хотим перебрать много параметров, обучение будет идти долго) \n",
    "grid_knn.fit(X_train_norm, y_train)"
   ]
  },
  {
   "cell_type": "markdown",
   "metadata": {},
   "source": [
    "Какое сочетания параметров оказалось оптимальным? Какое качество показывает алгоритм? "
   ]
  },
  {
   "cell_type": "code",
   "execution_count": 16,
   "metadata": {},
   "outputs": [
    {
     "data": {
      "text/plain": [
       "0.5266296713060336"
      ]
     },
     "execution_count": 16,
     "metadata": {},
     "output_type": "execute_result"
    }
   ],
   "source": [
    "grid_knn.best_score_"
   ]
  },
  {
   "cell_type": "code",
   "execution_count": 17,
   "metadata": {},
   "outputs": [
    {
     "data": {
      "text/plain": [
       "{'n_neighbors': 12, 'weights': 'distance'}"
      ]
     },
     "execution_count": 17,
     "metadata": {},
     "output_type": "execute_result"
    }
   ],
   "source": [
    "grid_knn.best_params_"
   ]
  },
  {
   "cell_type": "markdown",
   "metadata": {},
   "source": [
    "# 5. Дерево \n",
    "\n",
    "__[2]__ Продолжаем наше путешествие в классификацию. Постройте решающее дерево. Какое качество оно показывает на тренировочной выборке? А на тестовой? Что такое переобучение? Правда ли, что дерево переобучилось? "
   ]
  },
  {
   "cell_type": "code",
   "execution_count": 20,
   "metadata": {},
   "outputs": [
    {
     "name": "stdout",
     "output_type": "stream",
     "text": [
      "accuracy: 0.9738805970149254\n",
      "roc_auc: 0.9679038637055065 \n",
      "\n",
      "accuracy: 0.6119402985074627\n",
      "roc_auc: 0.576007326007326\n"
     ]
    }
   ],
   "source": [
    "# Подшружаем дерево \n",
    "from sklearn.tree import DecisionTreeClassifier\n",
    "\n",
    "# Объявляем дерево \n",
    "tree = DecisionTreeClassifier( )\n",
    "\n",
    "# учим дерево \n",
    "tree.fit(X_train_norm, y_train)\n",
    "\n",
    "# предсказываем на обучающей выборке результат\n",
    "y_predicted = tree.predict(X_train_norm)\n",
    "\n",
    "# качество на трэйне \n",
    "print('accuracy:', accuracy_score(y_train, y_predicted))\n",
    "print('roc_auc:', roc_auc_score(y_train, y_predicted), '\\n')\n",
    "\n",
    "# предсказываем на тестовой выборке результаты \n",
    "y_predicted = tree.predict(X_test_norm)\n",
    "\n",
    "# качество на тесте\n",
    "print('accuracy:', accuracy_score(y_test, y_predicted))\n",
    "print('roc_auc:', roc_auc_score(y_test, y_predicted))"
   ]
  },
  {
   "cell_type": "markdown",
   "metadata": {},
   "source": [
    "__Ответ:__  тут нужно написать о том, что на трэйне качество получилось на порядок выше, и это сигнализирует о наличии переобучения."
   ]
  },
  {
   "cell_type": "markdown",
   "metadata": {},
   "source": [
    "# 6. Случайный лес \n",
    "\n",
    "__[2]__ Попробуйте обучить случайный лес, посмотрите на качество его работы по метрике roc_auc. "
   ]
  },
  {
   "cell_type": "code",
   "execution_count": 21,
   "metadata": {},
   "outputs": [
    {
     "name": "stdout",
     "output_type": "stream",
     "text": [
      "accuracy: 0.5373134328358209\n",
      "roc_auc: 0.4665750915750916\n"
     ]
    }
   ],
   "source": [
    "# Подшружаем случайный лес\n",
    "from sklearn.ensemble import RandomForestClassifier\n",
    "\n",
    "# объявляем его, будем учить 1000 деревьев\n",
    "forest = RandomForestClassifier(n_estimators=1000)\n",
    "\n",
    "# учим лес \n",
    "forest.fit(X_train_norm, y_train)\n",
    "\n",
    "# строим предсказания \n",
    "y_predicted = forest.predict(X_test_norm)\n",
    "\n",
    "# посчитали долю верных ответов\n",
    "print('accuracy:', accuracy_score(y_test, y_predicted))\n",
    "print('roc_auc:', roc_auc_score(y_test, y_predicted))"
   ]
  },
  {
   "cell_type": "markdown",
   "metadata": {},
   "source": [
    "* Зачем деревья объединяют в лес? \n",
    "\n",
    "__Ответ:__  чтобы улучшить качество, каждое дерево облизывает часть выборки и в сумме они принимают хорошее решение \n",
    "\n",
    "* Какой из трёх обученных выше алгоритмов показал наилучшее качество? \n",
    "\n",
    "__Ответ:__ .... \n",
    "\n",
    "* Как считате, удалось ли нам научиться предсказывать, что студент первого курса поставит в паблик лайк? С чем это на ваш взгляд связано? \n",
    "\n",
    "__Ответ:__  нет, мало данных, переменные обладают слабой объясняющей силой, возможно вообще нет взаимосвязи и тп \n"
   ]
  }
 ],
 "metadata": {
  "kernelspec": {
   "display_name": "Python 3",
   "language": "python",
   "name": "python3"
  },
  "language_info": {
   "codemirror_mode": {
    "name": "ipython",
    "version": 3
   },
   "file_extension": ".py",
   "mimetype": "text/x-python",
   "name": "python",
   "nbconvert_exporter": "python",
   "pygments_lexer": "ipython3",
   "version": "3.7.2"
  }
 },
 "nbformat": 4,
 "nbformat_minor": 2
}
