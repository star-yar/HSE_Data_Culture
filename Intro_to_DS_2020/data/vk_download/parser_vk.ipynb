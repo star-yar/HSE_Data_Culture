{
 "cells": [
  {
   "cell_type": "markdown",
   "metadata": {},
   "source": [
    "# Собираем данные по студентам из вк\n",
    "\n",
    "Код очень старый, много костылей. Возможно, что вк ввёл какие-нибудь новые ограничения для парсеоров и код напорется на них. Так произошло с полной выкачкой лайков в пункте 7. Из-за этого пришлось дописать пункт 8 с проверкой вместо выкачки. "
   ]
  },
  {
   "cell_type": "code",
   "execution_count": 50,
   "metadata": {},
   "outputs": [],
   "source": [
    "# Загружаем необходимые библиотеки\n",
    "import datetime                  # Пакет для работы с временными форматами\n",
    "import pickle                    # Пакет для подгрузки данных специфического для питона формата\n",
    "import re                        # Пакет для регулярок\n",
    "import requests                  # Пакет для скачки данных из этих ваших интернетов\n",
    "import pandas as pd              # Пакет для работы с таблицами\n",
    "import numpy as np               # Пакет для работы с векторами и матрицами\n",
    "import matplotlib.pyplot as plt  # Пакет для строительства графиков\n",
    "import time            # Пакет для работы со временем. Например, помогает ставить заглушки \n",
    "                       # time.sleep(секунды), необходимые для того что ВК не банил нащего\n",
    "                       # сборщика данных из-за слишком частых запросов\n",
    "        \n",
    "# Пакет для красивых циклов. При желании его можно отключить. Тогда из всех циклов придётся \n",
    "# удалять команду tqdm_notebook.\n",
    "from tqdm import tqdm as tqdm_notebook   # подробнее: https://github.com/tqdm/tqdm"
   ]
  },
  {
   "cell_type": "code",
   "execution_count": 51,
   "metadata": {},
   "outputs": [],
   "source": [
    "# мой номер странички\n",
    "my_user_id = 91857120\n",
    "# версия используемого API\n",
    "version = '5.103'\n",
    "# подгружаем токен\n",
    "with open('/Users/fulyankin/Desktop/token') as f:\n",
    "    token = f.read()"
   ]
  },
  {
   "cell_type": "code",
   "execution_count": 52,
   "metadata": {},
   "outputs": [
    {
     "data": {
      "text/plain": [
       "{'response': [{'id': 6045249,\n",
       "   'first_name': 'Филипп',\n",
       "   'last_name': 'Ульянкин',\n",
       "   'is_closed': False,\n",
       "   'can_access_closed': True}]}"
      ]
     },
     "execution_count": 52,
     "metadata": {},
     "output_type": "execute_result"
    }
   ],
   "source": [
    "def vk_download(method, parameters, token=token, version=version):\n",
    "    \"\"\"\n",
    "        Возвращает результат запроса по методу\n",
    "        \n",
    "        method: string\n",
    "            метод из документации, который хотим использовать\n",
    "            \n",
    "        parameters: string\n",
    "            параметры используемого метода\n",
    "            \n",
    "        token: string\n",
    "            токен Oauth доступа\n",
    "        \n",
    "        version: string\n",
    "            версия API\n",
    "    \"\"\"\n",
    "    \n",
    "    # составляем ссылку\n",
    "    url = 'https://api.vk.com/method/{method}?{parameters}&access_token={token}&v={version}'\n",
    "    url = url.format(method=method, parameters=parameters, token=token, version=version)\n",
    "    # запрашиваем ссылку и переводим в json (словарь)\n",
    "    response = requests.get(url).json()\n",
    "    return response\n",
    "\n",
    "vk_download('users.get','user_ids=ppilif')"
   ]
  },
  {
   "cell_type": "markdown",
   "metadata": {},
   "source": [
    "## 1.  Собираем базовую инфу по страницам"
   ]
  },
  {
   "cell_type": "code",
   "execution_count": 4,
   "metadata": {},
   "outputs": [],
   "source": [
    "def load_ids(path):\n",
    "    ids = [ ]  # Подгружаю айдишники с компа \n",
    "\n",
    "    # read ids \n",
    "    with open(path) as f:\n",
    "        for item in f.readlines():\n",
    "            ids.append(item)\n",
    "\n",
    "    # Вытащили айдишники из той мерзости, которую собрала студентота \n",
    "    ids = sorted(set([re.sub('https://|http://|vk.com/|m.vk.com/|\\n|\\t', '', item) for item in ids]))\n",
    "    return ids\n",
    "\n",
    "ids_bmm = load_ids('../../../nda/email_vk_2019/bmm_ids')\n",
    "ids_bmb = load_ids('../../../nda/email_vk_2019/bmb_ids')\n",
    "\n",
    "ids = ids_bmm + ids_bmb"
   ]
  },
  {
   "cell_type": "code",
   "execution_count": 5,
   "metadata": {
    "scrolled": false
   },
   "outputs": [],
   "source": [
    "# Постучались в каждый айдишник и запомнили только тех, кто не битый\n",
    "# Всех битых, если возможно, исправляем вручную\n",
    "all_uids = [ ]\n",
    "err_uids = [ ]"
   ]
  },
  {
   "cell_type": "code",
   "execution_count": 6,
   "metadata": {},
   "outputs": [
    {
     "name": "stderr",
     "output_type": "stream",
     "text": [
      "100%|██████████| 427/427 [03:23<00:00,  2.10it/s]\n"
     ]
    },
    {
     "data": {
      "text/plain": [
       "(0, 427)"
      ]
     },
     "execution_count": 6,
     "metadata": {},
     "output_type": "execute_result"
    }
   ],
   "source": [
    "for item in tqdm_notebook(ids):\n",
    "    time.sleep(0.3)\n",
    "    try:\n",
    "        rq = vk_download('users.get','user_ids={}'.format(item))['response']\n",
    "        all_uids.append(item)\n",
    "    except:\n",
    "        err_uids.append(item)\n",
    "\n",
    "len(err_uids), len(all_uids) "
   ]
  },
  {
   "cell_type": "code",
   "execution_count": 7,
   "metadata": {},
   "outputs": [
    {
     "data": {
      "text/plain": [
       "[]"
      ]
     },
     "execution_count": 7,
     "metadata": {},
     "output_type": "execute_result"
    }
   ],
   "source": [
    "err_uids"
   ]
  },
  {
   "cell_type": "markdown",
   "metadata": {},
   "source": [
    "## 2. Качаю профили "
   ]
  },
  {
   "cell_type": "markdown",
   "metadata": {},
   "source": [
    "Внимательно поизучаем то какие именно штуки можно выгрузить по каждой страничке [в документации](https://vk.com/dev/objects/user) и поделим всё это чуда на пять разных категорий. После будем скачивать данные по каждой категории и работать с ними. Код будет убойным, но мы так хотябы не сойдём с ума."
   ]
  },
  {
   "cell_type": "code",
   "execution_count": 8,
   "metadata": {},
   "outputs": [
    {
     "name": "stderr",
     "output_type": "stream",
     "text": [
      "100%|██████████| 427/427 [20:48<00:00,  2.92s/it]\n"
     ]
    }
   ],
   "source": [
    "# Основные параметры\n",
    "first_par = ['bdate','city','home_town','relation', 'sex']\n",
    "\n",
    "# Есть ли возможность получить данные (например, открыты ли комменты или аудио)\n",
    "availible_functions = ['can_post','can_see_all_posts','can_see_audio','can_write_private_message','has_mobile', \\\n",
    "                       'has_photo','wall_comments']\n",
    "# Вторичные параметры\n",
    "second_par = ['about','activities','books','connections','contacts','country','education','exports',\\\n",
    "                    'followers_count', 'games', 'interests', 'movies','music','quotes', 'site', 'tv']\n",
    "\n",
    "# Важные списки\n",
    "first_spisok = ['counters','personal','last_seen']\n",
    "\n",
    "# Вторичные списки\n",
    "second_spisok = ['schools', 'universities', 'occupation', 'relatives']\n",
    "\n",
    "# для сбора в список \n",
    "parametr_creator = lambda lst: ','.join(lst)\n",
    "\n",
    "\n",
    "# Говноциклы для скачки\n",
    "# Создаём свой инфа вектор для каждого рода информации\n",
    "\n",
    "profile_first = [ ]\n",
    "profile_second = [ ]\n",
    "profile_availible = [ ]\n",
    "profile_first_spisok = [ ]\n",
    "profile_second_spisok = [ ]\n",
    "\n",
    "spiski = [first_par, second_par, availible_functions, first_spisok, second_spisok]\n",
    "infa = [profile_first, profile_second, profile_availible, profile_first_spisok, profile_second_spisok]\n",
    "\n",
    "# Первый цикл идёт по всем юзерам из списка. Второй цикл идёт по парам (название параметра, вектор для записи)\n",
    "# В итоге на выходе получаем заполненные вектора из вектора spisok. \n",
    "\n",
    "# На случай, если красивая строка для цикла вдруг не работает \n",
    "# Надо установить виджет отсюда:  https://ipywidgets.readthedocs.io/en/stable/user_install.html\n",
    "\n",
    "for user in tqdm_notebook(all_uids):\n",
    "    for a, b in zip(spiski,infa):\n",
    "        time.sleep(0.4) # Временная заглушка\n",
    "        we_want = parametr_creator(a) # Превращаем вектор в текст\n",
    "        current = vk_download('users.get','user_ids='+str(user)+'&fields='+we_want)\n",
    "        b.append(current)"
   ]
  },
  {
   "cell_type": "markdown",
   "metadata": {},
   "source": [
    "Распаковываем всё накачаное добро в табличку. "
   ]
  },
  {
   "cell_type": "code",
   "execution_count": 9,
   "metadata": {},
   "outputs": [],
   "source": [
    "# Создаём таблицу, в которую мы запишем все созданные фичи\n",
    "df_profile = pd.DataFrame()      "
   ]
  },
  {
   "cell_type": "markdown",
   "metadata": {},
   "source": [
    "### Первый кусок информации "
   ]
  },
  {
   "cell_type": "code",
   "execution_count": 10,
   "metadata": {},
   "outputs": [
    {
     "data": {
      "text/plain": [
       "[{'id': 182152789,\n",
       "  'first_name': 'Александра',\n",
       "  'last_name': 'Абашкова',\n",
       "  'is_closed': False,\n",
       "  'can_access_closed': True,\n",
       "  'sex': 1,\n",
       "  'bdate': '14.5',\n",
       "  'city': {'id': 1, 'title': 'Москва'},\n",
       "  'home_town': 'Москва',\n",
       "  'relation': 0}]"
      ]
     },
     "execution_count": 10,
     "metadata": {},
     "output_type": "execute_result"
    }
   ],
   "source": [
    "infa[0][0]['response']"
   ]
  },
  {
   "cell_type": "code",
   "execution_count": 11,
   "metadata": {},
   "outputs": [],
   "source": [
    "# Очистим данные от респонсов.\n",
    "inf_1 = [item['response'][0] for item in infa[0]]\n",
    "df_1 = pd.DataFrame(inf_1)\n",
    "\n",
    "# на случай если у нас есть все странички\n",
    "#df_1['deactivated'] = None\n",
    "\n",
    "# 0. Не трогаем \n",
    "df_profile['uid'] = df_1['id']\n",
    "df_profile['first_name'] = df_1['first_name']\n",
    "df_profile['last_name'] = df_1['last_name']\n",
    "df_profile['is_closed'] = df_1['is_closed']\n",
    "\n",
    "# 1. Заменим в колонке deactivated все пропуски на нули\n",
    "df_profile['deactivated_dummy'] = df_1.deactivated\n",
    "df_profile['deactivated_dummy'].fillna(0,inplace=True)\n",
    "\n",
    "# 2. Названия городов! \n",
    "df_profile['city'] = df_1.city.apply(lambda w: np.nan if w is np.nan else  w['title'])\n",
    "\n",
    "# Тут же запишем указанный родной город \n",
    "df_profile['home_town'] = df_1['home_town']\n",
    "\n",
    "# 3. Создаэм дамми-переменную 'Мужчина'\n",
    "df_profile['male_dummy'] = df_1['sex'] - 1 \n",
    "\n",
    "# 4. Создаём колонку с семейным положением. \n",
    "df_profile['relation_cat'] = df_1['relation'].replace({\n",
    "    1 : 'не женат/не замужем',\n",
    "    2 : 'есть друг/есть подруга',\n",
    "    3 : 'помолвлен/помолвлена',\n",
    "    4 : 'женат/замужем',\n",
    "    5 : 'всё сложно',\n",
    "    6 : 'в активном поиске',\n",
    "    7 : 'влюблён/влюблена',\n",
    "    8 : 'в гражданском браке',\n",
    "    0 : 'не указано' })\n",
    "\n",
    "df_profile['relation_partner'] = df_1['relation_partner']\n",
    "\n",
    "# 5. Разобьём колонку Дата рождения на колонку год, месяц, день рождения. \n",
    "def get_generate(item, coord):\n",
    "    def get(item):\n",
    "        potential = item.split('.')\n",
    "        if len(potential[-1]) == 4:\n",
    "            return potential[coord]\n",
    "        else:\n",
    "            return None \n",
    "    return get\n",
    "\n",
    "get_year = get_generate(item, -1)\n",
    "get_month = get_generate(item, -2)\n",
    "get_day = get_generate(item, -3)\n",
    "\n",
    "df_profile['byear'] = df_1.bdate.apply(lambda w: np.nan if w is np.nan else  get_year(w))\n",
    "df_profile['bmonth'] = df_1.bdate.apply(lambda w: np.nan if w is np.nan else  get_year(w))\n",
    "df_profile['bday'] = df_1.bdate.apply(lambda w: np.nan if w is np.nan else  get_year(w))"
   ]
  },
  {
   "cell_type": "markdown",
   "metadata": {},
   "source": [
    "### Второй кусок информации"
   ]
  },
  {
   "cell_type": "code",
   "execution_count": 12,
   "metadata": {},
   "outputs": [
    {
     "data": {
      "text/plain": [
       "{'response': [{'id': 182152789,\n",
       "   'first_name': 'Александра',\n",
       "   'last_name': 'Абашкова',\n",
       "   'is_closed': False,\n",
       "   'can_access_closed': True,\n",
       "   'country': {'id': 1, 'title': 'Россия'},\n",
       "   'home_phone': '',\n",
       "   'instagram': '_sashka_ab',\n",
       "   'site': '',\n",
       "   'followers_count': 251,\n",
       "   'university': 128,\n",
       "   'university_name': 'НИУ ВШЭ (ГУ-ВШЭ)',\n",
       "   'faculty': 0,\n",
       "   'faculty_name': '',\n",
       "   'graduation': 0,\n",
       "   'interests': '',\n",
       "   'music': '',\n",
       "   'activities': '',\n",
       "   'movies': '',\n",
       "   'tv': '',\n",
       "   'books': '',\n",
       "   'games': '',\n",
       "   'about': '',\n",
       "   'quotes': ''}]}"
      ]
     },
     "execution_count": 12,
     "metadata": {},
     "output_type": "execute_result"
    }
   ],
   "source": [
    "infa[1][0]"
   ]
  },
  {
   "cell_type": "code",
   "execution_count": 13,
   "metadata": {},
   "outputs": [],
   "source": [
    "inf_2 = [item['response'][0] for item in infa[1]] # Очистим данные от респонсов.\n",
    "df_2 = pd.DataFrame(inf_2)                        # Создаём черновую табличку \n",
    "\n",
    "# 1. Разбираемся со странами также как с городами \n",
    "df_profile['country'] = df_2.country.apply(lambda w: np.nan if w is np.nan else  w['title'])\n",
    "\n",
    "# 2. Преобразуем все колонки с отсылками в другие сети в то, что в них что-то указано\n",
    "def social_replace(df, colname):\n",
    "    # Везде, где нет None или незаполненной ячейки, ставлю 1\n",
    "    df.loc[(df[colname].isnull() == False)&(df[colname] != ''), colname] = 1 \n",
    "    # Все None и пустоты меняем на нули \n",
    "    df.loc[(df[colname].isnull() == True)|(df[colname] == ''), colname] = 0\n",
    "    return df[colname]\n",
    "\n",
    "# костыли для полей, которых не оказалось\n",
    "#df_2['facebook'] = None \n",
    "\n",
    "# распаковка\n",
    "df_profile['facebook_dummy'] = social_replace(df_2,'facebook')\n",
    "df_profile['instagram_dummy'] =social_replace(df_2,'instagram')\n",
    "df_profile['skype_dummy'] = social_replace(df_2,'skype')\n",
    "df_profile['twitter_dummy'] = social_replace(df_2,'twitter')\n",
    "df_profile['home_phone_dummy'] = social_replace(df_2,'home_phone')\n",
    "df_profile['mobile_phone_dummy'] = social_replace(df_2,'mobile_phone')\n",
    "df_profile['site_dummy'] = social_replace(df_2,'site')\n",
    "\n",
    "# 3. Перекидывем хорошие колонки в нашу итоговую табличку  \n",
    "df_profile['folowers_cnt'] = df_2['followers_count']   \n",
    "df_profile['university_str'] = df_2['university_name']\n",
    "df_profile['faculty_str'] = df_2['faculty_name']\n",
    "\n",
    "# 4. Текстовые поля со страницы\n",
    "df_profile['about_str'] = df_2['about']\n",
    "df_profile['activities_str'] = df_2['activities']\n",
    "df_profile['books_str'] = df_2['books']\n",
    "df_profile['interests_str'] = df_2['interests']\n",
    "df_profile['movies_str'] = df_2['movies']\n",
    "df_profile['music_str'] = df_2['music']\n",
    "df_profile['quotes_str'] = df_2['quotes']\n",
    "df_profile['tv_str'] = df_2['tv']\n",
    "df_profile['games_str'] = df_2['games']"
   ]
  },
  {
   "cell_type": "markdown",
   "metadata": {},
   "source": [
    "### Третий кусок"
   ]
  },
  {
   "cell_type": "code",
   "execution_count": 14,
   "metadata": {},
   "outputs": [
    {
     "data": {
      "text/plain": [
       "{'response': [{'id': 182152789,\n",
       "   'first_name': 'Александра',\n",
       "   'last_name': 'Абашкова',\n",
       "   'is_closed': False,\n",
       "   'can_access_closed': True,\n",
       "   'has_photo': 1,\n",
       "   'has_mobile': 1,\n",
       "   'wall_comments': 1,\n",
       "   'can_post': 0,\n",
       "   'can_see_all_posts': 0,\n",
       "   'can_see_audio': 0,\n",
       "   'can_write_private_message': 1}]}"
      ]
     },
     "execution_count": 14,
     "metadata": {},
     "output_type": "execute_result"
    }
   ],
   "source": [
    "infa[2][0]"
   ]
  },
  {
   "cell_type": "code",
   "execution_count": 15,
   "metadata": {},
   "outputs": [],
   "source": [
    "# Очистим данные от респонсов.\n",
    "inf_3 = [item['response'][0] for item in infa[2]]\n",
    "df_3 = pd.DataFrame(inf_3)\n",
    "\n",
    "# Открыта ли для моих записей стена пользователя \n",
    "df_profile['can_post_dummy'] = df_3.can_post\n",
    "\n",
    "# Открыты ли для просмотра мной стена пользователя\n",
    "df_profile['can_see_all_posts_dummy'] = df_3.can_see_all_posts\n",
    "\n",
    "# Открыты ли для меня аудио пользователя\n",
    "df_profile['can_see_audio_dummy'] = df_3.can_see_audio\n",
    "\n",
    "# Могу ли я писать пользователю сообщения\n",
    "df_profile['can_write_private_message_dummy'] = df_3.can_write_private_message\n",
    "\n",
    "# Известен ли вк мобильник пользователя\n",
    "df_profile['has_mobile_dummy'] = df_3.has_mobile\n",
    "\n",
    "# Есть ли у пользоваетеля ава \n",
    "df_profile['has_ava_dummy'] = df_3.has_photo\n",
    "\n",
    "# Включены ли на стене комментарии \n",
    "df_profile['wall_comments_dummy'] = df_3.wall_comments"
   ]
  },
  {
   "cell_type": "markdown",
   "metadata": {},
   "source": [
    "### Четвёртый кусок "
   ]
  },
  {
   "cell_type": "code",
   "execution_count": 16,
   "metadata": {},
   "outputs": [
    {
     "data": {
      "text/plain": [
       "{'response': [{'id': 182152789,\n",
       "   'first_name': 'Александра',\n",
       "   'last_name': 'Абашкова',\n",
       "   'is_closed': False,\n",
       "   'can_access_closed': True,\n",
       "   'last_seen': {'time': 1577886295, 'platform': 2},\n",
       "   'counters': {'albums': 0,\n",
       "    'videos': 19,\n",
       "    'audios': 0,\n",
       "    'photos': 3,\n",
       "    'friends': 298,\n",
       "    'online_friends': 62,\n",
       "    'mutual_friends': 3,\n",
       "    'followers': 251,\n",
       "    'subscriptions': 2,\n",
       "    'pages': 165},\n",
       "   'personal': {'langs': ['Русский', 'English', 'Français'],\n",
       "    'religion_id': 0}}]}"
      ]
     },
     "execution_count": 16,
     "metadata": {},
     "output_type": "execute_result"
    }
   ],
   "source": [
    "infa[3][0]"
   ]
  },
  {
   "cell_type": "code",
   "execution_count": 17,
   "metadata": {},
   "outputs": [],
   "source": [
    "# Очистим данные от респонсов.\n",
    "inf_4 = [item['response'][0] for item in infa[3]]\n",
    "df_4 = pd.DataFrame(inf_4)\n",
    "\n",
    "# 1. Распаковываем счётчики в отдельный датафрейм \n",
    "df_counters = pd.DataFrame(list(df_4.counters.apply(lambda w: {'albums':  np.nan} \n",
    "                                                        if w is np.nan else w).values))\n",
    "\n",
    "df_profile['albums_cnt'] = df_counters.albums\n",
    "df_profile['audio_cnt'] = df_counters.audios\n",
    "df_profile['followers_cnt'] = df_counters.followers\n",
    "df_profile['friends_cnt'] = df_counters.friends\n",
    "df_profile['gifts_cnt'] = df_counters.gifts\n",
    "df_profile['groups_cnt'] = df_counters.groups\n",
    "df_profile['mutual_friends_cnt'] = df_counters.mutual_friends\n",
    "# df_profile['notes_cnt'] = df_counters.notes\n",
    "df_profile['photos_cnt'] = df_counters.photos\n",
    "df_profile['subscriptions_cnt'] = df_counters.subscriptions\n",
    "df_profile['user_photos_cnt'] = df_counters.user_photos\n",
    "df_profile['videos_cnt'] = df_counters.videos\n",
    "df_profile['pages_cnt'] = df_counters.pages\n",
    "\n",
    "# 2. Точно также распоковываем персональную информацию\n",
    "df_personal = pd.DataFrame(list(df_4.personal.apply(lambda w: {'political' :  np.nan} \n",
    "                                                        if w is np.nan else w).values))\n",
    "\n",
    "# Расшифровываем все категориальный фичи, связанные с политикой и алкоголем\n",
    "# Алкогольная и сигаретная фичи, это оценки по шкале от 1 до 5. Они разумно упорядочены, не будем их менять\n",
    "df_profile['alco_love_cat'] = df_personal.alcohol\n",
    "df_profile['smoke_love_cat'] = df_personal.smoking\n",
    "\n",
    "# Колонки религия и источники вдохновения заполняются людьми самостоятельно и сильно разряжены\n",
    "df_profile['religion_str'] = df_personal.religion\n",
    "df_profile['inspired_by_str'] = df_personal.inspired_by\n",
    "\n",
    "# Главное в жизни, политические взгляды и главное в людях раскодируем в текст\n",
    "df_profile['life_main_cat'] = df_personal.life_main.replace({\n",
    "    1 : 'семья и дети',\n",
    "    2 : 'карьера и деньги',\n",
    "    3 : 'развлечения и отдых',\n",
    "    4 : 'наука и исследования',\n",
    "    5 : 'совершенствование мира',\n",
    "    6 : 'саморазвитие',\n",
    "    7 : 'красота и искусство',\n",
    "    8 : 'слава и влияние'\n",
    "    })\n",
    "\n",
    "df_profile['people_main_cat'] = df_personal.people_main.replace({\n",
    "    1 : 'ум и креативность',\n",
    "    2 : 'доброта и честность',\n",
    "    3 : 'красота и здоровье',\n",
    "    4 : 'власть и богатство',\n",
    "    5 : 'смелость и упорство',\n",
    "    6 : 'юмор и жизнелюбие' \n",
    "    })\n",
    "\n",
    "df_profile['political_cat'] = df_personal.political.replace({\n",
    "    1 : 'коммунистические',\n",
    "    2 : 'социалистические',\n",
    "    3 : 'умеренные',\n",
    "    4 : 'либеральные',\n",
    "    5 : 'консервативные',\n",
    "    6 : 'монархические',\n",
    "    7 : 'ультраконсервативные',\n",
    "    8 : 'индифферентные',\n",
    "    9 : 'либертарианские'    \n",
    "    })\n",
    "\n",
    "# число языков, указанное в профиле \n",
    "df_profile['lang_cnt'] = df_personal.langs.apply(lambda w: np.nan if w is np.nan else len(w))\n",
    "df_profile['english_dummy'] = df_personal.langs.apply(lambda w: np.nan if w is np.nan else int('English' in w))"
   ]
  },
  {
   "cell_type": "markdown",
   "metadata": {},
   "source": [
    "### Пятый кусок "
   ]
  },
  {
   "cell_type": "code",
   "execution_count": 18,
   "metadata": {},
   "outputs": [
    {
     "data": {
      "text/plain": [
       "{'response': [{'id': 182152789,\n",
       "   'first_name': 'Александра',\n",
       "   'last_name': 'Абашкова',\n",
       "   'is_closed': False,\n",
       "   'can_access_closed': True,\n",
       "   'occupation': {'type': 'university', 'id': 128, 'name': 'НИУ ВШЭ (ГУ-ВШЭ)'},\n",
       "   'universities': [{'id': 128,\n",
       "     'country': 1,\n",
       "     'city': 1,\n",
       "     'name': 'НИУ ВШЭ (ГУ-ВШЭ)'}],\n",
       "   'schools': [{'id': '1724839',\n",
       "     'country': 1,\n",
       "     'city': 1,\n",
       "     'name': 'Лицей НИУ ВШЭ',\n",
       "     'class': '',\n",
       "     'type': 2,\n",
       "     'type_str': 'Лицей'}],\n",
       "   'relatives': [{'id': -703011362, 'type': 'sibling', 'name': 'Ваня Егор'}]}]}"
      ]
     },
     "execution_count": 18,
     "metadata": {},
     "output_type": "execute_result"
    }
   ],
   "source": [
    "infa[4][0]"
   ]
  },
  {
   "cell_type": "code",
   "execution_count": 19,
   "metadata": {},
   "outputs": [],
   "source": [
    "# Очистим данные от респонсов.\n",
    "inf_5 = [item['response'][0] for item in infa[4]]\n",
    "\n",
    "# Не хочу думать => говнокод\n",
    "# В этот вектор будем помещать наши словарики \n",
    "dct_inf_5 = [ ]\n",
    "\n",
    "for jtem in inf_5: \n",
    "    dct_5 = { }\n",
    "    dct_5.update({'id' : jtem['id']})  # Добавляем id\n",
    "    # Разбираемся со школами:\n",
    "    try:  # Пробуем найти в списке школу.  Если получилось, заполняем информацию\n",
    "        item = jtem['schools']\n",
    "        if len(item) == 0:\n",
    "            dct_5.update({'schools_count' : np.nan,\n",
    "                           'last_bukva_class' : np.nan,\n",
    "                           'change_city_school' : np.nan                          \n",
    "                          })\n",
    "        else:\n",
    "            cts = set([it['city'] for it in item])\n",
    "            dct_5.update({'schools_count' : len(item),\n",
    "                            'last_bukva_class' : item[-1]['class'],\n",
    "                            'change_city_school' : len(cts)  \n",
    "                            })\n",
    "    except: # Если не получилось, записываем пропуски. Не получится у людей, удаливших странички. \n",
    "        dct_5.update({'schools_count' : np.nan,\n",
    "                       'last_bukva_class' : np.nan,\n",
    "                        'change_city_school' : np.nan                          \n",
    "                        })\n",
    "    # Записываем новый элемент в вектор\n",
    "    dct_inf_5.append(dct_5)   \n",
    "    \n",
    "df_5 = pd.DataFrame(dct_inf_5)\n",
    "df_5.columns = ['profile_change_city_school_cnt', 'profile_last_bukva_class_str',\n",
    "                'profile_schools_cnt', 'uid']\n",
    "\n",
    "df_profile['change_city_school_cnt'] = df_5['profile_change_city_school_cnt']\n",
    "df_profile['last_bukva_class_str'] = df_5['profile_last_bukva_class_str']\n",
    "df_profile['schools_cnt'] = df_5['profile_schools_cnt']"
   ]
  },
  {
   "cell_type": "code",
   "execution_count": 20,
   "metadata": {},
   "outputs": [
    {
     "name": "stdout",
     "output_type": "stream",
     "text": [
      "(427, 64)\n"
     ]
    },
    {
     "data": {
      "text/html": [
       "<div>\n",
       "<style scoped>\n",
       "    .dataframe tbody tr th:only-of-type {\n",
       "        vertical-align: middle;\n",
       "    }\n",
       "\n",
       "    .dataframe tbody tr th {\n",
       "        vertical-align: top;\n",
       "    }\n",
       "\n",
       "    .dataframe thead th {\n",
       "        text-align: right;\n",
       "    }\n",
       "</style>\n",
       "<table border=\"1\" class=\"dataframe\">\n",
       "  <thead>\n",
       "    <tr style=\"text-align: right;\">\n",
       "      <th></th>\n",
       "      <th>uid</th>\n",
       "      <th>first_name</th>\n",
       "      <th>last_name</th>\n",
       "      <th>is_closed</th>\n",
       "      <th>deactivated_dummy</th>\n",
       "      <th>city</th>\n",
       "      <th>home_town</th>\n",
       "      <th>male_dummy</th>\n",
       "      <th>relation_cat</th>\n",
       "      <th>relation_partner</th>\n",
       "      <th>...</th>\n",
       "      <th>religion_str</th>\n",
       "      <th>inspired_by_str</th>\n",
       "      <th>life_main_cat</th>\n",
       "      <th>people_main_cat</th>\n",
       "      <th>political_cat</th>\n",
       "      <th>lang_cnt</th>\n",
       "      <th>english_dummy</th>\n",
       "      <th>change_city_school_cnt</th>\n",
       "      <th>last_bukva_class_str</th>\n",
       "      <th>schools_cnt</th>\n",
       "    </tr>\n",
       "  </thead>\n",
       "  <tbody>\n",
       "    <tr>\n",
       "      <th>0</th>\n",
       "      <td>182152789</td>\n",
       "      <td>Александра</td>\n",
       "      <td>Абашкова</td>\n",
       "      <td>False</td>\n",
       "      <td>0</td>\n",
       "      <td>Москва</td>\n",
       "      <td>Москва</td>\n",
       "      <td>0</td>\n",
       "      <td>не указано</td>\n",
       "      <td>NaN</td>\n",
       "      <td>...</td>\n",
       "      <td>NaN</td>\n",
       "      <td>NaN</td>\n",
       "      <td>NaN</td>\n",
       "      <td>NaN</td>\n",
       "      <td>NaN</td>\n",
       "      <td>3.0</td>\n",
       "      <td>1.0</td>\n",
       "      <td>1.0</td>\n",
       "      <td>182152789</td>\n",
       "      <td></td>\n",
       "    </tr>\n",
       "    <tr>\n",
       "      <th>1</th>\n",
       "      <td>148020433</td>\n",
       "      <td>Анастасия</td>\n",
       "      <td>Чуфистова</td>\n",
       "      <td>False</td>\n",
       "      <td>0</td>\n",
       "      <td>Рязань</td>\n",
       "      <td>Рязань</td>\n",
       "      <td>0</td>\n",
       "      <td>не указано</td>\n",
       "      <td>NaN</td>\n",
       "      <td>...</td>\n",
       "      <td>NaN</td>\n",
       "      <td>NaN</td>\n",
       "      <td>0</td>\n",
       "      <td>0</td>\n",
       "      <td>NaN</td>\n",
       "      <td>1.0</td>\n",
       "      <td>0.0</td>\n",
       "      <td>1.0</td>\n",
       "      <td>148020433</td>\n",
       "      <td>а</td>\n",
       "    </tr>\n",
       "    <tr>\n",
       "      <th>2</th>\n",
       "      <td>138413935</td>\n",
       "      <td>Александр</td>\n",
       "      <td>Головачев</td>\n",
       "      <td>False</td>\n",
       "      <td>0</td>\n",
       "      <td>Москва</td>\n",
       "      <td>Омск</td>\n",
       "      <td>1</td>\n",
       "      <td>не женат/не замужем</td>\n",
       "      <td>NaN</td>\n",
       "      <td>...</td>\n",
       "      <td>NaN</td>\n",
       "      <td>NaN</td>\n",
       "      <td>саморазвитие</td>\n",
       "      <td>ум и креативность</td>\n",
       "      <td>умеренные</td>\n",
       "      <td>2.0</td>\n",
       "      <td>1.0</td>\n",
       "      <td>NaN</td>\n",
       "      <td>138413935</td>\n",
       "      <td>NaN</td>\n",
       "    </tr>\n",
       "    <tr>\n",
       "      <th>3</th>\n",
       "      <td>366261055</td>\n",
       "      <td>Анна</td>\n",
       "      <td>Лобанова</td>\n",
       "      <td>False</td>\n",
       "      <td>0</td>\n",
       "      <td>NaN</td>\n",
       "      <td></td>\n",
       "      <td>0</td>\n",
       "      <td>не указано</td>\n",
       "      <td>NaN</td>\n",
       "      <td>...</td>\n",
       "      <td>NaN</td>\n",
       "      <td>NaN</td>\n",
       "      <td>0</td>\n",
       "      <td>0</td>\n",
       "      <td>NaN</td>\n",
       "      <td>NaN</td>\n",
       "      <td>NaN</td>\n",
       "      <td>NaN</td>\n",
       "      <td>366261055</td>\n",
       "      <td>NaN</td>\n",
       "    </tr>\n",
       "    <tr>\n",
       "      <th>4</th>\n",
       "      <td>111252392</td>\n",
       "      <td>Алексей</td>\n",
       "      <td>Пузырный</td>\n",
       "      <td>False</td>\n",
       "      <td>0</td>\n",
       "      <td>NaN</td>\n",
       "      <td>NaN</td>\n",
       "      <td>1</td>\n",
       "      <td>NaN</td>\n",
       "      <td>NaN</td>\n",
       "      <td>...</td>\n",
       "      <td>NaN</td>\n",
       "      <td>NaN</td>\n",
       "      <td>NaN</td>\n",
       "      <td>NaN</td>\n",
       "      <td>NaN</td>\n",
       "      <td>NaN</td>\n",
       "      <td>NaN</td>\n",
       "      <td>NaN</td>\n",
       "      <td>111252392</td>\n",
       "      <td>NaN</td>\n",
       "    </tr>\n",
       "  </tbody>\n",
       "</table>\n",
       "<p>5 rows × 64 columns</p>\n",
       "</div>"
      ],
      "text/plain": [
       "         uid  first_name  last_name is_closed deactivated_dummy    city  \\\n",
       "0  182152789  Александра   Абашкова     False                 0  Москва   \n",
       "1  148020433   Анастасия  Чуфистова     False                 0  Рязань   \n",
       "2  138413935   Александр  Головачев     False                 0  Москва   \n",
       "3  366261055        Анна   Лобанова     False                 0     NaN   \n",
       "4  111252392     Алексей   Пузырный     False                 0     NaN   \n",
       "\n",
       "  home_town  male_dummy         relation_cat relation_partner  ...  \\\n",
       "0    Москва           0           не указано              NaN  ...   \n",
       "1    Рязань           0           не указано              NaN  ...   \n",
       "2      Омск           1  не женат/не замужем              NaN  ...   \n",
       "3                     0           не указано              NaN  ...   \n",
       "4       NaN           1                  NaN              NaN  ...   \n",
       "\n",
       "  religion_str inspired_by_str life_main_cat    people_main_cat  \\\n",
       "0          NaN             NaN           NaN                NaN   \n",
       "1          NaN             NaN             0                  0   \n",
       "2          NaN             NaN  саморазвитие  ум и креативность   \n",
       "3          NaN             NaN             0                  0   \n",
       "4          NaN             NaN           NaN                NaN   \n",
       "\n",
       "   political_cat  lang_cnt  english_dummy  change_city_school_cnt  \\\n",
       "0            NaN       3.0            1.0                     1.0   \n",
       "1            NaN       1.0            0.0                     1.0   \n",
       "2      умеренные       2.0            1.0                     NaN   \n",
       "3            NaN       NaN            NaN                     NaN   \n",
       "4            NaN       NaN            NaN                     NaN   \n",
       "\n",
       "   last_bukva_class_str  schools_cnt  \n",
       "0             182152789               \n",
       "1             148020433            а  \n",
       "2             138413935          NaN  \n",
       "3             366261055          NaN  \n",
       "4             111252392          NaN  \n",
       "\n",
       "[5 rows x 64 columns]"
      ]
     },
     "execution_count": 20,
     "metadata": {},
     "output_type": "execute_result"
    }
   ],
   "source": [
    "print(df_profile.shape)\n",
    "df_profile.head( )"
   ]
  },
  {
   "cell_type": "markdown",
   "metadata": {},
   "source": [
    "Всех, кто деактивирован - нафиг! "
   ]
  },
  {
   "cell_type": "code",
   "execution_count": 21,
   "metadata": {},
   "outputs": [],
   "source": [
    "df_profile = df_profile[df_profile.deactivated_dummy == 0]\n",
    "df_profile.drop('deactivated_dummy', axis=1, inplace = True)"
   ]
  },
  {
   "cell_type": "code",
   "execution_count": 22,
   "metadata": {},
   "outputs": [
    {
     "data": {
      "text/plain": [
       "(426, 63)"
      ]
     },
     "execution_count": 22,
     "metadata": {},
     "output_type": "execute_result"
    }
   ],
   "source": [
    "df_profile.shape"
   ]
  },
  {
   "cell_type": "code",
   "execution_count": 23,
   "metadata": {},
   "outputs": [],
   "source": [
    "df_profile['is_bmm'] = df_profile.uid.apply(lambda w: w in ids_bmm)"
   ]
  },
  {
   "cell_type": "code",
   "execution_count": 24,
   "metadata": {},
   "outputs": [],
   "source": [
    "df_profile.to_csv('vk_data_profile.csv', sep='\\t')"
   ]
  },
  {
   "cell_type": "markdown",
   "metadata": {},
   "source": [
    "## 3. Взаимосвязи (кто у кого в друзьях) \n",
    "\n",
    "Некоторые профили приватные либо скрыли друзей, будем помечать таких меткой. "
   ]
  },
  {
   "cell_type": "code",
   "execution_count": 25,
   "metadata": {},
   "outputs": [
    {
     "name": "stderr",
     "output_type": "stream",
     "text": [
      "100%|██████████| 426/426 [03:57<00:00,  1.79it/s]\n"
     ]
    },
    {
     "data": {
      "text/plain": [
       "41"
      ]
     },
     "execution_count": 25,
     "metadata": {},
     "output_type": "execute_result"
    }
   ],
   "source": [
    "friends_dict = { }\n",
    "priv_cnt = 0\n",
    "\n",
    "all_uids = df_profile.uid.values\n",
    "\n",
    "for user in tqdm_notebook(all_uids):\n",
    "    time.sleep(0.4)\n",
    "    try:\n",
    "        s = vk_download('friends.get','user_id='+str(user))['response']\n",
    "        \n",
    "        # В итоговый словарик включаем id только людей из списка, всех левых в топку \n",
    "        friends_dict[user] = [item for item in s['items'] if item in all_uids]\n",
    "    except:\n",
    "        friends_dict[user] = ['private_profile']\n",
    "        priv_cnt += 1\n",
    "    \n",
    "priv_cnt"
   ]
  },
  {
   "cell_type": "code",
   "execution_count": 26,
   "metadata": {},
   "outputs": [],
   "source": [
    "with open('vk_data_friends', 'wb') as f:\n",
    "    pickle.dump(friends_dict, f)"
   ]
  },
  {
   "cell_type": "markdown",
   "metadata": {},
   "source": [
    "## 4. Интересные страницы \n",
    "\n",
    "Интересные страницы всех юзеров "
   ]
  },
  {
   "cell_type": "code",
   "execution_count": 27,
   "metadata": {},
   "outputs": [
    {
     "name": "stderr",
     "output_type": "stream",
     "text": [
      "100%|██████████| 426/426 [04:08<00:00,  1.71it/s]\n"
     ]
    },
    {
     "data": {
      "text/plain": [
       "41"
      ]
     },
     "execution_count": 27,
     "metadata": {},
     "output_type": "execute_result"
    }
   ],
   "source": [
    "publics_dict = { }\n",
    "priv_cnt = 0\n",
    "\n",
    "all_uids = df_profile.uid.values\n",
    "\n",
    "for user in tqdm_notebook(all_uids):\n",
    "    time.sleep(0.4)\n",
    "    try:\n",
    "        s = vk_download('users.getSubscriptions','user_id='+str(user))['response'] \n",
    "        publics_dict[user] = s['groups']['items']\n",
    "    except:\n",
    "        publics_dict[user] = ['private_profile']\n",
    "        priv_cnt += 1\n",
    "    \n",
    "priv_cnt"
   ]
  },
  {
   "cell_type": "code",
   "execution_count": 28,
   "metadata": {},
   "outputs": [],
   "source": [
    "with open('vk_data_publ', 'wb') as f:\n",
    "    pickle.dump(publics_dict, f)"
   ]
  },
  {
   "cell_type": "markdown",
   "metadata": {},
   "source": [
    "## 5. Стены\n",
    "\n",
    "Ещё немного говнокода для скачки всякого разного "
   ]
  },
  {
   "cell_type": "code",
   "execution_count": 29,
   "metadata": {},
   "outputs": [],
   "source": [
    "def Get_Wall(this_id):\n",
    "    \n",
    "    # Сколько у пользователя на стене записей...\n",
    "    n = vk_download('wall.get','owner_id=' + str(this_id))['response']['count']\n",
    "    time.sleep(0.4) \n",
    "    \n",
    "    chto_on_postit = [ ]\n",
    "    for i in range(0,100*(n//100+1),100):\n",
    "        time.sleep(0.4) \n",
    "        \n",
    "        wall = vk_download('wall.get', 'owner_id=' + str(this_id) +'&count=100&offset='+str(i))['response']['items']\n",
    "        \n",
    "        chto_on_postit.extend(wall)\n",
    "\n",
    "    # варим по стене фичи \n",
    "    wi = { } # aka wall information \n",
    "    \n",
    "    # Проходимся по информации из всех записей и собираем самое важное в фичи \n",
    "    for item in chto_on_postit:\n",
    "        new_pos = [ ]\n",
    "        # Поработаем с датой чуть более подробно. Преобразуем дату в удобочитаемый формат.\n",
    "        real_data = datetime.datetime.fromtimestamp(item['date'])  \n",
    "        new_pos.append(real_data)    # когда сделана запись\n",
    "        new_pos.append(real_data.year)  # выделим год, когда сделана запись \n",
    "        new_pos.append(real_data.month) # выделим месяц\n",
    "        new_pos.append(real_data.day)   # день, когда сделан пост\n",
    "        new_pos.append(real_data.hour)  # час, когда сделан пост \n",
    "        \n",
    "        # Нормальная дата для фичи \"Когда сделан репостнутый пост\"\n",
    "        try:\n",
    "            new_pos.append(datetime.datetime.fromtimestamp(item['copy_post_date']))\n",
    "        except:\n",
    "            new_pos.append(None)        \n",
    "        \n",
    "        new_pos.append(item['post_type'])             # тип записи post, copy, reply, postpone, suggest.\n",
    "        new_pos.append(item['from_id'])               # кто оставил запись \n",
    "        new_pos.append(item['text'])                  # контент записи \n",
    "        new_pos.append(item['likes']['count'])        # число лайков \n",
    "        new_pos.append(item['reposts']['count'])      # число репостов \n",
    "        new_pos.append(item['comments']['count'])     # число комментов \n",
    "        new_pos.append(item['comments']['can_post'])  # можно ли оставлять комменты \n",
    "       \n",
    "        # просмотры (если запись не старая), пропуск, если запись старая \n",
    "        try:\n",
    "            new_pos.append(item['views']['count'])\n",
    "        except:\n",
    "            new_pos.append(None)\n",
    "            \n",
    "        # Истиный владелец записи (если это репост или запись оставлена)\n",
    "        try:\n",
    "            new_pos.append(item['copy_owner_id'])\n",
    "        except:\n",
    "            new_pos.append(None)   \n",
    "            \n",
    "        # Подробнее: https://vk.com/dev/objects/post_source\n",
    "        # Через что создана запись \n",
    "        try:\n",
    "            new_pos.append(item['post_source']['type'])\n",
    "        except:\n",
    "            new_pos.append(None)        \n",
    "        \n",
    "        # С какой платформы создана запись, если это телефон \n",
    "        try:\n",
    "            new_pos.append(item['post_source']['platform'])\n",
    "        except:\n",
    "            new_pos.append(None)        \n",
    "        \n",
    "        # Дополнительный контент у поста\n",
    "        try:\n",
    "            new_pos.append([jtem['type'] for jtem in item['attachments']])\n",
    "        except:\n",
    "            new_pos.append(None)        \n",
    "        # Сохраняям в словарик, ключ - id записи \n",
    "        wi[item['id']] = new_pos\n",
    "        \n",
    "    # превращаем всё, что насобирали в таблицу\n",
    "    df = pd.DataFrame(wi).T\n",
    "    df.columns = ['date', 'year', 'month', 'day','hour', 'copy_post_date', 'post_type', 'from_id', 'text', \n",
    "          'likes', 'reposts', 'comments', 'can_comment', 'views', 'copy_owner_id', 'type', \n",
    "          'platform', 'attachments']\n",
    "    # добавляем столбец с id юзера\n",
    "    df['uid'] = df.shape[0]*[this_id]\n",
    "    return df\n",
    "\n",
    "\n",
    "# Варим фичи :) \n",
    "def feature_extract(df, cur_id):\n",
    "    fd = { }\n",
    "    fd['wall_post_cnt'] = df.shape[0]  # Всего записей на стене \n",
    "    \n",
    "    # Фичи по колокам из типов постов и откуда сделаны посты \n",
    "    fd['wall_post_original_cnt'] = sum((df.post_type == 'post')&(df.from_id == cur_id)) # свои посты \n",
    "    fd['wall_post_other_cnt'] = sum((df.post_type == 'post')&(df.from_id != cur_id))    # чужие посты\n",
    "    fd['wall_repost_group_cnt'] = sum((df.post_type == 'copy')&(df.copy_owner_id < 0))  # число репостов групп\n",
    "    fd['wall_repost_user_cnt'] = sum((df.post_type == 'copy')&(df.copy_owner_id > 0))   # число репостов юзеров\n",
    "    fd['wall_post_reply_cnt'] = sum(df.post_type == 'reply')        # ответы на своей стене на чужие записи\n",
    "\n",
    "    # id тех, кого репостим (надо для детекции мусорных групп)\n",
    "    # fd['wall_repost_people_id'] = list(set(df.copy_owner_id[df.copy_owner_id > 0])) # люди\n",
    "    # fd['wall_repost_groups_id'] = list(set(df.copy_owner_id[df.copy_owner_id < 0])) # групры\n",
    "\n",
    "    # Лайки, просмотры и тп\n",
    "    fd['wall_like_cnt'] = df.likes.sum()                  # всего на стене лайков\n",
    "    fd['wall_like_max'] = df.likes.max()                  # максимальное число лайков\n",
    "    fd['wall_like_mean'] = df.likes.mean()                # среднее число лайков\n",
    "    fd['wall_like_median'] = df.likes.median()            # медианное число лайков \n",
    "\n",
    "    fd['wall_repost_cnt'] = df.reposts.sum()              # всего репостов за стену \n",
    "    fd['wall_repost_max'] = df.reposts.max()              # максимальное число репостов\n",
    "    fd['wall_repost_mean'] = df.reposts.mean()            # среднее число репостов\n",
    "    fd['wall_repost_median'] = df.reposts.median()        # медианное число репостов\n",
    "\n",
    "    fd['wall_can_comment'] = df.can_comment.get_values()[0] # можно ли коментить стенку \n",
    "    fd['wall_comment_cnt'] = df.comments.sum()            # всего комментов за стену \n",
    "    fd['wall_comment_max'] = df.comments.max()            # максимальное число коментов\n",
    "    fd['wall_comment_mean'] = df.comments.mean()          # среднее число коментов\n",
    "    fd['wall_comment_median'] = df.comments.median()      # медианное число коментов\n",
    "\n",
    "    # Тип источника \n",
    "    fd['wall_post_instagram_cnt'] = sum((df.type == 'api')&(df.platform == 'instagram')) # посты из инстаграма\n",
    "    fd['wall_post_android_cnt'] = sum((df.type == 'api')&(df.platform == 'android'))     # посты из андроида\n",
    "    fd['wall_post_iphone_cnt'] = sum((df.type == 'api')&(df.platform == 'iphone'))       # посты с айфона\n",
    "    fd['wall_post_ipad_cnt'] = sum((df.type == 'api')&(df.platform == 'ipad'))           # посты с апада\n",
    "    fd['wall_post_wphone_cnt'] = sum((df.type == 'api')&(df.platform == 'wphone'))  # преступление против человечества\n",
    "\n",
    "    # fd['wall_post_web_cnt'] = sum(df.type == 'vk')          # запись через браузер \n",
    "    # fd['wall_post_mweb_cnt'] = sum(df.type == 'mvk')        # запись через мобильный браузер \n",
    "    # fd['wall_post_widget'] = sum(df.type == 'widget')  # запись создана через виджет на стороннем сайте обычно \n",
    "                                                       # это комменты с других сайтов где ты авторизован через вк\n",
    "    # Немного информации по текстам записей \n",
    "    texts_len = [len(item) for item in df.text]\n",
    "    fd['wall_text_len_cnt'] = np.sum(texts_len)            # суммарно символов на стене\n",
    "    fd['wall_text_len_max'] = np.max(texts_len)            # максимально символов в посте\n",
    "    fd['wall_text_len_mean'] = np.mean(texts_len)          # среднее число символов в посте\n",
    "    fd['wall_text_len_median'] = np.median(texts_len)      # медианное число символов в посте \n",
    "\n",
    "    # Эмодзи-анализ записей \n",
    "    # Выбрасываем из записи все символы, кроме эмодзи и редких символов вроде иероглифов\n",
    "    emoji = [re.sub('[a-яa-zA-ZА-Я -.,0-9<>:=;/_—@$^?–ё`%#*&!№…\\|/\\\"\\]\\[\\\"\\'\\n\\t”“’‘]','',item) for item in df.text]\n",
    "    count_emoji = [len(item) for item in emoji]      # вычисляем эмодзи-след\n",
    "    fd['wall_emoji_cnt'] = np.sum(count_emoji)       # суммарно эмодзи на стене \n",
    "    fd['wall_emoji_max'] = np.max(count_emoji)       # максимально эмодзи в посте\n",
    "    fd['wall_emoji_mean'] = np.mean(count_emoji)     # среднее число эмодзи на стене \n",
    "    fd['wall_emoji_median'] = np.median(count_emoji) # медианное число эмодзи на стене \n",
    "    fd['wall_emoji_trace'] = ''.join(emoji)          # эмодзи-след человека\n",
    "    fd['wall_text'] = ' '.join(df.text)              # весь текст целиком (надо для кластеров)\n",
    "\n",
    "    # Дополнительный контент под постом \n",
    "    # Подробнее про контент https://vk.com/dev/objects/attachments_w\n",
    "    # content = ['photo', 'posted_photo', 'video', 'audio', 'doc', 'graffiti', 'link', 'note',\n",
    "    #           'app', 'poll', 'page', 'album', 'photos_list', 'market', 'market_album', 'sticker']\n",
    "\n",
    "    # Посчитаем по каждому типу вложений такие же метрики как выше и добавим в итоговый словарик\n",
    "#     def content_count(content_name):\n",
    "#         counter = [ ]\n",
    "#         for item in df.attachments:\n",
    "#             counter.append(np.sum(np.array(item) == content_name))\n",
    "#         return np.sum(counter), np.max(counter), np.mean(counter), np.median(counter)\n",
    "\n",
    "#     for cont in content:\n",
    "#         fd['wall_' + cont + '_cnt'], fd['wall_' + cont + '_max'], fd['wall_' + cont + '_mean'],\\\n",
    "#                fd['wall_' + cont + '_median'] = content_count(cont)\n",
    "\n",
    "    # Можно сделать ещё фич на основе времени, но лениво \n",
    "    fd['wall_year_mean'] = np.mean([sum(df.year == item) for item in set(df.year)])     # В среднем за год постов \n",
    "    fd['wall_month_mean'] = np.mean([sum(df.month == item) for item in set(df.month)]) # В среднем за месяц постов \n",
    "\n",
    "    # Сколько времени проходит между тем как автор сделал пост и человек это репостнул \n",
    "    df_copy = df[df.post_type == 'copy']\n",
    "    slow = [ss.seconds/3600 for ss in  df_copy.date - df_copy.copy_post_date if ss.days < 500]\n",
    "    # Условие < 500 нужно, чтобы отсеять выбросы. Иногда дата стоит некоректно \n",
    "    if len(slow) > 0:\n",
    "        fd['wall_slowpok_hour_median'] = np.median(slow)\n",
    "        fd['wall_slowpok_hour_max'] = np.max(slow)\n",
    "    else:\n",
    "        fd['wall_slowpok_hour_median'] = 0 \n",
    "        fd['wall_slowpok_hour_max'] = 0\n",
    "        \n",
    "    fd['uid'] = df.uid.get_values()[0]\n",
    "    return fd     "
   ]
  },
  {
   "cell_type": "code",
   "execution_count": 30,
   "metadata": {},
   "outputs": [
    {
     "name": "stderr",
     "output_type": "stream",
     "text": [
      "100%|██████████| 426/426 [31:20<00:00,  4.41s/it]  "
     ]
    },
    {
     "name": "stdout",
     "output_type": "stream",
     "text": [
      "79\n"
     ]
    },
    {
     "name": "stderr",
     "output_type": "stream",
     "text": [
      "\n"
     ]
    }
   ],
   "source": [
    "wall_infa = { }      # Табличка с информацией по стенкам \n",
    "k = 0                # Счётчик для выяснения сколько страниц удалены \n",
    "l = 1                # Индекс для таблички \n",
    "\n",
    "for uid in tqdm_notebook(all_uids):\n",
    "    l += 1\n",
    "    time.sleep(0.4) # И пусть весь мир подождёт! \n",
    "    try:\n",
    "        df = Get_Wall(uid)\n",
    "        wall_infa[l] =  feature_extract(df, uid)\n",
    "    except:\n",
    "        wall_infa[l] = {'uid': uid} # пустоты \n",
    "        k += 1\n",
    "        \n",
    "print(k)"
   ]
  },
  {
   "cell_type": "code",
   "execution_count": 31,
   "metadata": {},
   "outputs": [
    {
     "name": "stdout",
     "output_type": "stream",
     "text": [
      "(426, 39)\n"
     ]
    },
    {
     "data": {
      "text/html": [
       "<div>\n",
       "<style scoped>\n",
       "    .dataframe tbody tr th:only-of-type {\n",
       "        vertical-align: middle;\n",
       "    }\n",
       "\n",
       "    .dataframe tbody tr th {\n",
       "        vertical-align: top;\n",
       "    }\n",
       "\n",
       "    .dataframe thead th {\n",
       "        text-align: right;\n",
       "    }\n",
       "</style>\n",
       "<table border=\"1\" class=\"dataframe\">\n",
       "  <thead>\n",
       "    <tr style=\"text-align: right;\">\n",
       "      <th></th>\n",
       "      <th>uid</th>\n",
       "      <th>wall_can_comment</th>\n",
       "      <th>wall_comment_cnt</th>\n",
       "      <th>wall_comment_max</th>\n",
       "      <th>wall_comment_mean</th>\n",
       "      <th>wall_comment_median</th>\n",
       "      <th>wall_emoji_cnt</th>\n",
       "      <th>wall_emoji_max</th>\n",
       "      <th>wall_emoji_mean</th>\n",
       "      <th>wall_emoji_median</th>\n",
       "      <th>...</th>\n",
       "      <th>wall_repost_median</th>\n",
       "      <th>wall_repost_user_cnt</th>\n",
       "      <th>wall_slowpok_hour_max</th>\n",
       "      <th>wall_slowpok_hour_median</th>\n",
       "      <th>wall_text</th>\n",
       "      <th>wall_text_len_cnt</th>\n",
       "      <th>wall_text_len_max</th>\n",
       "      <th>wall_text_len_mean</th>\n",
       "      <th>wall_text_len_median</th>\n",
       "      <th>wall_year_mean</th>\n",
       "    </tr>\n",
       "  </thead>\n",
       "  <tbody>\n",
       "    <tr>\n",
       "      <th>2</th>\n",
       "      <td>182152789</td>\n",
       "      <td>0</td>\n",
       "      <td>17</td>\n",
       "      <td>4</td>\n",
       "      <td>0.53125</td>\n",
       "      <td>0</td>\n",
       "      <td>0</td>\n",
       "      <td>0</td>\n",
       "      <td>0</td>\n",
       "      <td>0</td>\n",
       "      <td>...</td>\n",
       "      <td>0</td>\n",
       "      <td>0</td>\n",
       "      <td>0</td>\n",
       "      <td>0</td>\n",
       "      <td>Давай поговорим о личном   Буду вашим кото...</td>\n",
       "      <td>188</td>\n",
       "      <td>69</td>\n",
       "      <td>5.875</td>\n",
       "      <td>0</td>\n",
       "      <td>6.4</td>\n",
       "    </tr>\n",
       "    <tr>\n",
       "      <th>3</th>\n",
       "      <td>148020433</td>\n",
       "      <td>0</td>\n",
       "      <td>397</td>\n",
       "      <td>18</td>\n",
       "      <td>0.307038</td>\n",
       "      <td>0</td>\n",
       "      <td>1975</td>\n",
       "      <td>437</td>\n",
       "      <td>1.52746</td>\n",
       "      <td>0</td>\n",
       "      <td>...</td>\n",
       "      <td>0</td>\n",
       "      <td>0</td>\n",
       "      <td>0</td>\n",
       "      <td>0</td>\n",
       "      <td>Лучший фотограф😻😻        ой,  может даже у...</td>\n",
       "      <td>103157</td>\n",
       "      <td>1529</td>\n",
       "      <td>79.7811</td>\n",
       "      <td>39</td>\n",
       "      <td>143.667</td>\n",
       "    </tr>\n",
       "    <tr>\n",
       "      <th>4</th>\n",
       "      <td>138413935</td>\n",
       "      <td>0</td>\n",
       "      <td>0</td>\n",
       "      <td>0</td>\n",
       "      <td>0</td>\n",
       "      <td>0</td>\n",
       "      <td>3</td>\n",
       "      <td>2</td>\n",
       "      <td>1.5</td>\n",
       "      <td>1.5</td>\n",
       "      <td>...</td>\n",
       "      <td>1.5</td>\n",
       "      <td>0</td>\n",
       "      <td>0</td>\n",
       "      <td>0</td>\n",
       "      <td>🚀 [id18115779|Баха], спасибо за атмосферу 🌌 \\n...</td>\n",
       "      <td>83</td>\n",
       "      <td>82</td>\n",
       "      <td>41.5</td>\n",
       "      <td>41.5</td>\n",
       "      <td>1</td>\n",
       "    </tr>\n",
       "    <tr>\n",
       "      <th>5</th>\n",
       "      <td>366261055</td>\n",
       "      <td>0</td>\n",
       "      <td>0</td>\n",
       "      <td>0</td>\n",
       "      <td>0</td>\n",
       "      <td>0</td>\n",
       "      <td>63</td>\n",
       "      <td>38</td>\n",
       "      <td>3.5</td>\n",
       "      <td>0</td>\n",
       "      <td>...</td>\n",
       "      <td>0</td>\n",
       "      <td>0</td>\n",
       "      <td>0</td>\n",
       "      <td>0</td>\n",
       "      <td>Не проходите мимо! Приходите к нам! Ждём всех!...</td>\n",
       "      <td>5593</td>\n",
       "      <td>4928</td>\n",
       "      <td>310.722</td>\n",
       "      <td>0</td>\n",
       "      <td>4.5</td>\n",
       "    </tr>\n",
       "    <tr>\n",
       "      <th>6</th>\n",
       "      <td>111252392</td>\n",
       "      <td>0</td>\n",
       "      <td>43</td>\n",
       "      <td>11</td>\n",
       "      <td>1.19444</td>\n",
       "      <td>0</td>\n",
       "      <td>11</td>\n",
       "      <td>4</td>\n",
       "      <td>0.305556</td>\n",
       "      <td>0</td>\n",
       "      <td>...</td>\n",
       "      <td>0</td>\n",
       "      <td>0</td>\n",
       "      <td>0</td>\n",
       "      <td>0</td>\n",
       "      <td>Нам пора признать, что зимний сезон следует сд...</td>\n",
       "      <td>2681</td>\n",
       "      <td>711</td>\n",
       "      <td>74.4722</td>\n",
       "      <td>23</td>\n",
       "      <td>7.2</td>\n",
       "    </tr>\n",
       "  </tbody>\n",
       "</table>\n",
       "<p>5 rows × 39 columns</p>\n",
       "</div>"
      ],
      "text/plain": [
       "         uid wall_can_comment wall_comment_cnt wall_comment_max  \\\n",
       "2  182152789                0               17                4   \n",
       "3  148020433                0              397               18   \n",
       "4  138413935                0                0                0   \n",
       "5  366261055                0                0                0   \n",
       "6  111252392                0               43               11   \n",
       "\n",
       "  wall_comment_mean wall_comment_median wall_emoji_cnt wall_emoji_max  \\\n",
       "2           0.53125                   0              0              0   \n",
       "3          0.307038                   0           1975            437   \n",
       "4                 0                   0              3              2   \n",
       "5                 0                   0             63             38   \n",
       "6           1.19444                   0             11              4   \n",
       "\n",
       "  wall_emoji_mean wall_emoji_median  ... wall_repost_median  \\\n",
       "2               0                 0  ...                  0   \n",
       "3         1.52746                 0  ...                  0   \n",
       "4             1.5               1.5  ...                1.5   \n",
       "5             3.5                 0  ...                  0   \n",
       "6        0.305556                 0  ...                  0   \n",
       "\n",
       "  wall_repost_user_cnt wall_slowpok_hour_max wall_slowpok_hour_median  \\\n",
       "2                    0                     0                        0   \n",
       "3                    0                     0                        0   \n",
       "4                    0                     0                        0   \n",
       "5                    0                     0                        0   \n",
       "6                    0                     0                        0   \n",
       "\n",
       "                                           wall_text wall_text_len_cnt  \\\n",
       "2      Давай поговорим о личном   Буду вашим кото...               188   \n",
       "3      Лучший фотограф😻😻        ой,  может даже у...            103157   \n",
       "4  🚀 [id18115779|Баха], спасибо за атмосферу 🌌 \\n...                83   \n",
       "5  Не проходите мимо! Приходите к нам! Ждём всех!...              5593   \n",
       "6  Нам пора признать, что зимний сезон следует сд...              2681   \n",
       "\n",
       "  wall_text_len_max wall_text_len_mean wall_text_len_median wall_year_mean  \n",
       "2                69              5.875                    0            6.4  \n",
       "3              1529            79.7811                   39        143.667  \n",
       "4                82               41.5                 41.5              1  \n",
       "5              4928            310.722                    0            4.5  \n",
       "6               711            74.4722                   23            7.2  \n",
       "\n",
       "[5 rows x 39 columns]"
      ]
     },
     "execution_count": 31,
     "metadata": {},
     "output_type": "execute_result"
    }
   ],
   "source": [
    "df_wall = pd.DataFrame(wall_infa).T\n",
    "print(df_wall.shape)\n",
    "df_wall.head()"
   ]
  },
  {
   "cell_type": "code",
   "execution_count": 32,
   "metadata": {},
   "outputs": [],
   "source": [
    "df_wall.to_csv('vk_data_wall.csv',sep='\\t')"
   ]
  },
  {
   "cell_type": "markdown",
   "metadata": {},
   "source": [
    "## 6. Фотки "
   ]
  },
  {
   "cell_type": "code",
   "execution_count": 33,
   "metadata": {},
   "outputs": [],
   "source": [
    "# Функция для конкретного id собирает фоточки пользователя и выдает их в грязном виде\n",
    "# и в виде таблицы с основной информацией о постах. Также на выход выдаётся словарь из ссылок на фотки,\n",
    "# в котором ключами являются id фоток \n",
    "\n",
    "# Функция будет пытаться добавить в вектор из контактовского ответа \n",
    "# новый элемент, если его там нет, то добавит None \n",
    "def tr_ex(add, out, name):\n",
    "    try:\n",
    "        add.append(out[name])\n",
    "    except:\n",
    "        add.append(None)\n",
    "\n",
    "# То же самое, но для двууровнегого словоря \n",
    "# (знаю, звучит сложно, но это не так)\n",
    "def tr_ex2(add, out, name1, name2):\n",
    "    try:\n",
    "        add.append(out[name1][name2])\n",
    "    except:\n",
    "        add.append(None)\n",
    "        \n",
    "\n",
    "def Get_Photo(this_id):\n",
    "    # Делай раз! Выясним сколько у пользователя фоток...\n",
    "    n = vk_download('photos.getAll','owner_id='+ str(this_id))['response']['count']\n",
    "    time.sleep(0.4) # Сразу же после этого немного подождём\n",
    "    \n",
    "    # Качаем все фотки из альбомов!\n",
    "    chto_on_fotkaet = [ ]\n",
    "    for i in range(0,100*(n//100+1),100):\n",
    "        #Качаем внеочередные 100 фоточек\n",
    "        time.sleep(0.4) # Не забываем немного подождать перед каждой итераций\n",
    "        photos = vk_download('photos.getAll','owner_id='+ str(this_id) +'&no_service_albums=0&extended=1'+\\\n",
    "                               '&count=100&offset='+str(i))['response']['items']\n",
    "        # Первый ээлемент всегда число фоток, игнорируем его\n",
    "        chto_on_fotkaet.extend(photos)\n",
    "        \n",
    "    # В файлике chto_on_fotkaet будут лежать грязные фотки.\n",
    "    # Сразу же сварим важные фичи и запихнём их в табличку  \n",
    "    # Подробнее: https://vk.com/dev/objects/photo\n",
    "    phi = { } # aka photo information \n",
    "    \n",
    "    # Проходимся по информации из всех фоток и забираем информацию\n",
    "    for item in chto_on_fotkaet:\n",
    "        new_ph = [ ]   # Вектор для наблюдений \n",
    "        \n",
    "        # Делай раз! Дата. Преобразуем её в читаемый вид \n",
    "        real_data = datetime.datetime.fromtimestamp(item['date'])  \n",
    "        new_ph.append(real_data)       # когда залита фотка\n",
    "        new_ph.append(real_data.year)  # выделим год, когда залита фотка\n",
    "        new_ph.append(real_data.month) # выделим месяц\n",
    "        new_ph.append(real_data.day)   # день\n",
    "        new_ph.append(real_data.hour)  # час\n",
    "        \n",
    "        tr_ex(new_ph, item, 'width')   # ширина фотки\n",
    "        tr_ex(new_ph, item, 'height')  # высота фотки\n",
    "\n",
    "        new_ph.append(item['owner_id']) # id владельца\n",
    "        new_ph.append(item['id'])      # id фоточки \n",
    "        tr_ex(new_ph, item, 'aid')      # id альбома (для поиска авок)\n",
    "        \n",
    "        new_ph.append(item['text'])     # Текст под фоткой\n",
    "        \n",
    "        # Пытаемся добавить ссылки на фотки всех возможных размеров. \n",
    "        tr_ex(new_ph, item, 'src_small')\n",
    "        tr_ex(new_ph, item, 'src')\n",
    "        tr_ex(new_ph, item, 'src_big')\n",
    "        tr_ex(new_ph, item, 'src_xbig')\n",
    "        tr_ex(new_ph, item, 'src_xxbig')\n",
    "        tr_ex(new_ph, item, 'src_xxxbig')\n",
    "        \n",
    "        # Собираем количество лайков под фоткой \n",
    "        tr_ex2(new_ph, item, 'likes', 'count')\n",
    "        # Собираем количество репостов под фоткой \n",
    "        tr_ex2(new_ph, item, 'reposts', 'count')\n",
    "        # Собираем количество комментов под фоткой \n",
    "        tr_ex2(new_ph, item, 'comments', 'count')        \n",
    "        # Собираем количество тэгов под фоткой \n",
    "        tr_ex2(new_ph, item, 'tags', 'count')\n",
    "        \n",
    "        # Закидываем это чудо в словарик \n",
    "        phi[item['id']] = new_ph\n",
    "    \n",
    "    # Превращаем всё, что насобирали в табличку \n",
    "    df = pd.DataFrame(phi).T\n",
    "    df.columns = ['date', 'year', 'month', 'day', 'hour', 'width', 'height', 'uid',\n",
    "                 'id', 'aid', 'text', 'src_small', 'src', 'src_big', 'src_xbig', 'src_xxbig',\n",
    "                 'src_xxxbig','like','repost','comment','tags']\n",
    "    return df\n",
    "\n",
    "\n",
    "# Функция для поиска ссылок в тексте\n",
    "url_start_1 = 'http[s]?://'\n",
    "url_start_2 = 'vk'\n",
    "url_end = '(?:[a-zA-Z]|[0-9]|[$-_@.&+]|[!*\\(\\),]|(?:%[0-9a-fA-F][0-9a-fA-F]))+'\n",
    "pattern = url_start_1 + url_end + '|' + url_start_2 + url_end\n",
    "\n",
    "\n",
    "def get_clean_url(url):\n",
    "    return re.findall(pattern, url)\n",
    "\n",
    "\n",
    "# Создаем фичи из скаченой таблички с фоточками\n",
    "def feature_extract_ph(df):\n",
    "    # Варим фичи по табличке с фоточками\n",
    "    fd = { }\n",
    "    fd['photo_cnt'] = df.shape[0] # Всего фото в несистемных альбомах (вроде уже есть така фича)\n",
    "    \n",
    "    # Как часто человек меняет аватар \n",
    "    fd['vk_photo_ava_change_cnt'] = df[df.aid == -6].shape[0]\n",
    "    # Как часто постит фотки на стенку \n",
    "    fd['vk_photo_wall_ph_post_cnt'] = df[df.aid == -7].shape[0]\n",
    "    \n",
    "    # Можно сделать ещё фич на основе времени, но лениво \n",
    "    fd['photo_yer_mean'] = np.mean([sum(df.year == item) for item in set(df.year)])     # В среднем за год постов \n",
    "    fd['photo_month_mean'] = np.mean([sum(df.month == item) for item in set(df.month)]) # В среднем за месяц постов \n",
    "    \n",
    "    # Высота и ширина фоток (скорее всего это бесполезные фичи)\n",
    "    #fd['photo_width_mean'] = df.height.dropna().mean()\n",
    "    #fd['photo_height_mean'] = df.width.dropna().mean()\n",
    "    \n",
    "    # Лайки, комменты и тп\n",
    "    fd['photo_like_cnt'] = df.like.dropna().sum()              # всего лайков под фотами\n",
    "    fd['photo_like_max'] = df.like.dropna().max()              # максимальное число лайков\n",
    "    fd['photo_like_mean'] = df.like.dropna().mean()            # среднее число лайков\n",
    "    fd['photo_like_median'] = df.like.dropna().median()        # медианное число лайков \n",
    "    \n",
    "    fd['photo_repost_cnt'] = df.repost.dropna().sum()          # всего лайков под фотами\n",
    "    fd['photo_repost_max'] = df.repost.dropna().max()          # максимальное число лайков\n",
    "    fd['photo_repost_mean'] = df.repost.dropna().mean()        # среднее число лайков\n",
    "    fd['photo_repost_median'] = df.repost.dropna().median()    # медианное число лайков \n",
    "    \n",
    "    # Комменты и тэги есть в API, но их нет в реквестах \n",
    "    # fd['photo_comment_cnt'] = df.comment.dropna().sum()         # всего лайков под фотами\n",
    "    # fd['photo_comment_max'] = df.comment.dropna().max()         # максимальное число лайков\n",
    "    # fd['photo_comment_mean'] = df.comment.dropna().mean()       # среднее число лайков\n",
    "    # fd['photo_comment_median'] = df.comment.dropna().median()   # медианное число лайков \n",
    "    \n",
    "    # fd['photo_tags_cnt'] = df.tags.dropna().sum()               # всего лайков под фотами\n",
    "    # fd['photo_tags_max'] = df.tags.dropna().max()               # максимальное число лайков\n",
    "    # fd['photo_tags_mean'] = df.tags.dropna().mean()             # среднее число лайков\n",
    "    # fd['photo_tags_median'] = df.tags.dropna().median()         # медианное число лайков \n",
    "\n",
    "    # Немного информации по подписям к фоточкам\n",
    "    texts_len = [len(item) for item in df.text]\n",
    "    fd['photo_text_len_cnt'] = np.sum(texts_len)                # суммарно символов в подписях \n",
    "    fd['photo_text_len_cnt'] = np.max(texts_len)                # максимально символов в подписях \n",
    "    fd['photo_text_len_cnt'] = np.mean(texts_len)               # среднее число символов в подписях \n",
    "    fd['photo_text_len_cnt'] = np.median(texts_len)             # медианное число символов в подписях \n",
    "    \n",
    "    a = ' '.join(df.text)                        \n",
    "    fd['vk_photo_text_url_len_cnt'] = len(get_clean_url(a))        # число ссылок в тексте \n",
    "    fd['photo_text'] = a                                           # весь текст целиком\n",
    "    \n",
    "    # id владельца аккаунта \n",
    "    fd['uid'] = df.uid.get_values()[0]\n",
    "    return fd   "
   ]
  },
  {
   "cell_type": "code",
   "execution_count": 34,
   "metadata": {},
   "outputs": [
    {
     "name": "stderr",
     "output_type": "stream",
     "text": [
      "100%|██████████| 426/426 [13:05<00:00,  1.84s/it]"
     ]
    },
    {
     "name": "stdout",
     "output_type": "stream",
     "text": [
      "48\n"
     ]
    },
    {
     "name": "stderr",
     "output_type": "stream",
     "text": [
      "\n"
     ]
    }
   ],
   "source": [
    "photo_infa = { }      # Табличка с информацией по стенкам \n",
    "k = 0                # Счётчик для выяснения сколько страниц удалены \n",
    "l = 1                # Индекс для таблички \n",
    "\n",
    "for uid in tqdm_notebook(all_uids):\n",
    "    l += 1\n",
    "    time.sleep(0.4) # И пусть весь мир подождёт! \n",
    "    try:\n",
    "        df = Get_Photo(uid)\n",
    "        photo_infa[l] =  feature_extract_ph(df)\n",
    "    except:\n",
    "        photo_infa[l] = {'uid': uid} # пустоты \n",
    "        k += 1\n",
    "        \n",
    "print(k)"
   ]
  },
  {
   "cell_type": "code",
   "execution_count": 35,
   "metadata": {},
   "outputs": [
    {
     "name": "stdout",
     "output_type": "stream",
     "text": [
      "(426, 17)\n"
     ]
    },
    {
     "data": {
      "text/html": [
       "<div>\n",
       "<style scoped>\n",
       "    .dataframe tbody tr th:only-of-type {\n",
       "        vertical-align: middle;\n",
       "    }\n",
       "\n",
       "    .dataframe tbody tr th {\n",
       "        vertical-align: top;\n",
       "    }\n",
       "\n",
       "    .dataframe thead th {\n",
       "        text-align: right;\n",
       "    }\n",
       "</style>\n",
       "<table border=\"1\" class=\"dataframe\">\n",
       "  <thead>\n",
       "    <tr style=\"text-align: right;\">\n",
       "      <th></th>\n",
       "      <th>photo_cnt</th>\n",
       "      <th>photo_like_cnt</th>\n",
       "      <th>photo_like_max</th>\n",
       "      <th>photo_like_mean</th>\n",
       "      <th>photo_like_median</th>\n",
       "      <th>photo_month_mean</th>\n",
       "      <th>photo_repost_cnt</th>\n",
       "      <th>photo_repost_max</th>\n",
       "      <th>photo_repost_mean</th>\n",
       "      <th>photo_repost_median</th>\n",
       "      <th>photo_text</th>\n",
       "      <th>photo_text_len_cnt</th>\n",
       "      <th>photo_yer_mean</th>\n",
       "      <th>uid</th>\n",
       "      <th>vk_photo_ava_change_cnt</th>\n",
       "      <th>vk_photo_text_url_len_cnt</th>\n",
       "      <th>vk_photo_wall_ph_post_cnt</th>\n",
       "    </tr>\n",
       "  </thead>\n",
       "  <tbody>\n",
       "    <tr>\n",
       "      <th>2</th>\n",
       "      <td>3</td>\n",
       "      <td>249</td>\n",
       "      <td>106</td>\n",
       "      <td>83</td>\n",
       "      <td>74</td>\n",
       "      <td>1</td>\n",
       "      <td>0</td>\n",
       "      <td>0</td>\n",
       "      <td>0</td>\n",
       "      <td>0</td>\n",
       "      <td></td>\n",
       "      <td>0</td>\n",
       "      <td>1.5</td>\n",
       "      <td>182152789</td>\n",
       "      <td>0</td>\n",
       "      <td>0</td>\n",
       "      <td>0</td>\n",
       "    </tr>\n",
       "    <tr>\n",
       "      <th>3</th>\n",
       "      <td>19</td>\n",
       "      <td>2878</td>\n",
       "      <td>277</td>\n",
       "      <td>151.474</td>\n",
       "      <td>151</td>\n",
       "      <td>2.375</td>\n",
       "      <td>2</td>\n",
       "      <td>1</td>\n",
       "      <td>0.105263</td>\n",
       "      <td>0</td>\n",
       "      <td></td>\n",
       "      <td>0</td>\n",
       "      <td>3.16667</td>\n",
       "      <td>148020433</td>\n",
       "      <td>0</td>\n",
       "      <td>0</td>\n",
       "      <td>0</td>\n",
       "    </tr>\n",
       "    <tr>\n",
       "      <th>4</th>\n",
       "      <td>7</td>\n",
       "      <td>2394</td>\n",
       "      <td>563</td>\n",
       "      <td>342</td>\n",
       "      <td>328</td>\n",
       "      <td>1.4</td>\n",
       "      <td>0</td>\n",
       "      <td>0</td>\n",
       "      <td>0</td>\n",
       "      <td>0</td>\n",
       "      <td></td>\n",
       "      <td>0</td>\n",
       "      <td>2.33333</td>\n",
       "      <td>138413935</td>\n",
       "      <td>0</td>\n",
       "      <td>0</td>\n",
       "      <td>0</td>\n",
       "    </tr>\n",
       "    <tr>\n",
       "      <th>5</th>\n",
       "      <td>50</td>\n",
       "      <td>1310</td>\n",
       "      <td>47</td>\n",
       "      <td>26.2</td>\n",
       "      <td>25</td>\n",
       "      <td>4.16667</td>\n",
       "      <td>0</td>\n",
       "      <td>0</td>\n",
       "      <td>0</td>\n",
       "      <td>0</td>\n",
       "      <td></td>\n",
       "      <td>0</td>\n",
       "      <td>12.5</td>\n",
       "      <td>366261055</td>\n",
       "      <td>0</td>\n",
       "      <td>0</td>\n",
       "      <td>0</td>\n",
       "    </tr>\n",
       "    <tr>\n",
       "      <th>6</th>\n",
       "      <td>35</td>\n",
       "      <td>1375</td>\n",
       "      <td>622</td>\n",
       "      <td>39.2857</td>\n",
       "      <td>19</td>\n",
       "      <td>3.18182</td>\n",
       "      <td>0</td>\n",
       "      <td>0</td>\n",
       "      <td>0</td>\n",
       "      <td>0</td>\n",
       "      <td></td>\n",
       "      <td>0</td>\n",
       "      <td>8.75</td>\n",
       "      <td>111252392</td>\n",
       "      <td>0</td>\n",
       "      <td>0</td>\n",
       "      <td>0</td>\n",
       "    </tr>\n",
       "  </tbody>\n",
       "</table>\n",
       "</div>"
      ],
      "text/plain": [
       "  photo_cnt photo_like_cnt photo_like_max photo_like_mean photo_like_median  \\\n",
       "2         3            249            106              83                74   \n",
       "3        19           2878            277         151.474               151   \n",
       "4         7           2394            563             342               328   \n",
       "5        50           1310             47            26.2                25   \n",
       "6        35           1375            622         39.2857                19   \n",
       "\n",
       "  photo_month_mean photo_repost_cnt photo_repost_max photo_repost_mean  \\\n",
       "2                1                0                0                 0   \n",
       "3            2.375                2                1          0.105263   \n",
       "4              1.4                0                0                 0   \n",
       "5          4.16667                0                0                 0   \n",
       "6          3.18182                0                0                 0   \n",
       "\n",
       "  photo_repost_median                                         photo_text  \\\n",
       "2                   0                                                      \n",
       "3                   0                                                      \n",
       "4                   0                                                      \n",
       "5                   0                                                      \n",
       "6                   0                                                      \n",
       "\n",
       "  photo_text_len_cnt photo_yer_mean        uid vk_photo_ava_change_cnt  \\\n",
       "2                  0            1.5  182152789                       0   \n",
       "3                  0        3.16667  148020433                       0   \n",
       "4                  0        2.33333  138413935                       0   \n",
       "5                  0           12.5  366261055                       0   \n",
       "6                  0           8.75  111252392                       0   \n",
       "\n",
       "  vk_photo_text_url_len_cnt vk_photo_wall_ph_post_cnt  \n",
       "2                         0                         0  \n",
       "3                         0                         0  \n",
       "4                         0                         0  \n",
       "5                         0                         0  \n",
       "6                         0                         0  "
      ]
     },
     "execution_count": 35,
     "metadata": {},
     "output_type": "execute_result"
    }
   ],
   "source": [
    "df_photo = pd.DataFrame(photo_infa).T\n",
    "print(df_photo.shape)\n",
    "df_photo.head()"
   ]
  },
  {
   "cell_type": "code",
   "execution_count": 36,
   "metadata": {},
   "outputs": [],
   "source": [
    "df_photo.to_csv('vk_data_photo.csv',sep='\\t')"
   ]
  },
  {
   "cell_type": "markdown",
   "metadata": {},
   "source": [
    "## 7. Таргет в виде лайков \n",
    "\n",
    "https://vk.com/hsemem\n",
    "\n",
    "Уперся в лимит"
   ]
  },
  {
   "cell_type": "code",
   "execution_count": 37,
   "metadata": {},
   "outputs": [
    {
     "name": "stderr",
     "output_type": "stream",
     "text": [
      "100%|██████████| 49/49 [01:01<00:00,  1.26s/it]\n"
     ]
    },
    {
     "data": {
      "text/plain": [
       "(4771, 4771)"
      ]
     },
     "execution_count": 37,
     "metadata": {},
     "output_type": "execute_result"
    }
   ],
   "source": [
    "n = vk_download('wall.get','owner_id=-139105204')['response']['count']\n",
    "time.sleep(0.3)\n",
    "\n",
    "posts = [ ]\n",
    "for i in tqdm_notebook(range(0, n + 100, 100)): \n",
    "    time.sleep(0.3)\n",
    "    wall = vk_download('wall.get','owner_id=-139105204&count=100&offset='+str(i))['response']['items']\n",
    "    posts.extend([item['id'] for item in wall])\n",
    "    \n",
    "len(posts), n"
   ]
  },
  {
   "cell_type": "code",
   "execution_count": 5,
   "metadata": {},
   "outputs": [],
   "source": [
    "def make_batch(uids, size=25):\n",
    "    \"\"\"\n",
    "        Возвращает лист листов из пользователей, батчами по size человек \n",
    "        По умолчанию size=25\n",
    "    \"\"\"\n",
    "    batches = [uids[i:i + size] for i in range(0,len(uids),size)]\n",
    "    \n",
    "    return batches "
   ]
  },
  {
   "cell_type": "code",
   "execution_count": 14,
   "metadata": {},
   "outputs": [],
   "source": [
    "from collections import defaultdict\n",
    "\n",
    "def prepare_likes(posts):\n",
    "    \"\"\"\n",
    "        Мы будем скачивать 25 запросами за раз, эта функция готовит запросы \n",
    "        к последущему использованию, понимая сколько лайкеров под каким постом, \n",
    "        выкидывая посты с нулевым количеством лайков делая пары (пост, оффсет)\n",
    "    \"\"\"\n",
    "\n",
    "    likes_tuple = [ ] # для пар (post_id, offset)\n",
    "\n",
    "    # делаем из всех постов батчи по 25 штук, чтобы было быстрее\n",
    "    posts_batch = make_batch(posts)\n",
    "\n",
    "    for batch in tqdm_notebook(posts_batch):\n",
    "        time.sleep(0.4)\n",
    "\n",
    "        # готовим запрос для комметов из батча, который выяснит число комментов под постом\n",
    "        begin = 'https://api.vk.com/method/execute?code=return['\n",
    "        end = '];&access_token='+token+'&v=5.78'\n",
    "        middle = ''\n",
    "\n",
    "        # для каждого поста из батча используем метод likes.getList\n",
    "        for bt in batch:            \n",
    "            middle += 'API.likes.getList({\"owner_id\":\"-139105204\",\"type\":\"post\",\"item_id\":\"' + str(bt) + '\"}),'\n",
    "            \n",
    "        # выясняем сколько всего комментов под постом \n",
    "        s = requests.get(begin + middle[:-1] + end)\n",
    "\n",
    "        # по добытой информации готовим запросы на будущее\n",
    "        for post,item in zip(batch, s.json()['response']):\n",
    "            if item is False:\n",
    "                print('False в посте {}'.format(post))\n",
    "                continue\n",
    "\n",
    "            n = item['count']\n",
    "\n",
    "            # пост с нулевым числом комментов игнорим\n",
    "            if n == 0:\n",
    "                continue \n",
    "            else:\n",
    "                # для каждой сотни комментов из-под поста с комментами будет свой запрос для добычи\n",
    "                for i in range(0, n, 100):\n",
    "                    likes_tuple.append((post, i))\n",
    "    return likes_tuple\n",
    "\n",
    "\n",
    "def get_likes(likes_tuple):\n",
    "    \"\"\"\n",
    "        Делит элементы вектора вида (post_id, offset), \n",
    "        на батчи по 15 штук и качает лайки аки демон\n",
    "    \"\"\"\n",
    "    \n",
    "    likes = defaultdict(list) # для сбора комментов \n",
    "\n",
    "    # делаем батчи \n",
    "    precom_batch = make_batch(likes_tuple, 15)\n",
    "\n",
    "    for batch in tqdm_notebook(precom_batch):\n",
    "        time.sleep(0.4)\n",
    "        \n",
    "        # клепаем запрос \n",
    "        begin = 'https://api.vk.com/method/execute?code=return['\n",
    "        end = '];&access_token='+token+'&v=5.78'\n",
    "        middle = ''\n",
    "\n",
    "        for bt in batch:            \n",
    "            middle += 'API.likes.getList({\"owner_id\":\"-139105204\",\"type\":\"post\",\"item_id\":\"' + str(bt[0]) + '\",\\\n",
    "            \"count\":\"100\",\"offset\":\"'+ str(bt[1])+'\"}),'\n",
    "\n",
    "        # делаем запрос для текущих лайков\n",
    "        s = requests.get(begin + middle[:-1] + end)\n",
    "\n",
    "        # распаковываем добытое добро\n",
    "        for item, post in zip(s.json()['response'], batch):\n",
    "            likes[post[0]].extend(item['items'])\n",
    "                                  \n",
    "    return likes"
   ]
  },
  {
   "cell_type": "code",
   "execution_count": 40,
   "metadata": {},
   "outputs": [
    {
     "name": "stderr",
     "output_type": "stream",
     "text": [
      "100%|██████████| 191/191 [02:49<00:00,  1.13it/s]\n"
     ]
    },
    {
     "data": {
      "text/plain": [
       "(26, 0)"
      ]
     },
     "execution_count": 40,
     "metadata": {},
     "output_type": "execute_result"
    }
   ],
   "source": [
    "k = prepare_likes(posts)\n",
    "k[-10]"
   ]
  },
  {
   "cell_type": "code",
   "execution_count": null,
   "metadata": {},
   "outputs": [],
   "source": [
    "likes = get_likes(k)"
   ]
  },
  {
   "cell_type": "code",
   "execution_count": null,
   "metadata": {
    "scrolled": true
   },
   "outputs": [],
   "source": [
    "# всего лайков в группе\n",
    "s = 0\n",
    "for _,v in likes.items():\n",
    "    s += len(v)\n",
    "s"
   ]
  },
  {
   "cell_type": "code",
   "execution_count": null,
   "metadata": {},
   "outputs": [],
   "source": [
    "def likes_count(people):\n",
    "    s = 0\n",
    "    for _,v in likes.items():\n",
    "        s += (people in v)\n",
    "    return s\n",
    "\n",
    "df_profile['likes_memes'] = df_profile.uid.apply(likes_count)"
   ]
  },
  {
   "cell_type": "code",
   "execution_count": null,
   "metadata": {},
   "outputs": [],
   "source": [
    "# среднее число лайков \n",
    "df_profile['likes_memes'].mean()"
   ]
  },
  {
   "cell_type": "code",
   "execution_count": null,
   "metadata": {},
   "outputs": [],
   "source": [
    "df_profile['likes_memes'].sum()/s*100"
   ]
  },
  {
   "cell_type": "code",
   "execution_count": null,
   "metadata": {},
   "outputs": [],
   "source": [
    "%matplotlib inline"
   ]
  },
  {
   "cell_type": "code",
   "execution_count": null,
   "metadata": {},
   "outputs": [],
   "source": [
    "df_profile['likes_memes'].hist()"
   ]
  },
  {
   "cell_type": "code",
   "execution_count": null,
   "metadata": {},
   "outputs": [],
   "source": [
    "df_profile.to_csv('vk_data_profile.csv',sep='\\t')"
   ]
  },
  {
   "cell_type": "markdown",
   "metadata": {},
   "source": [
    "## 8. Таргет в виде лайков \n",
    "\n",
    "Попробуем другим методом. "
   ]
  },
  {
   "cell_type": "code",
   "execution_count": 6,
   "metadata": {},
   "outputs": [
    {
     "name": "stderr",
     "output_type": "stream",
     "text": [
      "100%|██████████| 49/49 [01:06<00:00,  1.35s/it]\n"
     ]
    },
    {
     "data": {
      "text/plain": [
       "(4774, 4774)"
      ]
     },
     "execution_count": 6,
     "metadata": {},
     "output_type": "execute_result"
    }
   ],
   "source": [
    "n = vk_download('wall.get','owner_id=-139105204')['response']['count']\n",
    "time.sleep(0.3)\n",
    "\n",
    "posts = [ ]\n",
    "for i in tqdm_notebook(range(0, n + 100, 100)): \n",
    "    time.sleep(0.3)\n",
    "    wall = vk_download('wall.get','owner_id=-139105204&count=100&offset='+str(i))['response']['items']\n",
    "    posts.extend([item['id'] for item in wall])\n",
    "    \n",
    "len(posts), n"
   ]
  },
  {
   "cell_type": "code",
   "execution_count": 7,
   "metadata": {},
   "outputs": [],
   "source": [
    "df_profile = pd.read_csv('vk_data_profile.csv', sep='\\t')"
   ]
  },
  {
   "cell_type": "code",
   "execution_count": 8,
   "metadata": {},
   "outputs": [
    {
     "data": {
      "text/plain": [
       "182152789"
      ]
     },
     "execution_count": 8,
     "metadata": {},
     "output_type": "execute_result"
    }
   ],
   "source": [
    "uid_profiles = df_profile.uid.values\n",
    "uid_profiles[0]"
   ]
  },
  {
   "cell_type": "code",
   "execution_count": 9,
   "metadata": {},
   "outputs": [
    {
     "data": {
      "text/plain": [
       "50553"
      ]
     },
     "execution_count": 9,
     "metadata": {},
     "output_type": "execute_result"
    }
   ],
   "source": [
    "posts[0]"
   ]
  },
  {
   "cell_type": "code",
   "execution_count": 53,
   "metadata": {},
   "outputs": [],
   "source": [
    "def is_liked(posts, user):\n",
    "\n",
    "    precom_batch = make_batch(posts, 25)\n",
    "    likes = [ ]\n",
    "    \n",
    "    for batch in precom_batch:\n",
    "        time.sleep(0.3)\n",
    "        \n",
    "        # клепаем запрос \n",
    "        begin = 'https://api.vk.com/method/execute?code=return['\n",
    "        end = '];&access_token='+token+'&v=' + version\n",
    "        middle = ''\n",
    "        for bt in batch:            \n",
    "            middle += 'API.likes.isLiked({\"owner_id\":\"-139105204\",\"type\":\"post\",\"user_id\":\"' + str(user) + '\",\"item_id\":\"'+str(bt)+'\"}),'\n",
    "\n",
    "        # делаем запрос для текущих лайков\n",
    "        s = requests.get(begin + middle[:-1] + end)  \n",
    "        likes.extend(s.json()['response'])\n",
    "    return likes"
   ]
  },
  {
   "cell_type": "code",
   "execution_count": null,
   "metadata": {},
   "outputs": [],
   "source": [
    "# memes_likes = [ ]"
   ]
  },
  {
   "cell_type": "code",
   "execution_count": null,
   "metadata": {
    "scrolled": true
   },
   "outputs": [],
   "source": [
    "for uid, status in list(zip(uid_profiles, df_profile.is_closed.values))[177:]:\n",
    "    if status == True:\n",
    "        memes_likes.append(None)\n",
    "        print(status)\n",
    "    else:\n",
    "        s = is_liked(posts, uid)\n",
    "        memes_likes.append(sum([a['liked'] for a in s]))\n",
    "        print(memes_likes[-1])"
   ]
  },
  {
   "cell_type": "code",
   "execution_count": 46,
   "metadata": {},
   "outputs": [
    {
     "data": {
      "text/plain": [
       "177"
      ]
     },
     "execution_count": 46,
     "metadata": {},
     "output_type": "execute_result"
    }
   ],
   "source": [
    "list(uid_profiles).index(uid)"
   ]
  },
  {
   "cell_type": "code",
   "execution_count": 55,
   "metadata": {},
   "outputs": [
    {
     "data": {
      "text/plain": [
       "426"
      ]
     },
     "execution_count": 55,
     "metadata": {},
     "output_type": "execute_result"
    }
   ],
   "source": [
    "len(uid_profiles)"
   ]
  },
  {
   "cell_type": "code",
   "execution_count": 56,
   "metadata": {},
   "outputs": [
    {
     "data": {
      "text/plain": [
       "426"
      ]
     },
     "execution_count": 56,
     "metadata": {},
     "output_type": "execute_result"
    }
   ],
   "source": [
    "len(memes_likes)"
   ]
  },
  {
   "cell_type": "code",
   "execution_count": 57,
   "metadata": {
    "scrolled": false
   },
   "outputs": [],
   "source": [
    "df_profile['likes_memes'] = memes_likes"
   ]
  },
  {
   "cell_type": "code",
   "execution_count": 58,
   "metadata": {},
   "outputs": [
    {
     "data": {
      "text/plain": [
       "24.384415584415585"
      ]
     },
     "execution_count": 58,
     "metadata": {},
     "output_type": "execute_result"
    }
   ],
   "source": [
    "# среднее число лайков \n",
    "df_profile['likes_memes'].mean()"
   ]
  },
  {
   "cell_type": "code",
   "execution_count": 60,
   "metadata": {},
   "outputs": [
    {
     "data": {
      "image/png": "[encoded data removed]",
      "text/plain": [
       "<Figure size 432x288 with 1 Axes>"
      ]
     },
     "metadata": {
      "needs_background": "light"
     },
     "output_type": "display_data"
    }
   ],
   "source": [
    "df_profile['likes_memes'].hist();"
   ]
  },
  {
   "cell_type": "code",
   "execution_count": 61,
   "metadata": {},
   "outputs": [],
   "source": [
    "df_profile.to_csv('vk_data_profile.csv',sep='\\t')"
   ]
  },
  {
   "cell_type": "markdown",
   "metadata": {},
   "source": [
    "Есть ли uid среди членов группы."
   ]
  },
  {
   "cell_type": "code",
   "execution_count": 63,
   "metadata": {},
   "outputs": [],
   "source": [
    "hse_memes_ppl = [ ]\n",
    "\n",
    "for offset in range(0, 53000, 1000):\n",
    "    time.sleep(0.4)     \n",
    "    cur_infa = vk_download('groups.getMembers', 'group_id=139105204&offset=' + str(offset))\n",
    "    hse_memes_ppl.extend(cur_infa['response']['items'])"
   ]
  },
  {
   "cell_type": "code",
   "execution_count": 66,
   "metadata": {},
   "outputs": [
    {
     "data": {
      "text/plain": [
       "52236"
      ]
     },
     "execution_count": 66,
     "metadata": {},
     "output_type": "execute_result"
    }
   ],
   "source": [
    "hse_memes_ppl = set(hse_memes_ppl)\n",
    "len(hse_memes_ppl)"
   ]
  },
  {
   "cell_type": "code",
   "execution_count": 68,
   "metadata": {},
   "outputs": [],
   "source": [
    "df_profile['in_hse_memes_group'] = df_profile.uid.apply(lambda w: w in hse_memes_ppl)"
   ]
  },
  {
   "cell_type": "code",
   "execution_count": 69,
   "metadata": {},
   "outputs": [],
   "source": [
    "df_profile.to_csv('vk_data_profile.csv',sep='\\t')"
   ]
  },
  {
   "cell_type": "code",
   "execution_count": 71,
   "metadata": {},
   "outputs": [
    {
     "data": {
      "text/plain": [
       "0.7253521126760564"
      ]
     },
     "execution_count": 71,
     "metadata": {},
     "output_type": "execute_result"
    }
   ],
   "source": [
    "df_profile['in_hse_memes_group'].mean()"
   ]
  },
  {
   "cell_type": "markdown",
   "metadata": {},
   "source": [
    " "
   ]
  }
 ],
 "metadata": {
  "kernelspec": {
   "display_name": "Python 3",
   "language": "python",
   "name": "python3"
  },
  "language_info": {
   "codemirror_mode": {
    "name": "ipython",
    "version": 3
   },
   "file_extension": ".py",
   "mimetype": "text/x-python",
   "name": "python",
   "nbconvert_exporter": "python",
   "pygments_lexer": "ipython3",
   "version": "3.7.2"
  }
 },
 "nbformat": 4,
 "nbformat_minor": 2
}
