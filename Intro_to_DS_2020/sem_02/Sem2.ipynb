{
 "cells": [
  {
   "cell_type": "markdown",
   "metadata": {},
   "source": [
    "# Numpy"
   ]
  },
  {
   "cell_type": "code",
   "execution_count": 0,
   "metadata": {},
   "outputs": [],
   "source": [
    "# импортировать библиотеку `numpy` под псевдонимом `np`\n",
    "\n",
    "# TODO:\n"
   ]
  },
  {
   "cell_type": "code",
   "execution_count": 0,
   "metadata": {},
   "outputs": [],
   "source": [
    "# Посчитать массив C как сумму соответствующих элементов A & B\n",
    "\n",
    "# TODO:\n"
   ]
  },
  {
   "cell_type": "code",
   "execution_count": 0,
   "metadata": {},
   "outputs": [],
   "source": [
    "# Умножить все элементы массива B на 1/3\n",
    "\n",
    "# TODO:\n"
   ]
  },
  {
   "cell_type": "code",
   "execution_count": 0,
   "metadata": {},
   "outputs": [],
   "source": [
    "# создать двумерный массив `B` из списка `A` и сохранить его в файл `./saved_array_B.npy`\n",
    "\n",
    "# TODO:\n"
   ]
  },
  {
   "cell_type": "code",
   "execution_count": 0,
   "metadata": {},
   "outputs": [],
   "source": [
    "# Загрузить массив B и вывести его, чтобы убедиться, что все верно прочиталось\n",
    "\n",
    "# TODO:\n"
   ]
  },
  {
   "cell_type": "code",
   "execution_count": 0,
   "metadata": {},
   "outputs": [],
   "source": [
    "# Вывести размерность массива B\n",
    "\n",
    "# TODO:\n"
   ]
  },
  {
   "cell_type": "code",
   "execution_count": 0,
   "metadata": {},
   "outputs": [],
   "source": [
    "# В массиве В найти сумму всех элементов, какую вы ожидаете размерность выхода?\n",
    "\n",
    "# TODO:\n"
   ]
  },
  {
   "cell_type": "code",
   "execution_count": 0,
   "metadata": {},
   "outputs": [],
   "source": [
    "# В массиве В найти сумму по строкам, какую вы ожидаете размерность выхода?\n",
    "\n",
    "# TODO:\n"
   ]
  },
  {
   "cell_type": "code",
   "execution_count": 0,
   "metadata": {},
   "outputs": [],
   "source": [
    "# В массиве В найти сумму по столбцам, какую вы ожидаете размерность выхода?\n",
    "\n",
    "# TODO:\n"
   ]
  },
  {
   "cell_type": "code",
   "execution_count": 0,
   "metadata": {},
   "outputs": [],
   "source": [
    "# Вывести все эл-ты предпоследнего столбца\n",
    "\n",
    "# TODO:\n"
   ]
  },
  {
   "cell_type": "code",
   "execution_count": 0,
   "metadata": {},
   "outputs": [],
   "source": [
    "# Вывести с 3го по 6ой элемент во 2ом - 4ом столбце (все края включительно), затем посчитать их произведение\n",
    "\n",
    "# TODO:\n"
   ]
  },
  {
   "cell_type": "code",
   "execution_count": 0,
   "metadata": {},
   "outputs": [],
   "source": [
    "# Вывести минимальный и максимальный элемент массива\n",
    "\n",
    "# TODO:\n"
   ]
  },
  {
   "cell_type": "code",
   "execution_count": 0,
   "metadata": {},
   "outputs": [],
   "source": [
    "# Вывести минимальное и максимальное значение в каждом столбце\n",
    "\n",
    "# TODO:\n"
   ]
  },
  {
   "cell_type": "code",
   "execution_count": 0,
   "metadata": {},
   "outputs": [],
   "source": [
    "# Посчитать среднее значение в массиве\n",
    "\n",
    "# TODO:\n"
   ]
  },
  {
   "cell_type": "code",
   "execution_count": 0,
   "metadata": {},
   "outputs": [],
   "source": [
    "# Вывести значнеие эл-ов больше среднего\n",
    "\n",
    "# TODO:\n"
   ]
  },
  {
   "cell_type": "code",
   "execution_count": 0,
   "metadata": {},
   "outputs": [],
   "source": [
    "# Вывести матрицу, заменив меньшие нуля эл-ты на ноль\n",
    "\n",
    "# TODO:\n"
   ]
  },
  {
   "cell_type": "code",
   "execution_count": 0,
   "metadata": {},
   "outputs": [],
   "source": [
    "# Вывести уникальные элементы в массиве и посчитать их кол-во\n",
    "\n",
    "# TODO:\n"
   ]
  },
  {
   "cell_type": "code",
   "execution_count": 0,
   "metadata": {},
   "outputs": [],
   "source": [
    "# Вывести самые часто встречающиеся элементы\n",
    "\n",
    "# TODO:\n"
   ]
  },
  {
   "cell_type": "code",
   "execution_count": 0,
   "metadata": {},
   "outputs": [],
   "source": [
    "np.random.seed(42)\n",
    "A = np.random.randint(-10, 10, size=(10, 10))\n",
    "B = np.random.randint(-10, 10, size=(10, 10))\n",
    "\n",
    "# Сранить две матрицы - сколько в матрице А элементов больших соотвественных элементов матрицы В\n",
    "\n",
    "# TODO:\n"
   ]
  },
  {
   "cell_type": "code",
   "execution_count": 0,
   "metadata": {},
   "outputs": [],
   "source": [
    "np.random.seed(42)\n",
    "A = np.random.randint(-10, 10, size=(10, 1))\n",
    "B = np.random.randint(-10, 10, size=(1, 10))\n",
    "\n",
    "# Попарно перемножить элементы вектора-столбца и вектора-строки и посчитать сумму эл-ов результирующего вектора\n",
    "\n",
    "# TODO:\n"
   ]
  },
  {
   "cell_type": "code",
   "execution_count": 0,
   "metadata": {},
   "outputs": [],
   "source": [
    "np.random.seed(42)\n",
    "A = np.random.randint(-10, 10, size=(10, 1))\n",
    "B = np.random.randint(-10, 10, size=(1, 10))\n",
    "\n",
    "# Перемножить две матрицы A и B и посчитать сумму всех элементов матрицы\n",
    "\n",
    "# TODO:\n"
   ]
  },
  {
   "cell_type": "code",
   "execution_count": 0,
   "metadata": {},
   "outputs": [],
   "source": [
    "np.random.seed(42)\n",
    "C_true = np.random.normal(0, 2, size=(10, 10))\n",
    "C_with_missings = C_true.copy()\n",
    "C_with_missings[np.random.binomial(1, 0.1, (C_true.shape)) == 1] = np.nan\n",
    "\n",
    "# 1) Создать матрицу `C_imputed` и заполнить в ней пропуски средним значением\n",
    "# 2) Вывести матрицу и посчитать на сколько в среднем отличаются заполненные значения от истиных `C_true`\n",
    "\n",
    "# TODO:\n"
   ]
  },
  {
   "cell_type": "markdown",
   "metadata": {},
   "source": [
    "# Pandas"
   ]
  },
  {
   "cell_type": "code",
   "execution_count": 0,
   "metadata": {},
   "outputs": [],
   "source": [
    "# импортировать библиотеку `pandas` под псевдонимом `pd`\n",
    "\n",
    "# TODO:\n"
   ]
  },
  {
   "cell_type": "code",
   "execution_count": 0,
   "metadata": {},
   "outputs": [],
   "source": [
    "# прочитать данные в переменную `df` из файла '../data/vk_download/vk_main.csv', используя разделитель '\\t'\n",
    "\n",
    "# TODO:\n"
   ]
  },
  {
   "cell_type": "code",
   "execution_count": 0,
   "metadata": {},
   "outputs": [],
   "source": [
    "# показать прочитанные колонки датафрейма\n",
    "\n",
    "# TODO:\n"
   ]
  },
  {
   "cell_type": "code",
   "execution_count": 0,
   "metadata": {},
   "outputs": [],
   "source": [
    "# вывести тип переменной в которую прочитали файл\n",
    "\n",
    "# TODO:\n"
   ]
  },
  {
   "cell_type": "code",
   "execution_count": 0,
   "metadata": {
    "scrolled": true
   },
   "outputs": [],
   "source": [
    "# вывести типы данных в колонках\n",
    "\n",
    "# TODO:\n"
   ]
  },
  {
   "cell_type": "code",
   "execution_count": 0,
   "metadata": {},
   "outputs": [],
   "source": [
    "# Посмотреть в таблице первые 5 строк, а затем последние 3\n",
    "\n",
    "# TODO:\n"
   ]
  },
  {
   "cell_type": "code",
   "execution_count": 0,
   "metadata": {},
   "outputs": [],
   "source": [
    "# сколько всего записей в таблице\n",
    "\n",
    "# TODO:\n"
   ]
  },
  {
   "cell_type": "code",
   "execution_count": 0,
   "metadata": {},
   "outputs": [],
   "source": [
    "# выбрать колонку с городом\n",
    "\n",
    "# TODO:\n"
   ]
  },
  {
   "cell_type": "code",
   "execution_count": 0,
   "metadata": {},
   "outputs": [],
   "source": [
    "# выбрать колонку с городом, проверить тип возвращаемых данных\n",
    "\n",
    "# TODO:\n"
   ]
  },
  {
   "cell_type": "markdown",
   "metadata": {},
   "source": [
    "Будьте внимательны, какой тип данных возвращает тот или иной запрос - это `DataFrame` или `Series`"
   ]
  },
  {
   "cell_type": "code",
   "execution_count": 0,
   "metadata": {},
   "outputs": [],
   "source": [
    "# выбрать след. колонки: имя, фамилия, город\n",
    "\n",
    "# TODO:\n"
   ]
  },
  {
   "cell_type": "code",
   "execution_count": 0,
   "metadata": {},
   "outputs": [],
   "source": [
    "# Посомтреть, где сейчас живут студенты (уникальные значения колонки city)\n",
    "\n",
    "# TODO:\n"
   ]
  },
  {
   "cell_type": "code",
   "execution_count": 0,
   "metadata": {},
   "outputs": [],
   "source": [
    "# вывести всех студентов, проживающих в Москве (city)\n",
    "\n",
    "# TODO:\n"
   ]
  },
  {
   "cell_type": "code",
   "execution_count": 0,
   "metadata": {},
   "outputs": [],
   "source": [
    "# Заполните пропуски по `city` на значение `Не указано`\n",
    "# какова доля таких записей?\n",
    "\n",
    "# TODO:\n"
   ]
  },
  {
   "cell_type": "code",
   "execution_count": 0,
   "metadata": {},
   "outputs": [],
   "source": [
    "# посчитать долю пользователей, у которых закрыт профиль - колонка `is_closed`\n",
    "\n",
    "# TODO:\n"
   ]
  },
  {
   "cell_type": "code",
   "execution_count": 0,
   "metadata": {},
   "outputs": [],
   "source": [
    "# Посмотреть 5 случайных записей для пользователей, которые приехали в Москву\n",
    "# (`home_town` - откуда приехали, 'city' - где живут сейчас)\n",
    "\n",
    "# TODO:\n"
   ]
  },
  {
   "cell_type": "code",
   "execution_count": 0,
   "metadata": {},
   "outputs": [],
   "source": [
    "# Вывести уникальные мужские имена\n",
    "# пол в столбце `male_dummy`\n",
    "\n",
    "# TODO:\n"
   ]
  },
  {
   "cell_type": "code",
   "execution_count": 0,
   "metadata": {},
   "outputs": [],
   "source": [
    "# Найти колонки без единого пропуска\n",
    "\n",
    "# TODO:\n"
   ]
  },
  {
   "cell_type": "code",
   "execution_count": 0,
   "metadata": {},
   "outputs": [],
   "source": [
    "# Вывести 3 самых популярных женских имени среди студентов\n",
    "\n",
    "# TODO:\n"
   ]
  },
  {
   "cell_type": "code",
   "execution_count": 0,
   "metadata": {
    "scrolled": true
   },
   "outputs": [],
   "source": [
    "# вывести 'uid' самых больших любителей мемов (top 1% значений `likes_memes`)\n",
    "\n",
    "# TODO:\n"
   ]
  },
  {
   "cell_type": "code",
   "execution_count": 0,
   "metadata": {},
   "outputs": [],
   "source": [
    "# посчитать соотношение полов в направлениях по маркетингу и менеджменту (`is_bmm` - если с маркетинга 1, с менеджмента 0)\n",
    "\n",
    "# TODO:\n"
   ]
  },
  {
   "cell_type": "code",
   "execution_count": 0,
   "metadata": {},
   "outputs": [],
   "source": [
    "# Найти среди двух полов лидера среди тех, кто чаще всего выкладывает фотки\n",
    "# (среднемесячное кол-во фоток максимальное `photo_month_mean`) вывести\n",
    "# ФИО и значение параметра `photo_month_mean`\n",
    "\n",
    "# TODO:\n"
   ]
  },
  {
   "cell_type": "code",
   "execution_count": 0,
   "metadata": {},
   "outputs": [],
   "source": [
    "# Создать колонку со значением фмаилии и имени через пробел\n",
    "\n",
    "# TODO:\n"
   ]
  },
  {
   "cell_type": "code",
   "execution_count": 0,
   "metadata": {},
   "outputs": [],
   "source": [
    "# вывести распредление параметров `wall_emoji_cnt` & `wall_comment_cnt`\n",
    "\n",
    "# TODO:\n"
   ]
  },
  {
   "cell_type": "code",
   "execution_count": 0,
   "metadata": {},
   "outputs": [],
   "source": [
    "# 1) создать колонку `wall_emoji_vs_comments` как отношение\n",
    "# кол-ва эмодзи `wall_emoji_cnt` к кол-ву комментариев `wall_comment_cnt` на стене,\n",
    "# 2) по показателю отобрать топ15 юзеров и вывести их (имя фамилия, пол, расчитанный показатель)\n",
    "# 3) кого там больше - парней или девушек (посчитайте долю девушек)?\n",
    "# ! в колонках бывают нули и пропуски, помните о этом\n",
    "\n",
    "# TODO:\n"
   ]
  }
 ],
 "metadata": {
  "kernelspec": {
   "display_name": "Python 3",
   "language": "python",
   "name": "python3"
  },
  "language_info": {
   "codemirror_mode": {
    "name": "ipython",
    "version": 3
   },
   "file_extension": ".py",
   "mimetype": "text/x-python",
   "name": "python",
   "nbconvert_exporter": "python",
   "pygments_lexer": "ipython3",
   "version": "3.7.4"
  },
  "toc": {
   "base_numbering": 1,
   "nav_menu": {},
   "number_sections": false,
   "sideBar": true,
   "skip_h1_title": false,
   "title_cell": "Table of Contents",
   "title_sidebar": "Contents",
   "toc_cell": false,
   "toc_position": {
    "height": "calc(100% - 180px)",
    "left": "10px",
    "top": "150px",
    "width": "264.796875px"
   },
   "toc_section_display": true,
   "toc_window_display": true
  }
 },
 "nbformat": 4,
 "nbformat_minor": 2
}
