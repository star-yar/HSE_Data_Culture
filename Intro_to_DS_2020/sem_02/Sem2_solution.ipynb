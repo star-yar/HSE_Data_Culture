{
 "cells": [
  {
   "cell_type": "markdown",
   "metadata": {},
   "source": [
    "# Numpy"
   ]
  },
  {
   "cell_type": "code",
   "execution_count": 1,
   "metadata": {},
   "outputs": [],
   "source": [
    "# импортировать библиотеку `numpy` под псевдонимом `np`\n",
    "\n",
    "import numpy as np"
   ]
  },
  {
   "cell_type": "code",
   "execution_count": 2,
   "metadata": {},
   "outputs": [
    {
     "data": {
      "text/plain": [
       "array([  10,   -9,  570,    1, 4558, 1198,    4])"
      ]
     },
     "execution_count": 2,
     "metadata": {},
     "output_type": "execute_result"
    }
   ],
   "source": [
    "# Посчитать массив C как сумму соответствующих элементов A & B\n",
    "\n",
    "A = np.array([1,-10,3,0,1,75,3])\n",
    "B = np.array([9,1,567,1,4557,1123,1])\n",
    "A + B"
   ]
  },
  {
   "cell_type": "code",
   "execution_count": 3,
   "metadata": {},
   "outputs": [
    {
     "data": {
      "text/plain": [
       "array([3.00000000e+00, 3.33333333e-01, 1.89000000e+02, 3.33333333e-01,\n",
       "       1.51900000e+03, 3.74333333e+02, 3.33333333e-01])"
      ]
     },
     "execution_count": 3,
     "metadata": {},
     "output_type": "execute_result"
    }
   ],
   "source": [
    "# Умножить все элементы массива B на 1/3\n",
    "\n",
    "B * (1/3)"
   ]
  },
  {
   "cell_type": "code",
   "execution_count": 4,
   "metadata": {},
   "outputs": [],
   "source": [
    "# создать двумерный массив `B` из списка `A` и сохранить его в файл `./saved_array_B.npy`\n",
    "\n",
    "A = [[8,   0,  -3,  -7,   9, -10,  -7,  -7],\n",
    "     [-5,   5,   0,   9,  -5,  -8,  -9,   0],\n",
    "     [9,   7,  -3,  -4,   3,  -1,   0,  -3],\n",
    "     [1,   3,   3,   9,   4,  -5,   6,   6],\n",
    "     [-2,   2,   3,   8,   6,  -2,   5,  -2]]\n",
    "\n",
    "B = np.array(A)\n",
    "np.save('saved_array_B', B)"
   ]
  },
  {
   "cell_type": "code",
   "execution_count": 5,
   "metadata": {},
   "outputs": [
    {
     "data": {
      "text/plain": [
       "array([[  8,   0,  -3,  -7,   9, -10,  -7,  -7],\n",
       "       [ -5,   5,   0,   9,  -5,  -8,  -9,   0],\n",
       "       [  9,   7,  -3,  -4,   3,  -1,   0,  -3],\n",
       "       [  1,   3,   3,   9,   4,  -5,   6,   6],\n",
       "       [ -2,   2,   3,   8,   6,  -2,   5,  -2]])"
      ]
     },
     "execution_count": 5,
     "metadata": {},
     "output_type": "execute_result"
    }
   ],
   "source": [
    "# Загрузить массив B и вывести его, чтобы убедиться, что все верно прочиталось\n",
    "\n",
    "np.load('saved_array_B.npy')"
   ]
  },
  {
   "cell_type": "code",
   "execution_count": 6,
   "metadata": {},
   "outputs": [
    {
     "data": {
      "text/plain": [
       "(5, 8)"
      ]
     },
     "execution_count": 6,
     "metadata": {},
     "output_type": "execute_result"
    }
   ],
   "source": [
    "# Вывести размерность массива B\n",
    "\n",
    "B.shape"
   ]
  },
  {
   "cell_type": "code",
   "execution_count": 7,
   "metadata": {},
   "outputs": [
    {
     "data": {
      "text/plain": [
       "23"
      ]
     },
     "execution_count": 7,
     "metadata": {},
     "output_type": "execute_result"
    }
   ],
   "source": [
    "# В массиве В найти сумму всех элементов, какую вы ожидаете размерность выхода?\n",
    "\n",
    "B.sum()"
   ]
  },
  {
   "cell_type": "code",
   "execution_count": 8,
   "metadata": {},
   "outputs": [
    {
     "data": {
      "text/plain": [
       "array([-17, -13,   8,  27,  18])"
      ]
     },
     "execution_count": 8,
     "metadata": {},
     "output_type": "execute_result"
    }
   ],
   "source": [
    "# В массиве В найти сумму по строкам, какую вы ожидаете размерность выхода?\n",
    "\n",
    "B.sum(1)"
   ]
  },
  {
   "cell_type": "code",
   "execution_count": 9,
   "metadata": {},
   "outputs": [
    {
     "data": {
      "text/plain": [
       "array([ 11,  17,   0,  15,  17, -26,  -5,  -6])"
      ]
     },
     "execution_count": 9,
     "metadata": {},
     "output_type": "execute_result"
    }
   ],
   "source": [
    "# В массиве В найти сумму по столбцам, какую вы ожидаете размерность выхода?\n",
    "\n",
    "B.sum(0)"
   ]
  },
  {
   "cell_type": "code",
   "execution_count": 10,
   "metadata": {},
   "outputs": [
    {
     "data": {
      "text/plain": [
       "array([-7,  0, -3,  6, -2])"
      ]
     },
     "execution_count": 10,
     "metadata": {},
     "output_type": "execute_result"
    }
   ],
   "source": [
    "# Вывести все эл-ты предпоследнего столбца\n",
    "\n",
    "B[:, -1]"
   ]
  },
  {
   "cell_type": "code",
   "execution_count": 11,
   "metadata": {},
   "outputs": [
    {
     "name": "stdout",
     "output_type": "stream",
     "text": [
      "[[-3 -4  3]\n",
      " [ 3  9  4]\n",
      " [ 3  8  6]]\n"
     ]
    },
    {
     "data": {
      "text/plain": [
       "559872"
      ]
     },
     "execution_count": 11,
     "metadata": {},
     "output_type": "execute_result"
    }
   ],
   "source": [
    "# Вывести с 3го по 6ой элемент во 2ом - 4ом столбце (все края включительно), затем посчитать их произведение\n",
    "\n",
    "res = B[2:7, 2:5]\n",
    "print(res)\n",
    "res.prod()"
   ]
  },
  {
   "cell_type": "code",
   "execution_count": 12,
   "metadata": {},
   "outputs": [
    {
     "data": {
      "text/plain": [
       "(-10, 9)"
      ]
     },
     "execution_count": 12,
     "metadata": {},
     "output_type": "execute_result"
    }
   ],
   "source": [
    "# Вывести минимальный и максимальный элемент массива\n",
    "\n",
    "B.min(), B.max()"
   ]
  },
  {
   "cell_type": "code",
   "execution_count": 13,
   "metadata": {},
   "outputs": [
    {
     "data": {
      "text/plain": [
       "(array([ -5,   0,  -3,  -7,  -5, -10,  -9,  -7]),\n",
       " array([ 9,  7,  3,  9,  9, -1,  6,  6]))"
      ]
     },
     "execution_count": 13,
     "metadata": {},
     "output_type": "execute_result"
    }
   ],
   "source": [
    "# Вывести минимальное и максимальное значение в каждом столбце\n",
    "\n",
    "B.min(0), B.max(0)"
   ]
  },
  {
   "cell_type": "code",
   "execution_count": 14,
   "metadata": {},
   "outputs": [
    {
     "data": {
      "text/plain": [
       "0.575"
      ]
     },
     "execution_count": 14,
     "metadata": {},
     "output_type": "execute_result"
    }
   ],
   "source": [
    "# Посчитать среднее значение в массиве\n",
    "\n",
    "B.mean()"
   ]
  },
  {
   "cell_type": "code",
   "execution_count": 15,
   "metadata": {},
   "outputs": [
    {
     "data": {
      "text/plain": [
       "array([8, 9, 5, 9, 9, 7, 3, 1, 3, 3, 9, 4, 6, 6, 2, 3, 8, 6, 5])"
      ]
     },
     "execution_count": 15,
     "metadata": {},
     "output_type": "execute_result"
    }
   ],
   "source": [
    "# Вывести значнеие эл-ов больше среднего\n",
    "\n",
    "B[B > B.mean()]"
   ]
  },
  {
   "cell_type": "code",
   "execution_count": 16,
   "metadata": {},
   "outputs": [
    {
     "data": {
      "text/plain": [
       "array([[8, 0, 0, 0, 9, 0, 0, 0],\n",
       "       [0, 5, 0, 9, 0, 0, 0, 0],\n",
       "       [9, 7, 0, 0, 3, 0, 0, 0],\n",
       "       [1, 3, 3, 9, 4, 0, 6, 6],\n",
       "       [0, 2, 3, 8, 6, 0, 5, 0]])"
      ]
     },
     "execution_count": 16,
     "metadata": {},
     "output_type": "execute_result"
    }
   ],
   "source": [
    "# Вывести матрицу, заменив меньшие нуля эл-ты на ноль\n",
    "\n",
    "np.clip(B, 0, None)"
   ]
  },
  {
   "cell_type": "code",
   "execution_count": 17,
   "metadata": {},
   "outputs": [
    {
     "data": {
      "text/plain": [
       "(array([-10,  -9,  -8,  -7,  -5,  -4,  -3,  -2,  -1,   0,   1,   2,   3,\n",
       "          4,   5,   6,   7,   8,   9]),\n",
       " array([1, 1, 1, 3, 3, 1, 3, 3, 1, 4, 1, 1, 4, 1, 2, 3, 1, 2, 4]))"
      ]
     },
     "execution_count": 17,
     "metadata": {},
     "output_type": "execute_result"
    }
   ],
   "source": [
    "# Вывести уникальные элементы в массиве и посчитать их кол-во\n",
    "\n",
    "unique_elems, elems_cnt = np.unique(B, return_counts=True)\n",
    "unique_elems, elems_cnt"
   ]
  },
  {
   "cell_type": "code",
   "execution_count": 18,
   "metadata": {},
   "outputs": [
    {
     "name": "stdout",
     "output_type": "stream",
     "text": [
      "Самые часто встречающиеся элементы: [0 3 9]\n"
     ]
    }
   ],
   "source": [
    "# Вывести самые часто встречающиеся элементы\n",
    "\n",
    "unique_elems, elems_cnt = np.unique(B, return_counts=True)\n",
    "most_freq = unique_elems[elems_cnt==elems_cnt.max()]\n",
    "print(f\"Самые часто встречающиеся элементы: {most_freq}\")"
   ]
  },
  {
   "cell_type": "code",
   "execution_count": 19,
   "metadata": {},
   "outputs": [
    {
     "data": {
      "text/plain": [
       "46"
      ]
     },
     "execution_count": 19,
     "metadata": {},
     "output_type": "execute_result"
    }
   ],
   "source": [
    "np.random.seed(42)\n",
    "A = np.random.randint(-10, 10, size=(10, 10))\n",
    "B = np.random.randint(-10, 10, size=(10, 10))\n",
    "\n",
    "# Сранить две матрицы - сколько в матрице А элементов больших соотвественных элементов матрицы В\n",
    "\n",
    "(A > B).sum()"
   ]
  },
  {
   "cell_type": "code",
   "execution_count": 20,
   "metadata": {},
   "outputs": [
    {
     "data": {
      "text/plain": [
       "-167"
      ]
     },
     "execution_count": 20,
     "metadata": {},
     "output_type": "execute_result"
    }
   ],
   "source": [
    "np.random.seed(42)\n",
    "A = np.random.randint(-10, 10, size=(10, 1))\n",
    "B = np.random.randint(-10, 10, size=(1, 10))\n",
    "\n",
    "# Попарно перемножить элементы вектора-столбца и вектора-строки и посчитать сумму эл-ов результирующего вектора\n",
    "\n",
    "res = A*B.T\n",
    "res.sum()"
   ]
  },
  {
   "cell_type": "code",
   "execution_count": 21,
   "metadata": {},
   "outputs": [
    {
     "data": {
      "text/plain": [
       "-105"
      ]
     },
     "execution_count": 21,
     "metadata": {},
     "output_type": "execute_result"
    }
   ],
   "source": [
    "np.random.seed(42)\n",
    "A = np.random.randint(-10, 10, size=(10, 1))\n",
    "B = np.random.randint(-10, 10, size=(1, 10))\n",
    "\n",
    "# Перемножить две матрицы A и B и посчитать сумму всех элементов матрицы\n",
    "\n",
    "res=A@B\n",
    "res.sum()"
   ]
  },
  {
   "cell_type": "code",
   "execution_count": 22,
   "metadata": {},
   "outputs": [
    {
     "data": {
      "text/plain": [
       "-0.13610629287287748"
      ]
     },
     "execution_count": 22,
     "metadata": {},
     "output_type": "execute_result"
    }
   ],
   "source": [
    "np.random.seed(42)\n",
    "C_true = np.random.normal(0, 2, size=(10, 10))\n",
    "C_with_missings = C_true.copy()\n",
    "C_with_missings[np.random.binomial(1, 0.1, (C_true.shape)) == 1] = np.nan\n",
    "\n",
    "# 1) Создать матрицу `C_imputed` и заполнить в ней пропуски средним значением\n",
    "# 2) Вывести матрицу и посчитать на сколько в среднем отличаются заполненные значения от истиных `C_true`\n",
    "\n",
    "# SOLUTION:\n",
    "\n",
    "# 1)\n",
    "C_imputed = C_with_missings.copy()\n",
    "mean_value = C_with_missings[~np.isnan(C_with_missings)].mean()\n",
    "C_imputed[np.isnan(C_imputed)] = mean_value\n",
    "# 2)\n",
    "missing_values = C_true[np.isnan(C_with_missings)]\n",
    "(mean_value - missing_values).mean()"
   ]
  },
  {
   "cell_type": "markdown",
   "metadata": {},
   "source": [
    "# Pandas"
   ]
  },
  {
   "cell_type": "code",
   "execution_count": 23,
   "metadata": {},
   "outputs": [],
   "source": [
    "# импортировать библиотеку `pandas` под псевдонимом `pd`\n",
    "\n",
    "import pandas as pd"
   ]
  },
  {
   "cell_type": "code",
   "execution_count": 24,
   "metadata": {},
   "outputs": [],
   "source": [
    "# прочитать данные в переменную `df` из файла '../data/vk_download/vk_main.csv', используя разделитель '\\t'\n",
    "\n",
    "df = pd.read_csv('../data/vk_download/vk_main.csv', sep='\\t')"
   ]
  },
  {
   "cell_type": "code",
   "execution_count": 25,
   "metadata": {},
   "outputs": [
    {
     "data": {
      "text/plain": [
       "Index(['city', 'country', 'first_name', 'home_town', 'in_hse_memes_group',\n",
       "       'is_bmm', 'is_closed', 'last_name', 'likes_memes', 'uid', 'male_dummy',\n",
       "       'facebook_dummy', 'instagram_dummy', 'skype_dummy', 'twitter_dummy',\n",
       "       'home_phone_dummy', 'mobile_phone_dummy', 'site_dummy',\n",
       "       'can_post_dummy', 'can_see_all_posts_dummy', 'can_see_audio_dummy',\n",
       "       'can_write_private_message_dummy', 'has_mobile_dummy', 'has_ava_dummy',\n",
       "       'wall_comments_dummy', 'english_dummy', 'folowers_cnt', 'albums_cnt',\n",
       "       'audio_cnt', 'followers_cnt', 'friends_cnt', 'gifts_cnt', 'groups_cnt',\n",
       "       'photos_cnt', 'subscriptions_cnt', 'user_photos_cnt', 'videos_cnt',\n",
       "       'pages_cnt', 'lang_cnt', 'change_city_school_cnt', 'schools_cnt',\n",
       "       'relation_cat', 'alco_love_cat', 'smoke_love_cat', 'life_main_cat',\n",
       "       'people_main_cat', 'political_cat', 'private_prof_dummy',\n",
       "       'wall_can_comment_dummy', 'wall_comment_cnt', 'wall_comment_max',\n",
       "       'wall_comment_mean', 'wall_comment_median', 'wall_emoji_mean',\n",
       "       'wall_emoji_median', 'wall_emoji_cnt', 'wall_emoji_max',\n",
       "       'wall_like_cnt', 'wall_like_max', 'wall_like_mean', 'wall_like_median',\n",
       "       'wall_month_mean', 'wall_post_android_cnt', 'wall_post_cnt',\n",
       "       'wall_post_instagram_cnt', 'wall_post_ipad_cnt', 'wall_post_iphone_cnt',\n",
       "       'wall_post_original_cnt', 'wall_post_other_cnt', 'wall_post_reply_cnt',\n",
       "       'wall_post_wphone_cnt', 'wall_repost_cnt', 'wall_repost_group_cnt',\n",
       "       'wall_repost_max', 'wall_repost_mean', 'wall_repost_median',\n",
       "       'wall_repost_user_cnt', 'wall_text_len_cnt', 'wall_text_len_max',\n",
       "       'wall_text_len_mean', 'wall_text_len_median', 'wall_year_mean',\n",
       "       'wall_emoji_trace', 'wall_text', 'photo_like_cnt', 'photo_like_max',\n",
       "       'photo_like_mean', 'photo_like_median', 'photo_month_mean',\n",
       "       'photo_repost_cnt', 'photo_repost_max', 'photo_repost_mean',\n",
       "       'photo_repost_median', 'photo_text_len_cnt', 'photo_ava_change_cnt',\n",
       "       'photo_text_url_len_cnt', 'friends_from_course_cnt',\n",
       "       'friends_mail_from_course_pct'],\n",
       "      dtype='object')"
      ]
     },
     "execution_count": 25,
     "metadata": {},
     "output_type": "execute_result"
    }
   ],
   "source": [
    "# показать прочитанные колонки датафрейма\n",
    "\n",
    "df.columns"
   ]
  },
  {
   "cell_type": "code",
   "execution_count": 26,
   "metadata": {},
   "outputs": [
    {
     "data": {
      "text/plain": [
       "pandas.core.frame.DataFrame"
      ]
     },
     "execution_count": 26,
     "metadata": {},
     "output_type": "execute_result"
    }
   ],
   "source": [
    "# вывести тип переменной\n",
    "\n",
    "type(df)"
   ]
  },
  {
   "cell_type": "code",
   "execution_count": 27,
   "metadata": {
    "scrolled": true
   },
   "outputs": [
    {
     "name": "stdout",
     "output_type": "stream",
     "text": [
      "<class 'pandas.core.frame.DataFrame'>\n",
      "RangeIndex: 426 entries, 0 to 425\n",
      "Data columns (total 98 columns):\n",
      "city                               329 non-null object\n",
      "country                            365 non-null object\n",
      "first_name                         426 non-null object\n",
      "home_town                          113 non-null object\n",
      "in_hse_memes_group                 426 non-null bool\n",
      "is_bmm                             426 non-null bool\n",
      "is_closed                          426 non-null bool\n",
      "last_name                          426 non-null object\n",
      "likes_memes                        385 non-null float64\n",
      "uid                                426 non-null int64\n",
      "male_dummy                         426 non-null int64\n",
      "facebook_dummy                     426 non-null int64\n",
      "instagram_dummy                    426 non-null int64\n",
      "skype_dummy                        426 non-null int64\n",
      "twitter_dummy                      426 non-null int64\n",
      "home_phone_dummy                   426 non-null int64\n",
      "mobile_phone_dummy                 426 non-null int64\n",
      "site_dummy                         426 non-null int64\n",
      "can_post_dummy                     426 non-null int64\n",
      "can_see_all_posts_dummy            426 non-null int64\n",
      "can_see_audio_dummy                426 non-null int64\n",
      "can_write_private_message_dummy    426 non-null int64\n",
      "has_mobile_dummy                   426 non-null int64\n",
      "has_ava_dummy                      426 non-null int64\n",
      "wall_comments_dummy                426 non-null int64\n",
      "english_dummy                      426 non-null int64\n",
      "folowers_cnt                       385 non-null float64\n",
      "albums_cnt                         426 non-null float64\n",
      "audio_cnt                          426 non-null float64\n",
      "followers_cnt                      385 non-null float64\n",
      "friends_cnt                        426 non-null float64\n",
      "gifts_cnt                          169 non-null float64\n",
      "groups_cnt                         68 non-null float64\n",
      "photos_cnt                         385 non-null float64\n",
      "subscriptions_cnt                  426 non-null float64\n",
      "user_photos_cnt                    101 non-null float64\n",
      "videos_cnt                         426 non-null float64\n",
      "pages_cnt                          426 non-null float64\n",
      "lang_cnt                           131 non-null float64\n",
      "change_city_school_cnt             74 non-null float64\n",
      "schools_cnt                        46 non-null object\n",
      "relation_cat                       193 non-null object\n",
      "alco_love_cat                      163 non-null float64\n",
      "smoke_love_cat                     163 non-null float64\n",
      "life_main_cat                      162 non-null object\n",
      "people_main_cat                    163 non-null object\n",
      "political_cat                      12 non-null object\n",
      "private_prof_dummy                 426 non-null int64\n",
      "wall_can_comment_dummy             347 non-null float64\n",
      "wall_comment_cnt                   347 non-null float64\n",
      "wall_comment_max                   347 non-null float64\n",
      "wall_comment_mean                  347 non-null float64\n",
      "wall_comment_median                347 non-null float64\n",
      "wall_emoji_mean                    347 non-null float64\n",
      "wall_emoji_median                  347 non-null float64\n",
      "wall_emoji_cnt                     347 non-null float64\n",
      "wall_emoji_max                     347 non-null float64\n",
      "wall_like_cnt                      347 non-null float64\n",
      "wall_like_max                      347 non-null float64\n",
      "wall_like_mean                     347 non-null float64\n",
      "wall_like_median                   347 non-null float64\n",
      "wall_month_mean                    347 non-null float64\n",
      "wall_post_android_cnt              347 non-null float64\n",
      "wall_post_cnt                      347 non-null float64\n",
      "wall_post_instagram_cnt            347 non-null float64\n",
      "wall_post_ipad_cnt                 347 non-null float64\n",
      "wall_post_iphone_cnt               347 non-null float64\n",
      "wall_post_original_cnt             347 non-null float64\n",
      "wall_post_other_cnt                347 non-null float64\n",
      "wall_post_reply_cnt                347 non-null float64\n",
      "wall_post_wphone_cnt               347 non-null float64\n",
      "wall_repost_cnt                    347 non-null float64\n",
      "wall_repost_group_cnt              347 non-null float64\n",
      "wall_repost_max                    347 non-null float64\n",
      "wall_repost_mean                   347 non-null float64\n",
      "wall_repost_median                 347 non-null float64\n",
      "wall_repost_user_cnt               347 non-null float64\n",
      "wall_text_len_cnt                  347 non-null float64\n",
      "wall_text_len_max                  347 non-null float64\n",
      "wall_text_len_mean                 347 non-null float64\n",
      "wall_text_len_median               347 non-null float64\n",
      "wall_year_mean                     347 non-null float64\n",
      "wall_emoji_trace                   204 non-null object\n",
      "wall_text                          314 non-null object\n",
      "photo_like_cnt                     378 non-null float64\n",
      "photo_like_max                     378 non-null float64\n",
      "photo_like_mean                    378 non-null float64\n",
      "photo_like_median                  378 non-null float64\n",
      "photo_month_mean                   378 non-null float64\n",
      "photo_repost_cnt                   378 non-null float64\n",
      "photo_repost_max                   378 non-null float64\n",
      "photo_repost_mean                  378 non-null float64\n",
      "photo_repost_median                378 non-null float64\n",
      "photo_text_len_cnt                 378 non-null float64\n",
      "photo_ava_change_cnt               378 non-null float64\n",
      "photo_text_url_len_cnt             378 non-null float64\n",
      "friends_from_course_cnt            385 non-null float64\n",
      "friends_mail_from_course_pct       385 non-null float64\n",
      "dtypes: bool(3), float64(65), int64(18), object(12)\n",
      "memory usage: 317.5+ KB\n"
     ]
    }
   ],
   "source": [
    "# вывести типы данных в колонках\n",
    "\n",
    "df.info()"
   ]
  },
  {
   "cell_type": "code",
   "execution_count": 28,
   "metadata": {},
   "outputs": [
    {
     "data": {
      "text/html": [
       "<div>\n",
       "<style scoped>\n",
       "    .dataframe tbody tr th:only-of-type {\n",
       "        vertical-align: middle;\n",
       "    }\n",
       "\n",
       "    .dataframe tbody tr th {\n",
       "        vertical-align: top;\n",
       "    }\n",
       "\n",
       "    .dataframe thead th {\n",
       "        text-align: right;\n",
       "    }\n",
       "</style>\n",
       "<table border=\"1\" class=\"dataframe\">\n",
       "  <thead>\n",
       "    <tr style=\"text-align: right;\">\n",
       "      <th></th>\n",
       "      <th>city</th>\n",
       "      <th>country</th>\n",
       "      <th>first_name</th>\n",
       "      <th>home_town</th>\n",
       "      <th>in_hse_memes_group</th>\n",
       "      <th>is_bmm</th>\n",
       "      <th>is_closed</th>\n",
       "      <th>last_name</th>\n",
       "      <th>likes_memes</th>\n",
       "      <th>uid</th>\n",
       "      <th>...</th>\n",
       "      <th>photo_month_mean</th>\n",
       "      <th>photo_repost_cnt</th>\n",
       "      <th>photo_repost_max</th>\n",
       "      <th>photo_repost_mean</th>\n",
       "      <th>photo_repost_median</th>\n",
       "      <th>photo_text_len_cnt</th>\n",
       "      <th>photo_ava_change_cnt</th>\n",
       "      <th>photo_text_url_len_cnt</th>\n",
       "      <th>friends_from_course_cnt</th>\n",
       "      <th>friends_mail_from_course_pct</th>\n",
       "    </tr>\n",
       "  </thead>\n",
       "  <tbody>\n",
       "    <tr>\n",
       "      <td>423</td>\n",
       "      <td>Ростов-на-Дону</td>\n",
       "      <td>Россия</td>\n",
       "      <td>Александр</td>\n",
       "      <td>NaN</td>\n",
       "      <td>True</td>\n",
       "      <td>False</td>\n",
       "      <td>False</td>\n",
       "      <td>Заривный</td>\n",
       "      <td>3.0</td>\n",
       "      <td>152277289</td>\n",
       "      <td>...</td>\n",
       "      <td>1.000000</td>\n",
       "      <td>0.0</td>\n",
       "      <td>0.0</td>\n",
       "      <td>0.0</td>\n",
       "      <td>0.0</td>\n",
       "      <td>0.0</td>\n",
       "      <td>0.0</td>\n",
       "      <td>0.0</td>\n",
       "      <td>25.0</td>\n",
       "      <td>0.480000</td>\n",
       "    </tr>\n",
       "    <tr>\n",
       "      <td>424</td>\n",
       "      <td>Москва</td>\n",
       "      <td>Россия</td>\n",
       "      <td>Глеб</td>\n",
       "      <td>NaN</td>\n",
       "      <td>True</td>\n",
       "      <td>False</td>\n",
       "      <td>False</td>\n",
       "      <td>Игнатьев</td>\n",
       "      <td>108.0</td>\n",
       "      <td>115455288</td>\n",
       "      <td>...</td>\n",
       "      <td>2.857143</td>\n",
       "      <td>2.0</td>\n",
       "      <td>1.0</td>\n",
       "      <td>0.1</td>\n",
       "      <td>0.0</td>\n",
       "      <td>0.0</td>\n",
       "      <td>0.0</td>\n",
       "      <td>0.0</td>\n",
       "      <td>12.0</td>\n",
       "      <td>0.666667</td>\n",
       "    </tr>\n",
       "    <tr>\n",
       "      <td>425</td>\n",
       "      <td>Москва</td>\n",
       "      <td>Россия</td>\n",
       "      <td>Злата</td>\n",
       "      <td>NaN</td>\n",
       "      <td>True</td>\n",
       "      <td>False</td>\n",
       "      <td>False</td>\n",
       "      <td>Зимина</td>\n",
       "      <td>6.0</td>\n",
       "      <td>357509100</td>\n",
       "      <td>...</td>\n",
       "      <td>1.285714</td>\n",
       "      <td>0.0</td>\n",
       "      <td>0.0</td>\n",
       "      <td>0.0</td>\n",
       "      <td>0.0</td>\n",
       "      <td>0.0</td>\n",
       "      <td>0.0</td>\n",
       "      <td>0.0</td>\n",
       "      <td>34.0</td>\n",
       "      <td>0.558824</td>\n",
       "    </tr>\n",
       "  </tbody>\n",
       "</table>\n",
       "<p>3 rows × 98 columns</p>\n",
       "</div>"
      ],
      "text/plain": [
       "               city country first_name home_town  in_hse_memes_group  is_bmm  \\\n",
       "423  Ростов-на-Дону  Россия  Александр       NaN                True   False   \n",
       "424          Москва  Россия       Глеб       NaN                True   False   \n",
       "425          Москва  Россия      Злата       NaN                True   False   \n",
       "\n",
       "     is_closed last_name  likes_memes        uid  ...  photo_month_mean  \\\n",
       "423      False  Заривный          3.0  152277289  ...          1.000000   \n",
       "424      False  Игнатьев        108.0  115455288  ...          2.857143   \n",
       "425      False    Зимина          6.0  357509100  ...          1.285714   \n",
       "\n",
       "     photo_repost_cnt  photo_repost_max  photo_repost_mean  \\\n",
       "423               0.0               0.0                0.0   \n",
       "424               2.0               1.0                0.1   \n",
       "425               0.0               0.0                0.0   \n",
       "\n",
       "     photo_repost_median  photo_text_len_cnt  photo_ava_change_cnt  \\\n",
       "423                  0.0                 0.0                   0.0   \n",
       "424                  0.0                 0.0                   0.0   \n",
       "425                  0.0                 0.0                   0.0   \n",
       "\n",
       "     photo_text_url_len_cnt  friends_from_course_cnt  \\\n",
       "423                     0.0                     25.0   \n",
       "424                     0.0                     12.0   \n",
       "425                     0.0                     34.0   \n",
       "\n",
       "     friends_mail_from_course_pct  \n",
       "423                      0.480000  \n",
       "424                      0.666667  \n",
       "425                      0.558824  \n",
       "\n",
       "[3 rows x 98 columns]"
      ]
     },
     "execution_count": 28,
     "metadata": {},
     "output_type": "execute_result"
    }
   ],
   "source": [
    "# Посмотреть в таблице первые 5 строк, а затем последние 3\n",
    "\n",
    "df.head()\n",
    "df.tail(3)"
   ]
  },
  {
   "cell_type": "code",
   "execution_count": 29,
   "metadata": {},
   "outputs": [
    {
     "data": {
      "text/plain": [
       "426"
      ]
     },
     "execution_count": 29,
     "metadata": {},
     "output_type": "execute_result"
    }
   ],
   "source": [
    "# сколько всего записей в таблице\n",
    "\n",
    "df.shape[0]"
   ]
  },
  {
   "cell_type": "code",
   "execution_count": 30,
   "metadata": {},
   "outputs": [
    {
     "data": {
      "text/plain": [
       "0              Москва\n",
       "1              Рязань\n",
       "2              Москва\n",
       "3                 NaN\n",
       "4                 NaN\n",
       "            ...      \n",
       "421               NaN\n",
       "422            Москва\n",
       "423    Ростов-на-Дону\n",
       "424            Москва\n",
       "425            Москва\n",
       "Name: city, Length: 426, dtype: object"
      ]
     },
     "execution_count": 30,
     "metadata": {},
     "output_type": "execute_result"
    }
   ],
   "source": [
    "# выбрать колонку с городом\n",
    "\n",
    "df['city']"
   ]
  },
  {
   "cell_type": "code",
   "execution_count": 31,
   "metadata": {},
   "outputs": [
    {
     "data": {
      "text/plain": [
       "pandas.core.series.Series"
      ]
     },
     "execution_count": 31,
     "metadata": {},
     "output_type": "execute_result"
    }
   ],
   "source": [
    "# выбрать колонку с городом, проверить тип возвращаемых данных\n",
    "\n",
    "type(df['city'])"
   ]
  },
  {
   "cell_type": "markdown",
   "metadata": {},
   "source": [
    "Будьте внимательны, какой тип данных возвращает тот или иной запрос - это `DataFrame` или `Series`"
   ]
  },
  {
   "cell_type": "code",
   "execution_count": 32,
   "metadata": {},
   "outputs": [
    {
     "data": {
      "text/html": [
       "<div>\n",
       "<style scoped>\n",
       "    .dataframe tbody tr th:only-of-type {\n",
       "        vertical-align: middle;\n",
       "    }\n",
       "\n",
       "    .dataframe tbody tr th {\n",
       "        vertical-align: top;\n",
       "    }\n",
       "\n",
       "    .dataframe thead th {\n",
       "        text-align: right;\n",
       "    }\n",
       "</style>\n",
       "<table border=\"1\" class=\"dataframe\">\n",
       "  <thead>\n",
       "    <tr style=\"text-align: right;\">\n",
       "      <th></th>\n",
       "      <th>first_name</th>\n",
       "      <th>last_name</th>\n",
       "      <th>city</th>\n",
       "    </tr>\n",
       "  </thead>\n",
       "  <tbody>\n",
       "    <tr>\n",
       "      <td>0</td>\n",
       "      <td>Александра</td>\n",
       "      <td>Абашкова</td>\n",
       "      <td>Москва</td>\n",
       "    </tr>\n",
       "    <tr>\n",
       "      <td>1</td>\n",
       "      <td>Анастасия</td>\n",
       "      <td>Чуфистова</td>\n",
       "      <td>Рязань</td>\n",
       "    </tr>\n",
       "    <tr>\n",
       "      <td>2</td>\n",
       "      <td>Александр</td>\n",
       "      <td>Головачев</td>\n",
       "      <td>Москва</td>\n",
       "    </tr>\n",
       "    <tr>\n",
       "      <td>3</td>\n",
       "      <td>Анна</td>\n",
       "      <td>Лобанова</td>\n",
       "      <td>NaN</td>\n",
       "    </tr>\n",
       "    <tr>\n",
       "      <td>4</td>\n",
       "      <td>Алексей</td>\n",
       "      <td>Пузырный</td>\n",
       "      <td>NaN</td>\n",
       "    </tr>\n",
       "    <tr>\n",
       "      <td>...</td>\n",
       "      <td>...</td>\n",
       "      <td>...</td>\n",
       "      <td>...</td>\n",
       "    </tr>\n",
       "    <tr>\n",
       "      <td>421</td>\n",
       "      <td>Юлия</td>\n",
       "      <td>Замятина</td>\n",
       "      <td>NaN</td>\n",
       "    </tr>\n",
       "    <tr>\n",
       "      <td>422</td>\n",
       "      <td>Илья</td>\n",
       "      <td>Заикин</td>\n",
       "      <td>Москва</td>\n",
       "    </tr>\n",
       "    <tr>\n",
       "      <td>423</td>\n",
       "      <td>Александр</td>\n",
       "      <td>Заривный</td>\n",
       "      <td>Ростов-на-Дону</td>\n",
       "    </tr>\n",
       "    <tr>\n",
       "      <td>424</td>\n",
       "      <td>Глеб</td>\n",
       "      <td>Игнатьев</td>\n",
       "      <td>Москва</td>\n",
       "    </tr>\n",
       "    <tr>\n",
       "      <td>425</td>\n",
       "      <td>Злата</td>\n",
       "      <td>Зимина</td>\n",
       "      <td>Москва</td>\n",
       "    </tr>\n",
       "  </tbody>\n",
       "</table>\n",
       "<p>426 rows × 3 columns</p>\n",
       "</div>"
      ],
      "text/plain": [
       "     first_name  last_name            city\n",
       "0    Александра   Абашкова          Москва\n",
       "1     Анастасия  Чуфистова          Рязань\n",
       "2     Александр  Головачев          Москва\n",
       "3          Анна   Лобанова             NaN\n",
       "4       Алексей   Пузырный             NaN\n",
       "..          ...        ...             ...\n",
       "421        Юлия   Замятина             NaN\n",
       "422        Илья     Заикин          Москва\n",
       "423   Александр   Заривный  Ростов-на-Дону\n",
       "424        Глеб   Игнатьев          Москва\n",
       "425       Злата     Зимина          Москва\n",
       "\n",
       "[426 rows x 3 columns]"
      ]
     },
     "execution_count": 32,
     "metadata": {},
     "output_type": "execute_result"
    }
   ],
   "source": [
    "# выбрать след. колонки: имя, фамилия, город\n",
    "\n",
    "df[['first_name', 'last_name', 'city']]"
   ]
  },
  {
   "cell_type": "code",
   "execution_count": 33,
   "metadata": {},
   "outputs": [
    {
     "data": {
      "text/plain": [
       "array(['Москва', 'Рязань', nan, 'Краснодар', 'Казань', 'Кострома',\n",
       "       'Санкт-Петербург', 'Хабаровск', 'Пермь', 'Королёв',\n",
       "       'Железнодорожный (Балашиха)', 'Каракол', 'Минск', 'Екатеринбург',\n",
       "       'Ташкент', 'Иркутск', 'Madrid', 'Химки', 'Нур-Султан / Астана',\n",
       "       'Abu Dhabi', 'Заречный', 'Люберцы', 'Североморск', 'Якутск',\n",
       "       'Запорожье', 'Владикавказ', 'Сочи', 'Красноярск',\n",
       "       'Нижний Новгород', 'Ростов-на-Дону', 'Белгород', 'Самара',\n",
       "       'Тюмень', 'Cambridge', 'Азов', 'Омск', 'Киров', 'Воронеж',\n",
       "       'Петропавловск-Камчатский', 'Сергиев Посад', 'Birmingham',\n",
       "       'Кишинев', 'Budapest', 'Бишкек', 'Владивосток', 'Новосибирск',\n",
       "       'Калуга', 'Benidorm', 'Vilamoura', 'Пенза', 'Ярославль',\n",
       "       'Новомосковск', 'Москва (деревня)', 'Грозный', 'Philadelphia',\n",
       "       'Новороссийск', 'Дубна'], dtype=object)"
      ]
     },
     "execution_count": 33,
     "metadata": {},
     "output_type": "execute_result"
    }
   ],
   "source": [
    "# Посомтреть, где сейчас живут студенты (уникальные значения колонки city)\n",
    "\n",
    "df['city'].unique()"
   ]
  },
  {
   "cell_type": "code",
   "execution_count": 34,
   "metadata": {},
   "outputs": [
    {
     "data": {
      "text/html": [
       "<div>\n",
       "<style scoped>\n",
       "    .dataframe tbody tr th:only-of-type {\n",
       "        vertical-align: middle;\n",
       "    }\n",
       "\n",
       "    .dataframe tbody tr th {\n",
       "        vertical-align: top;\n",
       "    }\n",
       "\n",
       "    .dataframe thead th {\n",
       "        text-align: right;\n",
       "    }\n",
       "</style>\n",
       "<table border=\"1\" class=\"dataframe\">\n",
       "  <thead>\n",
       "    <tr style=\"text-align: right;\">\n",
       "      <th></th>\n",
       "      <th>city</th>\n",
       "      <th>country</th>\n",
       "      <th>first_name</th>\n",
       "      <th>home_town</th>\n",
       "      <th>in_hse_memes_group</th>\n",
       "      <th>is_bmm</th>\n",
       "      <th>is_closed</th>\n",
       "      <th>last_name</th>\n",
       "      <th>likes_memes</th>\n",
       "      <th>uid</th>\n",
       "      <th>...</th>\n",
       "      <th>photo_month_mean</th>\n",
       "      <th>photo_repost_cnt</th>\n",
       "      <th>photo_repost_max</th>\n",
       "      <th>photo_repost_mean</th>\n",
       "      <th>photo_repost_median</th>\n",
       "      <th>photo_text_len_cnt</th>\n",
       "      <th>photo_ava_change_cnt</th>\n",
       "      <th>photo_text_url_len_cnt</th>\n",
       "      <th>friends_from_course_cnt</th>\n",
       "      <th>friends_mail_from_course_pct</th>\n",
       "    </tr>\n",
       "  </thead>\n",
       "  <tbody>\n",
       "    <tr>\n",
       "      <td>0</td>\n",
       "      <td>Москва</td>\n",
       "      <td>Россия</td>\n",
       "      <td>Александра</td>\n",
       "      <td>Москва</td>\n",
       "      <td>True</td>\n",
       "      <td>False</td>\n",
       "      <td>False</td>\n",
       "      <td>Абашкова</td>\n",
       "      <td>60.0</td>\n",
       "      <td>182152789</td>\n",
       "      <td>...</td>\n",
       "      <td>1.000000</td>\n",
       "      <td>0.0</td>\n",
       "      <td>0.0</td>\n",
       "      <td>0.000000</td>\n",
       "      <td>0.0</td>\n",
       "      <td>0.0</td>\n",
       "      <td>0.0</td>\n",
       "      <td>0.0</td>\n",
       "      <td>42.0</td>\n",
       "      <td>0.428571</td>\n",
       "    </tr>\n",
       "    <tr>\n",
       "      <td>2</td>\n",
       "      <td>Москва</td>\n",
       "      <td>Россия</td>\n",
       "      <td>Александр</td>\n",
       "      <td>Омск</td>\n",
       "      <td>False</td>\n",
       "      <td>False</td>\n",
       "      <td>False</td>\n",
       "      <td>Головачев</td>\n",
       "      <td>0.0</td>\n",
       "      <td>138413935</td>\n",
       "      <td>...</td>\n",
       "      <td>1.400000</td>\n",
       "      <td>0.0</td>\n",
       "      <td>0.0</td>\n",
       "      <td>0.000000</td>\n",
       "      <td>0.0</td>\n",
       "      <td>0.0</td>\n",
       "      <td>0.0</td>\n",
       "      <td>0.0</td>\n",
       "      <td>32.0</td>\n",
       "      <td>0.406250</td>\n",
       "    </tr>\n",
       "    <tr>\n",
       "      <td>5</td>\n",
       "      <td>Москва</td>\n",
       "      <td>Россия</td>\n",
       "      <td>Александер</td>\n",
       "      <td>NaN</td>\n",
       "      <td>True</td>\n",
       "      <td>False</td>\n",
       "      <td>False</td>\n",
       "      <td>Гуляев</td>\n",
       "      <td>104.0</td>\n",
       "      <td>145109161</td>\n",
       "      <td>...</td>\n",
       "      <td>2.500000</td>\n",
       "      <td>0.0</td>\n",
       "      <td>0.0</td>\n",
       "      <td>0.000000</td>\n",
       "      <td>0.0</td>\n",
       "      <td>0.0</td>\n",
       "      <td>0.0</td>\n",
       "      <td>0.0</td>\n",
       "      <td>29.0</td>\n",
       "      <td>0.379310</td>\n",
       "    </tr>\n",
       "    <tr>\n",
       "      <td>6</td>\n",
       "      <td>Москва</td>\n",
       "      <td>Россия</td>\n",
       "      <td>Алина</td>\n",
       "      <td>NaN</td>\n",
       "      <td>True</td>\n",
       "      <td>False</td>\n",
       "      <td>False</td>\n",
       "      <td>Хабирова</td>\n",
       "      <td>6.0</td>\n",
       "      <td>140207230</td>\n",
       "      <td>...</td>\n",
       "      <td>1.200000</td>\n",
       "      <td>0.0</td>\n",
       "      <td>0.0</td>\n",
       "      <td>0.000000</td>\n",
       "      <td>0.0</td>\n",
       "      <td>0.0</td>\n",
       "      <td>0.0</td>\n",
       "      <td>0.0</td>\n",
       "      <td>31.0</td>\n",
       "      <td>0.225806</td>\n",
       "    </tr>\n",
       "    <tr>\n",
       "      <td>8</td>\n",
       "      <td>Москва</td>\n",
       "      <td>Россия</td>\n",
       "      <td>Anastasia</td>\n",
       "      <td>NaN</td>\n",
       "      <td>True</td>\n",
       "      <td>False</td>\n",
       "      <td>False</td>\n",
       "      <td>Biryukova</td>\n",
       "      <td>0.0</td>\n",
       "      <td>72089509</td>\n",
       "      <td>...</td>\n",
       "      <td>2.285714</td>\n",
       "      <td>2.0</td>\n",
       "      <td>1.0</td>\n",
       "      <td>0.125000</td>\n",
       "      <td>0.0</td>\n",
       "      <td>0.0</td>\n",
       "      <td>0.0</td>\n",
       "      <td>0.0</td>\n",
       "      <td>47.0</td>\n",
       "      <td>0.191489</td>\n",
       "    </tr>\n",
       "    <tr>\n",
       "      <td>...</td>\n",
       "      <td>...</td>\n",
       "      <td>...</td>\n",
       "      <td>...</td>\n",
       "      <td>...</td>\n",
       "      <td>...</td>\n",
       "      <td>...</td>\n",
       "      <td>...</td>\n",
       "      <td>...</td>\n",
       "      <td>...</td>\n",
       "      <td>...</td>\n",
       "      <td>...</td>\n",
       "      <td>...</td>\n",
       "      <td>...</td>\n",
       "      <td>...</td>\n",
       "      <td>...</td>\n",
       "      <td>...</td>\n",
       "      <td>...</td>\n",
       "      <td>...</td>\n",
       "      <td>...</td>\n",
       "      <td>...</td>\n",
       "      <td>...</td>\n",
       "    </tr>\n",
       "    <tr>\n",
       "      <td>419</td>\n",
       "      <td>Москва</td>\n",
       "      <td>Россия</td>\n",
       "      <td>Ясмин</td>\n",
       "      <td>NaN</td>\n",
       "      <td>True</td>\n",
       "      <td>False</td>\n",
       "      <td>False</td>\n",
       "      <td>Аль-Баргути</td>\n",
       "      <td>10.0</td>\n",
       "      <td>177557939</td>\n",
       "      <td>...</td>\n",
       "      <td>1.333333</td>\n",
       "      <td>1.0</td>\n",
       "      <td>1.0</td>\n",
       "      <td>0.125000</td>\n",
       "      <td>0.0</td>\n",
       "      <td>0.0</td>\n",
       "      <td>0.0</td>\n",
       "      <td>0.0</td>\n",
       "      <td>50.0</td>\n",
       "      <td>0.500000</td>\n",
       "    </tr>\n",
       "    <tr>\n",
       "      <td>420</td>\n",
       "      <td>Москва</td>\n",
       "      <td>Россия</td>\n",
       "      <td>Паша</td>\n",
       "      <td>NaN</td>\n",
       "      <td>True</td>\n",
       "      <td>False</td>\n",
       "      <td>False</td>\n",
       "      <td>Добровольский</td>\n",
       "      <td>2.0</td>\n",
       "      <td>346120308</td>\n",
       "      <td>...</td>\n",
       "      <td>3.800000</td>\n",
       "      <td>1.0</td>\n",
       "      <td>1.0</td>\n",
       "      <td>0.026316</td>\n",
       "      <td>0.0</td>\n",
       "      <td>0.0</td>\n",
       "      <td>0.0</td>\n",
       "      <td>0.0</td>\n",
       "      <td>23.0</td>\n",
       "      <td>0.652174</td>\n",
       "    </tr>\n",
       "    <tr>\n",
       "      <td>422</td>\n",
       "      <td>Москва</td>\n",
       "      <td>Россия</td>\n",
       "      <td>Илья</td>\n",
       "      <td>NaN</td>\n",
       "      <td>True</td>\n",
       "      <td>False</td>\n",
       "      <td>False</td>\n",
       "      <td>Заикин</td>\n",
       "      <td>20.0</td>\n",
       "      <td>74324122</td>\n",
       "      <td>...</td>\n",
       "      <td>1.400000</td>\n",
       "      <td>1.0</td>\n",
       "      <td>1.0</td>\n",
       "      <td>0.071429</td>\n",
       "      <td>0.0</td>\n",
       "      <td>0.0</td>\n",
       "      <td>0.0</td>\n",
       "      <td>0.0</td>\n",
       "      <td>51.0</td>\n",
       "      <td>0.588235</td>\n",
       "    </tr>\n",
       "    <tr>\n",
       "      <td>424</td>\n",
       "      <td>Москва</td>\n",
       "      <td>Россия</td>\n",
       "      <td>Глеб</td>\n",
       "      <td>NaN</td>\n",
       "      <td>True</td>\n",
       "      <td>False</td>\n",
       "      <td>False</td>\n",
       "      <td>Игнатьев</td>\n",
       "      <td>108.0</td>\n",
       "      <td>115455288</td>\n",
       "      <td>...</td>\n",
       "      <td>2.857143</td>\n",
       "      <td>2.0</td>\n",
       "      <td>1.0</td>\n",
       "      <td>0.100000</td>\n",
       "      <td>0.0</td>\n",
       "      <td>0.0</td>\n",
       "      <td>0.0</td>\n",
       "      <td>0.0</td>\n",
       "      <td>12.0</td>\n",
       "      <td>0.666667</td>\n",
       "    </tr>\n",
       "    <tr>\n",
       "      <td>425</td>\n",
       "      <td>Москва</td>\n",
       "      <td>Россия</td>\n",
       "      <td>Злата</td>\n",
       "      <td>NaN</td>\n",
       "      <td>True</td>\n",
       "      <td>False</td>\n",
       "      <td>False</td>\n",
       "      <td>Зимина</td>\n",
       "      <td>6.0</td>\n",
       "      <td>357509100</td>\n",
       "      <td>...</td>\n",
       "      <td>1.285714</td>\n",
       "      <td>0.0</td>\n",
       "      <td>0.0</td>\n",
       "      <td>0.000000</td>\n",
       "      <td>0.0</td>\n",
       "      <td>0.0</td>\n",
       "      <td>0.0</td>\n",
       "      <td>0.0</td>\n",
       "      <td>34.0</td>\n",
       "      <td>0.558824</td>\n",
       "    </tr>\n",
       "  </tbody>\n",
       "</table>\n",
       "<p>250 rows × 98 columns</p>\n",
       "</div>"
      ],
      "text/plain": [
       "       city country  first_name home_town  in_hse_memes_group  is_bmm  \\\n",
       "0    Москва  Россия  Александра    Москва                True   False   \n",
       "2    Москва  Россия   Александр      Омск               False   False   \n",
       "5    Москва  Россия  Александер       NaN                True   False   \n",
       "6    Москва  Россия       Алина       NaN                True   False   \n",
       "8    Москва  Россия   Anastasia       NaN                True   False   \n",
       "..      ...     ...         ...       ...                 ...     ...   \n",
       "419  Москва  Россия       Ясмин       NaN                True   False   \n",
       "420  Москва  Россия        Паша       NaN                True   False   \n",
       "422  Москва  Россия        Илья       NaN                True   False   \n",
       "424  Москва  Россия        Глеб       NaN                True   False   \n",
       "425  Москва  Россия       Злата       NaN                True   False   \n",
       "\n",
       "     is_closed      last_name  likes_memes        uid  ...  photo_month_mean  \\\n",
       "0        False       Абашкова         60.0  182152789  ...          1.000000   \n",
       "2        False      Головачев          0.0  138413935  ...          1.400000   \n",
       "5        False         Гуляев        104.0  145109161  ...          2.500000   \n",
       "6        False       Хабирова          6.0  140207230  ...          1.200000   \n",
       "8        False      Biryukova          0.0   72089509  ...          2.285714   \n",
       "..         ...            ...          ...        ...  ...               ...   \n",
       "419      False    Аль-Баргути         10.0  177557939  ...          1.333333   \n",
       "420      False  Добровольский          2.0  346120308  ...          3.800000   \n",
       "422      False         Заикин         20.0   74324122  ...          1.400000   \n",
       "424      False       Игнатьев        108.0  115455288  ...          2.857143   \n",
       "425      False         Зимина          6.0  357509100  ...          1.285714   \n",
       "\n",
       "     photo_repost_cnt  photo_repost_max  photo_repost_mean  \\\n",
       "0                 0.0               0.0           0.000000   \n",
       "2                 0.0               0.0           0.000000   \n",
       "5                 0.0               0.0           0.000000   \n",
       "6                 0.0               0.0           0.000000   \n",
       "8                 2.0               1.0           0.125000   \n",
       "..                ...               ...                ...   \n",
       "419               1.0               1.0           0.125000   \n",
       "420               1.0               1.0           0.026316   \n",
       "422               1.0               1.0           0.071429   \n",
       "424               2.0               1.0           0.100000   \n",
       "425               0.0               0.0           0.000000   \n",
       "\n",
       "     photo_repost_median  photo_text_len_cnt  photo_ava_change_cnt  \\\n",
       "0                    0.0                 0.0                   0.0   \n",
       "2                    0.0                 0.0                   0.0   \n",
       "5                    0.0                 0.0                   0.0   \n",
       "6                    0.0                 0.0                   0.0   \n",
       "8                    0.0                 0.0                   0.0   \n",
       "..                   ...                 ...                   ...   \n",
       "419                  0.0                 0.0                   0.0   \n",
       "420                  0.0                 0.0                   0.0   \n",
       "422                  0.0                 0.0                   0.0   \n",
       "424                  0.0                 0.0                   0.0   \n",
       "425                  0.0                 0.0                   0.0   \n",
       "\n",
       "     photo_text_url_len_cnt  friends_from_course_cnt  \\\n",
       "0                       0.0                     42.0   \n",
       "2                       0.0                     32.0   \n",
       "5                       0.0                     29.0   \n",
       "6                       0.0                     31.0   \n",
       "8                       0.0                     47.0   \n",
       "..                      ...                      ...   \n",
       "419                     0.0                     50.0   \n",
       "420                     0.0                     23.0   \n",
       "422                     0.0                     51.0   \n",
       "424                     0.0                     12.0   \n",
       "425                     0.0                     34.0   \n",
       "\n",
       "     friends_mail_from_course_pct  \n",
       "0                        0.428571  \n",
       "2                        0.406250  \n",
       "5                        0.379310  \n",
       "6                        0.225806  \n",
       "8                        0.191489  \n",
       "..                            ...  \n",
       "419                      0.500000  \n",
       "420                      0.652174  \n",
       "422                      0.588235  \n",
       "424                      0.666667  \n",
       "425                      0.558824  \n",
       "\n",
       "[250 rows x 98 columns]"
      ]
     },
     "execution_count": 34,
     "metadata": {},
     "output_type": "execute_result"
    }
   ],
   "source": [
    "# вывести всех студентов, проживающих в Москве (city)\n",
    "\n",
    "df[df['city'] == 'Москва']"
   ]
  },
  {
   "cell_type": "code",
   "execution_count": 35,
   "metadata": {},
   "outputs": [
    {
     "data": {
      "text/plain": [
       "0.22769953051643194"
      ]
     },
     "execution_count": 35,
     "metadata": {},
     "output_type": "execute_result"
    }
   ],
   "source": [
    "# Заполните пропуски по `city` на значение `Не указано`\n",
    "# какова доля таких записей?\n",
    "\n",
    "df['city'] = df['city'].fillna('Не указано')\n",
    "df[df['city'] == 'Не указано'].shape[0]/df.shape[0]"
   ]
  },
  {
   "cell_type": "code",
   "execution_count": 36,
   "metadata": {},
   "outputs": [
    {
     "name": "stdout",
     "output_type": "stream",
     "text": [
      "Доля: 9.62%\n"
     ]
    },
    {
     "data": {
      "text/html": [
       "<div>\n",
       "<style scoped>\n",
       "    .dataframe tbody tr th:only-of-type {\n",
       "        vertical-align: middle;\n",
       "    }\n",
       "\n",
       "    .dataframe tbody tr th {\n",
       "        vertical-align: top;\n",
       "    }\n",
       "\n",
       "    .dataframe thead th {\n",
       "        text-align: right;\n",
       "    }\n",
       "</style>\n",
       "<table border=\"1\" class=\"dataframe\">\n",
       "  <thead>\n",
       "    <tr style=\"text-align: right;\">\n",
       "      <th></th>\n",
       "      <th>city</th>\n",
       "      <th>country</th>\n",
       "      <th>first_name</th>\n",
       "      <th>home_town</th>\n",
       "      <th>in_hse_memes_group</th>\n",
       "      <th>is_bmm</th>\n",
       "      <th>is_closed</th>\n",
       "      <th>last_name</th>\n",
       "      <th>likes_memes</th>\n",
       "      <th>uid</th>\n",
       "      <th>...</th>\n",
       "      <th>photo_month_mean</th>\n",
       "      <th>photo_repost_cnt</th>\n",
       "      <th>photo_repost_max</th>\n",
       "      <th>photo_repost_mean</th>\n",
       "      <th>photo_repost_median</th>\n",
       "      <th>photo_text_len_cnt</th>\n",
       "      <th>photo_ava_change_cnt</th>\n",
       "      <th>photo_text_url_len_cnt</th>\n",
       "      <th>friends_from_course_cnt</th>\n",
       "      <th>friends_mail_from_course_pct</th>\n",
       "    </tr>\n",
       "  </thead>\n",
       "  <tbody>\n",
       "    <tr>\n",
       "      <td>9</td>\n",
       "      <td>Москва</td>\n",
       "      <td>Россия</td>\n",
       "      <td>Николай</td>\n",
       "      <td>NaN</td>\n",
       "      <td>True</td>\n",
       "      <td>False</td>\n",
       "      <td>True</td>\n",
       "      <td>Дементьев</td>\n",
       "      <td>NaN</td>\n",
       "      <td>409423465</td>\n",
       "      <td>...</td>\n",
       "      <td>NaN</td>\n",
       "      <td>NaN</td>\n",
       "      <td>NaN</td>\n",
       "      <td>NaN</td>\n",
       "      <td>NaN</td>\n",
       "      <td>NaN</td>\n",
       "      <td>NaN</td>\n",
       "      <td>NaN</td>\n",
       "      <td>NaN</td>\n",
       "      <td>NaN</td>\n",
       "    </tr>\n",
       "    <tr>\n",
       "      <td>15</td>\n",
       "      <td>Москва</td>\n",
       "      <td>Россия</td>\n",
       "      <td>Аня</td>\n",
       "      <td>NaN</td>\n",
       "      <td>True</td>\n",
       "      <td>False</td>\n",
       "      <td>True</td>\n",
       "      <td>Никитенко</td>\n",
       "      <td>NaN</td>\n",
       "      <td>183553137</td>\n",
       "      <td>...</td>\n",
       "      <td>NaN</td>\n",
       "      <td>NaN</td>\n",
       "      <td>NaN</td>\n",
       "      <td>NaN</td>\n",
       "      <td>NaN</td>\n",
       "      <td>NaN</td>\n",
       "      <td>NaN</td>\n",
       "      <td>NaN</td>\n",
       "      <td>NaN</td>\n",
       "      <td>NaN</td>\n",
       "    </tr>\n",
       "    <tr>\n",
       "      <td>34</td>\n",
       "      <td>Хабаровск</td>\n",
       "      <td>Россия</td>\n",
       "      <td>Ангелина</td>\n",
       "      <td>NaN</td>\n",
       "      <td>True</td>\n",
       "      <td>False</td>\n",
       "      <td>True</td>\n",
       "      <td>Щетинина</td>\n",
       "      <td>NaN</td>\n",
       "      <td>192630290</td>\n",
       "      <td>...</td>\n",
       "      <td>NaN</td>\n",
       "      <td>NaN</td>\n",
       "      <td>NaN</td>\n",
       "      <td>NaN</td>\n",
       "      <td>NaN</td>\n",
       "      <td>NaN</td>\n",
       "      <td>NaN</td>\n",
       "      <td>NaN</td>\n",
       "      <td>NaN</td>\n",
       "      <td>NaN</td>\n",
       "    </tr>\n",
       "    <tr>\n",
       "      <td>71</td>\n",
       "      <td>Москва</td>\n",
       "      <td>Россия</td>\n",
       "      <td>Дарья</td>\n",
       "      <td>NaN</td>\n",
       "      <td>True</td>\n",
       "      <td>False</td>\n",
       "      <td>True</td>\n",
       "      <td>Коновалова</td>\n",
       "      <td>NaN</td>\n",
       "      <td>259955111</td>\n",
       "      <td>...</td>\n",
       "      <td>NaN</td>\n",
       "      <td>NaN</td>\n",
       "      <td>NaN</td>\n",
       "      <td>NaN</td>\n",
       "      <td>NaN</td>\n",
       "      <td>NaN</td>\n",
       "      <td>NaN</td>\n",
       "      <td>NaN</td>\n",
       "      <td>NaN</td>\n",
       "      <td>NaN</td>\n",
       "    </tr>\n",
       "    <tr>\n",
       "      <td>73</td>\n",
       "      <td>Не указано</td>\n",
       "      <td>Россия</td>\n",
       "      <td>Полина</td>\n",
       "      <td>NaN</td>\n",
       "      <td>True</td>\n",
       "      <td>False</td>\n",
       "      <td>True</td>\n",
       "      <td>Садчикова</td>\n",
       "      <td>NaN</td>\n",
       "      <td>277990479</td>\n",
       "      <td>...</td>\n",
       "      <td>NaN</td>\n",
       "      <td>NaN</td>\n",
       "      <td>NaN</td>\n",
       "      <td>NaN</td>\n",
       "      <td>NaN</td>\n",
       "      <td>NaN</td>\n",
       "      <td>NaN</td>\n",
       "      <td>NaN</td>\n",
       "      <td>NaN</td>\n",
       "      <td>NaN</td>\n",
       "    </tr>\n",
       "  </tbody>\n",
       "</table>\n",
       "<p>5 rows × 98 columns</p>\n",
       "</div>"
      ],
      "text/plain": [
       "          city country first_name home_town  in_hse_memes_group  is_bmm  \\\n",
       "9       Москва  Россия    Николай       NaN                True   False   \n",
       "15      Москва  Россия        Аня       NaN                True   False   \n",
       "34   Хабаровск  Россия   Ангелина       NaN                True   False   \n",
       "71      Москва  Россия      Дарья       NaN                True   False   \n",
       "73  Не указано  Россия     Полина       NaN                True   False   \n",
       "\n",
       "    is_closed   last_name  likes_memes        uid  ...  photo_month_mean  \\\n",
       "9        True   Дементьев          NaN  409423465  ...               NaN   \n",
       "15       True   Никитенко          NaN  183553137  ...               NaN   \n",
       "34       True    Щетинина          NaN  192630290  ...               NaN   \n",
       "71       True  Коновалова          NaN  259955111  ...               NaN   \n",
       "73       True   Садчикова          NaN  277990479  ...               NaN   \n",
       "\n",
       "    photo_repost_cnt  photo_repost_max  photo_repost_mean  \\\n",
       "9                NaN               NaN                NaN   \n",
       "15               NaN               NaN                NaN   \n",
       "34               NaN               NaN                NaN   \n",
       "71               NaN               NaN                NaN   \n",
       "73               NaN               NaN                NaN   \n",
       "\n",
       "    photo_repost_median  photo_text_len_cnt  photo_ava_change_cnt  \\\n",
       "9                   NaN                 NaN                   NaN   \n",
       "15                  NaN                 NaN                   NaN   \n",
       "34                  NaN                 NaN                   NaN   \n",
       "71                  NaN                 NaN                   NaN   \n",
       "73                  NaN                 NaN                   NaN   \n",
       "\n",
       "    photo_text_url_len_cnt  friends_from_course_cnt  \\\n",
       "9                      NaN                      NaN   \n",
       "15                     NaN                      NaN   \n",
       "34                     NaN                      NaN   \n",
       "71                     NaN                      NaN   \n",
       "73                     NaN                      NaN   \n",
       "\n",
       "    friends_mail_from_course_pct  \n",
       "9                            NaN  \n",
       "15                           NaN  \n",
       "34                           NaN  \n",
       "71                           NaN  \n",
       "73                           NaN  \n",
       "\n",
       "[5 rows x 98 columns]"
      ]
     },
     "execution_count": 36,
     "metadata": {},
     "output_type": "execute_result"
    }
   ],
   "source": [
    "# посчитать долю пользователей, у которых закрыт профиль - колонка `is_closed`\n",
    "\n",
    "res = df[df['is_closed']]\n",
    "frac = res.shape[0]/df.shape[0]\n",
    "print(f\"Доля: {frac:.2%}\")\n",
    "res.head()"
   ]
  },
  {
   "cell_type": "code",
   "execution_count": 37,
   "metadata": {},
   "outputs": [
    {
     "data": {
      "text/html": [
       "<div>\n",
       "<style scoped>\n",
       "    .dataframe tbody tr th:only-of-type {\n",
       "        vertical-align: middle;\n",
       "    }\n",
       "\n",
       "    .dataframe tbody tr th {\n",
       "        vertical-align: top;\n",
       "    }\n",
       "\n",
       "    .dataframe thead th {\n",
       "        text-align: right;\n",
       "    }\n",
       "</style>\n",
       "<table border=\"1\" class=\"dataframe\">\n",
       "  <thead>\n",
       "    <tr style=\"text-align: right;\">\n",
       "      <th></th>\n",
       "      <th>city</th>\n",
       "      <th>country</th>\n",
       "      <th>first_name</th>\n",
       "      <th>home_town</th>\n",
       "      <th>in_hse_memes_group</th>\n",
       "      <th>is_bmm</th>\n",
       "      <th>is_closed</th>\n",
       "      <th>last_name</th>\n",
       "      <th>likes_memes</th>\n",
       "      <th>uid</th>\n",
       "      <th>...</th>\n",
       "      <th>photo_month_mean</th>\n",
       "      <th>photo_repost_cnt</th>\n",
       "      <th>photo_repost_max</th>\n",
       "      <th>photo_repost_mean</th>\n",
       "      <th>photo_repost_median</th>\n",
       "      <th>photo_text_len_cnt</th>\n",
       "      <th>photo_ava_change_cnt</th>\n",
       "      <th>photo_text_url_len_cnt</th>\n",
       "      <th>friends_from_course_cnt</th>\n",
       "      <th>friends_mail_from_course_pct</th>\n",
       "    </tr>\n",
       "  </thead>\n",
       "  <tbody>\n",
       "    <tr>\n",
       "      <td>359</td>\n",
       "      <td>Москва</td>\n",
       "      <td>Россия</td>\n",
       "      <td>Мария</td>\n",
       "      <td>NaN</td>\n",
       "      <td>True</td>\n",
       "      <td>False</td>\n",
       "      <td>False</td>\n",
       "      <td>Назарова</td>\n",
       "      <td>22.0</td>\n",
       "      <td>107770210</td>\n",
       "      <td>...</td>\n",
       "      <td>4.416667</td>\n",
       "      <td>1.0</td>\n",
       "      <td>1.0</td>\n",
       "      <td>0.018868</td>\n",
       "      <td>0.0</td>\n",
       "      <td>0.0</td>\n",
       "      <td>0.0</td>\n",
       "      <td>0.0</td>\n",
       "      <td>106.0</td>\n",
       "      <td>0.490566</td>\n",
       "    </tr>\n",
       "    <tr>\n",
       "      <td>155</td>\n",
       "      <td>Москва</td>\n",
       "      <td>Россия</td>\n",
       "      <td>Виктория</td>\n",
       "      <td>NaN</td>\n",
       "      <td>True</td>\n",
       "      <td>False</td>\n",
       "      <td>False</td>\n",
       "      <td>Батрашкина</td>\n",
       "      <td>0.0</td>\n",
       "      <td>84894888</td>\n",
       "      <td>...</td>\n",
       "      <td>2.727273</td>\n",
       "      <td>0.0</td>\n",
       "      <td>0.0</td>\n",
       "      <td>0.000000</td>\n",
       "      <td>0.0</td>\n",
       "      <td>0.0</td>\n",
       "      <td>0.0</td>\n",
       "      <td>0.0</td>\n",
       "      <td>54.0</td>\n",
       "      <td>0.333333</td>\n",
       "    </tr>\n",
       "    <tr>\n",
       "      <td>81</td>\n",
       "      <td>Москва</td>\n",
       "      <td>Россия</td>\n",
       "      <td>Яна</td>\n",
       "      <td>NaN</td>\n",
       "      <td>True</td>\n",
       "      <td>False</td>\n",
       "      <td>False</td>\n",
       "      <td>Варданян</td>\n",
       "      <td>0.0</td>\n",
       "      <td>317626410</td>\n",
       "      <td>...</td>\n",
       "      <td>1.000000</td>\n",
       "      <td>0.0</td>\n",
       "      <td>0.0</td>\n",
       "      <td>0.000000</td>\n",
       "      <td>0.0</td>\n",
       "      <td>0.0</td>\n",
       "      <td>0.0</td>\n",
       "      <td>0.0</td>\n",
       "      <td>41.0</td>\n",
       "      <td>0.365854</td>\n",
       "    </tr>\n",
       "  </tbody>\n",
       "</table>\n",
       "<p>3 rows × 98 columns</p>\n",
       "</div>"
      ],
      "text/plain": [
       "       city country first_name home_town  in_hse_memes_group  is_bmm  \\\n",
       "359  Москва  Россия      Мария       NaN                True   False   \n",
       "155  Москва  Россия   Виктория       NaN                True   False   \n",
       "81   Москва  Россия        Яна       NaN                True   False   \n",
       "\n",
       "     is_closed   last_name  likes_memes        uid  ...  photo_month_mean  \\\n",
       "359      False    Назарова         22.0  107770210  ...          4.416667   \n",
       "155      False  Батрашкина          0.0   84894888  ...          2.727273   \n",
       "81       False    Варданян          0.0  317626410  ...          1.000000   \n",
       "\n",
       "     photo_repost_cnt  photo_repost_max  photo_repost_mean  \\\n",
       "359               1.0               1.0           0.018868   \n",
       "155               0.0               0.0           0.000000   \n",
       "81                0.0               0.0           0.000000   \n",
       "\n",
       "     photo_repost_median  photo_text_len_cnt  photo_ava_change_cnt  \\\n",
       "359                  0.0                 0.0                   0.0   \n",
       "155                  0.0                 0.0                   0.0   \n",
       "81                   0.0                 0.0                   0.0   \n",
       "\n",
       "     photo_text_url_len_cnt  friends_from_course_cnt  \\\n",
       "359                     0.0                    106.0   \n",
       "155                     0.0                     54.0   \n",
       "81                      0.0                     41.0   \n",
       "\n",
       "     friends_mail_from_course_pct  \n",
       "359                      0.490566  \n",
       "155                      0.333333  \n",
       "81                       0.365854  \n",
       "\n",
       "[3 rows x 98 columns]"
      ]
     },
     "execution_count": 37,
     "metadata": {},
     "output_type": "execute_result"
    }
   ],
   "source": [
    "# Посмотреть 5 случайных записей для пользователей, которые приехали в Москву\n",
    "# (`home_town` - откуда приехали, 'city' - где живут сейчас)\n",
    "\n",
    "df[(df['home_town'] != 'Москва') & (df['city'] == 'Москва')].sample(3)"
   ]
  },
  {
   "cell_type": "code",
   "execution_count": 38,
   "metadata": {},
   "outputs": [
    {
     "data": {
      "text/plain": [
       "array(['Александр', 'Алексей', 'Александер', 'Николай', 'Danial',\n",
       "       'Данила', 'Владимир', 'Егор', 'Артём', 'Эдик', 'Георгий',\n",
       "       'Марсель', 'Глеб', 'Кирилл', 'Данил', 'Рома', 'Никита', 'Артемий',\n",
       "       'Юрий', 'Максим', 'Иван', 'Иоан', 'Миран', 'New', 'Телубай',\n",
       "       'Zhao', 'Леонид', 'Роман', 'Даниил', 'Гоша', 'Ислам', 'Карим',\n",
       "       'Борис', 'Dima', 'Матвей', 'Misha', 'Nikita', 'Нияз', 'Саша',\n",
       "       'Rayskin', 'Дима', 'Михаил', 'Стёпа', 'Тимур', 'Ованнес', 'Давид',\n",
       "       'Андрей', 'Антон', 'Тёма', 'Артур', 'Асельдар', 'Вадим', 'Ярослав',\n",
       "       'Джанкат', 'Алик', 'Дмитрий', 'Ден', 'Ecclesiaste', 'Антанас',\n",
       "       'Vanya', 'Павел', 'Олег', 'Григорий', 'Рамиз', 'Мурат', 'Артем',\n",
       "       'Арам', 'Илья', 'Mihail', 'Радомир', 'Арсений', 'Нурали', 'Вова',\n",
       "       'Ринат', 'Алмаз', 'Пётр', 'Руслан', 'Islam', 'Dominik', 'Иззат',\n",
       "       'Рахимов', 'Asan', 'Maksim', 'Шерхан', 'Айдар', 'Виталий',\n",
       "       'Савлат', 'Иннокентий', 'Кубрат', 'Коля', 'Акрам', 'Макс', 'Игорь',\n",
       "       'Миша', 'Georgiy', 'Евгений', 'Найк', 'Сандрик', 'Plushie',\n",
       "       'Альберт', 'Митек', 'Эдуард', 'Рустам', 'Аббос', 'Натан',\n",
       "       'Владислав', 'Ваня', 'Янис', 'Паша'], dtype=object)"
      ]
     },
     "execution_count": 38,
     "metadata": {},
     "output_type": "execute_result"
    }
   ],
   "source": [
    "# Вывести уникальные мужские имена\n",
    "# пол в столбце `male_dummy`\n",
    "\n",
    "df.loc[df['male_dummy'] == 1, 'first_name'].unique()"
   ]
  },
  {
   "cell_type": "code",
   "execution_count": 39,
   "metadata": {},
   "outputs": [
    {
     "data": {
      "text/plain": [
       "Index(['city', 'first_name', 'in_hse_memes_group', 'is_bmm', 'is_closed',\n",
       "       'last_name', 'uid', 'male_dummy', 'facebook_dummy', 'instagram_dummy',\n",
       "       'skype_dummy', 'twitter_dummy', 'home_phone_dummy',\n",
       "       'mobile_phone_dummy', 'site_dummy', 'can_post_dummy',\n",
       "       'can_see_all_posts_dummy', 'can_see_audio_dummy',\n",
       "       'can_write_private_message_dummy', 'has_mobile_dummy', 'has_ava_dummy',\n",
       "       'wall_comments_dummy', 'english_dummy', 'albums_cnt', 'audio_cnt',\n",
       "       'friends_cnt', 'subscriptions_cnt', 'videos_cnt', 'pages_cnt',\n",
       "       'private_prof_dummy'],\n",
       "      dtype='object')"
      ]
     },
     "execution_count": 39,
     "metadata": {},
     "output_type": "execute_result"
    }
   ],
   "source": [
    "# Найти колонки без единого пропуска\n",
    "\n",
    "df.columns[df.notnull().all(0)]"
   ]
  },
  {
   "cell_type": "code",
   "execution_count": 40,
   "metadata": {},
   "outputs": [
    {
     "data": {
      "text/plain": [
       "first_name\n",
       "Дарья        12\n",
       "Анна         11\n",
       "Анастасия     9\n",
       "Name: uid, dtype: int64"
      ]
     },
     "execution_count": 40,
     "metadata": {},
     "output_type": "execute_result"
    }
   ],
   "source": [
    "# Вывести 3 самых популярных женских имени среди студентов\n",
    "\n",
    "(df[df['male_dummy'] == 0]\n",
    " .groupby('first_name')\n",
    " .count()['uid']\n",
    " .sort_values(ascending=False)\n",
    " .head(3))"
   ]
  },
  {
   "cell_type": "code",
   "execution_count": 41,
   "metadata": {
    "scrolled": true
   },
   "outputs": [
    {
     "data": {
      "text/html": [
       "<div>\n",
       "<style scoped>\n",
       "    .dataframe tbody tr th:only-of-type {\n",
       "        vertical-align: middle;\n",
       "    }\n",
       "\n",
       "    .dataframe tbody tr th {\n",
       "        vertical-align: top;\n",
       "    }\n",
       "\n",
       "    .dataframe thead th {\n",
       "        text-align: right;\n",
       "    }\n",
       "</style>\n",
       "<table border=\"1\" class=\"dataframe\">\n",
       "  <thead>\n",
       "    <tr style=\"text-align: right;\">\n",
       "      <th></th>\n",
       "      <th>first_name</th>\n",
       "      <th>last_name</th>\n",
       "      <th>likes_memes</th>\n",
       "    </tr>\n",
       "  </thead>\n",
       "  <tbody>\n",
       "    <tr>\n",
       "      <td>135</td>\n",
       "      <td>Полина</td>\n",
       "      <td>Андреева</td>\n",
       "      <td>1081.0</td>\n",
       "    </tr>\n",
       "    <tr>\n",
       "      <td>364</td>\n",
       "      <td>Николь</td>\n",
       "      <td>Пименова</td>\n",
       "      <td>685.0</td>\n",
       "    </tr>\n",
       "    <tr>\n",
       "      <td>206</td>\n",
       "      <td>Александр</td>\n",
       "      <td>Поляков</td>\n",
       "      <td>440.0</td>\n",
       "    </tr>\n",
       "    <tr>\n",
       "      <td>190</td>\n",
       "      <td>Данил</td>\n",
       "      <td>Астапов</td>\n",
       "      <td>398.0</td>\n",
       "    </tr>\n",
       "  </tbody>\n",
       "</table>\n",
       "</div>"
      ],
      "text/plain": [
       "    first_name last_name  likes_memes\n",
       "135     Полина  Андреева       1081.0\n",
       "364     Николь  Пименова        685.0\n",
       "206  Александр   Поляков        440.0\n",
       "190      Данил   Астапов        398.0"
      ]
     },
     "execution_count": 41,
     "metadata": {},
     "output_type": "execute_result"
    }
   ],
   "source": [
    "# вывести 'uid' самых больших любителей мемов (top 1% значений `likes_memes`)\n",
    "\n",
    "q = df['likes_memes'].quantile(0.99)\n",
    "df.loc[df['likes_memes'] >= q,\n",
    "       ['first_name', 'last_name', 'likes_memes']].sort_values('likes_memes', ascending=False)"
   ]
  },
  {
   "cell_type": "markdown",
   "metadata": {},
   "source": [
    "<span class=\"mark\">TODO</span>: wait for Phillip fix and resolve"
   ]
  },
  {
   "cell_type": "code",
   "execution_count": 42,
   "metadata": {},
   "outputs": [],
   "source": [
    "# # посчитать соотношение полов в направлениях по маркетингу и менеджменту (`is_bmm` - если с маркетинга 1, с менеджмента 0)\n",
    "\n",
    "# df[['is_bmm', 'male_dummy']].astype(int).groupby('is_bmm').count().sum()['male_dummy']"
   ]
  },
  {
   "cell_type": "code",
   "execution_count": 43,
   "metadata": {},
   "outputs": [
    {
     "data": {
      "text/html": [
       "<div>\n",
       "<style scoped>\n",
       "    .dataframe tbody tr th:only-of-type {\n",
       "        vertical-align: middle;\n",
       "    }\n",
       "\n",
       "    .dataframe tbody tr th {\n",
       "        vertical-align: top;\n",
       "    }\n",
       "\n",
       "    .dataframe thead th {\n",
       "        text-align: right;\n",
       "    }\n",
       "</style>\n",
       "<table border=\"1\" class=\"dataframe\">\n",
       "  <thead>\n",
       "    <tr style=\"text-align: right;\">\n",
       "      <th></th>\n",
       "      <th>first_name</th>\n",
       "      <th>last_name</th>\n",
       "      <th>photo_month_mean</th>\n",
       "    </tr>\n",
       "  </thead>\n",
       "  <tbody>\n",
       "    <tr>\n",
       "      <td>197</td>\n",
       "      <td>Алик</td>\n",
       "      <td>Атаханов</td>\n",
       "      <td>131.416667</td>\n",
       "    </tr>\n",
       "    <tr>\n",
       "      <td>215</td>\n",
       "      <td>Дуся</td>\n",
       "      <td>Шурмистова</td>\n",
       "      <td>151.833333</td>\n",
       "    </tr>\n",
       "  </tbody>\n",
       "</table>\n",
       "</div>"
      ],
      "text/plain": [
       "    first_name   last_name  photo_month_mean\n",
       "197       Алик    Атаханов        131.416667\n",
       "215       Дуся  Шурмистова        151.833333"
      ]
     },
     "execution_count": 43,
     "metadata": {},
     "output_type": "execute_result"
    }
   ],
   "source": [
    "# Найти среди двух полов лидера среди тех, кто чаще всего выкладывает фотки\n",
    "# (среднемесячное кол-во фоток максимальное `photo_month_mean`) вывести\n",
    "# ФИО и значение параметра `photo_month_mean`\n",
    "\n",
    "max_male = df.loc[df['male_dummy'] == 1, 'photo_month_mean'].max()\n",
    "max_female = df.loc[df['male_dummy'] == 0, 'photo_month_mean'].max()\n",
    "query_filter = (\n",
    "    (df['male_dummy'] == 0) & (df['photo_month_mean'] == max_female)\n",
    "    | (df['male_dummy'] == 1) & (df['photo_month_mean'] == max_male)\n",
    ")\n",
    "df.loc[query_filter, ['first_name', 'last_name', 'photo_month_mean']]"
   ]
  },
  {
   "cell_type": "code",
   "execution_count": 44,
   "metadata": {},
   "outputs": [
    {
     "data": {
      "text/plain": [
       "0      Александра Абашкова\n",
       "1      Анастасия Чуфистова\n",
       "2      Александр Головачев\n",
       "3            Анна Лобанова\n",
       "4         Алексей Пузырный\n",
       "              ...         \n",
       "421          Юлия Замятина\n",
       "422            Илья Заикин\n",
       "423     Александр Заривный\n",
       "424          Глеб Игнатьев\n",
       "425           Злата Зимина\n",
       "Name: first_last_name, Length: 426, dtype: object"
      ]
     },
     "execution_count": 44,
     "metadata": {},
     "output_type": "execute_result"
    }
   ],
   "source": [
    "# Создать колонку со значением фмаилии и имени через пробел\n",
    "\n",
    "df['first_last_name'] = df['first_name'] + ' ' + df['last_name']\n",
    "df['first_last_name']"
   ]
  },
  {
   "cell_type": "code",
   "execution_count": 45,
   "metadata": {},
   "outputs": [
    {
     "data": {
      "text/plain": [
       "Index(['city', 'country', 'first_name', 'home_town', 'in_hse_memes_group',\n",
       "       'is_bmm', 'is_closed', 'last_name', 'likes_memes', 'uid', 'male_dummy',\n",
       "       'facebook_dummy', 'instagram_dummy', 'skype_dummy', 'twitter_dummy',\n",
       "       'home_phone_dummy', 'mobile_phone_dummy', 'site_dummy',\n",
       "       'can_post_dummy', 'can_see_all_posts_dummy', 'can_see_audio_dummy',\n",
       "       'can_write_private_message_dummy', 'has_mobile_dummy', 'has_ava_dummy',\n",
       "       'wall_comments_dummy', 'english_dummy', 'folowers_cnt', 'albums_cnt',\n",
       "       'audio_cnt', 'followers_cnt', 'friends_cnt', 'gifts_cnt', 'groups_cnt',\n",
       "       'photos_cnt', 'subscriptions_cnt', 'user_photos_cnt', 'videos_cnt',\n",
       "       'pages_cnt', 'lang_cnt', 'change_city_school_cnt', 'schools_cnt',\n",
       "       'relation_cat', 'alco_love_cat', 'smoke_love_cat', 'life_main_cat',\n",
       "       'people_main_cat', 'political_cat', 'private_prof_dummy',\n",
       "       'wall_can_comment_dummy', 'wall_comment_cnt', 'wall_comment_max',\n",
       "       'wall_comment_mean', 'wall_comment_median', 'wall_emoji_mean',\n",
       "       'wall_emoji_median', 'wall_emoji_cnt', 'wall_emoji_max',\n",
       "       'wall_like_cnt', 'wall_like_max', 'wall_like_mean', 'wall_like_median',\n",
       "       'wall_month_mean', 'wall_post_android_cnt', 'wall_post_cnt',\n",
       "       'wall_post_instagram_cnt', 'wall_post_ipad_cnt', 'wall_post_iphone_cnt',\n",
       "       'wall_post_original_cnt', 'wall_post_other_cnt', 'wall_post_reply_cnt',\n",
       "       'wall_post_wphone_cnt', 'wall_repost_cnt', 'wall_repost_group_cnt',\n",
       "       'wall_repost_max', 'wall_repost_mean', 'wall_repost_median',\n",
       "       'wall_repost_user_cnt', 'wall_text_len_cnt', 'wall_text_len_max',\n",
       "       'wall_text_len_mean', 'wall_text_len_median', 'wall_year_mean',\n",
       "       'wall_emoji_trace', 'wall_text', 'photo_like_cnt', 'photo_like_max',\n",
       "       'photo_like_mean', 'photo_like_median', 'photo_month_mean',\n",
       "       'photo_repost_cnt', 'photo_repost_max', 'photo_repost_mean',\n",
       "       'photo_repost_median', 'photo_text_len_cnt', 'photo_ava_change_cnt',\n",
       "       'photo_text_url_len_cnt', 'friends_from_course_cnt',\n",
       "       'friends_mail_from_course_pct', 'first_last_name'],\n",
       "      dtype='object')"
      ]
     },
     "execution_count": 45,
     "metadata": {},
     "output_type": "execute_result"
    }
   ],
   "source": [
    "# Создать колонку со значением фмаилии и имени через пробел\n",
    "\n",
    "df.columns"
   ]
  },
  {
   "cell_type": "code",
   "execution_count": 46,
   "metadata": {},
   "outputs": [
    {
     "data": {
      "text/plain": [
       "array([[<matplotlib.axes._subplots.AxesSubplot object at 0x117f53110>,\n",
       "        <matplotlib.axes._subplots.AxesSubplot object at 0x111d67d10>]],\n",
       "      dtype=object)"
      ]
     },
     "execution_count": 46,
     "metadata": {},
     "output_type": "execute_result"
    }
   ],
   "source": [
    "# вывести распредление параметров `wall_emoji_cnt` & `wall_comment_cnt`\n",
    "\n",
    "df[['wall_emoji_cnt','wall_comment_cnt']].hist()"
   ]
  },
  {
   "cell_type": "code",
   "execution_count": 47,
   "metadata": {},
   "outputs": [
    {
     "name": "stdout",
     "output_type": "stream",
     "text": [
      "Доля девушек: 0.625\n"
     ]
    },
    {
     "data": {
      "text/html": [
       "<div>\n",
       "<style scoped>\n",
       "    .dataframe tbody tr th:only-of-type {\n",
       "        vertical-align: middle;\n",
       "    }\n",
       "\n",
       "    .dataframe tbody tr th {\n",
       "        vertical-align: top;\n",
       "    }\n",
       "\n",
       "    .dataframe thead th {\n",
       "        text-align: right;\n",
       "    }\n",
       "</style>\n",
       "<table border=\"1\" class=\"dataframe\">\n",
       "  <thead>\n",
       "    <tr style=\"text-align: right;\">\n",
       "      <th></th>\n",
       "      <th>first_last_name</th>\n",
       "      <th>male_dummy</th>\n",
       "      <th>wall_emoji_vs_comments</th>\n",
       "    </tr>\n",
       "  </thead>\n",
       "  <tbody>\n",
       "    <tr>\n",
       "      <td>0</td>\n",
       "      <td>Григорий Черноусов</td>\n",
       "      <td>1</td>\n",
       "      <td>1914.0</td>\n",
       "    </tr>\n",
       "    <tr>\n",
       "      <td>1</td>\n",
       "      <td>Юлия Иванова</td>\n",
       "      <td>0</td>\n",
       "      <td>1904.0</td>\n",
       "    </tr>\n",
       "    <tr>\n",
       "      <td>2</td>\n",
       "      <td>Оля Федотова</td>\n",
       "      <td>0</td>\n",
       "      <td>751.0</td>\n",
       "    </tr>\n",
       "    <tr>\n",
       "      <td>3</td>\n",
       "      <td>Дуся Шурмистова</td>\n",
       "      <td>0</td>\n",
       "      <td>737.0</td>\n",
       "    </tr>\n",
       "    <tr>\n",
       "      <td>4</td>\n",
       "      <td>Тимур Минибаев</td>\n",
       "      <td>1</td>\n",
       "      <td>402.0</td>\n",
       "    </tr>\n",
       "    <tr>\n",
       "      <td>5</td>\n",
       "      <td>Дарья Кухаренко</td>\n",
       "      <td>0</td>\n",
       "      <td>309.0</td>\n",
       "    </tr>\n",
       "    <tr>\n",
       "      <td>6</td>\n",
       "      <td>Диана Геличук</td>\n",
       "      <td>0</td>\n",
       "      <td>306.0</td>\n",
       "    </tr>\n",
       "    <tr>\n",
       "      <td>7</td>\n",
       "      <td>Андрей Гладышев</td>\n",
       "      <td>1</td>\n",
       "      <td>239.0</td>\n",
       "    </tr>\n",
       "    <tr>\n",
       "      <td>8</td>\n",
       "      <td>Сандрик Кецба</td>\n",
       "      <td>1</td>\n",
       "      <td>223.0</td>\n",
       "    </tr>\n",
       "    <tr>\n",
       "      <td>9</td>\n",
       "      <td>Соня Суханова</td>\n",
       "      <td>0</td>\n",
       "      <td>213.0</td>\n",
       "    </tr>\n",
       "    <tr>\n",
       "      <td>10</td>\n",
       "      <td>Александр Заривный</td>\n",
       "      <td>1</td>\n",
       "      <td>199.0</td>\n",
       "    </tr>\n",
       "    <tr>\n",
       "      <td>11</td>\n",
       "      <td>Анна Билялова</td>\n",
       "      <td>0</td>\n",
       "      <td>178.0</td>\n",
       "    </tr>\n",
       "    <tr>\n",
       "      <td>12</td>\n",
       "      <td>Арина Мишак</td>\n",
       "      <td>0</td>\n",
       "      <td>167.0</td>\n",
       "    </tr>\n",
       "    <tr>\n",
       "      <td>13</td>\n",
       "      <td>Дима Руденко</td>\n",
       "      <td>1</td>\n",
       "      <td>157.0</td>\n",
       "    </tr>\n",
       "    <tr>\n",
       "      <td>14</td>\n",
       "      <td>Катя Фомичева</td>\n",
       "      <td>0</td>\n",
       "      <td>151.0</td>\n",
       "    </tr>\n",
       "    <tr>\n",
       "      <td>15</td>\n",
       "      <td>Дарья Орлова</td>\n",
       "      <td>0</td>\n",
       "      <td>129.0</td>\n",
       "    </tr>\n",
       "  </tbody>\n",
       "</table>\n",
       "</div>"
      ],
      "text/plain": [
       "       first_last_name  male_dummy  wall_emoji_vs_comments\n",
       "0   Григорий Черноусов           1                  1914.0\n",
       "1         Юлия Иванова           0                  1904.0\n",
       "2         Оля Федотова           0                   751.0\n",
       "3      Дуся Шурмистова           0                   737.0\n",
       "4       Тимур Минибаев           1                   402.0\n",
       "5      Дарья Кухаренко           0                   309.0\n",
       "6        Диана Геличук           0                   306.0\n",
       "7      Андрей Гладышев           1                   239.0\n",
       "8        Сандрик Кецба           1                   223.0\n",
       "9        Соня Суханова           0                   213.0\n",
       "10  Александр Заривный           1                   199.0\n",
       "11       Анна Билялова           0                   178.0\n",
       "12         Арина Мишак           0                   167.0\n",
       "13        Дима Руденко           1                   157.0\n",
       "14       Катя Фомичева           0                   151.0\n",
       "15        Дарья Орлова           0                   129.0"
      ]
     },
     "execution_count": 47,
     "metadata": {},
     "output_type": "execute_result"
    }
   ],
   "source": [
    "# 1) создать колонку `wall_emoji_vs_comments` как отношение\n",
    "# кол-ва эмодзи `wall_emoji_cnt` к кол-ву комментариев `wall_comment_cnt` на стене,\n",
    "# 2) по показателю отобрать топ15 юзеров и вывести их (имя фамилия, пол, расчитанный показатель)\n",
    "# 3) кого там больше - парней или девушек (посчитайте долю девушек)?\n",
    "# ! в колонках бывают нули и пропуски, помните о этом\n",
    "\n",
    "\n",
    "# один из вариантов посчитать такой показатель\n",
    "# альтернативно можно пофильтровать нули и пропуски\n",
    "df['wall_emoji_vs_comments'] = (df['wall_emoji_cnt'].fillna(0) \n",
    "                                / (df['wall_comment_cnt']+1)).fillna(0)\n",
    "res = (df\n",
    "       .sort_values('wall_emoji_vs_comments', ascending=False)\n",
    "       .reset_index()\n",
    "       .loc[:15, ['first_last_name', 'male_dummy', 'wall_emoji_vs_comments']])\n",
    "\n",
    "male_frac = 1 - res['male_dummy'].sum()/res.shape[0]\n",
    "print(f\"Доля девушек: {male_frac}\")\n",
    "res"
   ]
  }
 ],
 "metadata": {
  "kernelspec": {
   "display_name": "Python 3",
   "language": "python",
   "name": "python3"
  },
  "language_info": {
   "codemirror_mode": {
    "name": "ipython",
    "version": 3
   },
   "file_extension": ".py",
   "mimetype": "text/x-python",
   "name": "python",
   "nbconvert_exporter": "python",
   "pygments_lexer": "ipython3",
   "version": "3.7.4"
  },
  "toc": {
   "base_numbering": 1,
   "nav_menu": {},
   "number_sections": false,
   "sideBar": true,
   "skip_h1_title": false,
   "title_cell": "Table of Contents",
   "title_sidebar": "Contents",
   "toc_cell": false,
   "toc_position": {
    "height": "calc(100% - 180px)",
    "left": "10px",
    "top": "150px",
    "width": "264.796875px"
   },
   "toc_section_display": true,
   "toc_window_display": true
  }
 },
 "nbformat": 4,
 "nbformat_minor": 2
}
