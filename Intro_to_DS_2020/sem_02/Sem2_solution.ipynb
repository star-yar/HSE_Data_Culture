{
 "cells": [
  {
   "cell_type": "markdown",
   "metadata": {},
   "source": [
    "# Numpy"
   ]
  },
  {
   "cell_type": "code",
   "execution_count": 1,
   "metadata": {},
   "outputs": [],
   "source": [
    "# импортировать библиотеку `numpy` под псевдонимом `np`\n",
    "\n",
    "# SOLUTION:\n",
    "import numpy as np"
   ]
  },
  {
   "cell_type": "code",
   "execution_count": 2,
   "metadata": {},
   "outputs": [
    {
     "data": {
      "text/plain": [
       "array([  10,   -9,  570,    1, 4558, 1198,    4])"
      ]
     },
     "execution_count": 2,
     "metadata": {},
     "output_type": "execute_result"
    }
   ],
   "source": [
    "# Посчитать массив C как сумму соответствующих элементов A & B\n",
    "\n",
    "# SOLUTION:\n",
    "A = np.array([1,-10,3,0,1,75,3])\n",
    "B = np.array([9,1,567,1,4557,1123,1])\n",
    "A + B"
   ]
  },
  {
   "cell_type": "code",
   "execution_count": 3,
   "metadata": {},
   "outputs": [
    {
     "data": {
      "text/plain": [
       "array([3.00000000e+00, 3.33333333e-01, 1.89000000e+02, 3.33333333e-01,\n",
       "       1.51900000e+03, 3.74333333e+02, 3.33333333e-01])"
      ]
     },
     "execution_count": 3,
     "metadata": {},
     "output_type": "execute_result"
    }
   ],
   "source": [
    "# Умножить все элементы массива B на 1/3\n",
    "\n",
    "# SOLUTION:\n",
    "B * (1/3)"
   ]
  },
  {
   "cell_type": "code",
   "execution_count": 4,
   "metadata": {},
   "outputs": [],
   "source": [
    "# создать двумерный массив `B` из списка `A` и сохранить его в файл `./saved_array_B.npy`\n",
    "\n",
    "# SOLUTION:\n",
    "A = [[8,   0,  -3,  -7,   9, -10,  -7,  -7],\n",
    "     [-5,   5,   0,   9,  -5,  -8,  -9,   0],\n",
    "     [9,   7,  -3,  -4,   3,  -1,   0,  -3],\n",
    "     [1,   3,   3,   9,   4,  -5,   6,   6],\n",
    "     [-2,   2,   3,   8,   6,  -2,   5,  -2]]\n",
    "\n",
    "B = np.array(A)\n",
    "np.save('saved_array_B', B)"
   ]
  },
  {
   "cell_type": "code",
   "execution_count": 5,
   "metadata": {},
   "outputs": [
    {
     "data": {
      "text/plain": [
       "array([[  8,   0,  -3,  -7,   9, -10,  -7,  -7],\n",
       "       [ -5,   5,   0,   9,  -5,  -8,  -9,   0],\n",
       "       [  9,   7,  -3,  -4,   3,  -1,   0,  -3],\n",
       "       [  1,   3,   3,   9,   4,  -5,   6,   6],\n",
       "       [ -2,   2,   3,   8,   6,  -2,   5,  -2]])"
      ]
     },
     "execution_count": 5,
     "metadata": {},
     "output_type": "execute_result"
    }
   ],
   "source": [
    "# Загрузить массив B и вывести его, чтобы убедиться, что все верно прочиталось\n",
    "\n",
    "# SOLUTION:\n",
    "np.load('saved_array_B.npy')"
   ]
  },
  {
   "cell_type": "code",
   "execution_count": 6,
   "metadata": {},
   "outputs": [
    {
     "data": {
      "text/plain": [
       "(5, 8)"
      ]
     },
     "execution_count": 6,
     "metadata": {},
     "output_type": "execute_result"
    }
   ],
   "source": [
    "# Вывести размерность массива B\n",
    "\n",
    "# SOLUTION:\n",
    "B.shape"
   ]
  },
  {
   "cell_type": "code",
   "execution_count": 7,
   "metadata": {},
   "outputs": [
    {
     "data": {
      "text/plain": [
       "23"
      ]
     },
     "execution_count": 7,
     "metadata": {},
     "output_type": "execute_result"
    }
   ],
   "source": [
    "# В массиве В найти сумму всех элементов, какую вы ожидаете размерность выхода?\n",
    "\n",
    "# SOLUTION:\n",
    "B.sum()"
   ]
  },
  {
   "cell_type": "code",
   "execution_count": 8,
   "metadata": {},
   "outputs": [
    {
     "data": {
      "text/plain": [
       "array([-17, -13,   8,  27,  18])"
      ]
     },
     "execution_count": 8,
     "metadata": {},
     "output_type": "execute_result"
    }
   ],
   "source": [
    "# В массиве В найти сумму по строкам, какую вы ожидаете размерность выхода?\n",
    "\n",
    "# SOLUTION:\n",
    "B.sum(1)"
   ]
  },
  {
   "cell_type": "code",
   "execution_count": 9,
   "metadata": {},
   "outputs": [
    {
     "data": {
      "text/plain": [
       "array([ 11,  17,   0,  15,  17, -26,  -5,  -6])"
      ]
     },
     "execution_count": 9,
     "metadata": {},
     "output_type": "execute_result"
    }
   ],
   "source": [
    "# В массиве В найти сумму по столбцам, какую вы ожидаете размерность выхода?\n",
    "\n",
    "# SOLUTION:\n",
    "B.sum(0)"
   ]
  },
  {
   "cell_type": "code",
   "execution_count": 10,
   "metadata": {},
   "outputs": [
    {
     "data": {
      "text/plain": [
       "array([-7,  0, -3,  6, -2])"
      ]
     },
     "execution_count": 10,
     "metadata": {},
     "output_type": "execute_result"
    }
   ],
   "source": [
    "# Вывести все эл-ты предпоследнего столбца\n",
    "\n",
    "# SOLUTION:\n",
    "B[:, -1]"
   ]
  },
  {
   "cell_type": "code",
   "execution_count": 11,
   "metadata": {},
   "outputs": [
    {
     "name": "stdout",
     "output_type": "stream",
     "text": [
      "[[-3 -4  3]\n",
      " [ 3  9  4]\n",
      " [ 3  8  6]]\n"
     ]
    },
    {
     "data": {
      "text/plain": [
       "559872"
      ]
     },
     "execution_count": 11,
     "metadata": {},
     "output_type": "execute_result"
    }
   ],
   "source": [
    "# Вывести с 3го по 6ой элемент во 2ом - 4ом столбце (все края включительно), затем посчитать их произведение\n",
    "\n",
    "# SOLUTION:\n",
    "res = B[2:7, 2:5]\n",
    "print(res)\n",
    "res.prod()"
   ]
  },
  {
   "cell_type": "code",
   "execution_count": 12,
   "metadata": {},
   "outputs": [
    {
     "data": {
      "text/plain": [
       "(-10, 9)"
      ]
     },
     "execution_count": 12,
     "metadata": {},
     "output_type": "execute_result"
    }
   ],
   "source": [
    "# Вывести минимальный и максимальный элемент массива\n",
    "\n",
    "# SOLUTION:\n",
    "B.min(), B.max()"
   ]
  },
  {
   "cell_type": "code",
   "execution_count": 13,
   "metadata": {},
   "outputs": [
    {
     "data": {
      "text/plain": [
       "(array([ -5,   0,  -3,  -7,  -5, -10,  -9,  -7]),\n",
       " array([ 9,  7,  3,  9,  9, -1,  6,  6]))"
      ]
     },
     "execution_count": 13,
     "metadata": {},
     "output_type": "execute_result"
    }
   ],
   "source": [
    "# Вывести минимальное и максимальное значение в каждом столбце\n",
    "\n",
    "# SOLUTION:\n",
    "B.min(0), B.max(0)"
   ]
  },
  {
   "cell_type": "code",
   "execution_count": 14,
   "metadata": {},
   "outputs": [
    {
     "data": {
      "text/plain": [
       "0.575"
      ]
     },
     "execution_count": 14,
     "metadata": {},
     "output_type": "execute_result"
    }
   ],
   "source": [
    "# Посчитать среднее значение в массиве\n",
    "\n",
    "# SOLUTION:\n",
    "B.mean()"
   ]
  },
  {
   "cell_type": "code",
   "execution_count": 15,
   "metadata": {},
   "outputs": [
    {
     "data": {
      "text/plain": [
       "array([8, 9, 5, 9, 9, 7, 3, 1, 3, 3, 9, 4, 6, 6, 2, 3, 8, 6, 5])"
      ]
     },
     "execution_count": 15,
     "metadata": {},
     "output_type": "execute_result"
    }
   ],
   "source": [
    "# Вывести значнеие эл-ов больше среднего\n",
    "\n",
    "# SOLUTION:\n",
    "B[B > B.mean()]"
   ]
  },
  {
   "cell_type": "code",
   "execution_count": 16,
   "metadata": {},
   "outputs": [
    {
     "data": {
      "text/plain": [
       "array([[8, 0, 0, 0, 9, 0, 0, 0],\n",
       "       [0, 5, 0, 9, 0, 0, 0, 0],\n",
       "       [9, 7, 0, 0, 3, 0, 0, 0],\n",
       "       [1, 3, 3, 9, 4, 0, 6, 6],\n",
       "       [0, 2, 3, 8, 6, 0, 5, 0]])"
      ]
     },
     "execution_count": 16,
     "metadata": {},
     "output_type": "execute_result"
    }
   ],
   "source": [
    "# Вывести матрицу, заменив меньшие нуля эл-ты на ноль\n",
    "\n",
    "# SOLUTION:\n",
    "np.clip(B, 0, None)"
   ]
  },
  {
   "cell_type": "code",
   "execution_count": 17,
   "metadata": {},
   "outputs": [
    {
     "data": {
      "text/plain": [
       "(array([-10,  -9,  -8,  -7,  -5,  -4,  -3,  -2,  -1,   0,   1,   2,   3,\n",
       "          4,   5,   6,   7,   8,   9]),\n",
       " array([1, 1, 1, 3, 3, 1, 3, 3, 1, 4, 1, 1, 4, 1, 2, 3, 1, 2, 4]))"
      ]
     },
     "execution_count": 17,
     "metadata": {},
     "output_type": "execute_result"
    }
   ],
   "source": [
    "# Вывести уникальные элементы в массиве и посчитать их кол-во\n",
    "\n",
    "# SOLUTION:\n",
    "unique_elems, elems_cnt = np.unique(B, return_counts=True)\n",
    "unique_elems, elems_cnt"
   ]
  },
  {
   "cell_type": "code",
   "execution_count": 18,
   "metadata": {},
   "outputs": [
    {
     "name": "stdout",
     "output_type": "stream",
     "text": [
      "Самые часто встречающиеся элементы: [0 3 9]\n"
     ]
    }
   ],
   "source": [
    "# Вывести самые часто встречающиеся элементы\n",
    "\n",
    "# SOLUTION:\n",
    "unique_elems, elems_cnt = np.unique(B, return_counts=True)\n",
    "most_freq = unique_elems[elems_cnt==elems_cnt.max()]\n",
    "print(f\"Самые часто встречающиеся элементы: {most_freq}\")"
   ]
  },
  {
   "cell_type": "code",
   "execution_count": 19,
   "metadata": {},
   "outputs": [
    {
     "data": {
      "text/plain": [
       "46"
      ]
     },
     "execution_count": 19,
     "metadata": {},
     "output_type": "execute_result"
    }
   ],
   "source": [
    "np.random.seed(42)\n",
    "A = np.random.randint(-10, 10, size=(10, 10))\n",
    "B = np.random.randint(-10, 10, size=(10, 10))\n",
    "\n",
    "# Сранить две матрицы - сколько в матрице А элементов больших соотвественных элементов матрицы В\n",
    "\n",
    "# SOLUTION:\n",
    "(A > B).sum()"
   ]
  },
  {
   "cell_type": "code",
   "execution_count": 20,
   "metadata": {},
   "outputs": [
    {
     "data": {
      "text/plain": [
       "-167"
      ]
     },
     "execution_count": 20,
     "metadata": {},
     "output_type": "execute_result"
    }
   ],
   "source": [
    "np.random.seed(42)\n",
    "A = np.random.randint(-10, 10, size=(10, 1))\n",
    "B = np.random.randint(-10, 10, size=(1, 10))\n",
    "\n",
    "# Попарно перемножить элементы вектора-столбца и вектора-строки и посчитать сумму эл-ов результирующего вектора\n",
    "\n",
    "# SOLUTION:\n",
    "res = A*B.T\n",
    "res.sum()"
   ]
  },
  {
   "cell_type": "code",
   "execution_count": 21,
   "metadata": {},
   "outputs": [
    {
     "data": {
      "text/plain": [
       "-105"
      ]
     },
     "execution_count": 21,
     "metadata": {},
     "output_type": "execute_result"
    }
   ],
   "source": [
    "np.random.seed(42)\n",
    "A = np.random.randint(-10, 10, size=(10, 1))\n",
    "B = np.random.randint(-10, 10, size=(1, 10))\n",
    "\n",
    "# Перемножить две матрицы A и B и посчитать сумму всех элементов матрицы\n",
    "\n",
    "# SOLUTION:\n",
    "res=A@B\n",
    "res.sum()"
   ]
  },
  {
   "cell_type": "code",
   "execution_count": 22,
   "metadata": {},
   "outputs": [
    {
     "data": {
      "text/plain": [
       "-0.13610629287287748"
      ]
     },
     "execution_count": 22,
     "metadata": {},
     "output_type": "execute_result"
    }
   ],
   "source": [
    "np.random.seed(42)\n",
    "C_true = np.random.normal(0, 2, size=(10, 10))\n",
    "C_with_missings = C_true.copy()\n",
    "C_with_missings[np.random.binomial(1, 0.1, (C_true.shape)) == 1] = np.nan\n",
    "\n",
    "# 1) Создать матрицу `C_imputed` и заполнить в ней пропуски средним значением\n",
    "# 2) Вывести матрицу и посчитать на сколько в среднем отличаются заполненные значения от истиных `C_true`\n",
    "\n",
    "# SOLUTION:\n",
    "\n",
    "# 1)\n",
    "C_imputed = C_with_missings.copy()\n",
    "mean_value = C_with_missings[~np.isnan(C_with_missings)].mean()\n",
    "C_imputed[np.isnan(C_imputed)] = mean_value\n",
    "# 2)\n",
    "missing_values = C_true[np.isnan(C_with_missings)]\n",
    "(mean_value - missing_values).mean()"
   ]
  },
  {
   "cell_type": "markdown",
   "metadata": {},
   "source": [
    "# Pandas"
   ]
  },
  {
   "cell_type": "code",
   "execution_count": 23,
   "metadata": {},
   "outputs": [],
   "source": [
    "# импортировать библиотеку `pandas` под псевдонимом `pd`\n",
    "\n",
    "# SOLUTION:\n",
    "import pandas as pd"
   ]
  },
  {
   "cell_type": "code",
   "execution_count": 24,
   "metadata": {},
   "outputs": [],
   "source": [
    "# прочитать данные в переменную `df` из файла '../data/vk_download/vk_main.csv', используя разделитель '\\t'\n",
    "\n",
    "# SOLUTION:\n",
    "df = pd.read_csv('../data/vk_download/vk_main.csv', sep='\\t')"
   ]
  },
  {
   "cell_type": "code",
   "execution_count": 25,
   "metadata": {},
   "outputs": [
    {
     "data": {
      "text/plain": [
       "Index(['city', 'country', 'first_name', 'home_town', 'in_hse_memes_group',\n",
       "       'is_bmm', 'is_closed', 'last_name', 'likes_memes', 'uid', 'male_dummy',\n",
       "       'facebook_dummy', 'instagram_dummy', 'skype_dummy', 'twitter_dummy',\n",
       "       'home_phone_dummy', 'mobile_phone_dummy', 'site_dummy',\n",
       "       'can_post_dummy', 'can_see_all_posts_dummy', 'can_see_audio_dummy',\n",
       "       'can_write_private_message_dummy', 'has_mobile_dummy', 'has_ava_dummy',\n",
       "       'wall_comments_dummy', 'english_dummy', 'folowers_cnt', 'albums_cnt',\n",
       "       'audio_cnt', 'followers_cnt', 'friends_cnt', 'gifts_cnt', 'groups_cnt',\n",
       "       'photos_cnt', 'subscriptions_cnt', 'user_photos_cnt', 'videos_cnt',\n",
       "       'pages_cnt', 'lang_cnt', 'change_city_school_cnt', 'schools_cnt',\n",
       "       'relation_cat', 'alco_love_cat', 'smoke_love_cat', 'life_main_cat',\n",
       "       'people_main_cat', 'political_cat', 'private_prof_dummy',\n",
       "       'wall_can_comment_dummy', 'wall_comment_cnt', 'wall_comment_max',\n",
       "       'wall_comment_mean', 'wall_comment_median', 'wall_emoji_mean',\n",
       "       'wall_emoji_median', 'wall_emoji_cnt', 'wall_emoji_max',\n",
       "       'wall_like_cnt', 'wall_like_max', 'wall_like_mean', 'wall_like_median',\n",
       "       'wall_month_mean', 'wall_post_android_cnt', 'wall_post_cnt',\n",
       "       'wall_post_instagram_cnt', 'wall_post_ipad_cnt', 'wall_post_iphone_cnt',\n",
       "       'wall_post_original_cnt', 'wall_post_other_cnt', 'wall_post_reply_cnt',\n",
       "       'wall_post_wphone_cnt', 'wall_repost_cnt', 'wall_repost_group_cnt',\n",
       "       'wall_repost_max', 'wall_repost_mean', 'wall_repost_median',\n",
       "       'wall_repost_user_cnt', 'wall_text_len_cnt', 'wall_text_len_max',\n",
       "       'wall_text_len_mean', 'wall_text_len_median', 'wall_year_mean',\n",
       "       'wall_emoji_trace', 'wall_text', 'photo_like_cnt', 'photo_like_max',\n",
       "       'photo_like_mean', 'photo_like_median', 'photo_month_mean',\n",
       "       'photo_repost_cnt', 'photo_repost_max', 'photo_repost_mean',\n",
       "       'photo_repost_median', 'photo_text_len_cnt', 'photo_ava_change_cnt',\n",
       "       'photo_text_url_len_cnt', 'friends_from_course_cnt',\n",
       "       'friends_mail_from_course_pct'],\n",
       "      dtype='object')"
      ]
     },
     "execution_count": 25,
     "metadata": {},
     "output_type": "execute_result"
    }
   ],
   "source": [
    "# показать прочитанные колонки датафрейма\n",
    "\n",
    "# SOLUTION:\n",
    "df.columns"
   ]
  },
  {
   "cell_type": "code",
   "execution_count": 26,
   "metadata": {},
   "outputs": [
    {
     "data": {
      "text/plain": [
       "pandas.core.frame.DataFrame"
      ]
     },
     "execution_count": 26,
     "metadata": {},
     "output_type": "execute_result"
    }
   ],
   "source": [
    "# вывести тип переменной в которую прочитали файл\n",
    "\n",
    "# SOLUTION:\n",
    "type(df)"
   ]
  },
  {
   "cell_type": "code",
   "execution_count": 27,
   "metadata": {
    "scrolled": true
   },
   "outputs": [
    {
     "name": "stdout",
     "output_type": "stream",
     "text": [
      "<class 'pandas.core.frame.DataFrame'>\n",
      "RangeIndex: 425 entries, 0 to 424\n",
      "Data columns (total 98 columns):\n",
      "city                               328 non-null object\n",
      "country                            364 non-null object\n",
      "first_name                         425 non-null object\n",
      "home_town                          112 non-null object\n",
      "in_hse_memes_group                 425 non-null bool\n",
      "is_bmm                             425 non-null bool\n",
      "is_closed                          425 non-null bool\n",
      "last_name                          425 non-null object\n",
      "likes_memes                        384 non-null float64\n",
      "uid                                425 non-null int64\n",
      "male_dummy                         425 non-null int64\n",
      "facebook_dummy                     425 non-null int64\n",
      "instagram_dummy                    425 non-null int64\n",
      "skype_dummy                        425 non-null int64\n",
      "twitter_dummy                      425 non-null int64\n",
      "home_phone_dummy                   425 non-null int64\n",
      "mobile_phone_dummy                 425 non-null int64\n",
      "site_dummy                         425 non-null int64\n",
      "can_post_dummy                     425 non-null int64\n",
      "can_see_all_posts_dummy            425 non-null int64\n",
      "can_see_audio_dummy                425 non-null int64\n",
      "can_write_private_message_dummy    425 non-null int64\n",
      "has_mobile_dummy                   425 non-null int64\n",
      "has_ava_dummy                      425 non-null int64\n",
      "wall_comments_dummy                425 non-null int64\n",
      "english_dummy                      425 non-null int64\n",
      "folowers_cnt                       384 non-null float64\n",
      "albums_cnt                         425 non-null float64\n",
      "audio_cnt                          425 non-null float64\n",
      "followers_cnt                      384 non-null float64\n",
      "friends_cnt                        425 non-null float64\n",
      "gifts_cnt                          167 non-null float64\n",
      "groups_cnt                         68 non-null float64\n",
      "photos_cnt                         384 non-null float64\n",
      "subscriptions_cnt                  425 non-null float64\n",
      "user_photos_cnt                    101 non-null float64\n",
      "videos_cnt                         425 non-null float64\n",
      "pages_cnt                          425 non-null float64\n",
      "lang_cnt                           131 non-null float64\n",
      "change_city_school_cnt             74 non-null float64\n",
      "schools_cnt                        46 non-null object\n",
      "relation_cat                       193 non-null object\n",
      "alco_love_cat                      163 non-null float64\n",
      "smoke_love_cat                     163 non-null float64\n",
      "life_main_cat                      162 non-null object\n",
      "people_main_cat                    163 non-null object\n",
      "political_cat                      12 non-null object\n",
      "private_prof_dummy                 425 non-null int64\n",
      "wall_can_comment_dummy             343 non-null float64\n",
      "wall_comment_cnt                   343 non-null float64\n",
      "wall_comment_max                   343 non-null float64\n",
      "wall_comment_mean                  343 non-null float64\n",
      "wall_comment_median                343 non-null float64\n",
      "wall_emoji_mean                    343 non-null float64\n",
      "wall_emoji_median                  343 non-null float64\n",
      "wall_emoji_cnt                     343 non-null float64\n",
      "wall_emoji_max                     343 non-null float64\n",
      "wall_like_cnt                      343 non-null float64\n",
      "wall_like_max                      343 non-null float64\n",
      "wall_like_mean                     343 non-null float64\n",
      "wall_like_median                   343 non-null float64\n",
      "wall_month_mean                    343 non-null float64\n",
      "wall_post_android_cnt              343 non-null float64\n",
      "wall_post_cnt                      343 non-null float64\n",
      "wall_post_instagram_cnt            343 non-null float64\n",
      "wall_post_ipad_cnt                 343 non-null float64\n",
      "wall_post_iphone_cnt               343 non-null float64\n",
      "wall_post_original_cnt             343 non-null float64\n",
      "wall_post_other_cnt                343 non-null float64\n",
      "wall_post_reply_cnt                343 non-null float64\n",
      "wall_post_wphone_cnt               343 non-null float64\n",
      "wall_repost_cnt                    343 non-null float64\n",
      "wall_repost_group_cnt              343 non-null float64\n",
      "wall_repost_max                    343 non-null float64\n",
      "wall_repost_mean                   343 non-null float64\n",
      "wall_repost_median                 343 non-null float64\n",
      "wall_repost_user_cnt               343 non-null float64\n",
      "wall_text_len_cnt                  343 non-null float64\n",
      "wall_text_len_max                  343 non-null float64\n",
      "wall_text_len_mean                 343 non-null float64\n",
      "wall_text_len_median               343 non-null float64\n",
      "wall_year_mean                     343 non-null float64\n",
      "wall_emoji_trace                   205 non-null object\n",
      "wall_text                          311 non-null object\n",
      "photo_like_cnt                     376 non-null float64\n",
      "photo_like_max                     376 non-null float64\n",
      "photo_like_mean                    376 non-null float64\n",
      "photo_like_median                  376 non-null float64\n",
      "photo_month_mean                   376 non-null float64\n",
      "photo_repost_cnt                   376 non-null float64\n",
      "photo_repost_max                   376 non-null float64\n",
      "photo_repost_mean                  376 non-null float64\n",
      "photo_repost_median                376 non-null float64\n",
      "photo_text_len_cnt                 376 non-null float64\n",
      "photo_ava_change_cnt               376 non-null float64\n",
      "photo_text_url_len_cnt             376 non-null float64\n",
      "friends_from_course_cnt            384 non-null float64\n",
      "friends_mail_from_course_pct       384 non-null float64\n",
      "dtypes: bool(3), float64(65), int64(18), object(12)\n",
      "memory usage: 316.8+ KB\n"
     ]
    }
   ],
   "source": [
    "# вывести типы данных в колонках\n",
    "\n",
    "# SOLUTION:\n",
    "df.info()"
   ]
  },
  {
   "cell_type": "code",
   "execution_count": 28,
   "metadata": {},
   "outputs": [
    {
     "data": {
      "text/html": [
       "<div>\n",
       "<style scoped>\n",
       "    .dataframe tbody tr th:only-of-type {\n",
       "        vertical-align: middle;\n",
       "    }\n",
       "\n",
       "    .dataframe tbody tr th {\n",
       "        vertical-align: top;\n",
       "    }\n",
       "\n",
       "    .dataframe thead th {\n",
       "        text-align: right;\n",
       "    }\n",
       "</style>\n",
       "<table border=\"1\" class=\"dataframe\">\n",
       "  <thead>\n",
       "    <tr style=\"text-align: right;\">\n",
       "      <th></th>\n",
       "      <th>city</th>\n",
       "      <th>country</th>\n",
       "      <th>first_name</th>\n",
       "      <th>home_town</th>\n",
       "      <th>in_hse_memes_group</th>\n",
       "      <th>is_bmm</th>\n",
       "      <th>is_closed</th>\n",
       "      <th>last_name</th>\n",
       "      <th>likes_memes</th>\n",
       "      <th>uid</th>\n",
       "      <th>...</th>\n",
       "      <th>photo_month_mean</th>\n",
       "      <th>photo_repost_cnt</th>\n",
       "      <th>photo_repost_max</th>\n",
       "      <th>photo_repost_mean</th>\n",
       "      <th>photo_repost_median</th>\n",
       "      <th>photo_text_len_cnt</th>\n",
       "      <th>photo_ava_change_cnt</th>\n",
       "      <th>photo_text_url_len_cnt</th>\n",
       "      <th>friends_from_course_cnt</th>\n",
       "      <th>friends_mail_from_course_pct</th>\n",
       "    </tr>\n",
       "  </thead>\n",
       "  <tbody>\n",
       "    <tr>\n",
       "      <td>422</td>\n",
       "      <td>Москва</td>\n",
       "      <td>Россия</td>\n",
       "      <td>Александр</td>\n",
       "      <td>NaN</td>\n",
       "      <td>True</td>\n",
       "      <td>False</td>\n",
       "      <td>False</td>\n",
       "      <td>Заривный</td>\n",
       "      <td>3.0</td>\n",
       "      <td>152277289</td>\n",
       "      <td>...</td>\n",
       "      <td>1.000000</td>\n",
       "      <td>0.0</td>\n",
       "      <td>0.0</td>\n",
       "      <td>0.0</td>\n",
       "      <td>0.0</td>\n",
       "      <td>0.0</td>\n",
       "      <td>0.0</td>\n",
       "      <td>0.0</td>\n",
       "      <td>25.0</td>\n",
       "      <td>0.480000</td>\n",
       "    </tr>\n",
       "    <tr>\n",
       "      <td>423</td>\n",
       "      <td>Москва</td>\n",
       "      <td>Россия</td>\n",
       "      <td>Глеб</td>\n",
       "      <td>NaN</td>\n",
       "      <td>True</td>\n",
       "      <td>False</td>\n",
       "      <td>False</td>\n",
       "      <td>Игнатьев</td>\n",
       "      <td>108.0</td>\n",
       "      <td>115455288</td>\n",
       "      <td>...</td>\n",
       "      <td>2.857143</td>\n",
       "      <td>2.0</td>\n",
       "      <td>1.0</td>\n",
       "      <td>0.1</td>\n",
       "      <td>0.0</td>\n",
       "      <td>0.0</td>\n",
       "      <td>0.0</td>\n",
       "      <td>0.0</td>\n",
       "      <td>12.0</td>\n",
       "      <td>0.666667</td>\n",
       "    </tr>\n",
       "    <tr>\n",
       "      <td>424</td>\n",
       "      <td>Москва</td>\n",
       "      <td>Россия</td>\n",
       "      <td>Злата</td>\n",
       "      <td>NaN</td>\n",
       "      <td>True</td>\n",
       "      <td>False</td>\n",
       "      <td>False</td>\n",
       "      <td>Зимина</td>\n",
       "      <td>6.0</td>\n",
       "      <td>357509100</td>\n",
       "      <td>...</td>\n",
       "      <td>1.285714</td>\n",
       "      <td>0.0</td>\n",
       "      <td>0.0</td>\n",
       "      <td>0.0</td>\n",
       "      <td>0.0</td>\n",
       "      <td>0.0</td>\n",
       "      <td>0.0</td>\n",
       "      <td>0.0</td>\n",
       "      <td>34.0</td>\n",
       "      <td>0.558824</td>\n",
       "    </tr>\n",
       "  </tbody>\n",
       "</table>\n",
       "<p>3 rows × 98 columns</p>\n",
       "</div>"
      ],
      "text/plain": [
       "       city country first_name home_town  in_hse_memes_group  is_bmm  \\\n",
       "422  Москва  Россия  Александр       NaN                True   False   \n",
       "423  Москва  Россия       Глеб       NaN                True   False   \n",
       "424  Москва  Россия      Злата       NaN                True   False   \n",
       "\n",
       "     is_closed last_name  likes_memes        uid  ...  photo_month_mean  \\\n",
       "422      False  Заривный          3.0  152277289  ...          1.000000   \n",
       "423      False  Игнатьев        108.0  115455288  ...          2.857143   \n",
       "424      False    Зимина          6.0  357509100  ...          1.285714   \n",
       "\n",
       "     photo_repost_cnt  photo_repost_max  photo_repost_mean  \\\n",
       "422               0.0               0.0                0.0   \n",
       "423               2.0               1.0                0.1   \n",
       "424               0.0               0.0                0.0   \n",
       "\n",
       "     photo_repost_median  photo_text_len_cnt  photo_ava_change_cnt  \\\n",
       "422                  0.0                 0.0                   0.0   \n",
       "423                  0.0                 0.0                   0.0   \n",
       "424                  0.0                 0.0                   0.0   \n",
       "\n",
       "     photo_text_url_len_cnt  friends_from_course_cnt  \\\n",
       "422                     0.0                     25.0   \n",
       "423                     0.0                     12.0   \n",
       "424                     0.0                     34.0   \n",
       "\n",
       "     friends_mail_from_course_pct  \n",
       "422                      0.480000  \n",
       "423                      0.666667  \n",
       "424                      0.558824  \n",
       "\n",
       "[3 rows x 98 columns]"
      ]
     },
     "execution_count": 28,
     "metadata": {},
     "output_type": "execute_result"
    }
   ],
   "source": [
    "# Посмотреть в таблице первые 5 строк, а затем последние 3\n",
    "\n",
    "# SOLUTION:\n",
    "df.head()\n",
    "df.tail(3)"
   ]
  },
  {
   "cell_type": "code",
   "execution_count": 29,
   "metadata": {},
   "outputs": [
    {
     "data": {
      "text/plain": [
       "425"
      ]
     },
     "execution_count": 29,
     "metadata": {},
     "output_type": "execute_result"
    }
   ],
   "source": [
    "# сколько всего записей в таблице\n",
    "\n",
    "# SOLUTION:\n",
    "df.shape[0]"
   ]
  },
  {
   "cell_type": "code",
   "execution_count": 30,
   "metadata": {},
   "outputs": [
    {
     "data": {
      "text/plain": [
       "0      Москва\n",
       "1      Рязань\n",
       "2      Москва\n",
       "3         NaN\n",
       "4         NaN\n",
       "        ...  \n",
       "420       NaN\n",
       "421    Москва\n",
       "422    Москва\n",
       "423    Москва\n",
       "424    Москва\n",
       "Name: city, Length: 425, dtype: object"
      ]
     },
     "execution_count": 30,
     "metadata": {},
     "output_type": "execute_result"
    }
   ],
   "source": [
    "# выбрать колонку с городом\n",
    "\n",
    "# SOLUTION:\n",
    "df['city']"
   ]
  },
  {
   "cell_type": "code",
   "execution_count": 31,
   "metadata": {},
   "outputs": [
    {
     "data": {
      "text/plain": [
       "pandas.core.series.Series"
      ]
     },
     "execution_count": 31,
     "metadata": {},
     "output_type": "execute_result"
    }
   ],
   "source": [
    "# выбрать колонку с городом, проверить тип возвращаемых данных\n",
    "\n",
    "# SOLUTION:\n",
    "type(df['city'])"
   ]
  },
  {
   "cell_type": "markdown",
   "metadata": {},
   "source": [
    "Будьте внимательны, какой тип данных возвращает тот или иной запрос - это `DataFrame` или `Series`"
   ]
  },
  {
   "cell_type": "code",
   "execution_count": 32,
   "metadata": {},
   "outputs": [
    {
     "data": {
      "text/html": [
       "<div>\n",
       "<style scoped>\n",
       "    .dataframe tbody tr th:only-of-type {\n",
       "        vertical-align: middle;\n",
       "    }\n",
       "\n",
       "    .dataframe tbody tr th {\n",
       "        vertical-align: top;\n",
       "    }\n",
       "\n",
       "    .dataframe thead th {\n",
       "        text-align: right;\n",
       "    }\n",
       "</style>\n",
       "<table border=\"1\" class=\"dataframe\">\n",
       "  <thead>\n",
       "    <tr style=\"text-align: right;\">\n",
       "      <th></th>\n",
       "      <th>first_name</th>\n",
       "      <th>last_name</th>\n",
       "      <th>city</th>\n",
       "    </tr>\n",
       "  </thead>\n",
       "  <tbody>\n",
       "    <tr>\n",
       "      <td>0</td>\n",
       "      <td>Александра</td>\n",
       "      <td>Абашкова</td>\n",
       "      <td>Москва</td>\n",
       "    </tr>\n",
       "    <tr>\n",
       "      <td>1</td>\n",
       "      <td>Анастасия</td>\n",
       "      <td>Чуфистова</td>\n",
       "      <td>Рязань</td>\n",
       "    </tr>\n",
       "    <tr>\n",
       "      <td>2</td>\n",
       "      <td>Александр</td>\n",
       "      <td>Головачев</td>\n",
       "      <td>Москва</td>\n",
       "    </tr>\n",
       "    <tr>\n",
       "      <td>3</td>\n",
       "      <td>Анна</td>\n",
       "      <td>Лобанова</td>\n",
       "      <td>NaN</td>\n",
       "    </tr>\n",
       "    <tr>\n",
       "      <td>4</td>\n",
       "      <td>Алексей</td>\n",
       "      <td>Пузырный</td>\n",
       "      <td>NaN</td>\n",
       "    </tr>\n",
       "    <tr>\n",
       "      <td>...</td>\n",
       "      <td>...</td>\n",
       "      <td>...</td>\n",
       "      <td>...</td>\n",
       "    </tr>\n",
       "    <tr>\n",
       "      <td>420</td>\n",
       "      <td>Юлия</td>\n",
       "      <td>Замятина</td>\n",
       "      <td>NaN</td>\n",
       "    </tr>\n",
       "    <tr>\n",
       "      <td>421</td>\n",
       "      <td>Илья</td>\n",
       "      <td>Заикин</td>\n",
       "      <td>Москва</td>\n",
       "    </tr>\n",
       "    <tr>\n",
       "      <td>422</td>\n",
       "      <td>Александр</td>\n",
       "      <td>Заривный</td>\n",
       "      <td>Москва</td>\n",
       "    </tr>\n",
       "    <tr>\n",
       "      <td>423</td>\n",
       "      <td>Глеб</td>\n",
       "      <td>Игнатьев</td>\n",
       "      <td>Москва</td>\n",
       "    </tr>\n",
       "    <tr>\n",
       "      <td>424</td>\n",
       "      <td>Злата</td>\n",
       "      <td>Зимина</td>\n",
       "      <td>Москва</td>\n",
       "    </tr>\n",
       "  </tbody>\n",
       "</table>\n",
       "<p>425 rows × 3 columns</p>\n",
       "</div>"
      ],
      "text/plain": [
       "     first_name  last_name    city\n",
       "0    Александра   Абашкова  Москва\n",
       "1     Анастасия  Чуфистова  Рязань\n",
       "2     Александр  Головачев  Москва\n",
       "3          Анна   Лобанова     NaN\n",
       "4       Алексей   Пузырный     NaN\n",
       "..          ...        ...     ...\n",
       "420        Юлия   Замятина     NaN\n",
       "421        Илья     Заикин  Москва\n",
       "422   Александр   Заривный  Москва\n",
       "423        Глеб   Игнатьев  Москва\n",
       "424       Злата     Зимина  Москва\n",
       "\n",
       "[425 rows x 3 columns]"
      ]
     },
     "execution_count": 32,
     "metadata": {},
     "output_type": "execute_result"
    }
   ],
   "source": [
    "# выбрать след. колонки: имя, фамилия, город\n",
    "\n",
    "# SOLUTION:\n",
    "df[['first_name', 'last_name', 'city']]"
   ]
  },
  {
   "cell_type": "code",
   "execution_count": 33,
   "metadata": {},
   "outputs": [
    {
     "data": {
      "text/plain": [
       "array(['Москва', 'Рязань', nan, 'Краснодар', 'Ташкент', 'Казань',\n",
       "       'Кострома', 'Санкт-Петербург', 'Хабаровск', 'Пермь', 'Королёв',\n",
       "       'Железнодорожный (Балашиха)', 'Каракол', 'Минск', 'Иркутск',\n",
       "       'Химки', 'Нур-Султан / Астана', 'Abu Dhabi', 'Екатеринбург',\n",
       "       'Заречный', 'Люберцы', 'Североморск', 'Якутск', 'Запорожье',\n",
       "       'Владикавказ', 'Сочи', 'Красноярск', 'Нижний Новгород',\n",
       "       'Ростов-на-Дону', 'Белгород', 'Самара', 'Тюмень', 'Cambridge',\n",
       "       'Азов', 'Омск', 'Киров', 'Воронеж', 'Петропавловск-Камчатский',\n",
       "       'Сергиев Посад', 'Birmingham', 'Кишинев', 'Budapest', 'Бишкек',\n",
       "       'Владивосток', 'Новосибирск', 'Калуга', 'Benidorm', 'Vilamoura',\n",
       "       'Пенза', 'Ярославль', 'Новомосковск', 'Москва (деревня)',\n",
       "       'Грозный', 'Philadelphia', 'Новороссийск', 'Дубна'], dtype=object)"
      ]
     },
     "execution_count": 33,
     "metadata": {},
     "output_type": "execute_result"
    }
   ],
   "source": [
    "# Посомтреть, где сейчас живут студенты (уникальные значения колонки city)\n",
    "\n",
    "# SOLUTION:\n",
    "df['city'].unique()"
   ]
  },
  {
   "cell_type": "code",
   "execution_count": 34,
   "metadata": {},
   "outputs": [
    {
     "data": {
      "text/html": [
       "<div>\n",
       "<style scoped>\n",
       "    .dataframe tbody tr th:only-of-type {\n",
       "        vertical-align: middle;\n",
       "    }\n",
       "\n",
       "    .dataframe tbody tr th {\n",
       "        vertical-align: top;\n",
       "    }\n",
       "\n",
       "    .dataframe thead th {\n",
       "        text-align: right;\n",
       "    }\n",
       "</style>\n",
       "<table border=\"1\" class=\"dataframe\">\n",
       "  <thead>\n",
       "    <tr style=\"text-align: right;\">\n",
       "      <th></th>\n",
       "      <th>city</th>\n",
       "      <th>country</th>\n",
       "      <th>first_name</th>\n",
       "      <th>home_town</th>\n",
       "      <th>in_hse_memes_group</th>\n",
       "      <th>is_bmm</th>\n",
       "      <th>is_closed</th>\n",
       "      <th>last_name</th>\n",
       "      <th>likes_memes</th>\n",
       "      <th>uid</th>\n",
       "      <th>...</th>\n",
       "      <th>photo_month_mean</th>\n",
       "      <th>photo_repost_cnt</th>\n",
       "      <th>photo_repost_max</th>\n",
       "      <th>photo_repost_mean</th>\n",
       "      <th>photo_repost_median</th>\n",
       "      <th>photo_text_len_cnt</th>\n",
       "      <th>photo_ava_change_cnt</th>\n",
       "      <th>photo_text_url_len_cnt</th>\n",
       "      <th>friends_from_course_cnt</th>\n",
       "      <th>friends_mail_from_course_pct</th>\n",
       "    </tr>\n",
       "  </thead>\n",
       "  <tbody>\n",
       "    <tr>\n",
       "      <td>0</td>\n",
       "      <td>Москва</td>\n",
       "      <td>Россия</td>\n",
       "      <td>Александра</td>\n",
       "      <td>Москва</td>\n",
       "      <td>True</td>\n",
       "      <td>True</td>\n",
       "      <td>False</td>\n",
       "      <td>Абашкова</td>\n",
       "      <td>60.0</td>\n",
       "      <td>182152789</td>\n",
       "      <td>...</td>\n",
       "      <td>1.333333</td>\n",
       "      <td>0.0</td>\n",
       "      <td>0.0</td>\n",
       "      <td>0.000000</td>\n",
       "      <td>0.0</td>\n",
       "      <td>0.0</td>\n",
       "      <td>0.0</td>\n",
       "      <td>0.0</td>\n",
       "      <td>42.0</td>\n",
       "      <td>0.428571</td>\n",
       "    </tr>\n",
       "    <tr>\n",
       "      <td>2</td>\n",
       "      <td>Москва</td>\n",
       "      <td>Россия</td>\n",
       "      <td>Александр</td>\n",
       "      <td>Омск</td>\n",
       "      <td>False</td>\n",
       "      <td>True</td>\n",
       "      <td>False</td>\n",
       "      <td>Головачев</td>\n",
       "      <td>0.0</td>\n",
       "      <td>138413935</td>\n",
       "      <td>...</td>\n",
       "      <td>1.400000</td>\n",
       "      <td>0.0</td>\n",
       "      <td>0.0</td>\n",
       "      <td>0.000000</td>\n",
       "      <td>0.0</td>\n",
       "      <td>0.0</td>\n",
       "      <td>0.0</td>\n",
       "      <td>0.0</td>\n",
       "      <td>32.0</td>\n",
       "      <td>0.406250</td>\n",
       "    </tr>\n",
       "    <tr>\n",
       "      <td>5</td>\n",
       "      <td>Москва</td>\n",
       "      <td>Россия</td>\n",
       "      <td>Александер</td>\n",
       "      <td>NaN</td>\n",
       "      <td>True</td>\n",
       "      <td>True</td>\n",
       "      <td>False</td>\n",
       "      <td>Гуляев</td>\n",
       "      <td>104.0</td>\n",
       "      <td>145109161</td>\n",
       "      <td>...</td>\n",
       "      <td>2.500000</td>\n",
       "      <td>0.0</td>\n",
       "      <td>0.0</td>\n",
       "      <td>0.000000</td>\n",
       "      <td>0.0</td>\n",
       "      <td>0.0</td>\n",
       "      <td>0.0</td>\n",
       "      <td>0.0</td>\n",
       "      <td>29.0</td>\n",
       "      <td>0.379310</td>\n",
       "    </tr>\n",
       "    <tr>\n",
       "      <td>6</td>\n",
       "      <td>Москва</td>\n",
       "      <td>Россия</td>\n",
       "      <td>Алина</td>\n",
       "      <td>NaN</td>\n",
       "      <td>True</td>\n",
       "      <td>True</td>\n",
       "      <td>False</td>\n",
       "      <td>Хабирова</td>\n",
       "      <td>6.0</td>\n",
       "      <td>140207230</td>\n",
       "      <td>...</td>\n",
       "      <td>1.200000</td>\n",
       "      <td>0.0</td>\n",
       "      <td>0.0</td>\n",
       "      <td>0.000000</td>\n",
       "      <td>0.0</td>\n",
       "      <td>0.0</td>\n",
       "      <td>0.0</td>\n",
       "      <td>0.0</td>\n",
       "      <td>31.0</td>\n",
       "      <td>0.225806</td>\n",
       "    </tr>\n",
       "    <tr>\n",
       "      <td>8</td>\n",
       "      <td>Москва</td>\n",
       "      <td>Россия</td>\n",
       "      <td>Anastasia</td>\n",
       "      <td>NaN</td>\n",
       "      <td>True</td>\n",
       "      <td>True</td>\n",
       "      <td>False</td>\n",
       "      <td>Biryukova</td>\n",
       "      <td>0.0</td>\n",
       "      <td>72089509</td>\n",
       "      <td>...</td>\n",
       "      <td>2.285714</td>\n",
       "      <td>2.0</td>\n",
       "      <td>1.0</td>\n",
       "      <td>0.125000</td>\n",
       "      <td>0.0</td>\n",
       "      <td>0.0</td>\n",
       "      <td>0.0</td>\n",
       "      <td>0.0</td>\n",
       "      <td>47.0</td>\n",
       "      <td>0.191489</td>\n",
       "    </tr>\n",
       "    <tr>\n",
       "      <td>...</td>\n",
       "      <td>...</td>\n",
       "      <td>...</td>\n",
       "      <td>...</td>\n",
       "      <td>...</td>\n",
       "      <td>...</td>\n",
       "      <td>...</td>\n",
       "      <td>...</td>\n",
       "      <td>...</td>\n",
       "      <td>...</td>\n",
       "      <td>...</td>\n",
       "      <td>...</td>\n",
       "      <td>...</td>\n",
       "      <td>...</td>\n",
       "      <td>...</td>\n",
       "      <td>...</td>\n",
       "      <td>...</td>\n",
       "      <td>...</td>\n",
       "      <td>...</td>\n",
       "      <td>...</td>\n",
       "      <td>...</td>\n",
       "      <td>...</td>\n",
       "    </tr>\n",
       "    <tr>\n",
       "      <td>419</td>\n",
       "      <td>Москва</td>\n",
       "      <td>Россия</td>\n",
       "      <td>Паша</td>\n",
       "      <td>NaN</td>\n",
       "      <td>True</td>\n",
       "      <td>False</td>\n",
       "      <td>False</td>\n",
       "      <td>Добровольский</td>\n",
       "      <td>2.0</td>\n",
       "      <td>346120308</td>\n",
       "      <td>...</td>\n",
       "      <td>3.800000</td>\n",
       "      <td>1.0</td>\n",
       "      <td>1.0</td>\n",
       "      <td>0.026316</td>\n",
       "      <td>0.0</td>\n",
       "      <td>0.0</td>\n",
       "      <td>0.0</td>\n",
       "      <td>0.0</td>\n",
       "      <td>23.0</td>\n",
       "      <td>0.652174</td>\n",
       "    </tr>\n",
       "    <tr>\n",
       "      <td>421</td>\n",
       "      <td>Москва</td>\n",
       "      <td>Россия</td>\n",
       "      <td>Илья</td>\n",
       "      <td>NaN</td>\n",
       "      <td>True</td>\n",
       "      <td>False</td>\n",
       "      <td>False</td>\n",
       "      <td>Заикин</td>\n",
       "      <td>20.0</td>\n",
       "      <td>74324122</td>\n",
       "      <td>...</td>\n",
       "      <td>1.400000</td>\n",
       "      <td>1.0</td>\n",
       "      <td>1.0</td>\n",
       "      <td>0.071429</td>\n",
       "      <td>0.0</td>\n",
       "      <td>0.0</td>\n",
       "      <td>0.0</td>\n",
       "      <td>0.0</td>\n",
       "      <td>51.0</td>\n",
       "      <td>0.588235</td>\n",
       "    </tr>\n",
       "    <tr>\n",
       "      <td>422</td>\n",
       "      <td>Москва</td>\n",
       "      <td>Россия</td>\n",
       "      <td>Александр</td>\n",
       "      <td>NaN</td>\n",
       "      <td>True</td>\n",
       "      <td>False</td>\n",
       "      <td>False</td>\n",
       "      <td>Заривный</td>\n",
       "      <td>3.0</td>\n",
       "      <td>152277289</td>\n",
       "      <td>...</td>\n",
       "      <td>1.000000</td>\n",
       "      <td>0.0</td>\n",
       "      <td>0.0</td>\n",
       "      <td>0.000000</td>\n",
       "      <td>0.0</td>\n",
       "      <td>0.0</td>\n",
       "      <td>0.0</td>\n",
       "      <td>0.0</td>\n",
       "      <td>25.0</td>\n",
       "      <td>0.480000</td>\n",
       "    </tr>\n",
       "    <tr>\n",
       "      <td>423</td>\n",
       "      <td>Москва</td>\n",
       "      <td>Россия</td>\n",
       "      <td>Глеб</td>\n",
       "      <td>NaN</td>\n",
       "      <td>True</td>\n",
       "      <td>False</td>\n",
       "      <td>False</td>\n",
       "      <td>Игнатьев</td>\n",
       "      <td>108.0</td>\n",
       "      <td>115455288</td>\n",
       "      <td>...</td>\n",
       "      <td>2.857143</td>\n",
       "      <td>2.0</td>\n",
       "      <td>1.0</td>\n",
       "      <td>0.100000</td>\n",
       "      <td>0.0</td>\n",
       "      <td>0.0</td>\n",
       "      <td>0.0</td>\n",
       "      <td>0.0</td>\n",
       "      <td>12.0</td>\n",
       "      <td>0.666667</td>\n",
       "    </tr>\n",
       "    <tr>\n",
       "      <td>424</td>\n",
       "      <td>Москва</td>\n",
       "      <td>Россия</td>\n",
       "      <td>Злата</td>\n",
       "      <td>NaN</td>\n",
       "      <td>True</td>\n",
       "      <td>False</td>\n",
       "      <td>False</td>\n",
       "      <td>Зимина</td>\n",
       "      <td>6.0</td>\n",
       "      <td>357509100</td>\n",
       "      <td>...</td>\n",
       "      <td>1.285714</td>\n",
       "      <td>0.0</td>\n",
       "      <td>0.0</td>\n",
       "      <td>0.000000</td>\n",
       "      <td>0.0</td>\n",
       "      <td>0.0</td>\n",
       "      <td>0.0</td>\n",
       "      <td>0.0</td>\n",
       "      <td>34.0</td>\n",
       "      <td>0.558824</td>\n",
       "    </tr>\n",
       "  </tbody>\n",
       "</table>\n",
       "<p>253 rows × 98 columns</p>\n",
       "</div>"
      ],
      "text/plain": [
       "       city country  first_name home_town  in_hse_memes_group  is_bmm  \\\n",
       "0    Москва  Россия  Александра    Москва                True    True   \n",
       "2    Москва  Россия   Александр      Омск               False    True   \n",
       "5    Москва  Россия  Александер       NaN                True    True   \n",
       "6    Москва  Россия       Алина       NaN                True    True   \n",
       "8    Москва  Россия   Anastasia       NaN                True    True   \n",
       "..      ...     ...         ...       ...                 ...     ...   \n",
       "419  Москва  Россия        Паша       NaN                True   False   \n",
       "421  Москва  Россия        Илья       NaN                True   False   \n",
       "422  Москва  Россия   Александр       NaN                True   False   \n",
       "423  Москва  Россия        Глеб       NaN                True   False   \n",
       "424  Москва  Россия       Злата       NaN                True   False   \n",
       "\n",
       "     is_closed      last_name  likes_memes        uid  ...  photo_month_mean  \\\n",
       "0        False       Абашкова         60.0  182152789  ...          1.333333   \n",
       "2        False      Головачев          0.0  138413935  ...          1.400000   \n",
       "5        False         Гуляев        104.0  145109161  ...          2.500000   \n",
       "6        False       Хабирова          6.0  140207230  ...          1.200000   \n",
       "8        False      Biryukova          0.0   72089509  ...          2.285714   \n",
       "..         ...            ...          ...        ...  ...               ...   \n",
       "419      False  Добровольский          2.0  346120308  ...          3.800000   \n",
       "421      False         Заикин         20.0   74324122  ...          1.400000   \n",
       "422      False       Заривный          3.0  152277289  ...          1.000000   \n",
       "423      False       Игнатьев        108.0  115455288  ...          2.857143   \n",
       "424      False         Зимина          6.0  357509100  ...          1.285714   \n",
       "\n",
       "     photo_repost_cnt  photo_repost_max  photo_repost_mean  \\\n",
       "0                 0.0               0.0           0.000000   \n",
       "2                 0.0               0.0           0.000000   \n",
       "5                 0.0               0.0           0.000000   \n",
       "6                 0.0               0.0           0.000000   \n",
       "8                 2.0               1.0           0.125000   \n",
       "..                ...               ...                ...   \n",
       "419               1.0               1.0           0.026316   \n",
       "421               1.0               1.0           0.071429   \n",
       "422               0.0               0.0           0.000000   \n",
       "423               2.0               1.0           0.100000   \n",
       "424               0.0               0.0           0.000000   \n",
       "\n",
       "     photo_repost_median  photo_text_len_cnt  photo_ava_change_cnt  \\\n",
       "0                    0.0                 0.0                   0.0   \n",
       "2                    0.0                 0.0                   0.0   \n",
       "5                    0.0                 0.0                   0.0   \n",
       "6                    0.0                 0.0                   0.0   \n",
       "8                    0.0                 0.0                   0.0   \n",
       "..                   ...                 ...                   ...   \n",
       "419                  0.0                 0.0                   0.0   \n",
       "421                  0.0                 0.0                   0.0   \n",
       "422                  0.0                 0.0                   0.0   \n",
       "423                  0.0                 0.0                   0.0   \n",
       "424                  0.0                 0.0                   0.0   \n",
       "\n",
       "     photo_text_url_len_cnt  friends_from_course_cnt  \\\n",
       "0                       0.0                     42.0   \n",
       "2                       0.0                     32.0   \n",
       "5                       0.0                     29.0   \n",
       "6                       0.0                     31.0   \n",
       "8                       0.0                     47.0   \n",
       "..                      ...                      ...   \n",
       "419                     0.0                     23.0   \n",
       "421                     0.0                     51.0   \n",
       "422                     0.0                     25.0   \n",
       "423                     0.0                     12.0   \n",
       "424                     0.0                     34.0   \n",
       "\n",
       "     friends_mail_from_course_pct  \n",
       "0                        0.428571  \n",
       "2                        0.406250  \n",
       "5                        0.379310  \n",
       "6                        0.225806  \n",
       "8                        0.191489  \n",
       "..                            ...  \n",
       "419                      0.652174  \n",
       "421                      0.588235  \n",
       "422                      0.480000  \n",
       "423                      0.666667  \n",
       "424                      0.558824  \n",
       "\n",
       "[253 rows x 98 columns]"
      ]
     },
     "execution_count": 34,
     "metadata": {},
     "output_type": "execute_result"
    }
   ],
   "source": [
    "# вывести всех студентов, проживающих в Москве (city)\n",
    "\n",
    "# SOLUTION:\n",
    "df[df['city'] == 'Москва']"
   ]
  },
  {
   "cell_type": "code",
   "execution_count": 35,
   "metadata": {},
   "outputs": [
    {
     "data": {
      "text/plain": [
       "0.22823529411764706"
      ]
     },
     "execution_count": 35,
     "metadata": {},
     "output_type": "execute_result"
    }
   ],
   "source": [
    "# Заполните пропуски по `city` на значение `Не указано`\n",
    "# какова доля таких записей?\n",
    "\n",
    "# SOLUTION:\n",
    "df['city'] = df['city'].fillna('Не указано')\n",
    "df[df['city'] == 'Не указано'].shape[0]/df.shape[0]"
   ]
  },
  {
   "cell_type": "code",
   "execution_count": 36,
   "metadata": {},
   "outputs": [
    {
     "name": "stdout",
     "output_type": "stream",
     "text": [
      "Доля: 9.65%\n"
     ]
    },
    {
     "data": {
      "text/html": [
       "<div>\n",
       "<style scoped>\n",
       "    .dataframe tbody tr th:only-of-type {\n",
       "        vertical-align: middle;\n",
       "    }\n",
       "\n",
       "    .dataframe tbody tr th {\n",
       "        vertical-align: top;\n",
       "    }\n",
       "\n",
       "    .dataframe thead th {\n",
       "        text-align: right;\n",
       "    }\n",
       "</style>\n",
       "<table border=\"1\" class=\"dataframe\">\n",
       "  <thead>\n",
       "    <tr style=\"text-align: right;\">\n",
       "      <th></th>\n",
       "      <th>city</th>\n",
       "      <th>country</th>\n",
       "      <th>first_name</th>\n",
       "      <th>home_town</th>\n",
       "      <th>in_hse_memes_group</th>\n",
       "      <th>is_bmm</th>\n",
       "      <th>is_closed</th>\n",
       "      <th>last_name</th>\n",
       "      <th>likes_memes</th>\n",
       "      <th>uid</th>\n",
       "      <th>...</th>\n",
       "      <th>photo_month_mean</th>\n",
       "      <th>photo_repost_cnt</th>\n",
       "      <th>photo_repost_max</th>\n",
       "      <th>photo_repost_mean</th>\n",
       "      <th>photo_repost_median</th>\n",
       "      <th>photo_text_len_cnt</th>\n",
       "      <th>photo_ava_change_cnt</th>\n",
       "      <th>photo_text_url_len_cnt</th>\n",
       "      <th>friends_from_course_cnt</th>\n",
       "      <th>friends_mail_from_course_pct</th>\n",
       "    </tr>\n",
       "  </thead>\n",
       "  <tbody>\n",
       "    <tr>\n",
       "      <td>9</td>\n",
       "      <td>Москва</td>\n",
       "      <td>Россия</td>\n",
       "      <td>Николай</td>\n",
       "      <td>NaN</td>\n",
       "      <td>True</td>\n",
       "      <td>True</td>\n",
       "      <td>True</td>\n",
       "      <td>Дементьев</td>\n",
       "      <td>NaN</td>\n",
       "      <td>409423465</td>\n",
       "      <td>...</td>\n",
       "      <td>NaN</td>\n",
       "      <td>NaN</td>\n",
       "      <td>NaN</td>\n",
       "      <td>NaN</td>\n",
       "      <td>NaN</td>\n",
       "      <td>NaN</td>\n",
       "      <td>NaN</td>\n",
       "      <td>NaN</td>\n",
       "      <td>NaN</td>\n",
       "      <td>NaN</td>\n",
       "    </tr>\n",
       "    <tr>\n",
       "      <td>15</td>\n",
       "      <td>Москва</td>\n",
       "      <td>Россия</td>\n",
       "      <td>Аня</td>\n",
       "      <td>NaN</td>\n",
       "      <td>True</td>\n",
       "      <td>True</td>\n",
       "      <td>True</td>\n",
       "      <td>Никитенко</td>\n",
       "      <td>NaN</td>\n",
       "      <td>183553137</td>\n",
       "      <td>...</td>\n",
       "      <td>NaN</td>\n",
       "      <td>NaN</td>\n",
       "      <td>NaN</td>\n",
       "      <td>NaN</td>\n",
       "      <td>NaN</td>\n",
       "      <td>NaN</td>\n",
       "      <td>NaN</td>\n",
       "      <td>NaN</td>\n",
       "      <td>NaN</td>\n",
       "      <td>NaN</td>\n",
       "    </tr>\n",
       "    <tr>\n",
       "      <td>34</td>\n",
       "      <td>Хабаровск</td>\n",
       "      <td>Россия</td>\n",
       "      <td>Ангелина</td>\n",
       "      <td>NaN</td>\n",
       "      <td>True</td>\n",
       "      <td>True</td>\n",
       "      <td>True</td>\n",
       "      <td>Щетинина</td>\n",
       "      <td>NaN</td>\n",
       "      <td>192630290</td>\n",
       "      <td>...</td>\n",
       "      <td>NaN</td>\n",
       "      <td>NaN</td>\n",
       "      <td>NaN</td>\n",
       "      <td>NaN</td>\n",
       "      <td>NaN</td>\n",
       "      <td>NaN</td>\n",
       "      <td>NaN</td>\n",
       "      <td>NaN</td>\n",
       "      <td>NaN</td>\n",
       "      <td>NaN</td>\n",
       "    </tr>\n",
       "    <tr>\n",
       "      <td>35</td>\n",
       "      <td>Не указано</td>\n",
       "      <td>NaN</td>\n",
       "      <td>Глеб</td>\n",
       "      <td>NaN</td>\n",
       "      <td>True</td>\n",
       "      <td>True</td>\n",
       "      <td>True</td>\n",
       "      <td>Коптев</td>\n",
       "      <td>4.0</td>\n",
       "      <td>43811470</td>\n",
       "      <td>...</td>\n",
       "      <td>NaN</td>\n",
       "      <td>NaN</td>\n",
       "      <td>NaN</td>\n",
       "      <td>NaN</td>\n",
       "      <td>NaN</td>\n",
       "      <td>NaN</td>\n",
       "      <td>NaN</td>\n",
       "      <td>NaN</td>\n",
       "      <td>NaN</td>\n",
       "      <td>NaN</td>\n",
       "    </tr>\n",
       "    <tr>\n",
       "      <td>71</td>\n",
       "      <td>Москва</td>\n",
       "      <td>Россия</td>\n",
       "      <td>Дарья</td>\n",
       "      <td>NaN</td>\n",
       "      <td>True</td>\n",
       "      <td>True</td>\n",
       "      <td>True</td>\n",
       "      <td>Коновалова</td>\n",
       "      <td>NaN</td>\n",
       "      <td>259955111</td>\n",
       "      <td>...</td>\n",
       "      <td>NaN</td>\n",
       "      <td>NaN</td>\n",
       "      <td>NaN</td>\n",
       "      <td>NaN</td>\n",
       "      <td>NaN</td>\n",
       "      <td>NaN</td>\n",
       "      <td>NaN</td>\n",
       "      <td>NaN</td>\n",
       "      <td>NaN</td>\n",
       "      <td>NaN</td>\n",
       "    </tr>\n",
       "  </tbody>\n",
       "</table>\n",
       "<p>5 rows × 98 columns</p>\n",
       "</div>"
      ],
      "text/plain": [
       "          city country first_name home_town  in_hse_memes_group  is_bmm  \\\n",
       "9       Москва  Россия    Николай       NaN                True    True   \n",
       "15      Москва  Россия        Аня       NaN                True    True   \n",
       "34   Хабаровск  Россия   Ангелина       NaN                True    True   \n",
       "35  Не указано     NaN       Глеб       NaN                True    True   \n",
       "71      Москва  Россия      Дарья       NaN                True    True   \n",
       "\n",
       "    is_closed   last_name  likes_memes        uid  ...  photo_month_mean  \\\n",
       "9        True   Дементьев          NaN  409423465  ...               NaN   \n",
       "15       True   Никитенко          NaN  183553137  ...               NaN   \n",
       "34       True    Щетинина          NaN  192630290  ...               NaN   \n",
       "35       True      Коптев          4.0   43811470  ...               NaN   \n",
       "71       True  Коновалова          NaN  259955111  ...               NaN   \n",
       "\n",
       "    photo_repost_cnt  photo_repost_max  photo_repost_mean  \\\n",
       "9                NaN               NaN                NaN   \n",
       "15               NaN               NaN                NaN   \n",
       "34               NaN               NaN                NaN   \n",
       "35               NaN               NaN                NaN   \n",
       "71               NaN               NaN                NaN   \n",
       "\n",
       "    photo_repost_median  photo_text_len_cnt  photo_ava_change_cnt  \\\n",
       "9                   NaN                 NaN                   NaN   \n",
       "15                  NaN                 NaN                   NaN   \n",
       "34                  NaN                 NaN                   NaN   \n",
       "35                  NaN                 NaN                   NaN   \n",
       "71                  NaN                 NaN                   NaN   \n",
       "\n",
       "    photo_text_url_len_cnt  friends_from_course_cnt  \\\n",
       "9                      NaN                      NaN   \n",
       "15                     NaN                      NaN   \n",
       "34                     NaN                      NaN   \n",
       "35                     NaN                      NaN   \n",
       "71                     NaN                      NaN   \n",
       "\n",
       "    friends_mail_from_course_pct  \n",
       "9                            NaN  \n",
       "15                           NaN  \n",
       "34                           NaN  \n",
       "35                           NaN  \n",
       "71                           NaN  \n",
       "\n",
       "[5 rows x 98 columns]"
      ]
     },
     "execution_count": 36,
     "metadata": {},
     "output_type": "execute_result"
    }
   ],
   "source": [
    "# посчитать долю пользователей, у которых закрыт профиль - колонка `is_closed`\n",
    "\n",
    "# SOLUTION:\n",
    "res = df[df['is_closed']]\n",
    "frac = res.shape[0]/df.shape[0]\n",
    "print(f\"Доля: {frac:.2%}\")\n",
    "res.head()"
   ]
  },
  {
   "cell_type": "code",
   "execution_count": 37,
   "metadata": {},
   "outputs": [
    {
     "data": {
      "text/html": [
       "<div>\n",
       "<style scoped>\n",
       "    .dataframe tbody tr th:only-of-type {\n",
       "        vertical-align: middle;\n",
       "    }\n",
       "\n",
       "    .dataframe tbody tr th {\n",
       "        vertical-align: top;\n",
       "    }\n",
       "\n",
       "    .dataframe thead th {\n",
       "        text-align: right;\n",
       "    }\n",
       "</style>\n",
       "<table border=\"1\" class=\"dataframe\">\n",
       "  <thead>\n",
       "    <tr style=\"text-align: right;\">\n",
       "      <th></th>\n",
       "      <th>city</th>\n",
       "      <th>country</th>\n",
       "      <th>first_name</th>\n",
       "      <th>home_town</th>\n",
       "      <th>in_hse_memes_group</th>\n",
       "      <th>is_bmm</th>\n",
       "      <th>is_closed</th>\n",
       "      <th>last_name</th>\n",
       "      <th>likes_memes</th>\n",
       "      <th>uid</th>\n",
       "      <th>...</th>\n",
       "      <th>photo_month_mean</th>\n",
       "      <th>photo_repost_cnt</th>\n",
       "      <th>photo_repost_max</th>\n",
       "      <th>photo_repost_mean</th>\n",
       "      <th>photo_repost_median</th>\n",
       "      <th>photo_text_len_cnt</th>\n",
       "      <th>photo_ava_change_cnt</th>\n",
       "      <th>photo_text_url_len_cnt</th>\n",
       "      <th>friends_from_course_cnt</th>\n",
       "      <th>friends_mail_from_course_pct</th>\n",
       "    </tr>\n",
       "  </thead>\n",
       "  <tbody>\n",
       "    <tr>\n",
       "      <td>371</td>\n",
       "      <td>Москва</td>\n",
       "      <td>Россия</td>\n",
       "      <td>Ирина</td>\n",
       "      <td>♥Odessa♥</td>\n",
       "      <td>True</td>\n",
       "      <td>False</td>\n",
       "      <td>False</td>\n",
       "      <td>Маринова</td>\n",
       "      <td>4.0</td>\n",
       "      <td>185732469</td>\n",
       "      <td>...</td>\n",
       "      <td>9.750000</td>\n",
       "      <td>27.0</td>\n",
       "      <td>8.0</td>\n",
       "      <td>0.230769</td>\n",
       "      <td>0.0</td>\n",
       "      <td>0.0</td>\n",
       "      <td>0.0</td>\n",
       "      <td>0.0</td>\n",
       "      <td>33.0</td>\n",
       "      <td>0.515152</td>\n",
       "    </tr>\n",
       "    <tr>\n",
       "      <td>155</td>\n",
       "      <td>Москва</td>\n",
       "      <td>Россия</td>\n",
       "      <td>Надежда</td>\n",
       "      <td>NaN</td>\n",
       "      <td>True</td>\n",
       "      <td>True</td>\n",
       "      <td>False</td>\n",
       "      <td>Адамчук</td>\n",
       "      <td>15.0</td>\n",
       "      <td>199291420</td>\n",
       "      <td>...</td>\n",
       "      <td>1.142857</td>\n",
       "      <td>0.0</td>\n",
       "      <td>0.0</td>\n",
       "      <td>0.000000</td>\n",
       "      <td>0.0</td>\n",
       "      <td>0.0</td>\n",
       "      <td>0.0</td>\n",
       "      <td>0.0</td>\n",
       "      <td>42.0</td>\n",
       "      <td>0.357143</td>\n",
       "    </tr>\n",
       "    <tr>\n",
       "      <td>379</td>\n",
       "      <td>Москва</td>\n",
       "      <td>Россия</td>\n",
       "      <td>Sasha</td>\n",
       "      <td>Voronezh</td>\n",
       "      <td>False</td>\n",
       "      <td>False</td>\n",
       "      <td>False</td>\n",
       "      <td>Rudakova</td>\n",
       "      <td>12.0</td>\n",
       "      <td>69156840</td>\n",
       "      <td>...</td>\n",
       "      <td>2.090909</td>\n",
       "      <td>0.0</td>\n",
       "      <td>0.0</td>\n",
       "      <td>0.000000</td>\n",
       "      <td>0.0</td>\n",
       "      <td>0.0</td>\n",
       "      <td>0.0</td>\n",
       "      <td>1.0</td>\n",
       "      <td>56.0</td>\n",
       "      <td>0.607143</td>\n",
       "    </tr>\n",
       "  </tbody>\n",
       "</table>\n",
       "<p>3 rows × 98 columns</p>\n",
       "</div>"
      ],
      "text/plain": [
       "       city country first_name home_town  in_hse_memes_group  is_bmm  \\\n",
       "371  Москва  Россия      Ирина  ♥Odessa♥                True   False   \n",
       "155  Москва  Россия    Надежда       NaN                True    True   \n",
       "379  Москва  Россия      Sasha  Voronezh               False   False   \n",
       "\n",
       "     is_closed last_name  likes_memes        uid  ...  photo_month_mean  \\\n",
       "371      False  Маринова          4.0  185732469  ...          9.750000   \n",
       "155      False   Адамчук         15.0  199291420  ...          1.142857   \n",
       "379      False  Rudakova         12.0   69156840  ...          2.090909   \n",
       "\n",
       "     photo_repost_cnt  photo_repost_max  photo_repost_mean  \\\n",
       "371              27.0               8.0           0.230769   \n",
       "155               0.0               0.0           0.000000   \n",
       "379               0.0               0.0           0.000000   \n",
       "\n",
       "     photo_repost_median  photo_text_len_cnt  photo_ava_change_cnt  \\\n",
       "371                  0.0                 0.0                   0.0   \n",
       "155                  0.0                 0.0                   0.0   \n",
       "379                  0.0                 0.0                   0.0   \n",
       "\n",
       "     photo_text_url_len_cnt  friends_from_course_cnt  \\\n",
       "371                     0.0                     33.0   \n",
       "155                     0.0                     42.0   \n",
       "379                     1.0                     56.0   \n",
       "\n",
       "     friends_mail_from_course_pct  \n",
       "371                      0.515152  \n",
       "155                      0.357143  \n",
       "379                      0.607143  \n",
       "\n",
       "[3 rows x 98 columns]"
      ]
     },
     "execution_count": 37,
     "metadata": {},
     "output_type": "execute_result"
    }
   ],
   "source": [
    "# Посмотреть 5 случайных записей для пользователей, которые приехали в Москву\n",
    "# (`home_town` - откуда приехали, 'city' - где живут сейчас)\n",
    "\n",
    "# SOLUTION:\n",
    "df[(df['home_town'] != 'Москва') & (df['city'] == 'Москва')].sample(3)"
   ]
  },
  {
   "cell_type": "code",
   "execution_count": 38,
   "metadata": {},
   "outputs": [
    {
     "data": {
      "text/plain": [
       "array(['Александр', 'Алексей', 'Александер', 'Николай', 'Danial',\n",
       "       'Данила', 'Владимир', 'Егор', 'Артём', 'Эдик', 'Георгий',\n",
       "       'Марсель', 'Глеб', 'Кирилл', 'Данил', 'Рома', 'Никита', 'Артемий',\n",
       "       'Юрий', 'Максим', 'Иван', 'Иоан', 'Миран', 'New', 'Телубай',\n",
       "       'Zhao', 'Леонид', 'Роман', 'Даниил', 'Гоша', 'Ислам', 'Карим',\n",
       "       'Борис', 'Dima', 'Матвей', 'Misha', 'Nikita', 'Нияз', 'Саша',\n",
       "       'Rayskin', 'Дима', 'Михаил', 'Стёпа', 'Тимур', 'Ованнес', 'Давид',\n",
       "       'Андрей', 'Антон', 'Тёма', 'Артур', 'Асельдар', 'Вадим', 'Ярослав',\n",
       "       'Джанкат', 'Алик', 'Дмитрий', 'Ден', 'Ecclesiaste', 'Антанас',\n",
       "       'Vanya', 'Павел', 'Олег', 'Григорий', 'Рамиз', 'Мурат', 'Артем',\n",
       "       'Арам', 'Илья', 'Mihail', 'Радомир', 'Арсений', 'Нурали', 'Вова',\n",
       "       'Ринат', 'Алмаз', 'Пётр', 'Руслан', 'Islam', 'Dominik', 'Иззат',\n",
       "       'Рахимов', 'Asan', 'Maksim', 'Шерхан', 'Айдар', 'Виталий',\n",
       "       'Савлат', 'Иннокентий', 'Кубрат', 'Коля', 'Акрам', 'Макс', 'Игорь',\n",
       "       'Миша', 'Georgiy', 'Евгений', 'Найк', 'Сандрик', 'Plushie',\n",
       "       'Альберт', 'Митек', 'Эдуард', 'Рустам', 'Аббос', 'Натан',\n",
       "       'Владислав', 'Ваня', 'Янис', 'Паша'], dtype=object)"
      ]
     },
     "execution_count": 38,
     "metadata": {},
     "output_type": "execute_result"
    }
   ],
   "source": [
    "# Вывести уникальные мужские имена\n",
    "# пол в столбце `male_dummy`\n",
    "\n",
    "# SOLUTION:\n",
    "df.loc[df['male_dummy'] == 1, 'first_name'].unique()"
   ]
  },
  {
   "cell_type": "code",
   "execution_count": 39,
   "metadata": {},
   "outputs": [
    {
     "data": {
      "text/plain": [
       "Index(['city', 'first_name', 'in_hse_memes_group', 'is_bmm', 'is_closed',\n",
       "       'last_name', 'uid', 'male_dummy', 'facebook_dummy', 'instagram_dummy',\n",
       "       'skype_dummy', 'twitter_dummy', 'home_phone_dummy',\n",
       "       'mobile_phone_dummy', 'site_dummy', 'can_post_dummy',\n",
       "       'can_see_all_posts_dummy', 'can_see_audio_dummy',\n",
       "       'can_write_private_message_dummy', 'has_mobile_dummy', 'has_ava_dummy',\n",
       "       'wall_comments_dummy', 'english_dummy', 'albums_cnt', 'audio_cnt',\n",
       "       'friends_cnt', 'subscriptions_cnt', 'videos_cnt', 'pages_cnt',\n",
       "       'private_prof_dummy'],\n",
       "      dtype='object')"
      ]
     },
     "execution_count": 39,
     "metadata": {},
     "output_type": "execute_result"
    }
   ],
   "source": [
    "# Найти колонки без единого пропуска\n",
    "\n",
    "# SOLUTION:\n",
    "df.columns[df.notnull().all(0)]"
   ]
  },
  {
   "cell_type": "code",
   "execution_count": 40,
   "metadata": {},
   "outputs": [
    {
     "data": {
      "text/plain": [
       "first_name\n",
       "Дарья        12\n",
       "Анна         11\n",
       "Анастасия     9\n",
       "Name: uid, dtype: int64"
      ]
     },
     "execution_count": 40,
     "metadata": {},
     "output_type": "execute_result"
    }
   ],
   "source": [
    "# Вывести 3 самых популярных женских имени среди студентов\n",
    "\n",
    "# SOLUTION:\n",
    "(df[df['male_dummy'] == 0]\n",
    " .groupby('first_name')\n",
    " .count()['uid']\n",
    " .sort_values(ascending=False)\n",
    " .head(3))"
   ]
  },
  {
   "cell_type": "code",
   "execution_count": 41,
   "metadata": {
    "scrolled": true
   },
   "outputs": [
    {
     "data": {
      "text/html": [
       "<div>\n",
       "<style scoped>\n",
       "    .dataframe tbody tr th:only-of-type {\n",
       "        vertical-align: middle;\n",
       "    }\n",
       "\n",
       "    .dataframe tbody tr th {\n",
       "        vertical-align: top;\n",
       "    }\n",
       "\n",
       "    .dataframe thead th {\n",
       "        text-align: right;\n",
       "    }\n",
       "</style>\n",
       "<table border=\"1\" class=\"dataframe\">\n",
       "  <thead>\n",
       "    <tr style=\"text-align: right;\">\n",
       "      <th></th>\n",
       "      <th>first_name</th>\n",
       "      <th>last_name</th>\n",
       "      <th>likes_memes</th>\n",
       "    </tr>\n",
       "  </thead>\n",
       "  <tbody>\n",
       "    <tr>\n",
       "      <td>134</td>\n",
       "      <td>Полина</td>\n",
       "      <td>Андреева</td>\n",
       "      <td>1081.0</td>\n",
       "    </tr>\n",
       "    <tr>\n",
       "      <td>363</td>\n",
       "      <td>Николь</td>\n",
       "      <td>Пименова</td>\n",
       "      <td>685.0</td>\n",
       "    </tr>\n",
       "    <tr>\n",
       "      <td>205</td>\n",
       "      <td>Александр</td>\n",
       "      <td>Поляков</td>\n",
       "      <td>440.0</td>\n",
       "    </tr>\n",
       "    <tr>\n",
       "      <td>189</td>\n",
       "      <td>Данил</td>\n",
       "      <td>Астапов</td>\n",
       "      <td>398.0</td>\n",
       "    </tr>\n",
       "  </tbody>\n",
       "</table>\n",
       "</div>"
      ],
      "text/plain": [
       "    first_name last_name  likes_memes\n",
       "134     Полина  Андреева       1081.0\n",
       "363     Николь  Пименова        685.0\n",
       "205  Александр   Поляков        440.0\n",
       "189      Данил   Астапов        398.0"
      ]
     },
     "execution_count": 41,
     "metadata": {},
     "output_type": "execute_result"
    }
   ],
   "source": [
    "# вывести 'uid' самых больших любителей мемов (top 1% значений `likes_memes`)\n",
    "\n",
    "# SOLUTION:\n",
    "q = df['likes_memes'].quantile(0.99)\n",
    "df.loc[df['likes_memes'] >= q,\n",
    "       ['first_name', 'last_name', 'likes_memes']].sort_values('likes_memes', ascending=False)"
   ]
  },
  {
   "cell_type": "code",
   "execution_count": 42,
   "metadata": {},
   "outputs": [
    {
     "data": {
      "text/plain": [
       "is_bmm\n",
       "0    0.551331\n",
       "1    0.308642\n",
       "Name: male_dummy, dtype: float64"
      ]
     },
     "execution_count": 42,
     "metadata": {},
     "output_type": "execute_result"
    }
   ],
   "source": [
    "# посчитать соотношение полов в направлениях по маркетингу и менеджменту (`is_bmm` - если с маркетинга 1, с менеджмента 0)\n",
    "\n",
    "# SOLUTION:\n",
    "df_agg_by_bmm = df[['is_bmm', 'male_dummy']].astype(int).groupby('is_bmm')\n",
    "df_agg_by_bmm.sum()['male_dummy'] / df_agg_by_bmm.count()['male_dummy']"
   ]
  },
  {
   "cell_type": "code",
   "execution_count": 43,
   "metadata": {},
   "outputs": [
    {
     "data": {
      "text/html": [
       "<div>\n",
       "<style scoped>\n",
       "    .dataframe tbody tr th:only-of-type {\n",
       "        vertical-align: middle;\n",
       "    }\n",
       "\n",
       "    .dataframe tbody tr th {\n",
       "        vertical-align: top;\n",
       "    }\n",
       "\n",
       "    .dataframe thead th {\n",
       "        text-align: right;\n",
       "    }\n",
       "</style>\n",
       "<table border=\"1\" class=\"dataframe\">\n",
       "  <thead>\n",
       "    <tr style=\"text-align: right;\">\n",
       "      <th></th>\n",
       "      <th>first_name</th>\n",
       "      <th>last_name</th>\n",
       "      <th>photo_month_mean</th>\n",
       "    </tr>\n",
       "  </thead>\n",
       "  <tbody>\n",
       "    <tr>\n",
       "      <td>196</td>\n",
       "      <td>Алик</td>\n",
       "      <td>Атаханов</td>\n",
       "      <td>131.416667</td>\n",
       "    </tr>\n",
       "    <tr>\n",
       "      <td>214</td>\n",
       "      <td>Дуся</td>\n",
       "      <td>Шурмистова</td>\n",
       "      <td>151.833333</td>\n",
       "    </tr>\n",
       "  </tbody>\n",
       "</table>\n",
       "</div>"
      ],
      "text/plain": [
       "    first_name   last_name  photo_month_mean\n",
       "196       Алик    Атаханов        131.416667\n",
       "214       Дуся  Шурмистова        151.833333"
      ]
     },
     "execution_count": 43,
     "metadata": {},
     "output_type": "execute_result"
    }
   ],
   "source": [
    "# Найти среди двух полов лидера среди тех, кто чаще всего выкладывает фотки\n",
    "# (среднемесячное кол-во фоток максимальное `photo_month_mean`) вывести\n",
    "# ФИО и значение параметра `photo_month_mean`\n",
    "\n",
    "# SOLUTION:\n",
    "max_male = df.loc[df['male_dummy'] == 1, 'photo_month_mean'].max()\n",
    "max_female = df.loc[df['male_dummy'] == 0, 'photo_month_mean'].max()\n",
    "query_filter = (\n",
    "    (df['male_dummy'] == 0) & (df['photo_month_mean'] == max_female)\n",
    "    | (df['male_dummy'] == 1) & (df['photo_month_mean'] == max_male)\n",
    ")\n",
    "df.loc[query_filter, ['first_name', 'last_name', 'photo_month_mean']]"
   ]
  },
  {
   "cell_type": "code",
   "execution_count": 44,
   "metadata": {},
   "outputs": [
    {
     "data": {
      "text/plain": [
       "0      Александра Абашкова\n",
       "1      Анастасия Чуфистова\n",
       "2      Александр Головачев\n",
       "3            Анна Лобанова\n",
       "4         Алексей Пузырный\n",
       "              ...         \n",
       "420          Юлия Замятина\n",
       "421            Илья Заикин\n",
       "422     Александр Заривный\n",
       "423          Глеб Игнатьев\n",
       "424           Злата Зимина\n",
       "Name: first_last_name, Length: 425, dtype: object"
      ]
     },
     "execution_count": 44,
     "metadata": {},
     "output_type": "execute_result"
    }
   ],
   "source": [
    "# Создать колонку со значением фмаилии и имени через пробел\n",
    "\n",
    "# SOLUTION:\n",
    "df['first_last_name'] = df['first_name'] + ' ' + df['last_name']\n",
    "df['first_last_name']"
   ]
  },
  {
   "cell_type": "code",
   "execution_count": 45,
   "metadata": {},
   "outputs": [
    {
     "data": {
      "text/plain": [
       "array([[<matplotlib.axes._subplots.AxesSubplot object at 0x11fd48550>,\n",
       "        <matplotlib.axes._subplots.AxesSubplot object at 0x11e0331d0>]],\n",
       "      dtype=object)"
      ]
     },
     "execution_count": 45,
     "metadata": {},
     "output_type": "execute_result"
    }
   ],
   "source": [
    "# вывести распредление параметров `wall_emoji_cnt` & `wall_comment_cnt`\n",
    "\n",
    "# SOLUTION:\n",
    "df[['wall_emoji_cnt','wall_comment_cnt']].hist()"
   ]
  },
  {
   "cell_type": "code",
   "execution_count": 46,
   "metadata": {},
   "outputs": [
    {
     "name": "stdout",
     "output_type": "stream",
     "text": [
      "Доля девушек: 0.625\n"
     ]
    },
    {
     "data": {
      "text/html": [
       "<div>\n",
       "<style scoped>\n",
       "    .dataframe tbody tr th:only-of-type {\n",
       "        vertical-align: middle;\n",
       "    }\n",
       "\n",
       "    .dataframe tbody tr th {\n",
       "        vertical-align: top;\n",
       "    }\n",
       "\n",
       "    .dataframe thead th {\n",
       "        text-align: right;\n",
       "    }\n",
       "</style>\n",
       "<table border=\"1\" class=\"dataframe\">\n",
       "  <thead>\n",
       "    <tr style=\"text-align: right;\">\n",
       "      <th></th>\n",
       "      <th>first_last_name</th>\n",
       "      <th>male_dummy</th>\n",
       "      <th>wall_emoji_vs_comments</th>\n",
       "    </tr>\n",
       "  </thead>\n",
       "  <tbody>\n",
       "    <tr>\n",
       "      <td>0</td>\n",
       "      <td>Григорий Черноусов</td>\n",
       "      <td>1</td>\n",
       "      <td>1914.0</td>\n",
       "    </tr>\n",
       "    <tr>\n",
       "      <td>1</td>\n",
       "      <td>Юлия Иванова</td>\n",
       "      <td>0</td>\n",
       "      <td>1904.0</td>\n",
       "    </tr>\n",
       "    <tr>\n",
       "      <td>2</td>\n",
       "      <td>Оля Федотова</td>\n",
       "      <td>0</td>\n",
       "      <td>751.0</td>\n",
       "    </tr>\n",
       "    <tr>\n",
       "      <td>3</td>\n",
       "      <td>Дуся Шурмистова</td>\n",
       "      <td>0</td>\n",
       "      <td>737.0</td>\n",
       "    </tr>\n",
       "    <tr>\n",
       "      <td>4</td>\n",
       "      <td>Тимур Минибаев</td>\n",
       "      <td>1</td>\n",
       "      <td>402.0</td>\n",
       "    </tr>\n",
       "    <tr>\n",
       "      <td>5</td>\n",
       "      <td>Дарья Кухаренко</td>\n",
       "      <td>0</td>\n",
       "      <td>309.0</td>\n",
       "    </tr>\n",
       "    <tr>\n",
       "      <td>6</td>\n",
       "      <td>Диана Геличук</td>\n",
       "      <td>0</td>\n",
       "      <td>306.0</td>\n",
       "    </tr>\n",
       "    <tr>\n",
       "      <td>7</td>\n",
       "      <td>Андрей Гладышев</td>\n",
       "      <td>1</td>\n",
       "      <td>239.0</td>\n",
       "    </tr>\n",
       "    <tr>\n",
       "      <td>8</td>\n",
       "      <td>Сандрик Кецба</td>\n",
       "      <td>1</td>\n",
       "      <td>223.0</td>\n",
       "    </tr>\n",
       "    <tr>\n",
       "      <td>9</td>\n",
       "      <td>Соня Суханова</td>\n",
       "      <td>0</td>\n",
       "      <td>213.0</td>\n",
       "    </tr>\n",
       "    <tr>\n",
       "      <td>10</td>\n",
       "      <td>Александр Заривный</td>\n",
       "      <td>1</td>\n",
       "      <td>199.0</td>\n",
       "    </tr>\n",
       "    <tr>\n",
       "      <td>11</td>\n",
       "      <td>Анна Билялова</td>\n",
       "      <td>0</td>\n",
       "      <td>178.0</td>\n",
       "    </tr>\n",
       "    <tr>\n",
       "      <td>12</td>\n",
       "      <td>Арина Мишак</td>\n",
       "      <td>0</td>\n",
       "      <td>167.0</td>\n",
       "    </tr>\n",
       "    <tr>\n",
       "      <td>13</td>\n",
       "      <td>Дима Руденко</td>\n",
       "      <td>1</td>\n",
       "      <td>157.0</td>\n",
       "    </tr>\n",
       "    <tr>\n",
       "      <td>14</td>\n",
       "      <td>Катя Фомичева</td>\n",
       "      <td>0</td>\n",
       "      <td>151.0</td>\n",
       "    </tr>\n",
       "    <tr>\n",
       "      <td>15</td>\n",
       "      <td>Дарья Орлова</td>\n",
       "      <td>0</td>\n",
       "      <td>129.0</td>\n",
       "    </tr>\n",
       "  </tbody>\n",
       "</table>\n",
       "</div>"
      ],
      "text/plain": [
       "       first_last_name  male_dummy  wall_emoji_vs_comments\n",
       "0   Григорий Черноусов           1                  1914.0\n",
       "1         Юлия Иванова           0                  1904.0\n",
       "2         Оля Федотова           0                   751.0\n",
       "3      Дуся Шурмистова           0                   737.0\n",
       "4       Тимур Минибаев           1                   402.0\n",
       "5      Дарья Кухаренко           0                   309.0\n",
       "6        Диана Геличук           0                   306.0\n",
       "7      Андрей Гладышев           1                   239.0\n",
       "8        Сандрик Кецба           1                   223.0\n",
       "9        Соня Суханова           0                   213.0\n",
       "10  Александр Заривный           1                   199.0\n",
       "11       Анна Билялова           0                   178.0\n",
       "12         Арина Мишак           0                   167.0\n",
       "13        Дима Руденко           1                   157.0\n",
       "14       Катя Фомичева           0                   151.0\n",
       "15        Дарья Орлова           0                   129.0"
      ]
     },
     "execution_count": 46,
     "metadata": {},
     "output_type": "execute_result"
    }
   ],
   "source": [
    "# 1) создать колонку `wall_emoji_vs_comments` как отношение\n",
    "# кол-ва эмодзи `wall_emoji_cnt` к кол-ву комментариев `wall_comment_cnt` на стене,\n",
    "# 2) по показателю отобрать топ15 юзеров и вывести их (имя фамилия, пол, расчитанный показатель)\n",
    "# 3) кого там больше - парней или девушек (посчитайте долю девушек)?\n",
    "# ! в колонках бывают нули и пропуски, помните о этом\n",
    "\n",
    "# SOLUTION:\n",
    "# один из вариантов посчитать такой показатель\n",
    "# альтернативно можно пофильтровать нули и пропуски\n",
    "df['wall_emoji_vs_comments'] = (df['wall_emoji_cnt'].fillna(0) \n",
    "                                / (df['wall_comment_cnt']+1)).fillna(0)\n",
    "res = (df\n",
    "       .sort_values('wall_emoji_vs_comments', ascending=False)\n",
    "       .reset_index()\n",
    "       .loc[:15, ['first_last_name', 'male_dummy', 'wall_emoji_vs_comments']])\n",
    "\n",
    "male_frac = 1 - res['male_dummy'].sum()/res.shape[0]\n",
    "print(f\"Доля девушек: {male_frac}\")\n",
    "res"
   ]
  }
 ],
 "metadata": {
  "kernelspec": {
   "display_name": "Python 3",
   "language": "python",
   "name": "python3"
  },
  "language_info": {
   "codemirror_mode": {
    "name": "ipython",
    "version": 3
   },
   "file_extension": ".py",
   "mimetype": "text/x-python",
   "name": "python",
   "nbconvert_exporter": "python",
   "pygments_lexer": "ipython3",
   "version": "3.7.4"
  },
  "toc": {
   "base_numbering": 1,
   "nav_menu": {},
   "number_sections": false,
   "sideBar": true,
   "skip_h1_title": false,
   "title_cell": "Table of Contents",
   "title_sidebar": "Contents",
   "toc_cell": false,
   "toc_position": {
    "height": "calc(100% - 180px)",
    "left": "10px",
    "top": "150px",
    "width": "264.796875px"
   },
   "toc_section_display": true,
   "toc_window_display": true
  }
 },
 "nbformat": 4,
 "nbformat_minor": 2
}
