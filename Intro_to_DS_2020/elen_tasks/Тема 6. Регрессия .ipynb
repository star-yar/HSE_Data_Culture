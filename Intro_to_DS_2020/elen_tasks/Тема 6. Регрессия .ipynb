{
 "cells": [
  {
   "cell_type": "markdown",
   "metadata": {},
   "source": [
    "# Урок 1. Подготовка данных"
   ]
  },
  {
   "cell_type": "markdown",
   "metadata": {},
   "source": [
    "### Задание\n",
    "- Импортируйте библиотеку pandas \n",
    "- Считайте файл flights.csv функцией read_csv\n",
    "- Посмотрите на первые 5 записей методом head()"
   ]
  },
  {
   "cell_type": "code",
   "execution_count": 16,
   "metadata": {},
   "outputs": [
    {
     "data": {
      "text/html": [
       "<div>\n",
       "<style scoped>\n",
       "    .dataframe tbody tr th:only-of-type {\n",
       "        vertical-align: middle;\n",
       "    }\n",
       "\n",
       "    .dataframe tbody tr th {\n",
       "        vertical-align: top;\n",
       "    }\n",
       "\n",
       "    .dataframe thead th {\n",
       "        text-align: right;\n",
       "    }\n",
       "</style>\n",
       "<table border=\"1\" class=\"dataframe\">\n",
       "  <thead>\n",
       "    <tr style=\"text-align: right;\">\n",
       "      <th></th>\n",
       "      <th>MONTH</th>\n",
       "      <th>DAY</th>\n",
       "      <th>DAY_OF_WEEK</th>\n",
       "      <th>AIRLINE</th>\n",
       "      <th>ORIGIN_AIRPORT</th>\n",
       "      <th>DESTINATION_AIRPORT</th>\n",
       "      <th>SCHEDULED_DEPARTURE</th>\n",
       "      <th>DEPARTURE_DELAY</th>\n",
       "      <th>AIR_TIME</th>\n",
       "      <th>DISTANCE</th>\n",
       "      <th>DEP_TIME_H</th>\n",
       "      <th>DEP_TIME_M</th>\n",
       "    </tr>\n",
       "  </thead>\n",
       "  <tbody>\n",
       "    <tr>\n",
       "      <th>0</th>\n",
       "      <td>1</td>\n",
       "      <td>1</td>\n",
       "      <td>4</td>\n",
       "      <td>AS</td>\n",
       "      <td>0.0</td>\n",
       "      <td>0.0</td>\n",
       "      <td>5</td>\n",
       "      <td>-11.0</td>\n",
       "      <td>169.0</td>\n",
       "      <td>1448</td>\n",
       "      <td>23.0</td>\n",
       "      <td>54.0</td>\n",
       "    </tr>\n",
       "    <tr>\n",
       "      <th>1</th>\n",
       "      <td>1</td>\n",
       "      <td>1</td>\n",
       "      <td>4</td>\n",
       "      <td>AA</td>\n",
       "      <td>0.0</td>\n",
       "      <td>0.0</td>\n",
       "      <td>10</td>\n",
       "      <td>-8.0</td>\n",
       "      <td>263.0</td>\n",
       "      <td>2330</td>\n",
       "      <td>0.0</td>\n",
       "      <td>2.0</td>\n",
       "    </tr>\n",
       "    <tr>\n",
       "      <th>2</th>\n",
       "      <td>1</td>\n",
       "      <td>1</td>\n",
       "      <td>4</td>\n",
       "      <td>US</td>\n",
       "      <td>0.0</td>\n",
       "      <td>0.0</td>\n",
       "      <td>20</td>\n",
       "      <td>-2.0</td>\n",
       "      <td>266.0</td>\n",
       "      <td>2296</td>\n",
       "      <td>0.0</td>\n",
       "      <td>18.0</td>\n",
       "    </tr>\n",
       "    <tr>\n",
       "      <th>3</th>\n",
       "      <td>1</td>\n",
       "      <td>1</td>\n",
       "      <td>4</td>\n",
       "      <td>AA</td>\n",
       "      <td>0.0</td>\n",
       "      <td>0.0</td>\n",
       "      <td>20</td>\n",
       "      <td>-5.0</td>\n",
       "      <td>258.0</td>\n",
       "      <td>2342</td>\n",
       "      <td>0.0</td>\n",
       "      <td>15.0</td>\n",
       "    </tr>\n",
       "    <tr>\n",
       "      <th>4</th>\n",
       "      <td>1</td>\n",
       "      <td>1</td>\n",
       "      <td>4</td>\n",
       "      <td>AS</td>\n",
       "      <td>0.0</td>\n",
       "      <td>0.0</td>\n",
       "      <td>25</td>\n",
       "      <td>-1.0</td>\n",
       "      <td>199.0</td>\n",
       "      <td>1448</td>\n",
       "      <td>0.0</td>\n",
       "      <td>24.0</td>\n",
       "    </tr>\n",
       "  </tbody>\n",
       "</table>\n",
       "</div>"
      ],
      "text/plain": [
       "   MONTH  DAY  DAY_OF_WEEK AIRLINE  ORIGIN_AIRPORT  DESTINATION_AIRPORT  \\\n",
       "0      1    1            4      AS             0.0                  0.0   \n",
       "1      1    1            4      AA             0.0                  0.0   \n",
       "2      1    1            4      US             0.0                  0.0   \n",
       "3      1    1            4      AA             0.0                  0.0   \n",
       "4      1    1            4      AS             0.0                  0.0   \n",
       "\n",
       "   SCHEDULED_DEPARTURE  DEPARTURE_DELAY  AIR_TIME  DISTANCE  DEP_TIME_H  \\\n",
       "0                    5            -11.0     169.0      1448        23.0   \n",
       "1                   10             -8.0     263.0      2330         0.0   \n",
       "2                   20             -2.0     266.0      2296         0.0   \n",
       "3                   20             -5.0     258.0      2342         0.0   \n",
       "4                   25             -1.0     199.0      1448         0.0   \n",
       "\n",
       "   DEP_TIME_M  \n",
       "0        54.0  \n",
       "1         2.0  \n",
       "2        18.0  \n",
       "3        15.0  \n",
       "4        24.0  "
      ]
     },
     "execution_count": 16,
     "metadata": {},
     "output_type": "execute_result"
    }
   ],
   "source": [
    "# Импортируйте библиотеку pandas \n",
    "import pandas as pd\n",
    "SEED = 42\n",
    "# Считайте файл flights.csv\n",
    "data = pd.read_csv('flights.csv', index_col=0)\n",
    "# Посмотрите на первые 5 записей\n",
    "data.head()"
   ]
  },
  {
   "cell_type": "markdown",
   "metadata": {},
   "source": [
    "### Задание\n",
    "- Выделите целевую переменную в отдельную переменную из датафрейма\n",
    "- Удалите колонку DEPARTURE_DELAY из датафрейма методом drop()"
   ]
  },
  {
   "cell_type": "code",
   "execution_count": 17,
   "metadata": {},
   "outputs": [],
   "source": [
    "# Выделите целевую переменную в отдельную переменную из датафрейма\n",
    "y = data['DEPARTURE_DELAY']\n",
    "\n",
    "# Удалите колонку DEPARTURE_DELAY\n",
    "data = data.drop('DEPARTURE_DELAY', axis=1)"
   ]
  },
  {
   "cell_type": "markdown",
   "metadata": {},
   "source": [
    "### Задание \n",
    "- Посмотрите список колонок датафрейма \n",
    "- Запишите в лист var_cat категориальные переменные 'MONTH', 'DAY_OF_WEEK', 'AIRLINE'\n",
    "- Запишите остальные переменные в лист var_num"
   ]
  },
  {
   "cell_type": "code",
   "execution_count": 18,
   "metadata": {},
   "outputs": [
    {
     "name": "stdout",
     "output_type": "stream",
     "text": [
      "Index(['MONTH', 'DAY', 'DAY_OF_WEEK', 'AIRLINE', 'ORIGIN_AIRPORT',\n",
      "       'DESTINATION_AIRPORT', 'SCHEDULED_DEPARTURE', 'AIR_TIME', 'DISTANCE',\n",
      "       'DEP_TIME_H', 'DEP_TIME_M'],\n",
      "      dtype='object')\n"
     ]
    }
   ],
   "source": [
    "# Посмотрите список колонок датафрейма \n",
    "print(data.columns)\n",
    "# Выделите категориальные признаки\n",
    "var_cat = ['MONTH', 'DAY_OF_WEEK', 'AIRLINE']\n",
    "# Выделите числовые признаки\n",
    "var_num = sorted(list(set(data.columns) - set(cat_feat)))"
   ]
  },
  {
   "cell_type": "markdown",
   "metadata": {},
   "source": [
    "### Задание - обработка катпеременных\n",
    "- Обработайте категориальные признаки функцией pandas.get_dummies()\n"
   ]
  },
  {
   "cell_type": "code",
   "execution_count": 19,
   "metadata": {},
   "outputs": [],
   "source": [
    "# Обработайте категориальные признаки\n",
    "data = pd.get_dummies(data, drop_first=True, columns=var_cat)"
   ]
  },
  {
   "cell_type": "markdown",
   "metadata": {},
   "source": [
    "# Урок 2. Обучить линрегрессию"
   ]
  },
  {
   "cell_type": "markdown",
   "metadata": {},
   "source": [
    "### Задание - разбить и отшкалировать"
   ]
  },
  {
   "cell_type": "code",
   "execution_count": 21,
   "metadata": {},
   "outputs": [
    {
     "name": "stderr",
     "output_type": "stream",
     "text": [
      "/anaconda3/lib/python3.7/site-packages/sklearn/preprocessing/data.py:625: DataConversionWarning: Data with input dtype int64, float64 were all converted to float64 by StandardScaler.\n",
      "  return self.partial_fit(X, y)\n",
      "/anaconda3/lib/python3.7/site-packages/ipykernel_launcher.py:14: DataConversionWarning: Data with input dtype int64, float64 were all converted to float64 by StandardScaler.\n",
      "  \n",
      "/anaconda3/lib/python3.7/site-packages/ipykernel_launcher.py:14: SettingWithCopyWarning: \n",
      "A value is trying to be set on a copy of a slice from a DataFrame.\n",
      "Try using .loc[row_indexer,col_indexer] = value instead\n",
      "\n",
      "See the caveats in the documentation: http://pandas.pydata.org/pandas-docs/stable/indexing.html#indexing-view-versus-copy\n",
      "  \n",
      "/anaconda3/lib/python3.7/site-packages/pandas/core/indexing.py:543: SettingWithCopyWarning: \n",
      "A value is trying to be set on a copy of a slice from a DataFrame.\n",
      "Try using .loc[row_indexer,col_indexer] = value instead\n",
      "\n",
      "See the caveats in the documentation: http://pandas.pydata.org/pandas-docs/stable/indexing.html#indexing-view-versus-copy\n",
      "  self.obj[item] = s\n",
      "/anaconda3/lib/python3.7/site-packages/ipykernel_launcher.py:17: DataConversionWarning: Data with input dtype int64, float64 were all converted to float64 by StandardScaler.\n",
      "/anaconda3/lib/python3.7/site-packages/ipykernel_launcher.py:17: SettingWithCopyWarning: \n",
      "A value is trying to be set on a copy of a slice from a DataFrame.\n",
      "Try using .loc[row_indexer,col_indexer] = value instead\n",
      "\n",
      "See the caveats in the documentation: http://pandas.pydata.org/pandas-docs/stable/indexing.html#indexing-view-versus-copy\n",
      "/anaconda3/lib/python3.7/site-packages/pandas/core/indexing.py:543: SettingWithCopyWarning: \n",
      "A value is trying to be set on a copy of a slice from a DataFrame.\n",
      "Try using .loc[row_indexer,col_indexer] = value instead\n",
      "\n",
      "See the caveats in the documentation: http://pandas.pydata.org/pandas-docs/stable/indexing.html#indexing-view-versus-copy\n",
      "  self.obj[item] = s\n"
     ]
    }
   ],
   "source": [
    "from sklearn.model_selection import train_test_split\n",
    "from sklearn.preprocessing import StandardScaler\n",
    "\n",
    "# Разбейте данные на тестовую и тренировочную выборки\n",
    "X_train, X_test, y_train, y_test = train_test_split(data, y, test_size=0.2, random_state=SEED)\n",
    "# Объвите шкалировщик\n",
    "scaler = StandardScaler()\n",
    "\n",
    "# Обучите шкалировщик\n",
    "scaler.fit(X_train[var_feat])\n",
    "\n",
    "# Преобразуйте обучающую выборку\n",
    "X_train[var_num] = scaler.transform(X_train[var_num])\n",
    "\n",
    "# Преобразуйте тестовую выборку\n",
    "X_test[var_num] = scaler.transform(X_test[var_num])"
   ]
  },
  {
   "cell_type": "markdown",
   "metadata": {},
   "source": [
    "### Задание\n",
    "- Импортируйте функцию LinearRegression из модуля sklearn.linear_model\n",
    "- Объявите модель, вызвав функцию LinearRegression и записав результат в linreg\n",
    "- Обучите модель: примените метод fit() к тренировочным данным\n",
    "- Сделайте предсказание на тестовых данных методом predict()"
   ]
  },
  {
   "cell_type": "code",
   "execution_count": 24,
   "metadata": {},
   "outputs": [],
   "source": [
    "# Импортируйте функцию LinearRegression\n",
    "from sklearn.linear_model import LinearRegression\n",
    "# Объявите линейную регрессию\n",
    "linreg = LinearRegression()\n",
    "# Обучите линейную регрессию\n",
    "linreg.fit(X_train, y_train)\n",
    "# Сделайте предсказание на тесте\n",
    "y_pred = linreg.predict(X_test)"
   ]
  },
  {
   "cell_type": "markdown",
   "metadata": {},
   "source": [
    "# Урок 3. Метрики регрессии"
   ]
  },
  {
   "cell_type": "markdown",
   "metadata": {},
   "source": [
    "### Задание - MAE\n",
    "- Импортируйте функцию mean_absolute_error из модуля sklearn.metrics\n",
    "- Посчитайте качество прогноза по метрике MAE и запишите результат в переменную mae_linreg\n",
    "- Распечатайте значение метрики\n"
   ]
  },
  {
   "cell_type": "code",
   "execution_count": 25,
   "metadata": {},
   "outputs": [
    {
     "name": "stdout",
     "output_type": "stream",
     "text": [
      "23.237274152742952\n"
     ]
    }
   ],
   "source": [
    "# Импортируйте функцию mean_absolute_error\n",
    "from sklearn.metrics import mean_absolute_error\n",
    "# Посчитайте качество прогноза по метрике MAE\n",
    "mae_linreg = mean_absolute_error(y_test, y_pred)\n",
    "# Напечатайте метрику качества\n",
    "print(mae_linreg)"
   ]
  },
  {
   "cell_type": "markdown",
   "metadata": {},
   "source": [
    "### Задание - MAE руками"
   ]
  },
  {
   "cell_type": "markdown",
   "metadata": {},
   "source": [
    "### Задание - MSE\n",
    "- Импортируйте функцию mean_squared_error из модуля sklearn.metrics\n",
    "- Посчитайте качество прогноза по метрике MSE и запишите результат в переменную mse_linreg\n",
    "- Распечатайте значение метрики\n"
   ]
  },
  {
   "cell_type": "code",
   "execution_count": 26,
   "metadata": {},
   "outputs": [
    {
     "name": "stdout",
     "output_type": "stream",
     "text": [
      "1828.842742493865\n"
     ]
    }
   ],
   "source": [
    "# Импортируйте функцию mean_squared_error\n",
    "from sklearn.metrics import mean_squared_error\n",
    "# Посчитайте качество прогноза по метрике MSE\n",
    "mse_linreg = mean_squared_error(y_test, y_pred)\n",
    "# Напечатайте метрику качества\n",
    "print(mse_linreg)"
   ]
  },
  {
   "cell_type": "markdown",
   "metadata": {},
   "source": [
    "### Задание - MSE руками"
   ]
  },
  {
   "cell_type": "markdown",
   "metadata": {},
   "source": [
    "### Задание RMSE"
   ]
  },
  {
   "cell_type": "code",
   "execution_count": 68,
   "metadata": {},
   "outputs": [
    {
     "name": "stdout",
     "output_type": "stream",
     "text": [
      "42.764970975014876\n"
     ]
    }
   ],
   "source": [
    "# Импортируйте библиотеку numpy\n",
    "import numpy as np \n",
    "# Найдите RMSE\n",
    "rmse_linreg = np.sqrt(mse_linreg)\n",
    "# Напечатайте метрику качества\n",
    "print(rmse_linreg)"
   ]
  },
  {
   "cell_type": "markdown",
   "metadata": {},
   "source": [
    "### Задание - $R^2$\n",
    "- Импортируйте функцию r2_score из модуля sklearn.metrics\n",
    "- Посчитайте качество прогноза по метрике $R^2$ и запишите результат в переменную r2_linreg\n",
    "- Распечатайте значение метрики\n"
   ]
  },
  {
   "cell_type": "code",
   "execution_count": 71,
   "metadata": {},
   "outputs": [
    {
     "name": "stdout",
     "output_type": "stream",
     "text": [
      "0.12675527200971748\n"
     ]
    }
   ],
   "source": [
    "# Импортируйте функцию r2_score\n",
    "from sklearn.metrics import r2_score\n",
    "# Посчитайте качество прогноза по метрике MSE\n",
    "r2_linreg = r2_score(y_test, y_pred)\n",
    "# Напечатайте метрику качества\n",
    "print(r2_linreg)"
   ]
  },
  {
   "cell_type": "markdown",
   "metadata": {},
   "source": [
    "### Задание - $R^2$ руками"
   ]
  },
  {
   "cell_type": "markdown",
   "metadata": {},
   "source": [
    "### Демонстрация собранной функции"
   ]
  },
  {
   "cell_type": "code",
   "execution_count": 55,
   "metadata": {},
   "outputs": [],
   "source": [
    "import numpy as np\n",
    "from sklearn.metrics import mean_absolute_error, mean_squared_error, r2_score\n",
    "def count_metrics(y_test, y_pred):\n",
    "    mae = mean_absolute_error(y_test, y_pred)\n",
    "    mse = mean_squared_error(y_test, y_pred)\n",
    "    rmse = np.sqrt(mse)\n",
    "    r2 = r2_score(y_test, y_pred)\n",
    "    return mae, mse, rmse, r2 "
   ]
  },
  {
   "cell_type": "markdown",
   "metadata": {},
   "source": [
    "# Урок 4. Lasso и Ridge-регрессии"
   ]
  },
  {
   "cell_type": "markdown",
   "metadata": {},
   "source": [
    "### Задание - Лассо-регрессия\n",
    "\n",
    "- Импортируйте функцию Lasso из модуля sklearn.linear_model\n",
    "- Объявите модель \n",
    "- ОБУЧИТЕ МОДЕЛЬ МЕТОДОМ fit\n",
    "- Сделайте ПРОГНОЗЫ НА ТЕСТОВОЙ ВЫБОРКЕ методом predict\n",
    "- Рассчитайте метрики пользовательской функцией"
   ]
  },
  {
   "cell_type": "code",
   "execution_count": 59,
   "metadata": {},
   "outputs": [
    {
     "name": "stdout",
     "output_type": "stream",
     "text": [
      "MAE: 27.302206648468893\n",
      "MSE: 2069.434818977537\n",
      "RMSE 45.49104108478434\n",
      "R2 0.011876197115006537\n"
     ]
    }
   ],
   "source": [
    "# Импортируйте функцию Lasso \n",
    "from sklearn.linear_model import Lasso \n",
    "\n",
    "# Объявите модель \n",
    "model_lasso = Lasso()\n",
    "\n",
    "# ОБУЧИТЕ МОДЕЛЬ МЕТОДОМ fit\n",
    "model_lasso.fit(X_train, y_train)\n",
    "\n",
    "# Сделайте ПРОГНОЗЫ НА ТЕСТОВОЙ ВЫБОРКЕ\n",
    "y_pred_lasso = model_lasso.predict(X_test)\n",
    "\n",
    "# Рассчитайте метрики пользовательской функцией\n",
    "mae_lasso, mse_lasso, rmse_lasso, r2_lasso = count_metrics(y_test, y_pred_lasso)\n",
    "\n",
    "print(\"MAE:\", mae_lasso)\n",
    "print('MSE:', mse_lasso)\n",
    "print('RMSE', rmse_lasso)\n",
    "print('R2', r2_lasso)"
   ]
  },
  {
   "cell_type": "markdown",
   "metadata": {},
   "source": [
    "### Задание - Ridge-регрессия\n",
    "\n",
    "- Импортируйте функцию Ridge из модуля sklearn.linear_model\n",
    "- Объявите модель \n",
    "- ОБУЧИТЕ МОДЕЛЬ МЕТОДОМ fit\n",
    "- Сделайте ПРОГНОЗЫ НА ТЕСТОВОЙ ВЫБОРКЕ методом predict\n",
    "- Рассчитайте метрики пользовательской функцией"
   ]
  },
  {
   "cell_type": "code",
   "execution_count": 61,
   "metadata": {},
   "outputs": [
    {
     "name": "stdout",
     "output_type": "stream",
     "text": [
      "MAE: 23.235981082714044\n",
      "MSE: 1828.77318344818\n",
      "RMSE 42.76415769599794\n",
      "R2 0.12678848540117926\n"
     ]
    }
   ],
   "source": [
    "# Импортируйте функцию Ridge\n",
    "from sklearn.linear_model import Ridge \n",
    "\n",
    "# ОБЪЯВИТЕ МОДЕЛЬ\n",
    "model_ridge = Ridge()\n",
    "\n",
    "# ОБУЧИТЕ МОДЕЛЬ МЕТОДОМ fit\n",
    "model_ridge.fit(X_train, y_train)\n",
    "\n",
    "# ПРОГНОЗЫ НА ТЕСТОВОЙ ВЫБОРКЕ\n",
    "y_pred_ridge = model_ridge.predict(X_test)\n",
    "\n",
    "# Рассчитайте метрики пользовательской функцией\n",
    "mae_ridge, mse_ridge, rmse_ridge, r2_ridge = count_metrics(y_test, y_pred_ridge)\n",
    "\n",
    "print(\"MAE:\", mae_ridge)\n",
    "print('MSE:', mse_ridge)\n",
    "print('RMSE', rmse_ridge)\n",
    "print('R2', r2_ridge)"
   ]
  },
  {
   "cell_type": "markdown",
   "metadata": {},
   "source": [
    "# Урок 5. Регрессия на деревьях"
   ]
  },
  {
   "cell_type": "markdown",
   "metadata": {},
   "source": [
    "### Задание \n",
    "- Импортируйте функцию DecisionTreeRegressor из модуля sklearn.tree\n",
    "- Объявите модель \n",
    "- ОБУЧИТЕ МОДЕЛЬ МЕТОДОМ fit\n",
    "- Сделайте ПРОГНОЗЫ НА ТЕСТОВОЙ ВЫБОРКЕ методом predict\n",
    "- Рассчитайте метрики пользовательской функцией"
   ]
  },
  {
   "cell_type": "code",
   "execution_count": 64,
   "metadata": {},
   "outputs": [
    {
     "name": "stdout",
     "output_type": "stream",
     "text": [
      "MAE: 1.542295685993552\n",
      "MSE: 31.729696535489484\n",
      "RMSE 5.632911905532474\n",
      "R2 0.9848495501682313\n"
     ]
    }
   ],
   "source": [
    "# Импортируйте функцию DecisionTreeRegressor\n",
    "from sklearn.tree import DecisionTreeRegressor\n",
    "# Объявите модель\n",
    "tree_reg = DecisionTreeRegressor(random_state=SEED)\n",
    "\n",
    "# Обучите модель\n",
    "tree_reg.fit(X_train, y_train)\n",
    "\n",
    "# Сделайте предсказания на тесте\n",
    "y_pred_tree = tree_reg.predict(X_test)\n",
    "\n",
    "# Рассчитайте метрики пользовательской функцией\n",
    "mae_tree, mse_tree, rmse_tree, r2_tree = count_metrics(y_test, y_pred_tree)\n",
    "\n",
    "print(\"MAE:\", mae_tree)\n",
    "print('MSE:', mse_tree)\n",
    "print('RMSE', rmse_tree)\n",
    "print('R2', r2_tree)"
   ]
  },
  {
   "cell_type": "markdown",
   "metadata": {},
   "source": [
    "### Задание \n",
    "- Импортируйте функцию RandomForestRegressor из модуля sklearn.ensemble\n",
    "- Объявите модель \n",
    "- ОБУЧИТЕ МОДЕЛЬ МЕТОДОМ fit\n",
    "- Сделайте ПРОГНОЗЫ НА ТЕСТОВОЙ ВЫБОРКЕ методом predict\n",
    "- Рассчитайте метрики пользовательской функцией"
   ]
  },
  {
   "cell_type": "code",
   "execution_count": 65,
   "metadata": {},
   "outputs": [
    {
     "name": "stderr",
     "output_type": "stream",
     "text": [
      "/anaconda3/lib/python3.7/site-packages/sklearn/ensemble/forest.py:246: FutureWarning: The default value of n_estimators will change from 10 in version 0.20 to 100 in 0.22.\n",
      "  \"10 in version 0.20 to 100 in 0.22.\", FutureWarning)\n"
     ]
    },
    {
     "name": "stdout",
     "output_type": "stream",
     "text": [
      "MAE: 1.1434010541937463\n",
      "MSE: 16.466735581597668\n",
      "RMSE 4.057922569689775\n",
      "R2 0.9921373830019787\n"
     ]
    }
   ],
   "source": [
    "# Импортируйте функцию RandomForestRegressor\n",
    "from sklearn.ensemble import RandomForestRegressor\n",
    "# Объявите случайный лес\n",
    "rfr = RandomForestRegressor(random_state=SEED)\n",
    "\n",
    "# Обучите случайный лес\n",
    "rfr.fit(X_train, y_train)\n",
    "\n",
    "# Сделайте предсказания на тесте\n",
    "y_pred_rfr = rfr.predict(X_test)\n",
    "\n",
    "# Рассчитайте метрики пользовательской функцией\n",
    "mae_rfr, mse_rfr, rmse_rfr, r2_rfr = count_metrics(y_test, y_pred_rfr)\n",
    "\n",
    "print(\"MAE:\", mae_rfr)\n",
    "print('MSE:', mse_rfr)\n",
    "print('RMSE', rmse_rfr)\n",
    "print('R2', r2_rfr)"
   ]
  },
  {
   "cell_type": "markdown",
   "metadata": {},
   "source": [
    "# Урок 6. Сравнение моделей"
   ]
  },
  {
   "cell_type": "markdown",
   "metadata": {},
   "source": [
    "### Задание\n",
    "- Создайте лист с названиями моделей  ['Линейная регрессия', 'Lasso-регрессия', 'Ridge-регрессия', 'Регрессионное дерево', 'Регрессия случайным лесом']\n",
    "- Создайте лист с метрикой MAE для соответствующих моделей [mae_linreg, mae_lasso, mae_ridge, mae_tree, mae_rfr]\n",
    "- Создайте лист с метрикой RMSE для соответствующих моделей [rmse_linreg, rmse_lasso, rmse_ridge, rmse_tree, mae_rfr] \n",
    "- Создайте лист с метрикой R2 для соответствующих моделей [r2_linreg, r2_lasso, r2_ridge, r2_tree, r2_rfr]\n",
    "- Соберите в словарь модели и метрики\n",
    "- Создайте датафрейм metrics_df из словаря metrics_dict функцией pd.DataFrame()"
   ]
  },
  {
   "cell_type": "code",
   "execution_count": 74,
   "metadata": {},
   "outputs": [
    {
     "data": {
      "text/html": [
       "<div>\n",
       "<style scoped>\n",
       "    .dataframe tbody tr th:only-of-type {\n",
       "        vertical-align: middle;\n",
       "    }\n",
       "\n",
       "    .dataframe tbody tr th {\n",
       "        vertical-align: top;\n",
       "    }\n",
       "\n",
       "    .dataframe thead th {\n",
       "        text-align: right;\n",
       "    }\n",
       "</style>\n",
       "<table border=\"1\" class=\"dataframe\">\n",
       "  <thead>\n",
       "    <tr style=\"text-align: right;\">\n",
       "      <th></th>\n",
       "      <th>Модели</th>\n",
       "      <th>MAE</th>\n",
       "      <th>RMSE</th>\n",
       "      <th>R2</th>\n",
       "    </tr>\n",
       "  </thead>\n",
       "  <tbody>\n",
       "    <tr>\n",
       "      <th>0</th>\n",
       "      <td>Линейная регрессия</td>\n",
       "      <td>23.237274</td>\n",
       "      <td>42.764971</td>\n",
       "      <td>0.126755</td>\n",
       "    </tr>\n",
       "    <tr>\n",
       "      <th>1</th>\n",
       "      <td>Lasso-регрессия</td>\n",
       "      <td>27.302207</td>\n",
       "      <td>45.491041</td>\n",
       "      <td>0.011876</td>\n",
       "    </tr>\n",
       "    <tr>\n",
       "      <th>2</th>\n",
       "      <td>Ridge-регрессия</td>\n",
       "      <td>23.235981</td>\n",
       "      <td>42.764158</td>\n",
       "      <td>0.126788</td>\n",
       "    </tr>\n",
       "    <tr>\n",
       "      <th>3</th>\n",
       "      <td>Регрессионное дерево</td>\n",
       "      <td>1.542296</td>\n",
       "      <td>5.632912</td>\n",
       "      <td>0.984850</td>\n",
       "    </tr>\n",
       "    <tr>\n",
       "      <th>4</th>\n",
       "      <td>Регрессия случайным лесом</td>\n",
       "      <td>1.143401</td>\n",
       "      <td>1.143401</td>\n",
       "      <td>0.992137</td>\n",
       "    </tr>\n",
       "  </tbody>\n",
       "</table>\n",
       "</div>"
      ],
      "text/plain": [
       "                      Модели        MAE       RMSE        R2\n",
       "0         Линейная регрессия  23.237274  42.764971  0.126755\n",
       "1            Lasso-регрессия  27.302207  45.491041  0.011876\n",
       "2            Ridge-регрессия  23.235981  42.764158  0.126788\n",
       "3       Регрессионное дерево   1.542296   5.632912  0.984850\n",
       "4  Регрессия случайным лесом   1.143401   1.143401  0.992137"
      ]
     },
     "execution_count": 74,
     "metadata": {},
     "output_type": "execute_result"
    }
   ],
   "source": [
    "# Создайте лист с названиями моделей\n",
    "models = ['Линейная регрессия', 'Lasso-регрессия', 'Ridge-регрессия', 'Регрессионное дерево', 'Регрессия случайным лесом']\n",
    "# Создайте лист с метрикой MAE для соответствующих моделей\n",
    "mae = [mae_linreg, mae_lasso, mae_ridge, mae_tree, mae_rfr] \n",
    "# Создайте лист с метрикой MSE для соответствующих моделей\n",
    "rmse = [rmse_linreg, rmse_lasso, rmse_ridge, rmse_tree, mae_rfr] \n",
    "# Создайте лист с метрикой R2 для соответствующих моделей\n",
    "r2 = [r2_linreg, r2_lasso, r2_ridge, r2_tree, r2_rfr]\n",
    "\n",
    "# Соберите в словарь модели и метрики\n",
    "metrics_dict = {'Модели': models,\n",
    "               'MAE': mae,\n",
    "               'RMSE': rmse,\n",
    "               'R2': r2}\n",
    "# Соберите датафрейм из словаря metrics_dict\n",
    "metrics_df = pd.DataFrame(metrics_dict)\n",
    "metrics_df"
   ]
  }
 ],
 "metadata": {
  "file_extension": ".py",
  "kernelspec": {
   "display_name": "Python 3",
   "language": "python",
   "name": "python3"
  },
  "language_info": {
   "codemirror_mode": {
    "name": "ipython",
    "version": 3
   },
   "file_extension": ".py",
   "mimetype": "text/x-python",
   "name": "python",
   "nbconvert_exporter": "python",
   "pygments_lexer": "ipython3",
   "version": "3.7.1"
  },
  "mimetype": "text/x-python",
  "name": "python",
  "npconvert_exporter": "python",
  "pygments_lexer": "ipython3",
  "version": 3
 },
 "nbformat": 4,
 "nbformat_minor": 2
}
