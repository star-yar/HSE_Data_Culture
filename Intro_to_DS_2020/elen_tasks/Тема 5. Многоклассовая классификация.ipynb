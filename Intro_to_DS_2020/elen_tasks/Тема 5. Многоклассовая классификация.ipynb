{
 "cells": [
  {
   "cell_type": "code",
   "execution_count": 17,
   "metadata": {},
   "outputs": [],
   "source": [
    "SEED = 42"
   ]
  },
  {
   "cell_type": "markdown",
   "metadata": {},
   "source": [
    "# Урок 1. Подготовка данных"
   ]
  },
  {
   "cell_type": "markdown",
   "metadata": {},
   "source": [
    "### Задание - загрузите данные\n",
    "- Импортируйте pandas\n",
    "- Загрузите данные  из файла multi_data.csv функцией read_csv\n",
    "- Выделите целевую переменную SalePrice в отдельную переменную из датафрейма\n",
    "- Удалите целевую переменную из датафрейма методом drop\n"
   ]
  },
  {
   "cell_type": "code",
   "execution_count": 1,
   "metadata": {},
   "outputs": [],
   "source": [
    "# Импортируйте pandas\n",
    "import pandas as pd\n",
    "# Загрузутие данные  из файла multi_data.csv\n",
    "data = pd.read_csv('multi_data.csv')\n",
    "# Выделите целевую переменную в отдельную переменную из датафрейма\n",
    "y = data['SalePrice']\n",
    "# Удалите целевую переменную из датафрейма\n",
    "data = data.drop(labels=['SalePrice'], axis=1)"
   ]
  },
  {
   "cell_type": "markdown",
   "metadata": {},
   "source": [
    "### Задание \n",
    "\n",
    "- Проверьте данные на пропуски: примените метод isna(), а затем просуммируйте методом sum() и выведите на печать\n",
    "- Замените пропуски в столбце LotFrontage на медианное значение методом fillna. Аргументом метода подставьте data['LotFrontage'].median()"
   ]
  },
  {
   "cell_type": "code",
   "execution_count": 5,
   "metadata": {},
   "outputs": [
    {
     "name": "stdout",
     "output_type": "stream",
     "text": [
      "MSZoning           0\n",
      "LotFrontage      259\n",
      "LotArea            0\n",
      "Street             0\n",
      "Utilities          0\n",
      "HouseStyle         0\n",
      "YearBuilt          0\n",
      "Foundation         0\n",
      "TotRmsAbvGrd       0\n",
      "KitchenAbvGr       0\n",
      "MoSold             0\n",
      "YrSold             0\n",
      "SaleCondition      0\n",
      "dtype: int64\n"
     ]
    }
   ],
   "source": [
    "# Проверьте данные на пропуски\n",
    "print(data.isna().sum())\n",
    "\n",
    "# Замените пропуски на медианное значение\n",
    "data['LotFrontage'] = data['LotFrontage'].fillna(data['LotFrontage'].median())"
   ]
  },
  {
   "cell_type": "markdown",
   "metadata": {},
   "source": [
    "### Задание - поиск числовых и кат переменных\n",
    "\n",
    "- Проверьте, сколько уникальных категорий в каждом из столбцов\n",
    "- Выделите числовые признаки в переменную var_num\n",
    "- Выделите категориальные признаки в переменную var_cat\n",
    "- Сделайте OHE категориальных признаков"
   ]
  },
  {
   "cell_type": "code",
   "execution_count": 41,
   "metadata": {},
   "outputs": [
    {
     "name": "stdout",
     "output_type": "stream",
     "text": [
      "LotFrontage               110\n",
      "LotArea                  1073\n",
      "YearBuilt                 112\n",
      "TotRmsAbvGrd               12\n",
      "KitchenAbvGr                4\n",
      "MoSold                     12\n",
      "YrSold                      5\n",
      "Foundation_CBlock           2\n",
      "Foundation_PConc            2\n",
      "Foundation_Slab             2\n",
      "Foundation_Stone            2\n",
      "Foundation_Wood             2\n",
      "HouseStyle_1.5Unf           2\n",
      "HouseStyle_1Story           2\n",
      "HouseStyle_2.5Fin           2\n",
      "HouseStyle_2.5Unf           2\n",
      "HouseStyle_2Story           2\n",
      "HouseStyle_SFoyer           2\n",
      "HouseStyle_SLvl             2\n",
      "MSZoning_FV                 2\n",
      "MSZoning_RH                 2\n",
      "MSZoning_RL                 2\n",
      "MSZoning_RM                 2\n",
      "SaleCondition_AdjLand       2\n",
      "SaleCondition_Alloca        2\n",
      "SaleCondition_Family        2\n",
      "SaleCondition_Normal        2\n",
      "SaleCondition_Partial       2\n",
      "Street_Pave                 2\n",
      "Utilities_NoSeWa            2\n",
      "dtype: int64\n"
     ]
    }
   ],
   "source": [
    "# Проверьте, сколько уникальных категорий в каждом из столбцов\n",
    "print(data.agg(lambda x: len(x.drop_duplicates())))\n",
    "\n",
    "# Выделите числовые и категориальные признаки\n",
    "var_num = ['LotFrontage', 'LotArea', 'MoSold', 'YrSold', 'TotRmsAbvGrd', 'YearBuilt', 'KitchenAbvGr']\n",
    "var_cat = sorted(list(set(data.columns) - set(var_num)))\n",
    "\n",
    "# Сделайте OHE категориальных признаков\n",
    "data = pd.get_dummies(data, drop_first=True, columns=var_cat)"
   ]
  },
  {
   "cell_type": "markdown",
   "metadata": {
    "collapsed": true
   },
   "source": [
    "### Задание - Шкалирование данных\n",
    "\n",
    "- Импортируйте train_test_split\n",
    "- Разделите данные на тестовую и тренировочную выборки\n",
    "- Импортируйте StandardScaler\n",
    "- Объвите шкалировщик\n",
    "- Обучите и преобразуйте выборку\n"
   ]
  },
  {
   "cell_type": "code",
   "execution_count": 18,
   "metadata": {},
   "outputs": [],
   "source": [
    "# Импортируйте train_test_split\n",
    "from sklearn.model_selection import train_test_split\n",
    "\n",
    "# Разделите данные на тестовую и тренировочную выборки\n",
    "X_train, X_test, y_train, y_test = train_test_split(data, y, test_size=0.2, random_state=SEED)"
   ]
  },
  {
   "cell_type": "code",
   "execution_count": 15,
   "metadata": {
    "scrolled": true
   },
   "outputs": [
    {
     "name": "stderr",
     "output_type": "stream",
     "text": [
      "/anaconda3/lib/python3.7/site-packages/sklearn/preprocessing/data.py:625: DataConversionWarning: Data with input dtype int64, float64 were all converted to float64 by StandardScaler.\n",
      "  return self.partial_fit(X, y)\n",
      "/anaconda3/lib/python3.7/site-packages/sklearn/base.py:462: DataConversionWarning: Data with input dtype int64, float64 were all converted to float64 by StandardScaler.\n",
      "  return self.fit(X, **fit_params).transform(X)\n"
     ]
    }
   ],
   "source": [
    "# Импортируйте StandardScaler\n",
    "from sklearn.preprocessing import StandardScaler\n",
    "\n",
    "# Объвите шкалировщик\n",
    "scaler = StandardScaler()\n",
    "\n",
    "# Обучите и преобразуйте выборку\n",
    "X_train[var_num] = scaler.fit_transform(X_train[var_num])\n",
    "\n",
    "X_test[var_num] = scaler.transform(X_test[var_num])"
   ]
  },
  {
   "cell_type": "markdown",
   "metadata": {},
   "source": [
    "# Урок 2. Многоклассовая классификация"
   ]
  },
  {
   "cell_type": "markdown",
   "metadata": {},
   "source": [
    "### Задание - распределение целевой переменной\n",
    "- Посмотрите распределение целевого признака:\n",
    "    - примените метод value_counts() к целевой переменной\n",
    "    - следом примените метод plot(kind='bar')"
   ]
  },
  {
   "cell_type": "code",
   "execution_count": 21,
   "metadata": {},
   "outputs": [
    {
     "data": {
      "text/plain": [
       "<matplotlib.axes._subplots.AxesSubplot at 0x1a15f8b8d0>"
      ]
     },
     "execution_count": 21,
     "metadata": {},
     "output_type": "execute_result"
    },
    {
     "data": {
      "image/png": "[encoded data removed]",
      "text/plain": [
       "<Figure size 432x288 with 1 Axes>"
      ]
     },
     "metadata": {
      "needs_background": "light"
     },
     "output_type": "display_data"
    }
   ],
   "source": [
    "# Посмотрите распределение целевого признака\n",
    "y.value_counts().plot(kind='bar')"
   ]
  },
  {
   "cell_type": "markdown",
   "metadata": {},
   "source": [
    "### Задание - обучение лин модели\n",
    "- Импортируйте функцию LogisticRegression\n",
    "- Объявите логистическую регрессию\n",
    "- Обучите логистическую регрессию\n",
    "- Сделайте предсказание на тесте\n"
   ]
  },
  {
   "cell_type": "code",
   "execution_count": 25,
   "metadata": {},
   "outputs": [
    {
     "name": "stderr",
     "output_type": "stream",
     "text": [
      "/anaconda3/lib/python3.7/site-packages/sklearn/linear_model/sag.py:334: ConvergenceWarning: The max_iter was reached which means the coef_ did not converge\n",
      "  \"the coef_ did not converge\", ConvergenceWarning)\n"
     ]
    }
   ],
   "source": [
    "# Импортируйте функцию LogisticRegression\n",
    "from sklearn.linear_model import LogisticRegression\n",
    "\n",
    "# Объявите логистическую регрессию\n",
    "model_lg = LogisticRegression(multi_class='multinomial', random_state=SEED, solver='sag')\n",
    "\n",
    "# Обучите логистическую регрессию\n",
    "model_lg.fit(X_train, y_train)\n",
    "\n",
    "# Сделайте предсказание на тесте\n",
    "y_pred_lg = model_lg.predict(X_test)"
   ]
  },
  {
   "cell_type": "markdown",
   "metadata": {},
   "source": [
    "### Задание - Accuracy"
   ]
  },
  {
   "cell_type": "code",
   "execution_count": 30,
   "metadata": {},
   "outputs": [
    {
     "name": "stdout",
     "output_type": "stream",
     "text": [
      "Accuracy: 0.7191780821917808\n"
     ]
    }
   ],
   "source": [
    "# Импортируйте метрику\n",
    "from sklearn.metrics import accuracy_score\n",
    "# Рассчитайте ее значение \n",
    "print('Accuracy:', accuracy_score(y_test, y_pred_lg))"
   ]
  },
  {
   "cell_type": "markdown",
   "metadata": {},
   "source": [
    "### Задание - Precision"
   ]
  },
  {
   "cell_type": "code",
   "execution_count": 31,
   "metadata": {},
   "outputs": [
    {
     "name": "stdout",
     "output_type": "stream",
     "text": [
      "Precision_score_macro: 0.7076854746526009\n",
      "Precision_score_micro: 0.7191780821917808\n"
     ]
    }
   ],
   "source": [
    "# Импортируйте метрику\n",
    "from sklearn.metrics import precision_score\n",
    "\n",
    "# Рассчитайте ее значение \n",
    "\n",
    "print('Precision_score_macro:', precision_score(y_test, y_pred_lg, average='macro'))\n",
    "print('Precision_score_micro:', precision_score(y_test, y_pred_lg, average='micro'))"
   ]
  },
  {
   "cell_type": "markdown",
   "metadata": {},
   "source": [
    "### Задание Recall"
   ]
  },
  {
   "cell_type": "code",
   "execution_count": null,
   "metadata": {},
   "outputs": [],
   "source": [
    "# Импортируйте метрику\n",
    "from sklearn.metrics import recall_score\n",
    "# Рассчитайте ее значение \n",
    "print('recall_score_macro =', recall_score(y_test, y_pred_lg, average='macro'))\n",
    "print('recall_score_micro =', recall_score(y_test, y_pred_lg, average='micro'))"
   ]
  },
  {
   "cell_type": "markdown",
   "metadata": {},
   "source": [
    "### Задание F1-score"
   ]
  },
  {
   "cell_type": "code",
   "execution_count": 29,
   "metadata": {},
   "outputs": [
    {
     "name": "stdout",
     "output_type": "stream",
     "text": [
      "accuracy = 0.7191780821917808\n",
      "f1_macro = 0.62505933383102\n",
      "f1_micro = 0.7191780821917809\n",
      "precision_score_macro = 0.7076854746526009\n",
      "precision_score_micro = 0.7191780821917808\n",
      "recall_score_macro = 0.5951052905445586\n",
      "recall_score_micro = 0.7191780821917808\n"
     ]
    }
   ],
   "source": [
    "# Импортируйте метрику\n",
    "from sklearn.metrics import f1_score\n",
    "\n",
    "# Рассчитайте ее значение \n",
    "print('f1_macro =',f1_score(y_test, y_pred_lg, average='macro'))\n",
    "print('f1_micro =',f1_score(y_test, y_pred_lg, average='micro'))"
   ]
  },
  {
   "cell_type": "markdown",
   "metadata": {},
   "source": [
    "### Задание - случайный лес\n",
    "\n",
    "- Импортируйте RandomForestClassifier\n",
    "- Объявите случайный лес\n",
    "- Обучите случайный лес\n",
    "- Сделайте предсказания на тесте"
   ]
  },
  {
   "cell_type": "code",
   "execution_count": 33,
   "metadata": {},
   "outputs": [
    {
     "name": "stderr",
     "output_type": "stream",
     "text": [
      "/anaconda3/lib/python3.7/site-packages/sklearn/ensemble/forest.py:246: FutureWarning: The default value of n_estimators will change from 10 in version 0.20 to 100 in 0.22.\n",
      "  \"10 in version 0.20 to 100 in 0.22.\", FutureWarning)\n"
     ]
    }
   ],
   "source": [
    "# Импортируйте RandomForestClassifier\n",
    "from sklearn.ensemble import RandomForestClassifier\n",
    "# Объявите случайный лес\n",
    "model_rfc = RandomForestClassifier(random_state=SEED)\n",
    "\n",
    "# Обучите случайный лес\n",
    "model_rfc.fit(X_train, y_train)\n",
    "\n",
    "# Сделайте предсказания на тесте\n",
    "y_pred_rfc = model_rfc.predict(X_test)"
   ]
  },
  {
   "cell_type": "markdown",
   "metadata": {},
   "source": [
    "### Задание - метрики случайного леса\n",
    "- Рассчитайте F1-score macro/micro\n",
    "- Рассчитайте Precision_score_macro\n",
    "- Рассчитайте Recall_score_macro"
   ]
  },
  {
   "cell_type": "code",
   "execution_count": 34,
   "metadata": {},
   "outputs": [
    {
     "name": "stdout",
     "output_type": "stream",
     "text": [
      "f1_macro = 0.5883747103608077\n",
      "f1_micro = 0.6746575342465754\n",
      "precision_score_macro = 0.6425082182774491\n",
      "recall_score_macro = 0.5613995731033897\n"
     ]
    }
   ],
   "source": [
    "print('f1_macro =', f1_score(y_test, y_pred_rfc, average='macro'))\n",
    "print('f1_micro =', f1_score(y_test, y_pred_rfc, average='micro'))\n",
    "print('precision_score_macro =', precision_score(y_test, y_pred_rfc, average='macro'))\n",
    "print('recall_score_macro =', recall_score(y_test, y_pred_rfc, average='macro'))"
   ]
  },
  {
   "cell_type": "markdown",
   "metadata": {},
   "source": [
    "# Урок 3. Балансировка классов"
   ]
  },
  {
   "cell_type": "markdown",
   "metadata": {},
   "source": [
    "### Задание - Балансировка классов\n",
    "- Объявите логистическую регрессию с балансировкой весов классов\n",
    "- Обучите логистическую регрессию\n",
    "- Сделайте предсказание на тесте\n"
   ]
  },
  {
   "cell_type": "code",
   "execution_count": 35,
   "metadata": {},
   "outputs": [
    {
     "name": "stderr",
     "output_type": "stream",
     "text": [
      "/anaconda3/lib/python3.7/site-packages/sklearn/linear_model/sag.py:334: ConvergenceWarning: The max_iter was reached which means the coef_ did not converge\n",
      "  \"the coef_ did not converge\", ConvergenceWarning)\n"
     ]
    }
   ],
   "source": [
    "# Объявите логистическую регрессию с балансировкой весов классов\n",
    "model_lr = LogisticRegression(multi_class='multinomial', random_state=SEED, solver='sag', class_weight='balanced')\n",
    "\n",
    "# Обучите логистическую регрессию\n",
    "model_lr.fit(X_train, y_train)\n",
    "\n",
    "# Сделайте предсказание на тесте\n",
    "y_pred_lr = model_lr.predict(X_test)"
   ]
  },
  {
   "cell_type": "markdown",
   "metadata": {},
   "source": [
    "### Задание - метрики сбалансированной логрегрессии\n",
    "- Рассчитайте F1-score macro/micro\n",
    "- Рассчитайте Precision_score_macro\n",
    "- Рассчитайте Recall_score_macro"
   ]
  },
  {
   "cell_type": "code",
   "execution_count": 37,
   "metadata": {},
   "outputs": [
    {
     "name": "stdout",
     "output_type": "stream",
     "text": [
      "f1_macro = 0.6398477938860446\n",
      "f1_micro = 0.6541095890410958\n",
      "precision_score_macro = 0.6166573167414661\n",
      "recall_score_macro = 0.7125078317475151\n"
     ]
    }
   ],
   "source": [
    "# Выведите метрики accuracy_score, f1_score (macro/micro), precision_score (macro), recall_score (macro)\n",
    "print('f1_macro =',f1_score(y_test, y_pred_lr, average='macro'))\n",
    "print('f1_micro =',f1_score(y_test, y_pred_lr, average='micro'))\n",
    "print('precision_score_macro =', precision_score(y_test, y_pred_lr, average='macro'))\n",
    "print('recall_score_macro =', recall_score(y_test, y_pred_lr, average='macro'))"
   ]
  },
  {
   "cell_type": "markdown",
   "metadata": {},
   "source": [
    "### Задание - случайный лес с балансировкой\n",
    "- Объявите случайный лес с балансировкой весов классов\n",
    "- Обучите случайный лес\n",
    "- Сделайте предсказание на тесте"
   ]
  },
  {
   "cell_type": "code",
   "execution_count": 39,
   "metadata": {},
   "outputs": [
    {
     "name": "stderr",
     "output_type": "stream",
     "text": [
      "/anaconda3/lib/python3.7/site-packages/sklearn/ensemble/forest.py:246: FutureWarning: The default value of n_estimators will change from 10 in version 0.20 to 100 in 0.22.\n",
      "  \"10 in version 0.20 to 100 in 0.22.\", FutureWarning)\n"
     ]
    }
   ],
   "source": [
    "# Объявите случайный лес с балансировкой весов классов\n",
    "model_rfc = RandomForestClassifier(random_state=SEED, class_weight='balanced')\n",
    "\n",
    "# Обучите случайный лес\n",
    "model_rfc.fit(X_train, y_train)\n",
    "\n",
    "# Сделайте предсказания на тесте\n",
    "y_pred_rfc = model_rfc.predict(X_test)"
   ]
  },
  {
   "cell_type": "markdown",
   "metadata": {},
   "source": [
    "### Задание - метрики сбалансированного случайного леса\n",
    "- Рассчитайте F1-score macro/micro\n",
    "- Рассчитайте Precision_score_macro\n",
    "- Рассчитайте Recall_score_macro"
   ]
  },
  {
   "cell_type": "code",
   "execution_count": 40,
   "metadata": {},
   "outputs": [
    {
     "name": "stdout",
     "output_type": "stream",
     "text": [
      "f1_macro = 0.5854193863809497\n",
      "f1_micro = 0.6712328767123288\n",
      "precision_score_macro = 0.6260082399303957\n",
      "recall_score_macro = 0.5626951299804605\n"
     ]
    }
   ],
   "source": [
    "print('f1_macro =',f1_score(y_test, y_pred_rfc, average='macro'))\n",
    "print('f1_micro =',f1_score(y_test, y_pred_rfc, average='micro'))\n",
    "print('precision_score_macro =', precision_score(y_test, y_pred_rfc, average='macro'))\n",
    "print('recall_score_macro =', recall_score(y_test, y_pred_rfc, average='macro'))"
   ]
  },
  {
   "cell_type": "markdown",
   "metadata": {},
   "source": [
    "Как мы можем видеть, баласировка весов увеличивает f1_macro, но уменьшает f1_micro. Это логично, так как f1_macro усредняет точность по всем классом по отдельности (то есть мы увеличили кол-во правильных предсказаний среди редких классов). А f1_micro, как мы выяснили считает долю правильно указанных классов (то есть модели было удобнее не обучаться на редких классов). Балансировка весов заставляет модель учить и редкие классы (путем ухудшения предсказания частых классов)."
   ]
  }
 ],
 "metadata": {
  "kernelspec": {
   "display_name": "Python 3",
   "language": "python",
   "name": "python3"
  },
  "language_info": {
   "codemirror_mode": {
    "name": "ipython",
    "version": 3
   },
   "file_extension": ".py",
   "mimetype": "text/x-python",
   "name": "python",
   "nbconvert_exporter": "python",
   "pygments_lexer": "ipython3",
   "version": "3.7.1"
  }
 },
 "nbformat": 4,
 "nbformat_minor": 2
}
