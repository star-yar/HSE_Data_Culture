{
 "cells": [
  {
   "cell_type": "markdown",
   "metadata": {},
   "source": [
    "# Preloaded code "
   ]
  },
  {
   "cell_type": "code",
   "execution_count": 2,
   "metadata": {},
   "outputs": [
    {
     "name": "stderr",
     "output_type": "stream",
     "text": [
      "/anaconda3/lib/python3.7/site-packages/sklearn/preprocessing/data.py:625: DataConversionWarning: Data with input dtype int64, float64 were all converted to float64 by StandardScaler.\n",
      "  return self.partial_fit(X, y)\n",
      "/anaconda3/lib/python3.7/site-packages/ipykernel_launcher.py:39: DataConversionWarning: Data with input dtype int64, float64 were all converted to float64 by StandardScaler.\n",
      "/anaconda3/lib/python3.7/site-packages/ipykernel_launcher.py:39: SettingWithCopyWarning: \n",
      "A value is trying to be set on a copy of a slice from a DataFrame.\n",
      "Try using .loc[row_indexer,col_indexer] = value instead\n",
      "\n",
      "See the caveats in the documentation: http://pandas.pydata.org/pandas-docs/stable/indexing.html#indexing-view-versus-copy\n",
      "/anaconda3/lib/python3.7/site-packages/pandas/core/indexing.py:543: SettingWithCopyWarning: \n",
      "A value is trying to be set on a copy of a slice from a DataFrame.\n",
      "Try using .loc[row_indexer,col_indexer] = value instead\n",
      "\n",
      "See the caveats in the documentation: http://pandas.pydata.org/pandas-docs/stable/indexing.html#indexing-view-versus-copy\n",
      "  self.obj[item] = s\n",
      "/anaconda3/lib/python3.7/site-packages/ipykernel_launcher.py:42: DataConversionWarning: Data with input dtype int64, float64 were all converted to float64 by StandardScaler.\n",
      "/anaconda3/lib/python3.7/site-packages/ipykernel_launcher.py:42: SettingWithCopyWarning: \n",
      "A value is trying to be set on a copy of a slice from a DataFrame.\n",
      "Try using .loc[row_indexer,col_indexer] = value instead\n",
      "\n",
      "See the caveats in the documentation: http://pandas.pydata.org/pandas-docs/stable/indexing.html#indexing-view-versus-copy\n",
      "/anaconda3/lib/python3.7/site-packages/pandas/core/indexing.py:543: SettingWithCopyWarning: \n",
      "A value is trying to be set on a copy of a slice from a DataFrame.\n",
      "Try using .loc[row_indexer,col_indexer] = value instead\n",
      "\n",
      "See the caveats in the documentation: http://pandas.pydata.org/pandas-docs/stable/indexing.html#indexing-view-versus-copy\n",
      "  self.obj[item] = s\n"
     ]
    }
   ],
   "source": [
    "import pandas as pd\n",
    "SEED = 42\n",
    "# Загрузите данные из файла travel_insurance.csva\n",
    "data = pd.read_csv('travel_insurance.csv')\n",
    "\n",
    "# Проверьте данные на пропуски\n",
    "\n",
    "data.isna().sum()\n",
    "\n",
    "# Предобработайте категориальные переменные\n",
    "\n",
    "data = pd.get_dummies(data, drop_first=True, dummy_na=True)\n",
    "# Импортируйте функцию train_test_split\n",
    "from sklearn.model_selection import train_test_split\n",
    "\n",
    "# Подготовьте данные к обучению\n",
    "# Выделите целевую переменную в отдельную переменную из датафрейма\n",
    "y = data['Claim']\n",
    "\n",
    "# Выделите признаки в отдельную переменную\n",
    "X = data.drop('Claim', axis=1)\n",
    "\n",
    "# Разбейте данные на тестовую и тренировочную выборки\n",
    "X_train, X_test, y_train, y_test = train_test_split(X, y, test_size=0.2, random_state=SEED)\n",
    "\n",
    "# Выделите в отдельный лист var_num числовые признаки\n",
    "var_feat = ['Duration', 'Net Sales', 'Commision (in value)', 'Age']\n",
    "\n",
    "# Импортируйте шкалировщик  StandardScaler\n",
    "from sklearn.preprocessing import StandardScaler\n",
    "\n",
    "# Объвите шкалировщик\n",
    "scaler = StandardScaler()\n",
    "\n",
    "# Обучите шкалировщик\n",
    "scaler.fit(X_train[var_feat])\n",
    "\n",
    "# Преобразуйте обучающую выборку\n",
    "X_train[var_feat] = scaler.transform(X_train[var_feat])\n",
    "\n",
    "# Преобразуйте тестовую выборку\n",
    "X_test[var_feat] = scaler.transform(X_test[var_feat])"
   ]
  },
  {
   "cell_type": "markdown",
   "metadata": {},
   "source": [
    "# Урок 1. Accuracy - метрика коварная"
   ]
  },
  {
   "cell_type": "markdown",
   "metadata": {},
   "source": [
    "### Задание: расчет accuracy самостоятельно\n",
    "- Посчитайте значение accuracy для модели класссификации, которая для настоящих значений y_real предсказала соответствующие значения y_pred\n",
    "\n",
    "- Ответ: 0.7"
   ]
  },
  {
   "cell_type": "code",
   "execution_count": 3,
   "metadata": {},
   "outputs": [],
   "source": [
    "y_real = [1, 1, 0, 0, 0, 0, 0, 0, 0, 0]\n",
    "y_pred = [1, 0, 1, 1, 0, 0, 0, 0, 0, 0]"
   ]
  },
  {
   "cell_type": "markdown",
   "metadata": {},
   "source": [
    "### Задание: баланс классов в датасете"
   ]
  },
  {
   "cell_type": "markdown",
   "metadata": {},
   "source": [
    "- Посчитайте частоту появления обоих классов методом value_counts(), применив его к столбцу 'Claim'. Сохраните результат в переменную class_frequency\n",
    "- Визуализируйте баланс классов в виде столбцовой диаграммы. Примените к class_frequency метод plot и укажите тип диаграммы bar\n"
   ]
  },
  {
   "cell_type": "code",
   "execution_count": 4,
   "metadata": {},
   "outputs": [
    {
     "data": {
      "text/plain": [
       "<matplotlib.axes._subplots.AxesSubplot at 0x1186ccb38>"
      ]
     },
     "execution_count": 4,
     "metadata": {},
     "output_type": "execute_result"
    }
   ],
   "source": [
    "# Посчитайте частоту появления обоих классов \n",
    "class_frequency = data['Claim'].value_counts()\n",
    "\n",
    "# Визуализируйте баланс классов в виде столбцовой диаграммы\n",
    "class_frequency.plot(kind='bar')"
   ]
  },
  {
   "cell_type": "markdown",
   "metadata": {},
   "source": [
    "### Задание: обучите   модель и посчитайте метрику accuracy"
   ]
  },
  {
   "cell_type": "markdown",
   "metadata": {},
   "source": [
    "- Импортируйте функцию DecisionTreeClassifier из модуля sklearn.tree\n",
    "- Объявите модель\n",
    "- Обучите методом fit, передав в нее тренировочные данные: матрицу с признаками и вектор целевой переменной\n",
    "- Сделайте прогноз для тестовой выборки методом predict и сохраните его в переменную y_pred_tree\n",
    "- Рассчитайте метрику качества на тестовой выборке и выведите на печать"
   ]
  },
  {
   "cell_type": "code",
   "execution_count": 5,
   "metadata": {},
   "outputs": [
    {
     "name": "stdout",
     "output_type": "stream",
     "text": [
      "Качество случайного прогноза на тестовых данных =  0.969287857255645\n"
     ]
    }
   ],
   "source": [
    "# Импортируйте функцию DecisionTreeClassifier\n",
    "from sklearn.tree import DecisionTreeClassifier\n",
    "# Импортируйте метрику качества accuracy_score\n",
    "from sklearn.metrics import accuracy_score\n",
    "# Объявите модель\n",
    "tree = DecisionTreeClassifier(random_state=SEED)\n",
    "# Обучите\n",
    "tree.fit(X_train, y_train)\n",
    "\n",
    "# Сделайте прогноз для тестовой выборки \n",
    "y_pred_tree = tree.predict(X_test)\n",
    "print('Качество случайного прогноза на тестовых данных = ', accuracy_score(y_test, y_pred_tree))"
   ]
  },
  {
   "cell_type": "markdown",
   "metadata": {},
   "source": [
    "### Задание: баланс классов в прогнозах"
   ]
  },
  {
   "cell_type": "markdown",
   "metadata": {},
   "source": [
    "- Обратите y_pred_test_tree в Series функцией pd.Series()\n",
    "- Посчитайте частоту появления обоих классов методом value_counts(), применив его к столбцу 'Claim'. Сохраните результат в переменную class_frequency\n",
    "- Визуализируйте баланс классов в виде столбцовой диаграммы. Примените к class_frequency метод plot и укажите тип диаграммы bar\n"
   ]
  },
  {
   "cell_type": "code",
   "execution_count": 6,
   "metadata": {},
   "outputs": [
    {
     "ename": "NameError",
     "evalue": "name 'y_pred_test_tree' is not defined",
     "output_type": "error",
     "traceback": [
      "\u001b[0;31m---------------------------------------------------------------------------\u001b[0m",
      "\u001b[0;31mNameError\u001b[0m                                 Traceback (most recent call last)",
      "\u001b[0;32m<ipython-input-6-3766de597e9a>\u001b[0m in \u001b[0;36m<module>\u001b[0;34m\u001b[0m\n\u001b[1;32m      1\u001b[0m \u001b[0;31m# Обратите y_pred_test_tree в Series\u001b[0m\u001b[0;34m\u001b[0m\u001b[0;34m\u001b[0m\u001b[0;34m\u001b[0m\u001b[0m\n\u001b[0;32m----> 2\u001b[0;31m \u001b[0my_pred_tree\u001b[0m \u001b[0;34m=\u001b[0m \u001b[0mpd\u001b[0m\u001b[0;34m.\u001b[0m\u001b[0mSeries\u001b[0m\u001b[0;34m(\u001b[0m\u001b[0my_pred_test_tree\u001b[0m\u001b[0;34m)\u001b[0m\u001b[0;34m\u001b[0m\u001b[0;34m\u001b[0m\u001b[0m\n\u001b[0m\u001b[1;32m      3\u001b[0m \u001b[0;34m\u001b[0m\u001b[0m\n\u001b[1;32m      4\u001b[0m \u001b[0;31m# Посчитайте частоту появления обоих классов\u001b[0m\u001b[0;34m\u001b[0m\u001b[0;34m\u001b[0m\u001b[0;34m\u001b[0m\u001b[0m\n\u001b[1;32m      5\u001b[0m \u001b[0mpred_class_frequency\u001b[0m \u001b[0;34m=\u001b[0m \u001b[0my_pred_tree\u001b[0m\u001b[0;34m.\u001b[0m\u001b[0mvalue_counts\u001b[0m\u001b[0;34m(\u001b[0m\u001b[0;34m)\u001b[0m\u001b[0;34m\u001b[0m\u001b[0;34m\u001b[0m\u001b[0m\n",
      "\u001b[0;31mNameError\u001b[0m: name 'y_pred_test_tree' is not defined"
     ]
    }
   ],
   "source": [
    "# Обратите y_pred_test_tree в Series\n",
    "y_pred_tree = pd.Series(y_pred_test_tree)\n",
    "\n",
    "# Посчитайте частоту появления обоих классов \n",
    "pred_class_frequency = y_pred_tree.value_counts()\n",
    "\n",
    "# Визуализируйте баланс классов в виде столбцовой диаграммы\n",
    "pred_class_frequency.plot(kind='bar')"
   ]
  },
  {
   "cell_type": "markdown",
   "metadata": {},
   "source": [
    "### Задание: очень простое правило классификации"
   ]
  },
  {
   "cell_type": "markdown",
   "metadata": {},
   "source": [
    "Создайте очень простой классификатор: любому объекту он прогнозирует класс 0 и посчитайте accuracy_score\n",
    "- создайте лист/последовательность из нулей длиной, соразмерной вектору y_test\n",
    "- посчитайте accuracy_score для y_test и y_test "
   ]
  },
  {
   "cell_type": "code",
   "execution_count": 7,
   "metadata": {},
   "outputs": [
    {
     "name": "stdout",
     "output_type": "stream",
     "text": [
      "0.9857887257224064\n"
     ]
    }
   ],
   "source": [
    "# Создайте наивный прогноз\n",
    "y_pred_naive = [0]*len(y_test)\n",
    "# Посчитайте метрику accuracy по этому прогнозу\n",
    "print(accuracy_score(y_test, y_pred_naive))"
   ]
  },
  {
   "cell_type": "markdown",
   "metadata": {},
   "source": [
    "Вывод: что-то тут не так, раз уж все не Claim "
   ]
  },
  {
   "cell_type": "markdown",
   "metadata": {},
   "source": [
    "# Урок 2. Матрица ошибок"
   ]
  },
  {
   "cell_type": "markdown",
   "metadata": {},
   "source": [
    "### Задание c выбором ответа: сколько вариантов прогнозов и настоящих классов?\n",
    "\n",
    "- 1\n",
    "- 2\n",
    "- 4\n",
    "- 8\n",
    "\n",
    "Ответ: $4 = 2*2$"
   ]
  },
  {
   "cell_type": "markdown",
   "metadata": {},
   "source": [
    "### Задание - подготовительное\n",
    "- Сбросьте индексы y_test и возьмем значения колонки\n",
    "- Соберите результаты прогнозирования и настоящих значений в одну таблицу. Передайте в функцию pd.DataFrame() словарь, где первый ключ - это 'y_test' и значения - сам y_test, а второй ключ - 'y_pred_tree' и значения y_pred_tree\n"
   ]
  },
  {
   "cell_type": "code",
   "execution_count": 8,
   "metadata": {},
   "outputs": [],
   "source": [
    "# Сбросьте индексы y_test и возьмем значения колонки\n",
    "y_test = y_test.reset_index()['Claim']\n",
    "# Соберите результаты прогнозирования и настоящих значений в одну таблицу\n",
    "results = pd.DataFrame({'y_test': y_test, 'y_pred_tree': y_pred_tree})"
   ]
  },
  {
   "cell_type": "markdown",
   "metadata": {},
   "source": [
    "### Задание - сколько есть пар (1,1) - True Positive\n",
    "- Посчитайте количество TP-ответов. Для этого объедините два условия: <br> \n",
    "1) такие значения колонки y_test из results, что они равны 1 <br> \n",
    "2) такие значения колонки y_pred_tree из results, что они равны 1\n",
    "\n",
    "К объединенным условиям примените метод sum()"
   ]
  },
  {
   "cell_type": "code",
   "execution_count": 9,
   "metadata": {},
   "outputs": [
    {
     "data": {
      "text/plain": [
       "17"
      ]
     },
     "execution_count": 9,
     "metadata": {},
     "output_type": "execute_result"
    }
   ],
   "source": [
    "((results['y_test'] == 1) & (results['y_pred_tree'] == 1)).sum()"
   ]
  },
  {
   "cell_type": "markdown",
   "metadata": {},
   "source": [
    "### Задание - сколько есть пар (0, 0 ) - True Negative\n",
    "- Посчитайте количество TN-ответов. Для этого объедините два множества: <br> \n",
    "1) такие значения колонки y_test из results, что они равны 0 <br> \n",
    "2) такие значения колонки y_pred_tree из results, что они равны 0\n",
    "\n",
    "К объединенным условиям примените метод sum()"
   ]
  },
  {
   "cell_type": "code",
   "execution_count": 10,
   "metadata": {},
   "outputs": [
    {
     "data": {
      "text/plain": [
       "12260"
      ]
     },
     "execution_count": 10,
     "metadata": {},
     "output_type": "execute_result"
    }
   ],
   "source": [
    "((results['y_test'] == 0) & (results['y_pred_tree'] == 0)).sum()"
   ]
  },
  {
   "cell_type": "markdown",
   "metadata": {},
   "source": [
    "### Задание - сколько есть пар (1, 0 ) - False Positive\n",
    "\n",
    "- Посчитайте количество FP-ответов. Для этого объедините два множества: <br> \n",
    "1) такие значения колонки y_test из results, что они равны 0 <br> \n",
    "2) такие значения колонки y_pred_tree из results, что они равны 1\n",
    "\n",
    "К объединенным условиям примените метод sum()"
   ]
  },
  {
   "cell_type": "code",
   "execution_count": 11,
   "metadata": {},
   "outputs": [
    {
     "data": {
      "text/plain": [
       "163"
      ]
     },
     "execution_count": 11,
     "metadata": {},
     "output_type": "execute_result"
    }
   ],
   "source": [
    "((results['y_test'] == 1) & (results['y_pred_tree'] == 0)).sum()"
   ]
  },
  {
   "cell_type": "markdown",
   "metadata": {},
   "source": [
    "### Задание - сколько есть пар (0, 1) - False Negative\n",
    "- Посчитайте количество FN-ответов. Для этого объедините два множества: <br> \n",
    "1) такие значения колонки y_test из results, что они равны 1 <br> \n",
    "2) такие значения колонки y_pred_tree из results, что они равны 0\n",
    "\n",
    "К объединенным условиям примените метод sum()"
   ]
  },
  {
   "cell_type": "code",
   "execution_count": 12,
   "metadata": {},
   "outputs": [
    {
     "data": {
      "text/plain": [
       "226"
      ]
     },
     "execution_count": 12,
     "metadata": {},
     "output_type": "execute_result"
    }
   ],
   "source": [
    "((results['y_test'] == 0) & (results['y_pred_tree'] == 1)).sum()"
   ]
  },
  {
   "cell_type": "markdown",
   "metadata": {},
   "source": [
    "### Задание - составьте матрицу ошибок\n",
    "\n",
    "С выбором вариантов ответов и разных сочетаний\n",
    "\n",
    "1) TP = 1, TN = 6,  FP = 2, FN = 1 <br> \n",
    "2) TP = 6, TN = 1,  FP = 1, FN = 2 <br> \n",
    "3) TP = 1, TN = 6,  FP = 1, FN = 2 <br> \n",
    "4) TP = 6, TN = 1, FP = 2, FN = 1 <br> "
   ]
  },
  {
   "cell_type": "code",
   "execution_count": 13,
   "metadata": {},
   "outputs": [],
   "source": [
    "y_real = [1, 1, 0, 0, 0, 0, 0, 0, 0, 0]\n",
    "y_pred = [1, 0, 1, 1, 0, 0, 0, 0, 0, 0]"
   ]
  },
  {
   "cell_type": "markdown",
   "metadata": {},
   "source": [
    "### Задание - confusion matrix из sklearn\n",
    "- Импортируйте функцию confusion_matrix из модуля sklearn.metrics \n",
    "- Рассчитайте матрицу ошибок с помощью функции confusion_matrix. В нее нужно передать значения y_test и y_pred_tree"
   ]
  },
  {
   "cell_type": "markdown",
   "metadata": {},
   "source": [
    "<a href='https://scikit-learn.org/0.21/auto_examples/model_selection/plot_confusion_matrix.html'> Визуализация таблицы <a>"
   ]
  },
  {
   "cell_type": "code",
   "execution_count": 14,
   "metadata": {},
   "outputs": [
    {
     "data": {
      "text/plain": [
       "array([[12260,   226],\n",
       "       [  163,    17]])"
      ]
     },
     "execution_count": 14,
     "metadata": {},
     "output_type": "execute_result"
    }
   ],
   "source": [
    "# Импортируйте функцию confusion_matrix\n",
    "from sklearn.metrics import confusion_matrix\n",
    "# Рассчитайте матрицу ошибок\n",
    "confusion_matrix(y_test, y_pred_tree)"
   ]
  },
  {
   "cell_type": "markdown",
   "metadata": {},
   "source": [
    "# Тема 3. Recall, Precision, F1-score"
   ]
  },
  {
   "cell_type": "markdown",
   "metadata": {},
   "source": [
    "### Задание - Recall - руками\n",
    "\n",
    "Посчитайте метрику recall"
   ]
  },
  {
   "cell_type": "code",
   "execution_count": 15,
   "metadata": {},
   "outputs": [],
   "source": [
    "y_real = [1, 1, 0, 0, 0, 0, 0, 0, 0, 0]\n",
    "y_pred = [1, 0, 1, 1, 0, 0, 0, 0, 0, 0]"
   ]
  },
  {
   "cell_type": "markdown",
   "metadata": {},
   "source": [
    "### Задание - Recall\n",
    "- Импортируйте функцию recall_score из модуля sklearn.metrics \n",
    "- Рассчитайте метрику recall с помощью функции recall_score.  В нее нужно передать значения y_test и y_pred_tree"
   ]
  },
  {
   "cell_type": "code",
   "execution_count": 16,
   "metadata": {},
   "outputs": [
    {
     "data": {
      "text/plain": [
       "0.09444444444444444"
      ]
     },
     "execution_count": 16,
     "metadata": {},
     "output_type": "execute_result"
    }
   ],
   "source": [
    "# Импортируйте функцию recall_score\n",
    "from sklearn.metrics import recall_score\n",
    "# Посчитайте метрику recall\n",
    "recall_score(y_test, y_pred_tree)"
   ]
  },
  {
   "cell_type": "markdown",
   "metadata": {},
   "source": [
    "### Задание - Precision - руками\n",
    "\n",
    "Посчитайте Precision"
   ]
  },
  {
   "cell_type": "code",
   "execution_count": 17,
   "metadata": {},
   "outputs": [],
   "source": [
    "y_real = [1, 1, 0, 0, 0, 0, 0, 0, 0, 0]\n",
    "y_pred = [1, 0, 1, 1, 0, 0, 0, 0, 0, 0]"
   ]
  },
  {
   "cell_type": "markdown",
   "metadata": {},
   "source": [
    "### Задание - Precision\n",
    "- Импортируйте функцию precision_score из модуля sklearn.metrics \n",
    "- Рассчитайте метрику precision с помощью функции precision_score.  В нее нужно передать значения y_test и y_pred_tree"
   ]
  },
  {
   "cell_type": "code",
   "execution_count": 18,
   "metadata": {},
   "outputs": [
    {
     "data": {
      "text/plain": [
       "0.06995884773662552"
      ]
     },
     "execution_count": 18,
     "metadata": {},
     "output_type": "execute_result"
    }
   ],
   "source": [
    "# Импортируйте функцию recall_score\n",
    "from sklearn.metrics import precision_score\n",
    "# Посчитайте метрику recall\n",
    "precision_score(y_test, y_pred_tree)"
   ]
  },
  {
   "cell_type": "markdown",
   "metadata": {},
   "source": [
    "### Задание - F1-score - руками\n",
    "\n",
    "Посчитайте F1-score"
   ]
  },
  {
   "cell_type": "code",
   "execution_count": 19,
   "metadata": {},
   "outputs": [],
   "source": [
    "y_real = [1, 1, 0, 0, 0, 0, 0, 0, 0, 0]\n",
    "y_pred = [1, 0, 1, 1, 0, 0, 0, 0, 0, 0]"
   ]
  },
  {
   "cell_type": "markdown",
   "metadata": {},
   "source": [
    "### Задание - F1-score \n",
    "- Импортируйте функцию f1_score из модуля sklearn.metrics \n",
    "- Рассчитайте метрику f1-score с помощью функции f1_score.  В нее нужно передать значения y_test и y_pred_tree"
   ]
  },
  {
   "cell_type": "code",
   "execution_count": 20,
   "metadata": {},
   "outputs": [
    {
     "data": {
      "text/plain": [
       "0.08037825059101654"
      ]
     },
     "execution_count": 20,
     "metadata": {},
     "output_type": "execute_result"
    }
   ],
   "source": [
    "# Импортируйте функцию f1_score\n",
    "from sklearn.metrics import f1_score\n",
    "# Посчитайте метрику recall\n",
    "f1_score(y_test, y_pred_tree)"
   ]
  },
  {
   "attachments": {
    "%D0%A1%D0%BD%D0%B8%D0%BC%D0%BE%D0%BA%20%D1%8D%D0%BA%D1%80%D0%B0%D0%BD%D0%B0%202019-10-24%20%D0%B2%2023.17.24.png": {
     "image/png": "[encoded data removed]"
    }
   },
   "cell_type": "markdown",
   "metadata": {},
   "source": [
    "### Задача руками\n",
    "\n",
    "Выберите наилучшую модель по метрике Recall\n",
    "![%D0%A1%D0%BD%D0%B8%D0%BC%D0%BE%D0%BA%20%D1%8D%D0%BA%D1%80%D0%B0%D0%BD%D0%B0%202019-10-24%20%D0%B2%2023.17.24.png](attachment:%D0%A1%D0%BD%D0%B8%D0%BC%D0%BE%D0%BA%20%D1%8D%D0%BA%D1%80%D0%B0%D0%BD%D0%B0%202019-10-24%20%D0%B2%2023.17.24.png)"
   ]
  },
  {
   "attachments": {
    "%D0%A1%D0%BD%D0%B8%D0%BC%D0%BE%D0%BA%20%D1%8D%D0%BA%D1%80%D0%B0%D0%BD%D0%B0%202019-10-24%20%D0%B2%2023.17.24.png": {
     "image/png": "[encoded data removed]"
    }
   },
   "cell_type": "markdown",
   "metadata": {},
   "source": [
    "### Задача руками\n",
    "\n",
    "Выберите наилучшую модель по метрике Precision\n",
    "![%D0%A1%D0%BD%D0%B8%D0%BC%D0%BE%D0%BA%20%D1%8D%D0%BA%D1%80%D0%B0%D0%BD%D0%B0%202019-10-24%20%D0%B2%2023.17.24.png](attachment:%D0%A1%D0%BD%D0%B8%D0%BC%D0%BE%D0%BA%20%D1%8D%D0%BA%D1%80%D0%B0%D0%BD%D0%B0%202019-10-24%20%D0%B2%2023.17.24.png)"
   ]
  },
  {
   "cell_type": "markdown",
   "metadata": {},
   "source": [
    "# Урок 4. Подбор алгоритма, лучшего по F1-score"
   ]
  },
  {
   "cell_type": "markdown",
   "metadata": {},
   "source": [
    "### Задание\n",
    "- Посчитайте f1_score для решающего дерева функцией f1_score и сохраните в переменную f1_score_tree\n",
    "- Посчитайте accuracy_score для решающего дерева функцией accuracy_score и сохраните в переменную accuracy_tree\n",
    "- Выведите на печать f1_score_tree\n",
    "- Выведите на печать accuracy_tree"
   ]
  },
  {
   "cell_type": "code",
   "execution_count": 21,
   "metadata": {},
   "outputs": [
    {
     "name": "stdout",
     "output_type": "stream",
     "text": [
      "F1-score: 0.08037825059101654\n",
      "Accuracy: 0.969287857255645\n"
     ]
    }
   ],
   "source": [
    "# Посчитайте f1_score для решающего дерева и сохраните в переменную f1_score_tree\n",
    "f1_score_tree = f1_score(y_test, y_pred_tree)\n",
    "# Посчитайте accuracy_score для решающего дерева и сохраните в переменную accuracy_tree\n",
    "accuracy_tree = accuracy_score(y_test, y_pred_tree)\n",
    "# Выведите на печать f1_score_tree\n",
    "print('F1-score:', f1_score_tree)\n",
    "# Выведите на печать accuracy_tree\n",
    "print('Accuracy:', accuracy_tree)"
   ]
  },
  {
   "cell_type": "markdown",
   "metadata": {},
   "source": [
    "### Задание - обучите логистическую регрессию"
   ]
  },
  {
   "cell_type": "markdown",
   "metadata": {},
   "source": [
    "- Импортируйте функцию LogisticRegression из модуля sklearn.linear_model\n",
    "- Объявите модель\n",
    "- Обучите\n",
    "- Сделайте прогноз для тестовой выборки\n",
    "- Посчитайте f1_score для логистической регрессии и сохраните в переменную f1_score_log_reg\n",
    "- Посчитайте accuracy_score для логистической регрессии и сохраните в переменную accuracy_log_reg\n",
    "- Выведите на печать f1_score_log_reg\n",
    "- Выведите на печать accuracy_log_reg"
   ]
  },
  {
   "cell_type": "code",
   "execution_count": 22,
   "metadata": {},
   "outputs": [
    {
     "name": "stderr",
     "output_type": "stream",
     "text": [
      "/anaconda3/lib/python3.7/site-packages/sklearn/linear_model/logistic.py:433: FutureWarning: Default solver will be changed to 'lbfgs' in 0.22. Specify a solver to silence this warning.\n",
      "  FutureWarning)\n"
     ]
    },
    {
     "name": "stdout",
     "output_type": "stream",
     "text": [
      "F1-score: 0.0\n",
      "Accuracy: 0.9857887257224064\n"
     ]
    },
    {
     "name": "stderr",
     "output_type": "stream",
     "text": [
      "/anaconda3/lib/python3.7/site-packages/sklearn/metrics/classification.py:1143: UndefinedMetricWarning: F-score is ill-defined and being set to 0.0 due to no predicted samples.\n",
      "  'precision', 'predicted', average, warn_for)\n"
     ]
    }
   ],
   "source": [
    "# Импортируйте функцию LogisticRegression\n",
    "from sklearn.linear_model import LogisticRegression\n",
    "\n",
    "# Объявите модель \n",
    "log_reg = LogisticRegression()\n",
    "\n",
    "# Обучите\n",
    "log_reg.fit(X_train, y_train)\n",
    "\n",
    "# Сделайте прогноз для тестовой выборки\n",
    "y_pred_test_log_reg = log_reg.predict(X_test)\n",
    "\n",
    "# Посчитайте f1_score для логистической регрессии и сохраните в переменную f1_score_log_reg\n",
    "f1_score_log_reg = f1_score(y_test, y_pred_test_log_reg)\n",
    "\n",
    "# Посчитайте accuracy_score для решающего дерева и сохраните в переменную accuracy_tree\n",
    "accuracy_log_reg = accuracy_score(y_test, y_pred_test_log_reg)\n",
    "\n",
    "# Выведите на печать f1_score_log_reg\n",
    "print('F1-score:', f1_score_log_reg)\n",
    "# Выведите на печать accuracy_log_reg\n",
    "print('Accuracy:', accuracy_log_reg)"
   ]
  },
  {
   "cell_type": "markdown",
   "metadata": {},
   "source": [
    "### Задание - обучите случайный лес"
   ]
  },
  {
   "cell_type": "code",
   "execution_count": 23,
   "metadata": {},
   "outputs": [
    {
     "name": "stderr",
     "output_type": "stream",
     "text": [
      "/anaconda3/lib/python3.7/site-packages/sklearn/ensemble/forest.py:246: FutureWarning: The default value of n_estimators will change from 10 in version 0.20 to 100 in 0.22.\n",
      "  \"10 in version 0.20 to 100 in 0.22.\", FutureWarning)\n"
     ]
    },
    {
     "name": "stdout",
     "output_type": "stream",
     "text": [
      "F1-score: 0.039999999999999994\n",
      "Accuracy: 0.9848413074372335\n"
     ]
    }
   ],
   "source": [
    "# Импортируйте функцию RandomForestClassifier\n",
    "from sklearn.ensemble import RandomForestClassifier\n",
    "\n",
    "# Объявите модель\n",
    "rf = RandomForestClassifier(random_state=SEED)\n",
    "# Обучите\n",
    "rf.fit(X_train, y_train)\n",
    "\n",
    "# Сделайте прогноз для тестовой выборки\n",
    "y_pred_test_rf = rf.predict(X_test)\n",
    "\n",
    "# Посчитайте f1_score для случайного леса и сохраните в переменную f1_score_rf\n",
    "f1_score_rf = f1_score(y_test, y_pred_test_rf)\n",
    "# Посчитайте accuracy для случайного леса и сохраните в переменную accuracy_rf\n",
    "accuracy_rf = accuracy_score(y_test, y_pred_test_rf)\n",
    "# Выведите на печать f1_score_rf\n",
    "print('F1-score:', f1_score_rf)\n",
    "# Выведите на печать accuracy_rf\n",
    "print('Accuracy:', accuracy_rf)"
   ]
  },
  {
   "cell_type": "markdown",
   "metadata": {},
   "source": [
    "### Задание \n",
    "Оформим в виде таблицы\n",
    "- Создайте лист models_list с названиями моделей ['Логистическая регрессия', 'Решающее дерево', 'Случайный лес']\n",
    "- Создайте лист accuracy_list со значениями accuracy для соответствующих моделей  [accuracy_log_reg, accuracy_tree, accuracy_rf]\n",
    "- Создайте лист f1_score_list со значениями f1_score для соответствующих моделей  [f1_score_log_reg, f1_score_tree, f1_score_rf]\n",
    "- Соберите в словарь metrics_dict, в котором будут три ключа: model, accuracy и f1_score с соответствующими листами-значениями\n",
    "- Создайте датафрейм metrics_df из этого словаря metrics_dict\n",
    "- Выведите на печать датафрейм metrics_df"
   ]
  },
  {
   "cell_type": "code",
   "execution_count": 24,
   "metadata": {},
   "outputs": [
    {
     "data": {
      "text/html": [
       "<div>\n",
       "<style scoped>\n",
       "    .dataframe tbody tr th:only-of-type {\n",
       "        vertical-align: middle;\n",
       "    }\n",
       "\n",
       "    .dataframe tbody tr th {\n",
       "        vertical-align: top;\n",
       "    }\n",
       "\n",
       "    .dataframe thead th {\n",
       "        text-align: right;\n",
       "    }\n",
       "</style>\n",
       "<table border=\"1\" class=\"dataframe\">\n",
       "  <thead>\n",
       "    <tr style=\"text-align: right;\">\n",
       "      <th></th>\n",
       "      <th>model</th>\n",
       "      <th>accuracy</th>\n",
       "      <th>f1_score</th>\n",
       "    </tr>\n",
       "  </thead>\n",
       "  <tbody>\n",
       "    <tr>\n",
       "      <th>0</th>\n",
       "      <td>Логистическая регрессия</td>\n",
       "      <td>0.985789</td>\n",
       "      <td>0.000000</td>\n",
       "    </tr>\n",
       "    <tr>\n",
       "      <th>1</th>\n",
       "      <td>Решающее дерево</td>\n",
       "      <td>0.969288</td>\n",
       "      <td>0.080378</td>\n",
       "    </tr>\n",
       "    <tr>\n",
       "      <th>2</th>\n",
       "      <td>Случайный лес</td>\n",
       "      <td>0.984841</td>\n",
       "      <td>0.040000</td>\n",
       "    </tr>\n",
       "  </tbody>\n",
       "</table>\n",
       "</div>"
      ],
      "text/plain": [
       "                     model  accuracy  f1_score\n",
       "0  Логистическая регрессия  0.985789  0.000000\n",
       "1          Решающее дерево  0.969288  0.080378\n",
       "2            Случайный лес  0.984841  0.040000"
      ]
     },
     "execution_count": 24,
     "metadata": {},
     "output_type": "execute_result"
    }
   ],
   "source": [
    "# Создайте лист models_list с названиями моделей \n",
    "models_list = ['Логистическая регрессия', 'Решающее дерево', 'Случайный лес']\n",
    "# Создайте лист accuracy_list со значениями accuracy для соответствующих моделей\n",
    "accuracy_list = [accuracy_log_reg, accuracy_tree, accuracy_rf]\n",
    "# Создайте лист f1_score_list со значениями f1_score для соответствующих моделей\n",
    "f1_score_list = [f1_score_log_reg, f1_score_tree, f1_score_rf]\n",
    "# Соберите в словарь metrics_dict\n",
    "metrics_dict = {'model': models_list,\n",
    "              'accuracy': accuracy_list,\n",
    "              'f1_score': f1_score_list}\n",
    "# Создайте датафрейм metrics_df из этого словаря metrics_dict\n",
    "metrics_df = pd.DataFrame(metrics_dict)\n",
    "# Выведите на печать датафрейм metrics_df\n",
    "metrics_df"
   ]
  },
  {
   "cell_type": "code",
   "execution_count": null,
   "metadata": {},
   "outputs": [],
   "source": []
  }
 ],
 "metadata": {
  "kernelspec": {
   "display_name": "Python 3",
   "language": "python",
   "name": "python3"
  },
  "language_info": {
   "codemirror_mode": {
    "name": "ipython",
    "version": 3
   },
   "file_extension": ".py",
   "mimetype": "text/x-python",
   "name": "python",
   "nbconvert_exporter": "python",
   "pygments_lexer": "ipython3",
   "version": "3.7.1"
  }
 },
 "nbformat": 4,
 "nbformat_minor": 2
}
