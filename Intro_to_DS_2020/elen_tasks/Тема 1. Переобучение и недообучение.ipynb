{
 "cells": [
  {
   "cell_type": "markdown",
   "metadata": {},
   "source": [
    "# Урок 1. Подготовка данных к обучению"
   ]
  },
  {
   "cell_type": "markdown",
   "metadata": {},
   "source": [
    "### Задание - загрузка данных и мини-предобработка\n",
    "\n",
    "- Загрузите данные из файла travel_insurance.csv функцией pd.read_csv()\n",
    "- Проверьте данные на пропуски. Примените метод isna(), а затем sum(), чтобы увидеть количество пропусков в каждом из столбцов. \n",
    "- Предобработайте категориальные переменные. Примените функцию pd.get_dummies к датафрейму data. Чтобы избежать ловушки дамми-переменной, укажите параметр drop_first=True, а также из-за наличия пропусков в категориальной колонке поставьте параметр dummy_na=True"
   ]
  },
  {
   "cell_type": "code",
   "execution_count": 4,
   "metadata": {},
   "outputs": [],
   "source": [
    "import pandas as pd\n",
    "SEED = 42\n",
    "# Загрузите данные из файла travel_insurance.csva\n",
    "data = pd.read_csv('travel_insurance.csv')\n",
    "\n",
    "# Проверьте данные на пропуски\n",
    "\n",
    "data.isna().sum()\n",
    "\n",
    "# Предобработайте категориальные переменные\n",
    "\n",
    "data = pd.get_dummies(data, drop_first=True, dummy_na=True)"
   ]
  },
  {
   "cell_type": "markdown",
   "metadata": {},
   "source": [
    "### Задание - разбиение данных "
   ]
  },
  {
   "cell_type": "markdown",
   "metadata": {},
   "source": [
    "- Подготовьте данные к обучению\n",
    "- Выделите целевую переменную в отдельную переменную из датафрейма, выбрав столбец ['Claim']\n",
    "- Выделите признаки в отдельную переменную. Для этого методом drop() удалите столбец ['Claim'] из датафрейма. В методе drop() не забудьте указать параметр axis=1"
   ]
  },
  {
   "cell_type": "code",
   "execution_count": 5,
   "metadata": {},
   "outputs": [],
   "source": [
    "# Импортируйте функцию train_test_split\n",
    "from sklearn.model_selection import train_test_split\n",
    "\n",
    "# Подготовьте данные к обучению\n",
    "# Выделите целевую переменную в отдельную переменную из датафрейма\n",
    "y = data['Claim']\n",
    "\n",
    "# Выделите признаки в отдельную переменную\n",
    "X = data.drop('Claim', axis=1)\n",
    "\n",
    "# Разбейте данные на тестовую и тренировочную выборки\n",
    "X_train, X_test, y_train, y_test = train_test_split(X, y, test_size=0.2, random_state=SEED)"
   ]
  },
  {
   "cell_type": "markdown",
   "metadata": {},
   "source": [
    "### Задание - шкалирование данных"
   ]
  },
  {
   "cell_type": "markdown",
   "metadata": {},
   "source": [
    "- Выделите в отдельный лист var_num числовые признаки ['Duration', 'Net Sales', 'Commision (in value)', 'Age']\n",
    "- Импортируйте шкалировщик  StandardScaler из модуля sklearn.preprocessing\n",
    "- Объвите шкалировщик, создав переменную scaler\n",
    "- Обучите шкалировщик методом fit. В него нужно передать данные из тренировочной выборки с числовыми столбцами X_train[var_feat]\n",
    "- Отмасштабируйте данные шкалировщиком через метод transform. Сохраните в X_train[var_feat] отшкалированные тренировочные данные, а в X_test[var_feat] - тренировочные\n"
   ]
  },
  {
   "cell_type": "code",
   "execution_count": 6,
   "metadata": {},
   "outputs": [
    {
     "name": "stderr",
     "output_type": "stream",
     "text": [
      "/anaconda3/lib/python3.7/site-packages/sklearn/preprocessing/data.py:625: DataConversionWarning: Data with input dtype int64, float64 were all converted to float64 by StandardScaler.\n",
      "  return self.partial_fit(X, y)\n",
      "/anaconda3/lib/python3.7/site-packages/ipykernel_launcher.py:14: DataConversionWarning: Data with input dtype int64, float64 were all converted to float64 by StandardScaler.\n",
      "  \n",
      "/anaconda3/lib/python3.7/site-packages/ipykernel_launcher.py:14: SettingWithCopyWarning: \n",
      "A value is trying to be set on a copy of a slice from a DataFrame.\n",
      "Try using .loc[row_indexer,col_indexer] = value instead\n",
      "\n",
      "See the caveats in the documentation: http://pandas.pydata.org/pandas-docs/stable/indexing.html#indexing-view-versus-copy\n",
      "  \n",
      "/anaconda3/lib/python3.7/site-packages/pandas/core/indexing.py:543: SettingWithCopyWarning: \n",
      "A value is trying to be set on a copy of a slice from a DataFrame.\n",
      "Try using .loc[row_indexer,col_indexer] = value instead\n",
      "\n",
      "See the caveats in the documentation: http://pandas.pydata.org/pandas-docs/stable/indexing.html#indexing-view-versus-copy\n",
      "  self.obj[item] = s\n",
      "/anaconda3/lib/python3.7/site-packages/ipykernel_launcher.py:17: DataConversionWarning: Data with input dtype int64, float64 were all converted to float64 by StandardScaler.\n",
      "/anaconda3/lib/python3.7/site-packages/ipykernel_launcher.py:17: SettingWithCopyWarning: \n",
      "A value is trying to be set on a copy of a slice from a DataFrame.\n",
      "Try using .loc[row_indexer,col_indexer] = value instead\n",
      "\n",
      "See the caveats in the documentation: http://pandas.pydata.org/pandas-docs/stable/indexing.html#indexing-view-versus-copy\n",
      "/anaconda3/lib/python3.7/site-packages/pandas/core/indexing.py:543: SettingWithCopyWarning: \n",
      "A value is trying to be set on a copy of a slice from a DataFrame.\n",
      "Try using .loc[row_indexer,col_indexer] = value instead\n",
      "\n",
      "See the caveats in the documentation: http://pandas.pydata.org/pandas-docs/stable/indexing.html#indexing-view-versus-copy\n",
      "  self.obj[item] = s\n"
     ]
    }
   ],
   "source": [
    "# Выделите в отдельный лист var_num числовые признаки\n",
    "var_feat = ['Duration', 'Net Sales', 'Commision (in value)', 'Age']\n",
    "\n",
    "# Импортируйте шкалировщик  StandardScaler\n",
    "from sklearn.preprocessing import StandardScaler\n",
    "\n",
    "# Объвите шкалировщик\n",
    "scaler = StandardScaler()\n",
    "\n",
    "# Обучите шкалировщик\n",
    "scaler.fit(X_train[var_feat])\n",
    "\n",
    "# Преобразуйте обучающую выборку\n",
    "X_train[var_feat] = scaler.transform(X_train[var_feat])\n",
    "\n",
    "# Преобразуйте тестовую выборку\n",
    "X_test[var_feat] = scaler.transform(X_test[var_feat])"
   ]
  },
  {
   "cell_type": "markdown",
   "metadata": {},
   "source": [
    "## Урок 2. Простые прогнозы и недообучение"
   ]
  },
  {
   "cell_type": "markdown",
   "metadata": {},
   "source": [
    "### Задание - константный прогноз"
   ]
  },
  {
   "cell_type": "markdown",
   "metadata": {},
   "source": [
    "- Посчитайте частоту появления обоих классов методом value_counts()\n",
    "- Создайте переменную y_const, которой присвойте значение доминантного класса. \n",
    "- Создайте переменную y_pred_const, которая хранит в себе прогнозы для тестовой выборки. Для этого умножьте лист со значением класса на длину y_test\n"
   ]
  },
  {
   "cell_type": "code",
   "execution_count": 7,
   "metadata": {},
   "outputs": [],
   "source": [
    "# Посчитайте частоту появления обоих классов\n",
    "y_train.value_counts()\n",
    "\n",
    "# Создайте переменную y_const, которой присвойте значение доминантного класса. \n",
    "y_const = 0\n",
    "\n",
    "# Создайте переменную y_pred_test_const, которая хранит в себе прогнозы для тестовой выборки\n",
    "y_pred_test_const = [1] * len(y_test)\n",
    "\n",
    "# Создайте переменную y_pred_train_const, которая хранит в себе прогнозы для тренировочной выборки\n",
    "y_pred_train_const = [1] * len(y_train)"
   ]
  },
  {
   "cell_type": "markdown",
   "metadata": {},
   "source": [
    "### Задание - Качество константного прогноза"
   ]
  },
  {
   "cell_type": "markdown",
   "metadata": {},
   "source": [
    "- Импортируйте метрику качества f1_score из модуля sklearn.metrics\n",
    "- Рассчитайте метрику качества на тренировочной выборке и выведите на печать: для этого передайте в фунцию настоящие значения на тренировочной выборке и прогнозы на тренировочной f1_score(y_train, y_pred_train_const)\n",
    "- Рассчитайте метрику качества на тестовой выборке и выведите на печать: для этого передайте в фунцию настоящие значения на тестовой  выборке и прогнозы на тестовой f1_score(y_train, y_pred_train_const)"
   ]
  },
  {
   "cell_type": "code",
   "execution_count": 8,
   "metadata": {},
   "outputs": [
    {
     "name": "stdout",
     "output_type": "stream",
     "text": [
      "Качество константного прогноза на тренировочных данных =  0.014745361231741019\n",
      "Качество константного прогноза на тестовых данных =  0.014211274277593557\n"
     ]
    }
   ],
   "source": [
    "# Импортируйте метрику качества f1_score\n",
    "from sklearn.metrics import accuracy_score, f1_score\n",
    "\n",
    "# Рассчитайте метрику качества на тренировочной выборке и выведите на печать\n",
    "print('Качество константного прогноза на тренировочных данных = ', accuracy_score(y_train, y_pred_train_const))\n",
    "\n",
    "# Рассчитайте метрику качества на тестовой выборке и выведите на печать\n",
    "print('Качество константного прогноза на тестовых данных = ', accuracy_score(y_test, y_pred_test_const))\n"
   ]
  },
  {
   "cell_type": "markdown",
   "metadata": {},
   "source": [
    "### Задание - случайный прогноз и качество"
   ]
  },
  {
   "cell_type": "markdown",
   "metadata": {},
   "source": [
    "- Создайте переменную y_pred_train_random, которая хранит в себе прогнозы для тренировочной выборки. Воспользуйтесь функцией np.random.randint, с помощью которой сгенерируете последовательность из нулей и единиц. В качестве первого параметра укажите , в качестве второго  длину тренировочной выборки. \n",
    "\n",
    "- Создайте переменную y_pred_test_random, которая хранит в себе прогнозы для тренировочной выборки. Воспользуйтесь функцией np.random.randint, с помощью которой сгенерируете последовательность из нулей и единиц. В качестве первого параметра укажите , в качестве второго  длину тестовой выборки.\n",
    "\n",
    "- Рассчитайте метрику качества на тренировочной выборке и выведите на печать\n",
    "\n",
    "- Рассчитайте метрику качества на тестовой выборке и выведите на печать\n"
   ]
  },
  {
   "cell_type": "code",
   "execution_count": 10,
   "metadata": {},
   "outputs": [
    {
     "name": "stdout",
     "output_type": "stream",
     "text": [
      "Качество случайного прогноза на тренировочных данных =  0.501243584682195\n",
      "Качество случайного прогноза на тестовых данных =  0.4955787146691931\n"
     ]
    }
   ],
   "source": [
    "import numpy as np\n",
    "np.random.seed(SEED)\n",
    "\n",
    "# Создайте переменную y_pred_train_random, которая хранит в себе прогнозы для тренировочной выборки\n",
    "y_pred_train_random = np.random.randint(2, size=len(y_train))\n",
    "\n",
    "# Создайте переменную y_pred_test_random, которая хранит в себе прогнозы для тестовой выборки\n",
    "y_pred_test_random = np.random.randint(2, size=len(y_test))\n",
    "\n",
    "# Рассчитайте метрику качества на тренировочной выборке и выведите на печать\n",
    "print('Качество случайного прогноза на тренировочных данных = ', accuracy_score(y_train, y_pred_train_random))\n",
    "\n",
    "# Рассчитайте метрику качества на тестовой выборке и выведите на печать\n",
    "print('Качество случайного прогноза на тестовых данных = ', accuracy_score(y_test, y_pred_test_random))"
   ]
  },
  {
   "cell_type": "markdown",
   "metadata": {},
   "source": [
    "### Задание на выбор правильного ответа - найти недообучение по метрикам"
   ]
  },
  {
   "cell_type": "markdown",
   "metadata": {},
   "source": [
    "## Урок 3. Новые модели и потенциальное переобучение"
   ]
  },
  {
   "cell_type": "markdown",
   "metadata": {},
   "source": [
    "### Задание - линейная модель и ее качество"
   ]
  },
  {
   "cell_type": "markdown",
   "metadata": {},
   "source": [
    "- Импортируйте функцию LogisticRegression из модуля sklearn.linear_model\n",
    "- Объявите модель \n",
    "- Обучите методом fit, передав в нее тренировочные данные: матрицу с признаками и вектор целевой переменной\n",
    "- Сделайте прогноз для тренировочной выборки методом predict и сохраните его в переменную y_pred_train_log_reg\n",
    "- Сделайте прогноз для тестовой выборки методом predict и сохраните его в переменную y_pred_test_log_reg\n",
    "- Рассчитайте метрику качества на тренировочной выборке и выведите на печать\n",
    "- Рассчитайте метрику качества на тестовой выборке и выведите на печать\n"
   ]
  },
  {
   "cell_type": "code",
   "execution_count": 11,
   "metadata": {
    "scrolled": true
   },
   "outputs": [
    {
     "name": "stderr",
     "output_type": "stream",
     "text": [
      "/anaconda3/lib/python3.7/site-packages/sklearn/linear_model/logistic.py:433: FutureWarning: Default solver will be changed to 'lbfgs' in 0.22. Specify a solver to silence this warning.\n",
      "  FutureWarning)\n"
     ]
    },
    {
     "name": "stdout",
     "output_type": "stream",
     "text": [
      "Качество случайного прогноза на тренировочных данных =  0.9851954204500593\n",
      "Качество случайного прогноза на тестовых данных =  0.9857887257224064\n"
     ]
    }
   ],
   "source": [
    "# Импортируйте функцию LogisticRegression\n",
    "from sklearn.linear_model import LogisticRegression\n",
    "\n",
    "# Объявите модель \n",
    "log_reg = LogisticRegression()\n",
    "\n",
    "# Обучите\n",
    "log_reg.fit(X_train, y_train)\n",
    "\n",
    "# Сделайте прогноз для тренировочной выборки\n",
    "y_pred_train_log_reg = log_reg.predict(X_train)\n",
    "# Сделайте прогноз для тестовой выборки\n",
    "y_pred_test_log_reg = log_reg.predict(X_test)\n",
    "\n",
    "# Рассчитайте метрику качества на тренировочной выборке и выведите на печать\n",
    "print('Качество случайного прогноза на тренировочных данных = ', accuracy_score(y_train, y_pred_train_log_reg))\n",
    "\n",
    "# Рассчитайте метрику качества на тестовой выборке и выведите на печать\n",
    "print('Качество случайного прогноза на тестовых данных = ', accuracy_score(y_test, y_pred_test_log_reg))"
   ]
  },
  {
   "cell_type": "markdown",
   "metadata": {},
   "source": [
    "### Задание - решаюшее дерево своими руками \n",
    "\n",
    "маленькие данные из двух признаков с рисунков на таблице, чтобы дерево в два шага построилось - к теоретической части"
   ]
  },
  {
   "cell_type": "markdown",
   "metadata": {},
   "source": [
    "### Задание - решаюшее дерево\n",
    "- Импортируйте функцию DecisionTreeClassifier из модуля sklearn.linear_model\n",
    "- Объявите модель \n",
    "- Обучите методом fit, передав в нее тренировочные данные: матрицу с признаками и вектор целевой переменной\n",
    "- Сделайте прогноз для тренировочной выборки методом predict и сохраните его в переменную y_pred_train_tree\n",
    "- Сделайте прогноз для тестовой выборки методом predict и сохраните его в переменную y_pred_test_tree\n",
    "- Рассчитайте метрику качества на тренировочной выборке и выведите на печать\n",
    "- Рассчитайте метрику качества на тестовой выборке и выведите на печать\n"
   ]
  },
  {
   "cell_type": "code",
   "execution_count": 12,
   "metadata": {},
   "outputs": [
    {
     "name": "stdout",
     "output_type": "stream",
     "text": [
      "Качество случайного прогноза на тренировочных данных =  1.0\n",
      "Качество случайного прогноза на тестовых данных =  0.969287857255645\n"
     ]
    }
   ],
   "source": [
    "# Импортируйте функцию DecisionTreeClassifier\n",
    "from sklearn.tree import DecisionTreeClassifier\n",
    "\n",
    "# Объявите модель\n",
    "\n",
    "tree = DecisionTreeClassifier(random_state=SEED)\n",
    "# Обучите\n",
    "tree.fit(X_train, y_train)\n",
    "\n",
    "# Сделайте прогноз для тренировочной выборки\n",
    "y_pred_train_tree = tree.predict(X_train)\n",
    "print('Качество случайного прогноза на тренировочных данных = ', accuracy_score(y_train, y_pred_train_tree))\n",
    "\n",
    "# Сделайте прогноз для тестовой выборки\n",
    "y_pred_test_tree = tree.predict(X_test)\n",
    "print('Качество случайного прогноза на тестовых данных = ', accuracy_score(y_test, y_pred_test_tree))"
   ]
  },
  {
   "cell_type": "markdown",
   "metadata": {},
   "source": [
    "### Задание - случайный лес\n",
    "- Импортируйте функцию RandomForestClassifier из модуля sklearn.ensemble\n",
    "- Объявите модель \n",
    "- Обучите методом fit, передав в нее тренировочные данные: матрицу с признаками и вектор целевой переменной\n",
    "- Сделайте прогноз для тренировочной выборки методом predict и сохраните его в переменную y_pred_train_tree\n",
    "- Сделайте прогноз для тестовой выборки методом predict и сохраните его в переменную y_pred_test_rf\n",
    "- Рассчитайте метрику качества на тренировочной выборке и выведите на печать\n",
    "- Рассчитайте метрику качества на тестовой выборке и выведите на печать\n"
   ]
  },
  {
   "cell_type": "code",
   "execution_count": 13,
   "metadata": {},
   "outputs": [
    {
     "name": "stderr",
     "output_type": "stream",
     "text": [
      "/anaconda3/lib/python3.7/site-packages/sklearn/ensemble/forest.py:246: FutureWarning: The default value of n_estimators will change from 10 in version 0.20 to 100 in 0.22.\n",
      "  \"10 in version 0.20 to 100 in 0.22.\", FutureWarning)\n"
     ]
    },
    {
     "name": "stdout",
     "output_type": "stream",
     "text": [
      "Качество случайного прогноза на тренировочных данных =  0.9968022108172128\n",
      "Качество случайного прогноза на тестовых данных =  0.9848413074372335\n"
     ]
    }
   ],
   "source": [
    "# Импортируйте функцию RandomForestClassifier\n",
    "from sklearn.ensemble import RandomForestClassifier\n",
    "\n",
    "# Объявите модель\n",
    "rf = RandomForestClassifier(random_state=SEED)\n",
    "# Обучите\n",
    "rf.fit(X_train, y_train)\n",
    "\n",
    "# Сделайте прогноз для тренировочной выборки\n",
    "y_pred_train_rf = rf.predict(X_train)\n",
    "print('Качество случайного прогноза на тренировочных данных = ', accuracy_score(y_train, y_pred_train_rf))\n",
    "\n",
    "# Сделайте прогноз для тестовой выборки\n",
    "y_pred_test_rf = rf.predict(X_test)\n",
    "print('Качество случайного прогноза на тестовых данных = ', accuracy_score(y_test, y_pred_test_rf))"
   ]
  },
  {
   "cell_type": "markdown",
   "metadata": {},
   "source": [
    "### Задание на выбор правильного ответа - найти  переобучение по метрикам"
   ]
  },
  {
   "cell_type": "markdown",
   "metadata": {},
   "source": [
    "### Задание на сопоставление: норм модель, недообученная и переобученная"
   ]
  }
 ],
 "metadata": {
  "kernelspec": {
   "display_name": "Python 3",
   "language": "python",
   "name": "python3"
  },
  "language_info": {
   "codemirror_mode": {
    "name": "ipython",
    "version": 3
   },
   "file_extension": ".py",
   "mimetype": "text/x-python",
   "name": "python",
   "nbconvert_exporter": "python",
   "pygments_lexer": "ipython3",
   "version": "3.7.1"
  }
 },
 "nbformat": 4,
 "nbformat_minor": 2
}
