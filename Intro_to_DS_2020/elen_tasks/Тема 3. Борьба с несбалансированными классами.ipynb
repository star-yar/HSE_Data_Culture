{
 "cells": [
  {
   "cell_type": "markdown",
   "metadata": {},
   "source": [
    "# Preloaded code"
   ]
  },
  {
   "cell_type": "code",
   "execution_count": 7,
   "metadata": {},
   "outputs": [
    {
     "name": "stderr",
     "output_type": "stream",
     "text": [
      "/anaconda3/lib/python3.7/site-packages/sklearn/preprocessing/data.py:625: DataConversionWarning: Data with input dtype int64, float64 were all converted to float64 by StandardScaler.\n",
      "  return self.partial_fit(X, y)\n",
      "/anaconda3/lib/python3.7/site-packages/ipykernel_launcher.py:39: DataConversionWarning: Data with input dtype int64, float64 were all converted to float64 by StandardScaler.\n",
      "/anaconda3/lib/python3.7/site-packages/ipykernel_launcher.py:39: SettingWithCopyWarning: \n",
      "A value is trying to be set on a copy of a slice from a DataFrame.\n",
      "Try using .loc[row_indexer,col_indexer] = value instead\n",
      "\n",
      "See the caveats in the documentation: http://pandas.pydata.org/pandas-docs/stable/indexing.html#indexing-view-versus-copy\n",
      "/anaconda3/lib/python3.7/site-packages/pandas/core/indexing.py:543: SettingWithCopyWarning: \n",
      "A value is trying to be set on a copy of a slice from a DataFrame.\n",
      "Try using .loc[row_indexer,col_indexer] = value instead\n",
      "\n",
      "See the caveats in the documentation: http://pandas.pydata.org/pandas-docs/stable/indexing.html#indexing-view-versus-copy\n",
      "  self.obj[item] = s\n",
      "/anaconda3/lib/python3.7/site-packages/ipykernel_launcher.py:42: DataConversionWarning: Data with input dtype int64, float64 were all converted to float64 by StandardScaler.\n",
      "/anaconda3/lib/python3.7/site-packages/ipykernel_launcher.py:42: SettingWithCopyWarning: \n",
      "A value is trying to be set on a copy of a slice from a DataFrame.\n",
      "Try using .loc[row_indexer,col_indexer] = value instead\n",
      "\n",
      "See the caveats in the documentation: http://pandas.pydata.org/pandas-docs/stable/indexing.html#indexing-view-versus-copy\n",
      "/anaconda3/lib/python3.7/site-packages/pandas/core/indexing.py:543: SettingWithCopyWarning: \n",
      "A value is trying to be set on a copy of a slice from a DataFrame.\n",
      "Try using .loc[row_indexer,col_indexer] = value instead\n",
      "\n",
      "See the caveats in the documentation: http://pandas.pydata.org/pandas-docs/stable/indexing.html#indexing-view-versus-copy\n",
      "  self.obj[item] = s\n"
     ]
    }
   ],
   "source": [
    "import pandas as pd\n",
    "import numpy as np\n",
    "SEED = 42\n",
    "# Загрузите данные из файла travel_insurance.csva\n",
    "data = pd.read_csv('travel_insurance.csv', index_col=0)\n",
    "\n",
    "# Проверьте данные на пропуски\n",
    "data.isna().sum()"
   ]
  },
  {
   "cell_type": "markdown",
   "metadata": {},
   "source": [
    "# Урок 1. Классификация через уверенность в принадлежности к классу"
   ]
  },
  {
   "cell_type": "markdown",
   "metadata": {},
   "source": [
    "### Задание - обучить логистическую регрессию"
   ]
  },
  {
   "cell_type": "markdown",
   "metadata": {},
   "source": [
    "- Импортируйте функцию LogisticRegression из модуля sklearn.linear_model\n",
    "- Импортируйте функцию для расчета метрики precision_score из модуля sklearn.metrics\n",
    "- Объявите модель, создав переменную log_reg и записав в нее результат функции LogisticRegression()\n",
    "- Обучите модель log_reg методом fit() на тренировочных данных X_train, y_train\n",
    "- Сделайте прогноз по модели log_reg методом predict на тестовых данных и запишите прогноз в переменную y_pred_lr\n",
    "- Посчитайте метрику качества precision и сохраните ее в переменную precision_lr"
   ]
  },
  {
   "cell_type": "code",
   "execution_count": 2,
   "metadata": {
    "scrolled": true
   },
   "outputs": [
    {
     "name": "stderr",
     "output_type": "stream",
     "text": [
      "/anaconda3/lib/python3.7/site-packages/sklearn/linear_model/logistic.py:433: FutureWarning: Default solver will be changed to 'lbfgs' in 0.22. Specify a solver to silence this warning.\n",
      "  FutureWarning)\n"
     ]
    },
    {
     "name": "stdout",
     "output_type": "stream",
     "text": [
      "0.0\n"
     ]
    },
    {
     "name": "stderr",
     "output_type": "stream",
     "text": [
      "/anaconda3/lib/python3.7/site-packages/sklearn/metrics/classification.py:1143: UndefinedMetricWarning: Precision is ill-defined and being set to 0.0 due to no predicted samples.\n",
      "  'precision', 'predicted', average, warn_for)\n"
     ]
    }
   ],
   "source": [
    "# Импортируйте функцию LogisticRegression\n",
    "from sklearn.linear_model import LogisticRegression\n",
    "# Импортируйте функцию для расчета метрики precision_score\n",
    "from sklearn.metrics import precision_score\n",
    "\n",
    "# Объявите модель \n",
    "log_reg = LogisticRegression()\n",
    "\n",
    "# Обучите\n",
    "log_reg.fit(X_train, y_train)\n",
    "\n",
    "# Сделайте прогноз\n",
    "y_pred_lr = log_reg.predict(X_test)\n",
    "\n",
    "# Посчитайте метрику качества и сохраните ее в переменную\n",
    "precision_lr = precision_score(y_test, y_pred_lr)\n",
    "\n",
    "# Выведите ее на печать\n",
    "print(precision_lr)"
   ]
  },
  {
   "cell_type": "markdown",
   "metadata": {},
   "source": [
    "### Задание - сделать прогноз вероятности "
   ]
  },
  {
   "cell_type": "markdown",
   "metadata": {},
   "source": [
    "- Сделайте прогноз модели log_reg на тестовых данных, который оценит вероятность принадлежности к классу\n",
    "- Выведите на печать первые 5 наблюдений\n",
    "- Сохраните вероятности принадлежности к классу 1. \n"
   ]
  },
  {
   "cell_type": "code",
   "execution_count": 3,
   "metadata": {},
   "outputs": [
    {
     "name": "stdout",
     "output_type": "stream",
     "text": [
      "[[0.99385527 0.00614473]\n",
      " [0.99723634 0.00276366]\n",
      " [0.99313221 0.00686779]\n",
      " [0.99525003 0.00474997]\n",
      " [0.99433804 0.00566196]]\n"
     ]
    }
   ],
   "source": [
    "# Сделайте прогноз по вероятностям\n",
    "y_pred_lr_proba = log_reg.predict_proba(X_test)\n",
    "# Выведите на печать первые 5 наблюдений\n",
    "print(y_pred_lr_proba[:5])\n",
    "# Сохраните вероятности принадлежности к классу. \n",
    "y_pred_lr_proba = y_pred_lr_proba[:, 1]"
   ]
  },
  {
   "cell_type": "markdown",
   "metadata": {},
   "source": [
    "### Задание - пороги\n",
    "- Задайте порог, равный 0.6\n",
    "- Замените значения, превышающие порог, на 1\n",
    "- Замените значения, которые не больше порога, на 0\n",
    "- Рассчитайте precision_score"
   ]
  },
  {
   "cell_type": "code",
   "execution_count": 4,
   "metadata": {},
   "outputs": [
    {
     "name": "stdout",
     "output_type": "stream",
     "text": [
      "0.0\n"
     ]
    },
    {
     "name": "stderr",
     "output_type": "stream",
     "text": [
      "/anaconda3/lib/python3.7/site-packages/sklearn/metrics/classification.py:1143: UndefinedMetricWarning: Precision is ill-defined and being set to 0.0 due to no predicted samples.\n",
      "  'precision', 'predicted', average, warn_for)\n"
     ]
    }
   ],
   "source": [
    "# Задайте порог\n",
    "threshold = 0.6\n",
    "# Замените значения, превышающие порог, на 1\n",
    "y_pred_lr_proba[y_pred_lr_proba > threshold] = 1\n",
    "# Замените значения, которые не больше порога, на 0\n",
    "y_pred_lr_proba[y_pred_lr_proba <= threshold] = 0\n",
    "# Рассчитайте precision_score\n",
    "print(precision_score(y_test, y_pred_lr_proba))"
   ]
  },
  {
   "cell_type": "markdown",
   "metadata": {},
   "source": [
    "### Задание - перебор порогов\n",
    "- Создайте последовательность thresholds из 10 значений порогов от 0 до 1 с шагом 0.1. Воспользуйтесь функций np.arange, указав параметр step=0.1, а диапазон перебора от 1 до 10\n",
    "- В цикле переберите пороги и рассчитайте метрику качества:\n",
    "1. Сделайте прогноз вероятности принадлежности к классу 1 методом predict_proba()\n",
    "2. Замените значения, превышающие порог, на 1\n",
    "3. Замените значения, которые не больше порога, на 0\n",
    "4. Выведите на печать порог и значение precision_score\n"
   ]
  },
  {
   "cell_type": "code",
   "execution_count": 8,
   "metadata": {},
   "outputs": [
    {
     "name": "stdout",
     "output_type": "stream",
     "text": [
      "Threshold: 0.0 Precision: 0.014211274277593557\n",
      "Threshold: 0.1 Precision: 0.10566037735849057\n",
      "Threshold: 0.2 Precision: 0.0\n",
      "Threshold: 0.30000000000000004 Precision: 0.0\n",
      "Threshold: 0.4 Precision: 0.0\n",
      "Threshold: 0.5 Precision: 0.0\n",
      "Threshold: 0.6000000000000001 Precision: 0.0\n",
      "Threshold: 0.7000000000000001 Precision: 0.0\n",
      "Threshold: 0.8 Precision: 0.0\n",
      "Threshold: 0.9 Precision: 0.0\n"
     ]
    },
    {
     "name": "stderr",
     "output_type": "stream",
     "text": [
      "/anaconda3/lib/python3.7/site-packages/sklearn/metrics/classification.py:1143: UndefinedMetricWarning: Precision is ill-defined and being set to 0.0 due to no predicted samples.\n",
      "  'precision', 'predicted', average, warn_for)\n",
      "/anaconda3/lib/python3.7/site-packages/sklearn/metrics/classification.py:1143: UndefinedMetricWarning: Precision is ill-defined and being set to 0.0 due to no predicted samples.\n",
      "  'precision', 'predicted', average, warn_for)\n",
      "/anaconda3/lib/python3.7/site-packages/sklearn/metrics/classification.py:1143: UndefinedMetricWarning: Precision is ill-defined and being set to 0.0 due to no predicted samples.\n",
      "  'precision', 'predicted', average, warn_for)\n",
      "/anaconda3/lib/python3.7/site-packages/sklearn/metrics/classification.py:1143: UndefinedMetricWarning: Precision is ill-defined and being set to 0.0 due to no predicted samples.\n",
      "  'precision', 'predicted', average, warn_for)\n",
      "/anaconda3/lib/python3.7/site-packages/sklearn/metrics/classification.py:1143: UndefinedMetricWarning: Precision is ill-defined and being set to 0.0 due to no predicted samples.\n",
      "  'precision', 'predicted', average, warn_for)\n"
     ]
    }
   ],
   "source": [
    "# Создайте последовательность из 10 значений порогов от 0 до 1 с шагом 0.1\n",
    "threshholds = np.arange(0, 1, step=0.1)\n",
    "# В цикле переберите пороги и рассчитайте метрику качества\n",
    "for threshold in threshholds:\n",
    "    # Сделайте прогноз вероятности принадлежности к классу 1\n",
    "    y_pred_lr_proba_thr = log_reg.predict_proba(X_test)[:, 1]\n",
    "    # Замените значения, превышающие порог, на 1\n",
    "    y_pred_lr_proba_thr[y_pred_lr_proba_thr > threshold] = 1\n",
    "    # Замените значения, которые не больше порога, на 0\n",
    "    y_pred_lr_proba_thr[y_pred_lr_proba_thr <= threshold] = 0\n",
    "    print('Threshold:' , threshold, 'Precision:', precision_score(y_test, y_pred_lr_proba_thr))"
   ]
  },
  {
   "cell_type": "markdown",
   "metadata": {},
   "source": [
    "# Урок 2. PR и ROC-AUC"
   ]
  },
  {
   "cell_type": "markdown",
   "metadata": {},
   "source": [
    "### Задание -  PR-кривая\n",
    "- Получите прогнозы по вероятности принадлежности к классу 1. Примените метод predict_proba к тестовой выборке X_test, а затем из получившеговся двухмерного массива отберите вторую колонку [:, 1]\n",
    "- Импортируйте функцию precision_recall_curve из модуля sklearn.metrics\n",
    "- Вызовите функцию precision_recall_curve, передав в нее два параметра: y_test и y_pred_lr_proba. Результат сохраните в трех переменных: precision, recall, thresholds\n",
    "- Импортируйте модуль matplotlib.pyplot, чтобы отрисовалась PR-кривая"
   ]
  },
  {
   "cell_type": "code",
   "execution_count": 9,
   "metadata": {},
   "outputs": [
    {
     "data": {
      "text/plain": [
       "<Figure size 1000x1000 with 1 Axes>"
      ]
     },
     "metadata": {},
     "output_type": "display_data"
    },
    {
     "name": "stdout",
     "output_type": "stream",
     "text": [
      "Пороги для вероятностей: [0.00088261 0.00088616 0.00089072 ... 0.31183211 0.32075908 0.40777401]\n"
     ]
    }
   ],
   "source": [
    "# Получите прогнозы по вероятности принадлежности к классу 1\n",
    "y_pred_lr_proba = log_reg.predict_proba(X_test)[:, 1]\n",
    "\n",
    "# Импортируйте функцию precision_recall_curve\n",
    "from sklearn.metrics import precision_recall_curve\n",
    "\n",
    "# Сохраните ее результат в переменные: precision, recall, thresholds\n",
    "precision, recall, thresholds = precision_recall_curve(y_test, y_pred_lr_proba)\n",
    "\n",
    "# Импортируйте модуль matplotlib.pyplot\n",
    "import matplotlib.pyplot as plt\n",
    "\n",
    "# Код не пишется слушателем, а предзагружен\n",
    "plt.figure(figsize=(10,10))\n",
    "plt.step(recall, precision, color='b', alpha=0.5,\n",
    "         where='post')\n",
    "plt.fill_between(recall, precision, alpha=0.2, color='b')\n",
    "plt.xlabel('Recall')\n",
    "plt.ylabel('Precision')\n",
    "plt.ylim([0.0, 1.05])\n",
    "plt.xlim([0.0, 1.0])\n",
    "plt.title('2-class Precision-Recall curve')\n",
    "plt.show()\n",
    "\n",
    "print(\"Пороги для вероятностей:\", thresholds)"
   ]
  },
  {
   "cell_type": "markdown",
   "metadata": {},
   "source": [
    "### Задание руками -  площадь по PR-кривой"
   ]
  },
  {
   "cell_type": "markdown",
   "metadata": {},
   "source": [
    "### Задание ROC-кривая\n",
    "\n",
    "- Получите прогнозы по вероятности принадлежности к классу 1. Примените метод predict_proba к тестовой выборке X_test, а затем из получившеговся двухмерного массива отберите вторую колонку [:, 1]\n",
    "- Импортируйте функцию roc_curve из модуля sklearn.metrics\n",
    "- Вызовите функцию roc_curve, передав в нее два параметра: y_test и y_pred_lr_proba. Результат сохраните в трех переменных: fpr, tpr, thresholds"
   ]
  },
  {
   "cell_type": "code",
   "execution_count": 10,
   "metadata": {},
   "outputs": [],
   "source": [
    "# Получите прогнозы по вероятности принадлежности к классу 1\n",
    "y_pred_lr_proba = log_reg.predict_proba(X_test)[:, 1]\n",
    "\n",
    "# Импортируйте функцию roc_curve\n",
    "from sklearn.metrics import roc_curve\n",
    "\n",
    "# Сохраните ее результат в переменные: fpr, tpr, thresholds\n",
    "fpr, tpr, thresholds = roc_curve(y_test, y_pred_lr_proba)"
   ]
  },
  {
   "cell_type": "code",
   "execution_count": 11,
   "metadata": {},
   "outputs": [
    {
     "data": {
      "image/png": "[encoded data removed]",
      "text/plain": [
       "<Figure size 432x288 with 1 Axes>"
      ]
     },
     "metadata": {
      "needs_background": "light"
     },
     "output_type": "display_data"
    }
   ],
   "source": [
    "# Код не пишется слушателем, а предзагружен\n",
    "import matplotlib.pyplot as plt\n",
    "plt.figure()\n",
    "lw = 2\n",
    "plt.plot(fpr, tpr, color='darkorange', lw=lw, label='ROC-кривая')\n",
    "plt.plot([0, 1], [0, 1], color='navy', lw=lw, linestyle='--')\n",
    "plt.xlim([0.0, 1.0])\n",
    "plt.ylim([0.0, 1.05])\n",
    "plt.xlabel('False Positive Rate')\n",
    "plt.ylabel('True Positive Rate')\n",
    "plt.title('Receiver operating characteristic')\n",
    "plt.legend(loc=\"lower right\")\n",
    "plt.show()"
   ]
  },
  {
   "cell_type": "markdown",
   "metadata": {},
   "source": [
    "### Задание - площадь под ROC-кривой\n",
    "- Импортируйте функцию roc_auc_score из модуля sklearn.metrics\n",
    "- Посчитайте площадь под ROC-кривой. Используйте функцию roc_auc_score, в которую нужно передать два параметра y_test, y_pred_lr_proba"
   ]
  },
  {
   "cell_type": "code",
   "execution_count": 12,
   "metadata": {},
   "outputs": [
    {
     "name": "stdout",
     "output_type": "stream",
     "text": [
      "0.8252095680495488\n"
     ]
    }
   ],
   "source": [
    "# Импортируйте функцию roc_auc_score\n",
    "from sklearn.metrics import roc_auc_score\n",
    "\n",
    "# Посчитайте площадь под ROC-кривой\n",
    "roc_auc_log_reg = roc_auc_score(y_test, y_pred_lr_proba)\n",
    "print(roc_auc_log_reg)"
   ]
  },
  {
   "cell_type": "markdown",
   "metadata": {},
   "source": [
    "### Задание - площадь под ROC-кривой руками"
   ]
  },
  {
   "cell_type": "markdown",
   "metadata": {},
   "source": [
    "# Урок 3: Оценка моделей по ROC_AUC"
   ]
  },
  {
   "cell_type": "markdown",
   "metadata": {},
   "source": [
    "### Задание: ROC-AUC для решающего дерева\n",
    "- Импортируйте функцию DecisionTreeClassifier из модуля sklearn.tree\n",
    "- Объявите модель, вызвав функцию DecisionTreeClassifier(random_state=SEED)\n",
    "- Обучите модель методом fit: передайте тренировочные данные X_train, y_train\n",
    "- Получите прогнозы по вероятности принадлежности к классу 1. Примените метод predict_proba к тестовой выборке X_test, а затем из получившеговся двухмерного массива отберите вторую колонку [:, 1]\n",
    "- Посчитайте roc_auc_score для решающего дерева и сохраните в переменную roc_auc_tree\n",
    "- Выведите на печать roc_auc_score"
   ]
  },
  {
   "cell_type": "code",
   "execution_count": 13,
   "metadata": {},
   "outputs": [
    {
     "name": "stdout",
     "output_type": "stream",
     "text": [
      "0.5442337640379448\n"
     ]
    }
   ],
   "source": [
    "# Импортируйте функцию DecisionTreeClassifier\n",
    "from sklearn.tree import DecisionTreeClassifier\n",
    "\n",
    "# Объявите модель\n",
    "tree = DecisionTreeClassifier(random_state=SEED)\n",
    "# Обучите\n",
    "tree.fit(X_train, y_train)\n",
    "\n",
    "# Сделайте прогноз для тестовой выборки \n",
    "y_pred_tree_proba = tree.predict_proba(X_test)[:, 1]\n",
    "\n",
    "# Посчитайте roc_auc_score для случайного леса и сохраните в переменную roc_auc_tree\n",
    "roc_auc_tree = roc_auc_score(y_test, y_pred_tree_proba)\n",
    "print(roc_auc_tree)"
   ]
  },
  {
   "cell_type": "markdown",
   "metadata": {},
   "source": [
    "### Задание: ROC-AUC для  случайного леса\n",
    "- Импортируйте функцию RandomForestClassifier из модуля sklearn.ensemble\n",
    "- Объявите модель, вызвав функцию RandomForestClassifier(random_state=SEED)\n",
    "- Обучите модель методом fit: передайте тренировочные данные X_train, y_train\n",
    "- Получите прогнозы по вероятности принадлежности к классу 1. Примените метод predict_proba к тестовой выборке X_test, а затем из получившеговся двухмерного массива отберите вторую колонку [:, 1]\n",
    "- Посчитайте roc_auc_score для случайного леса и сохраните в переменную roc_auc_rf\n",
    "- Выведите на печать roc_auc_rf"
   ]
  },
  {
   "cell_type": "code",
   "execution_count": 14,
   "metadata": {
    "scrolled": true
   },
   "outputs": [
    {
     "name": "stderr",
     "output_type": "stream",
     "text": [
      "/anaconda3/lib/python3.7/site-packages/sklearn/ensemble/forest.py:246: FutureWarning: The default value of n_estimators will change from 10 in version 0.20 to 100 in 0.22.\n",
      "  \"10 in version 0.20 to 100 in 0.22.\", FutureWarning)\n"
     ]
    },
    {
     "name": "stdout",
     "output_type": "stream",
     "text": [
      "0.6328205367789702\n"
     ]
    }
   ],
   "source": [
    "# Импортируйте функцию RandomForestClassifier\n",
    "from sklearn.ensemble import RandomForestClassifier\n",
    "\n",
    "# Объявите модель\n",
    "rf = RandomForestClassifier(random_state=SEED)\n",
    "# Обучите\n",
    "rf.fit(X_train, y_train)\n",
    "\n",
    "# Сделайте прогноз для тестовой выборки\n",
    "y_pred_test_rf_proba = rf.predict_proba(X_test)[:,1]\n",
    "\n",
    "# Посчитайте roc_auc_score для случайного леса и сохраните в переменную f1_score_rf\n",
    "roc_auc_rf = roc_auc_score(y_test, y_pred_test_rf_proba)\n",
    "print(roc_auc_rf)"
   ]
  },
  {
   "cell_type": "markdown",
   "metadata": {},
   "source": [
    "### Задание - собрать результаты по  ROC-AUC\n",
    "- Создайте лист models_list с названиями моделей ['Логистическая регрессия', 'Решающее дерево', 'Случайный лес']\n",
    "- Создайте лист Логистическая со значениями roc_auc_score для соответствующих моделей\n",
    "- Соберите в словарь metrics_dict названия моделей и roc_auc_score; используйте два ключа: 'mode' и 'roc_auc'\n",
    "- Обратите metrics_dict в датафрейм функцией pd.DataFrame и сохраните результат в переменную metrics_df\n",
    "- Распечатайте metrics_df"
   ]
  },
  {
   "cell_type": "code",
   "execution_count": 15,
   "metadata": {},
   "outputs": [
    {
     "data": {
      "text/html": [
       "<div>\n",
       "<style scoped>\n",
       "    .dataframe tbody tr th:only-of-type {\n",
       "        vertical-align: middle;\n",
       "    }\n",
       "\n",
       "    .dataframe tbody tr th {\n",
       "        vertical-align: top;\n",
       "    }\n",
       "\n",
       "    .dataframe thead th {\n",
       "        text-align: right;\n",
       "    }\n",
       "</style>\n",
       "<table border=\"1\" class=\"dataframe\">\n",
       "  <thead>\n",
       "    <tr style=\"text-align: right;\">\n",
       "      <th></th>\n",
       "      <th>model</th>\n",
       "      <th>roc_auc</th>\n",
       "    </tr>\n",
       "  </thead>\n",
       "  <tbody>\n",
       "    <tr>\n",
       "      <th>0</th>\n",
       "      <td>Логистическая регрессия</td>\n",
       "      <td>0.825210</td>\n",
       "    </tr>\n",
       "    <tr>\n",
       "      <th>1</th>\n",
       "      <td>Решающее дерево</td>\n",
       "      <td>0.544234</td>\n",
       "    </tr>\n",
       "    <tr>\n",
       "      <th>2</th>\n",
       "      <td>Случайный лес</td>\n",
       "      <td>0.632821</td>\n",
       "    </tr>\n",
       "  </tbody>\n",
       "</table>\n",
       "</div>"
      ],
      "text/plain": [
       "                     model   roc_auc\n",
       "0  Логистическая регрессия  0.825210\n",
       "1          Решающее дерево  0.544234\n",
       "2            Случайный лес  0.632821"
      ]
     },
     "execution_count": 15,
     "metadata": {},
     "output_type": "execute_result"
    }
   ],
   "source": [
    "# Создайте лист models_list с названиями моделей \n",
    "models_list = ['Логистическая регрессия', 'Решающее дерево', 'Случайный лес']\n",
    "# Создайте лист roc_auc_list со значениями roc_auc_score для соответствующих моделей\n",
    "roc_auc_list = [roc_auc_log_reg, roc_auc_tree, roc_auc_rf]\n",
    "# Соберите в словарь metrics_dict\n",
    "metrics_dict = {'model': models_list,\n",
    "              'roc_auc': roc_auc_list}\n",
    "# Создайте датафрейм metrics_df из этого словаря metrics_dict\n",
    "metrics_df = pd.DataFrame(metrics_dict)\n",
    "# Выведите на печать датафрейм metrics_df\n",
    "metrics_df"
   ]
  },
  {
   "cell_type": "markdown",
   "metadata": {},
   "source": [
    "# Урок 4: Upsampling"
   ]
  },
  {
   "cell_type": "markdown",
   "metadata": {},
   "source": [
    "###  Задание - поиск миноритарного класса\n",
    "Визуализируйте распределение классов, чтобы найти миноритарный класс:\n",
    "- посчитайте частоту появления классов в y_train методом value_counts()\n",
    "- примените метод plot(), чтобы нарисовать столбцовую диаграмму; укажите параметр kind='bar'\n"
   ]
  },
  {
   "cell_type": "code",
   "execution_count": 16,
   "metadata": {},
   "outputs": [
    {
     "data": {
      "text/plain": [
       "<matplotlib.axes._subplots.AxesSubplot at 0x11a732588>"
      ]
     },
     "execution_count": 16,
     "metadata": {},
     "output_type": "execute_result"
    },
    {
     "data": {
      "image/png": "[encoded data removed]",
      "text/plain": [
       "<Figure size 432x288 with 1 Axes>"
      ]
     },
     "metadata": {
      "needs_background": "light"
     },
     "output_type": "display_data"
    }
   ],
   "source": [
    "# Визуализируйте распределение классов, чтобы найти миноритарный класс\n",
    "y_train.value_counts().plot(kind='bar')"
   ]
  },
  {
   "cell_type": "markdown",
   "metadata": {},
   "source": [
    "### Задание - количество элементов класса\n",
    "- Посчитайте количество нулей в y_train: сделайте срез столбца y_train по условию y_train == 0 и примените метод count(). Распечатайте результат\n",
    "- Посчитайте количество единиц в y_train: сделайте срез столбца y_train по условию y_train == 1 и примените метод count(). Распечатайте результат"
   ]
  },
  {
   "cell_type": "code",
   "execution_count": 17,
   "metadata": {},
   "outputs": [
    {
     "name": "stdout",
     "output_type": "stream",
     "text": [
      "49913\n",
      "747\n"
     ]
    }
   ],
   "source": [
    "# Посчитайте количество нулей в y_train\n",
    "print(y_train[y_train == 0].count())\n",
    "# Посчитайте количество единиц в y_train\n",
    "print(y_train[y_train == 1].count())"
   ]
  },
  {
   "cell_type": "markdown",
   "metadata": {},
   "source": [
    "###  Задание - подготовка к upsampling\n",
    "- Задайте параметр k, равный 6\n",
    "- Сделайте копию обучающей выборки в переменную X_train_upsampled - в ней будет хранится сбалансированная выборка\n",
    "- Сделайте срез данных из X_train, соответствующих миноритарному классу, и сохраните в переменную minor_class. В качестве условия среза примените y_train == 1"
   ]
  },
  {
   "cell_type": "code",
   "execution_count": 18,
   "metadata": {},
   "outputs": [],
   "source": [
    "# Задайте параметр k, равный 6\n",
    "k = 6\n",
    "\n",
    "# Сделайте копию обучающей выборки в переменную, в которой будет хранится модель \n",
    "X_train_upsampled = X_train\n",
    "\n",
    "# Сделайте срез данных, соответствующих миноритарному классу, и сохраните в переменную minor_class\n",
    "minor_class =  X_train[y_train == 1]"
   ]
  },
  {
   "cell_type": "markdown",
   "metadata": {},
   "source": [
    "###  Задание -  upsampling матрицы признаков\n",
    "- В цикле k раз допишите в X_train_upsampled датафрейм minor_class. Используйте функцию pd.concat для дозаписи minor_class в X_train_upsampled. Аргументов функции является лист [X_train_upsampled, minor_class]\n",
    "- Сбросьте индекс методом reset_index() c параметром drop=True, чтобы в таблице не было дублирущихся индексов после конкатенирования таблиц\n"
   ]
  },
  {
   "cell_type": "code",
   "execution_count": 19,
   "metadata": {},
   "outputs": [],
   "source": [
    "# В цикле k раз допишите в X_train_upsampled датафрейм minor_class\n",
    "for i in range(k):\n",
    "    X_train_upsampled = pd.concat([X_train_upsampled, minor_class], axis=0)\n",
    "\n",
    "# Сбросьте индекс, чтобы в таблице не было дублирущихся индексов\n",
    "X_train_upsampled = X_train_upsampled.reset_index(drop=True)    "
   ]
  },
  {
   "cell_type": "markdown",
   "metadata": {},
   "source": [
    "###  Задание -  upsampling целевой переменной\n",
    "- Создайте вектор ones с единицами, ее размер - длина датафрейма minor_class, умноженная на k. Используйте функцию np.ones()\n",
    "- Удлините вектор целевой переменной тренировочной выборки: объедините y_train и ones функцией pd.concat()\n",
    "- Сбросьте индекс методом reset_index() c параметром drop=Truе для удаления дублирующихся индексов после объединения столбцов"
   ]
  },
  {
   "cell_type": "code",
   "execution_count": 20,
   "metadata": {},
   "outputs": [],
   "source": [
    "# Создайте вектор ones\n",
    "ones = np.ones(len(minor_class)*k)\n",
    "# Удлините вектор целевой переменной тренировочной выборки\n",
    "y_train_upsampled = pd.concat([y_train, pd.Series(ones)])\n",
    "# Сбросьте индекс, чтобы в таблице не было дублирущихся индексов\n",
    "y_train_upsampled = y_train_upsampled.reset_index(drop=True)"
   ]
  },
  {
   "cell_type": "markdown",
   "metadata": {},
   "source": [
    "###  Задание -  шаффл данных\n",
    "- Импортируйте функцию shuffle из модуля sklearn.utils\n",
    "- Перемешайте данные: передайте в функцию shuffle X_train_upsampled, y_train_upsampled, а результат перезапишите в тех же переменных "
   ]
  },
  {
   "cell_type": "code",
   "execution_count": 21,
   "metadata": {},
   "outputs": [],
   "source": [
    "# Импортируйте функцию shuffle\n",
    "from sklearn.utils import shuffle\n",
    "# Перемешайте данные\n",
    "X_train_upsampled, y_train_upsampled = shuffle(X_train_upsampled, y_train_upsampled, random_state=SEED)"
   ]
  },
  {
   "cell_type": "markdown",
   "metadata": {},
   "source": [
    "###  Задание -  Логрегрессия на upsample данных\n",
    "- Объявите модель LogisticRegression()\n",
    "- Обучите модель методом fit на семплированных данных\n",
    "- - Получите прогнозы по вероятности принадлежности к классу 1. Примените метод predict_proba к тестовой выборке X_test, а затем из получившеговся двухмерного массива отберите вторую колонку [:, 1]\n",
    "- Посчитайте roc_auc_score для логистической регрессии и сохраните в переменную roc_auc_lg_ups\n",
    "- Распечатайте roc_auc_lg_ups"
   ]
  },
  {
   "cell_type": "code",
   "execution_count": 22,
   "metadata": {},
   "outputs": [
    {
     "name": "stderr",
     "output_type": "stream",
     "text": [
      "/anaconda3/lib/python3.7/site-packages/sklearn/linear_model/logistic.py:433: FutureWarning: Default solver will be changed to 'lbfgs' in 0.22. Specify a solver to silence this warning.\n",
      "  FutureWarning)\n"
     ]
    },
    {
     "name": "stdout",
     "output_type": "stream",
     "text": [
      "0.821220211080855\n"
     ]
    }
   ],
   "source": [
    "# Объявите модель\n",
    "log_reg_ups = LogisticRegression(random_state=SEED)\n",
    "# Обучите на сэмплированных данных \n",
    "log_reg_ups.fit(X_train_upsampled, y_train_upsampled)\n",
    "# Спрогнозируйте вероятность принадлежности к классу 1\n",
    "y_pred_log_reg_ups = log_reg_ups.predict_proba(X_test)[:, 1]\n",
    "# Посчитайте roc_auc_score\n",
    "roc_auc_lg_ups = roc_auc_score(y_test, y_pred_log_reg_ups)\n",
    "# Распечатайте результат\n",
    "print(roc_auc_lg_ups)"
   ]
  },
  {
   "cell_type": "markdown",
   "metadata": {},
   "source": [
    "###  Задание -  Решающее дерево на upsample данных\n",
    "- Объявите модель DecisionTreeClassifier()\n",
    "- Обучите модель методом fit на семплированных данных\n",
    "- - Получите прогнозы по вероятности принадлежности к классу 1. Примените метод predict_proba к тестовой выборке X_test, а затем из получившеговся двухмерного массива отберите вторую колонку [:, 1]\n",
    "- Посчитайте roc_auc_score для решающего дерева и сохраните в переменную roc_auc_tree_ups\n",
    "- Распечатайте roc_auc_tree_ups"
   ]
  },
  {
   "cell_type": "code",
   "execution_count": 23,
   "metadata": {},
   "outputs": [
    {
     "name": "stdout",
     "output_type": "stream",
     "text": [
      "0.5360817448876075\n"
     ]
    }
   ],
   "source": [
    "# Объявите модель\n",
    "tree_ups = DecisionTreeClassifier(random_state=SEED)\n",
    "\n",
    "# Обучите на сэмплированных данных \n",
    "tree_ups.fit(X_train_upsampled, y_train_upsampled)\n",
    "\n",
    "# Спрогнозируйте вероятность принадлежности к классу 1\n",
    "y_pred_tree_ups = tree_ups.predict_proba(X_test)[:, 1]\n",
    "\n",
    "# Посчитайте roc_auc_score\n",
    "roc_auc_tree_ups = roc_auc_score(y_test, y_pred_tree_ups)\n",
    "\n",
    "# Распечатайте результат\n",
    "print(roc_auc_tree_ups)"
   ]
  },
  {
   "cell_type": "markdown",
   "metadata": {},
   "source": [
    "###  Задание -  Случайный лес на upsample данных\n",
    "- Объявите модель RandomForestClassifier()\n",
    "- Обучите модель методом fit на семплированных данных\n",
    "- Получите прогнозы по вероятности принадлежности к классу 1. Примените метод predict_proba к тестовой выборке X_test, а затем из получившеговся двухмерного массива отберите вторую колонку [:, 1]\n",
    "- Посчитайте roc_auc_score для случайного леса и сохраните в переменную roc_auc_rf_ups\n",
    "- Распечатайте roc_auc_rf_ups"
   ]
  },
  {
   "cell_type": "code",
   "execution_count": 24,
   "metadata": {},
   "outputs": [
    {
     "name": "stderr",
     "output_type": "stream",
     "text": [
      "/anaconda3/lib/python3.7/site-packages/sklearn/ensemble/forest.py:246: FutureWarning: The default value of n_estimators will change from 10 in version 0.20 to 100 in 0.22.\n",
      "  \"10 in version 0.20 to 100 in 0.22.\", FutureWarning)\n"
     ]
    },
    {
     "name": "stdout",
     "output_type": "stream",
     "text": [
      "0.6306000498335915\n"
     ]
    }
   ],
   "source": [
    "# Объявите модель\n",
    "rf_ups = RandomForestClassifier(random_state=SEED)\n",
    "\n",
    "# Обучите на сэмплированных данных \n",
    "rf_ups.fit(X_train_upsampled, y_train_upsampled)\n",
    "\n",
    "# Спрогнозируйте вероятность принадлежности к классу 1\n",
    "y_pred_rf_ups = rf_ups.predict_proba(X_test)[:, 1]\n",
    "\n",
    "# Посчитайте roc_auc_score\n",
    "roc_auc_rf_ups = roc_auc_score(y_test, y_pred_rf_ups)\n",
    "\n",
    "# Распечатайте результат\n",
    "print(roc_auc_rf_ups)"
   ]
  },
  {
   "cell_type": "markdown",
   "metadata": {},
   "source": [
    "# Урок 5: Subsampling"
   ]
  },
  {
   "cell_type": "markdown",
   "metadata": {},
   "source": [
    "### Subsampling - подготовка\n",
    "- Выделите данные для объектов с меткой 1 в отдельную переменную minor_class. Сделайте срез X_train по условию y_train == 1.\n",
    "- В переменной minor_class_size сохраните количество строк датафрейма minor_class. Запишите в переменную первое значение из поля shape\n",
    "- Выделите данные для объектов с меткой 0 в отдельную переменную major_class. Сделайте срез X_train по условию y_train == 0.\n",
    "- В переменной major_class_size сохраните количество строк датафрейма major_class. Запишите в переменную первое значение из поля shape"
   ]
  },
  {
   "cell_type": "code",
   "execution_count": 25,
   "metadata": {},
   "outputs": [],
   "source": [
    "# - Выделите данные для объектов с меткой 1 в отдельную переменную minor_class. \n",
    "minor_class = X_train[y_train == 1]\n",
    "# В переменной minor_class_size сохраните количество строк датафрейма minor_class\n",
    "minor_class_size = minor_class.shape[0]\n",
    "# Выделите данные для объектов с меткой 0 в отдельную переменную major_class\n",
    "major_class = X_train[y_train == 0]\n",
    "# В переменной major_class_size сохраните количество строк датафрейма major_class\n",
    "major_class_size = major_class.shape[0]"
   ]
  },
  {
   "cell_type": "markdown",
   "metadata": {},
   "source": [
    "### Subsampling - матрица признаков\n",
    "\n",
    "- Сгенерируйте подвыборку размера minor_class_size из данных основного класса major_class. Примените метод sample к датафрейму major_class, указав параметром размер  minor_class_size. \n",
    "- Объедините major_class_sample и minor_class в одну таблицу функцией pd.concat()\n",
    "- Сбросьте индекс методом reset_index() c параметром drop=True, чтобы в таблице не было дублирущихся индексов после конкатенирования таблиц"
   ]
  },
  {
   "cell_type": "code",
   "execution_count": 26,
   "metadata": {},
   "outputs": [],
   "source": [
    "# Сгенерируйте подвыборку размера minor_class_size\n",
    "major_class_sample = major_class.sample(minor_class_size)\n",
    "# Объедините major_class_sample и minor_class в одну таблицу\n",
    "X_train_subsampled = pd.concat([major_class_sample, minor_class], axis=0)\n",
    "# Сбросьте индекс\n",
    "X_train_subsampled.reset_index(drop=True, inplace=True)"
   ]
  },
  {
   "cell_type": "markdown",
   "metadata": {},
   "source": [
    "### Subsampling - целевая переменная\n",
    "- Создайте y_major_class, состоящий из нулей. Для этого сгенерируйте последовательность из нулей длины minor_class_size функцией np.zeros(), а затем обратите массив в pandas Series функцией pd.Series\n",
    "- Создайте y_minor_class, состоящий из единиц. Для этого сгенерируйте последовательность из единиц длины minor_class_size функцией np.ones(), а затем обратите массив в pandas Series функцией pd.Series\n",
    "- Объедините y_major_class и y_minor_class в y_train_subsampled функцией pd.concat()\n",
    "- Сбросьте индекс методом reset_index() c параметром drop=True, чтобы в таблице не было дублирущихся индексов после конкатенирования таблиц"
   ]
  },
  {
   "cell_type": "code",
   "execution_count": 27,
   "metadata": {},
   "outputs": [],
   "source": [
    "# Создайте y_major_class, состоящий из нулей\n",
    "y_major_class = pd.Series(np.zeros(minor_class_size))\n",
    "# Создайте y_minor_class, состоящий из единиц\n",
    "y_minor_class = pd.Series(np.ones(minor_class_size))\n",
    "# Объедините y_major_class и y_minor_class в y_train_subsampled\n",
    "y_train_subsampled = pd.concat([y_major_class, y_minor_class])\n",
    "# Сбросьте индекс методом reset_index()\n",
    "y_train_subsampled.reset_index(drop=True, inplace=True)"
   ]
  },
  {
   "cell_type": "markdown",
   "metadata": {},
   "source": [
    "###  Задание -  Логрегрессия на subsampled данных\n",
    "- Объявите модель LogisticRegression()\n",
    "- Обучите модель методом fit на семплированных данных\n",
    "- Получите прогнозы по вероятности принадлежности к классу 1. Примените метод predict_proba к тестовой выборке X_test, а затем из получившеговся двухмерного массива отберите вторую колонку [:, 1]\n",
    "- Посчитайте roc_auc_score для логистической регрессии и сохраните в переменную roc_auc_lg_subs\n",
    "- Распечатайте roc_auc_lg_subs"
   ]
  },
  {
   "cell_type": "code",
   "execution_count": 28,
   "metadata": {},
   "outputs": [
    {
     "name": "stdout",
     "output_type": "stream",
     "text": [
      "0.816076227597131\n"
     ]
    },
    {
     "name": "stderr",
     "output_type": "stream",
     "text": [
      "/anaconda3/lib/python3.7/site-packages/sklearn/linear_model/logistic.py:433: FutureWarning: Default solver will be changed to 'lbfgs' in 0.22. Specify a solver to silence this warning.\n",
      "  FutureWarning)\n"
     ]
    }
   ],
   "source": [
    "# Объявите модель\n",
    "log_reg_subs = LogisticRegression(random_state=SEED)\n",
    "\n",
    "# Обучите на сэмплированных данных \n",
    "log_reg_subs.fit(X_train_subsampled, y_train_subsampled)\n",
    "\n",
    "# Спрогнозируйте вероятность принадлежности к классу 1\n",
    "y_pred_log_reg_subs = log_reg_subs.predict_proba(X_test)[:, 1]\n",
    "\n",
    "# Посчитайте roc_auc_score\n",
    "roc_auc_lg_subs = roc_auc_score(y_test, y_pred_log_reg_subs)\n",
    "\n",
    "# Распечатайте результат\n",
    "print(roc_auc_lg_subs)"
   ]
  },
  {
   "cell_type": "markdown",
   "metadata": {},
   "source": [
    "###  Задание -  Решающее дерево на subsampled данных\n",
    "- Объявите модель DecisionTreeClassifier()\n",
    "- Обучите модель методом fit на семплированных данных\n",
    "- - Получите прогнозы по вероятности принадлежности к классу 1. Примените метод predict_proba к тестовой выборке X_test, а затем из получившеговся двухмерного массива отберите вторую колонку [:, 1]\n",
    "- Посчитайте roc_auc_score для решающего дерева и сохраните в переменную roc_auc_tree_subs\n",
    "- Распечатайте roc_auc_tree_subs"
   ]
  },
  {
   "cell_type": "code",
   "execution_count": 29,
   "metadata": {},
   "outputs": [
    {
     "name": "stdout",
     "output_type": "stream",
     "text": [
      "0.6982059907095948\n"
     ]
    }
   ],
   "source": [
    "# Объявите модель\n",
    "tree_subs = DecisionTreeClassifier(random_state=SEED)\n",
    "\n",
    "# Обучите на сэмплированных данных \n",
    "tree_subs.fit(X_train_subsampled, y_train_subsampled)\n",
    "\n",
    "# Спрогнозируйте вероятность принадлежности к классу 1\n",
    "y_pred_tree_subs = tree_subs.predict_proba(X_test)[:, 1]\n",
    "\n",
    "# Посчитайте roc_auc_score\n",
    "roc_auc_tree_subs = roc_auc_score(y_test, y_pred_tree_subs)\n",
    "\n",
    "# Распечатайте результат\n",
    "print(roc_auc_tree_subs)"
   ]
  },
  {
   "cell_type": "markdown",
   "metadata": {},
   "source": [
    "###  Задание -  Случайный лес на subsampled данных\n",
    "- Объявите модель RandomForestClassifier()\n",
    "- Обучите модель методом fit на семплированных данных\n",
    "- Получите прогнозы по вероятности принадлежности к классу 1. Примените метод predict_proba к тестовой выборке X_test, а затем из получившеговся двухмерного массива отберите вторую колонку [:, 1]\n",
    "- Посчитайте roc_auc_score для случайного леса и сохраните в переменную roc_auc_rf_subs\n",
    "- Распечатайте roc_auc_rf_subs"
   ]
  },
  {
   "cell_type": "code",
   "execution_count": 30,
   "metadata": {},
   "outputs": [
    {
     "name": "stdout",
     "output_type": "stream",
     "text": [
      "0.7985621674052718\n"
     ]
    },
    {
     "name": "stderr",
     "output_type": "stream",
     "text": [
      "/anaconda3/lib/python3.7/site-packages/sklearn/ensemble/forest.py:246: FutureWarning: The default value of n_estimators will change from 10 in version 0.20 to 100 in 0.22.\n",
      "  \"10 in version 0.20 to 100 in 0.22.\", FutureWarning)\n"
     ]
    }
   ],
   "source": [
    "# Объявите модель\n",
    "rf_subs = RandomForestClassifier(random_state=SEED)\n",
    "\n",
    "# Обучите на сэмплированных данных \n",
    "rf_subs.fit(X_train_subsampled, y_train_subsampled)\n",
    "\n",
    "# Спрогнозируйте вероятность принадлежности к классу 1\n",
    "y_pred_rf_subs = rf_subs.predict_proba(X_test)[:, 1]\n",
    "\n",
    "# Посчитайте roc_auc_score\n",
    "roc_auc_rf_subs = roc_auc_score(y_test, y_pred_rf_subs)\n",
    "\n",
    "# Распечатайте результат\n",
    "print(roc_auc_rf_subs)"
   ]
  },
  {
   "cell_type": "markdown",
   "metadata": {},
   "source": [
    "# Урок 6. Перевзвешивание в алгоритмах"
   ]
  },
  {
   "cell_type": "markdown",
   "metadata": {},
   "source": [
    "###  Задание -  Логрегрессия weighted\n",
    "- Объявите модель LogisticRegression() c параметром class_weight='balanced'\n",
    "- Обучите модель методом fit на семплированных данных\n",
    "- Получите прогнозы по вероятности принадлежности к классу 1. Примените метод predict_proba к тестовой выборке X_test, а затем из получившеговся двухмерного массива отберите вторую колонку [:, 1]\n",
    "- Посчитайте roc_auc_score для логистической регрессии и сохраните в переменную roc_auc_lg_bal\n",
    "- Распечатайте roc_auc_lg_bal"
   ]
  },
  {
   "cell_type": "code",
   "execution_count": 31,
   "metadata": {},
   "outputs": [
    {
     "name": "stderr",
     "output_type": "stream",
     "text": [
      "/anaconda3/lib/python3.7/site-packages/sklearn/linear_model/logistic.py:433: FutureWarning: Default solver will be changed to 'lbfgs' in 0.22. Specify a solver to silence this warning.\n",
      "  FutureWarning)\n"
     ]
    },
    {
     "name": "stdout",
     "output_type": "stream",
     "text": [
      "0.8148343922971506\n"
     ]
    }
   ],
   "source": [
    "# Объявите модель\n",
    "log_reg_bal = LogisticRegression(class_weight='balanced', random_state=SEED)\n",
    "\n",
    "# Обучите на сэмплированных данных \n",
    "log_reg_bal.fit(X_train, y_train)\n",
    "\n",
    "# Спрогнозируйте вероятность принадлежности к классу 1\n",
    "y_pred_log_reg_bal = log_reg_bal.predict_proba(X_test)[:, 1]\n",
    "\n",
    "# Посчитайте roc_auc_score\n",
    "roc_auc_lg_bal = roc_auc_score(y_test, y_pred_log_reg_bal)\n",
    "\n",
    "# Распечатайте результат\n",
    "print(roc_auc_lg_bal)"
   ]
  },
  {
   "cell_type": "markdown",
   "metadata": {},
   "source": [
    "###  Задание -  Решающее дерево на subsampled данных\n",
    "- Объявите модель DecisionTreeClassifier() c параметром class_weight='balanced'\n",
    "- Обучите модель методом fit на семплированных данных\n",
    "- Получите прогнозы по вероятности принадлежности к классу 1. Примените метод predict_proba к тестовой выборке X_test, а затем из получившеговся двухмерного массива отберите вторую колонку [:, 1]\n",
    "- Посчитайте roc_auc_score для решающего дерева и сохраните в переменную roc_auc_tree_bal\n",
    "- Распечатайте roc_auc_tree_bal"
   ]
  },
  {
   "cell_type": "code",
   "execution_count": 32,
   "metadata": {},
   "outputs": [
    {
     "name": "stdout",
     "output_type": "stream",
     "text": [
      "0.5465201025148166\n"
     ]
    }
   ],
   "source": [
    "# Объявите модель\n",
    "tree_bal = DecisionTreeClassifier(class_weight='balanced', random_state=SEED)\n",
    "\n",
    "# Обучите на сэмплированных данных \n",
    "tree_bal.fit(X_train, y_train)\n",
    "\n",
    "# Спрогнозируйте вероятность принадлежности к классу 1\n",
    "y_pred_tree_bal = tree_bal.predict_proba(X_test)[:, 1]\n",
    "\n",
    "# Посчитайте roc_auc_score\n",
    "roc_auc_tree_bal = roc_auc_score(y_test, y_pred_tree_bal)\n",
    "\n",
    "# Распечатайте результат\n",
    "print(roc_auc_tree_bal)"
   ]
  },
  {
   "cell_type": "markdown",
   "metadata": {},
   "source": [
    "###  Задание -  Случайный лес на subsampled данных\n",
    "- Объявите модель RandomForestClassifier() c параметром class_weight='balanced'\n",
    "- Обучите модель методом fit на семплированных данных\n",
    "- Получите прогнозы по вероятности принадлежности к классу 1. Примените метод predict_proba к тестовой выборке X_test, а затем из получившеговся двухмерного массива отберите вторую колонку [:, 1]\n",
    "- Посчитайте roc_auc_score для случайного леса и сохраните в переменную roc_auc_rf_bal\n",
    "- Распечатайте roc_auc_rf_bal"
   ]
  },
  {
   "cell_type": "code",
   "execution_count": 33,
   "metadata": {
    "scrolled": true
   },
   "outputs": [
    {
     "name": "stderr",
     "output_type": "stream",
     "text": [
      "/anaconda3/lib/python3.7/site-packages/sklearn/ensemble/forest.py:246: FutureWarning: The default value of n_estimators will change from 10 in version 0.20 to 100 in 0.22.\n",
      "  \"10 in version 0.20 to 100 in 0.22.\", FutureWarning)\n"
     ]
    },
    {
     "name": "stdout",
     "output_type": "stream",
     "text": [
      "0.6297769056899282\n"
     ]
    }
   ],
   "source": [
    "# Объявите модель\n",
    "rf_bal = RandomForestClassifier(class_weight='balanced', random_state=SEED)\n",
    "\n",
    "# Обучите на сэмплированных данных \n",
    "rf_bal.fit(X_train, y_train)\n",
    "\n",
    "# Спрогнозируйте вероятность принадлежности к классу 1\n",
    "y_pred_rf_bal = rf_bal.predict_proba(X_test)[:, 1]\n",
    "\n",
    "# Посчитайте roc_auc_score\n",
    "roc_auc_rf_bal = roc_auc_score(y_test, y_pred_rf_bal)\n",
    "\n",
    "# Распечатайте результат\n",
    "print(roc_auc_rf_bal)"
   ]
  }
 ],
 "metadata": {
  "kernelspec": {
   "display_name": "Python 3",
   "language": "python",
   "name": "python3"
  },
  "language_info": {
   "codemirror_mode": {
    "name": "ipython",
    "version": 3
   },
   "file_extension": ".py",
   "mimetype": "text/x-python",
   "name": "python",
   "nbconvert_exporter": "python",
   "pygments_lexer": "ipython3",
   "version": "3.7.1"
  }
 },
 "nbformat": 4,
 "nbformat_minor": 2
}
