{
 "cells": [
  {
   "cell_type": "markdown",
   "metadata": {},
   "source": [
    "# Preloaded code"
   ]
  },
  {
   "cell_type": "code",
   "execution_count": 23,
   "metadata": {},
   "outputs": [
    {
     "name": "stderr",
     "output_type": "stream",
     "text": [
      "/anaconda3/lib/python3.7/site-packages/sklearn/preprocessing/data.py:625: DataConversionWarning: Data with input dtype int64, float64 were all converted to float64 by StandardScaler.\n",
      "  return self.partial_fit(X, y)\n",
      "/anaconda3/lib/python3.7/site-packages/ipykernel_launcher.py:36: DataConversionWarning: Data with input dtype int64, float64 were all converted to float64 by StandardScaler.\n",
      "/anaconda3/lib/python3.7/site-packages/ipykernel_launcher.py:36: SettingWithCopyWarning: \n",
      "A value is trying to be set on a copy of a slice from a DataFrame.\n",
      "Try using .loc[row_indexer,col_indexer] = value instead\n",
      "\n",
      "See the caveats in the documentation: http://pandas.pydata.org/pandas-docs/stable/indexing.html#indexing-view-versus-copy\n",
      "/anaconda3/lib/python3.7/site-packages/pandas/core/indexing.py:543: SettingWithCopyWarning: \n",
      "A value is trying to be set on a copy of a slice from a DataFrame.\n",
      "Try using .loc[row_indexer,col_indexer] = value instead\n",
      "\n",
      "See the caveats in the documentation: http://pandas.pydata.org/pandas-docs/stable/indexing.html#indexing-view-versus-copy\n",
      "  self.obj[item] = s\n",
      "/anaconda3/lib/python3.7/site-packages/ipykernel_launcher.py:37: DataConversionWarning: Data with input dtype int64, float64 were all converted to float64 by StandardScaler.\n",
      "/anaconda3/lib/python3.7/site-packages/ipykernel_launcher.py:37: SettingWithCopyWarning: \n",
      "A value is trying to be set on a copy of a slice from a DataFrame.\n",
      "Try using .loc[row_indexer,col_indexer] = value instead\n",
      "\n",
      "See the caveats in the documentation: http://pandas.pydata.org/pandas-docs/stable/indexing.html#indexing-view-versus-copy\n",
      "/anaconda3/lib/python3.7/site-packages/pandas/core/indexing.py:543: SettingWithCopyWarning: \n",
      "A value is trying to be set on a copy of a slice from a DataFrame.\n",
      "Try using .loc[row_indexer,col_indexer] = value instead\n",
      "\n",
      "See the caveats in the documentation: http://pandas.pydata.org/pandas-docs/stable/indexing.html#indexing-view-versus-copy\n",
      "  self.obj[item] = s\n"
     ]
    }
   ],
   "source": [
    "import pandas as pd\n",
    "from sklearn.model_selection import train_test_split\n",
    "from sklearn.preprocessing import StandardScaler\n",
    "from sklearn.metrics import mean_absolute_error, mean_squared_error, r2_score\n",
    "\n",
    "def count_metrics(y_test, y_pred):\n",
    "    mae = mean_absolute_error(y_test, y_pred)\n",
    "    mse = mean_squared_error(y_test, y_pred)\n",
    "    rmse = np.sqrt(mse)\n",
    "    r2 = r2_score(y_test, y_pred)\n",
    "    return mae, mse, rmse, r2 \n",
    "\n",
    "\n",
    "SEED = 42\n",
    "\n",
    "\n",
    "data = pd.read_csv('flights.csv', index_col=0)\n",
    "\n",
    "\n",
    "y = data['DEPARTURE_DELAY']\n",
    "data = data.drop('DEPARTURE_DELAY', axis=1)\n",
    "\n",
    "\n",
    "var_cat = ['MONTH', 'DAY_OF_WEEK', 'AIRLINE']\n",
    "var_num = sorted(list(set(data.columns) - set(var_cat)))\n",
    "\n",
    "\n",
    "data = pd.get_dummies(data, drop_first=True, columns=var_cat)\n",
    "\n",
    "\n",
    "X_train, X_test, y_train, y_test = train_test_split(data, y, test_size=0.2, random_state=SEED)\n",
    "\n",
    "\n",
    "scaler = StandardScaler()\n",
    "scaler.fit(X_train[var_num])\n",
    "X_train[var_num] = scaler.transform(X_train[var_num])\n",
    "X_test[var_num] = scaler.transform(X_test[var_num])"
   ]
  },
  {
   "cell_type": "markdown",
   "metadata": {},
   "source": [
    "# Урок 1. Кросс-валидация"
   ]
  },
  {
   "cell_type": "markdown",
   "metadata": {},
   "source": [
    "### Задание - Валидация модели\n",
    "- Импортируйте функцию cross_val_score из модуля sklearn.model_selection\n",
    "- Импортируйте функцию LinearRegression из модуля sklearn.linear_model\n",
    "- Объявите модель, надкоторой будете работат\n",
    "- Оцените кросс-валидацией метрику качества. Параметрами функции cross_val_score будет заданная модель, тренировочная выборка, количество фолдов для кросс-валидации, а также метрика качества в виде текста, присвоенная параметру scoring"
   ]
  },
  {
   "cell_type": "code",
   "execution_count": 27,
   "metadata": {},
   "outputs": [],
   "source": [
    "# Импортируйте функцию cross_val_score\n",
    "from sklearn.model_selection import cross_val_score\n",
    "# Импортируйте функцию LinearRegression\n",
    "from sklearn.linear_model import LinearRegression\n",
    "# Объявите модель\n",
    "model = LinearRegression()\n",
    "# Вызовите функцию cross_val_score\n",
    "mse_val = cross_val_score(model, X_train, y_train, cv=5, scoring='neg_mean_squared_error')"
   ]
  },
  {
   "cell_type": "markdown",
   "metadata": {},
   "source": [
    "### Задание\n",
    "- Импортируйте библиотеку numpy\n",
    "- Найдите средний RMSE кросс-валидации:\n",
    "    - домножьте mse_val на -1\n",
    "    - функцией np.sqrt возьмите корень\n",
    "    - найдите среднее значение ошибок функцией np.mean"
   ]
  },
  {
   "cell_type": "code",
   "execution_count": 28,
   "metadata": {},
   "outputs": [
    {
     "name": "stdout",
     "output_type": "stream",
     "text": [
      "42.604683020728274\n"
     ]
    }
   ],
   "source": [
    "# Импортируйте библиотеку numpy\n",
    "import numpy as np\n",
    "# Найдите средний RMSE кросс-валидации\n",
    "rmse_val = (np.mean(np.sqrt(-1*mse_val)))\n",
    "print(rmse_val)"
   ]
  },
  {
   "cell_type": "markdown",
   "metadata": {},
   "source": [
    "# Урок 2. Подбор параметров по решетке"
   ]
  },
  {
   "cell_type": "markdown",
   "metadata": {},
   "source": [
    "### Задание - Подбор параметра - подготовка\n",
    "\n",
    "- Импортируйте функцию Lasso из модуля sklearn.linear_model\n",
    "- Задайте параметр альфа\n",
    "- Объявите модель "
   ]
  },
  {
   "cell_type": "code",
   "execution_count": 17,
   "metadata": {},
   "outputs": [],
   "source": [
    "# Импортируйте функцию Lasso\n",
    "from sklearn.linear_model import Lasso\n",
    "\n",
    "# Задайте параметры\n",
    "params = {'alpha': [0.001, 0.01, 0.05, 0.1, 0.5, 0.8, 1, 5, 10]}\n",
    "\n",
    "# Объявите модель\n",
    "model_lasso = Lasso() "
   ]
  },
  {
   "cell_type": "markdown",
   "metadata": {},
   "source": [
    "### Задание - обучение решетки\n",
    "- Импортируйте функцию GridSearchCV из модуля sklearn.model_selection\n",
    "- Объявите поиск по решетке GridSearchCV()\n",
    "    - первый параметр - модель model_lasso\n",
    "    - второй параметр - словарь с параметрами params\n",
    "    - третий параметр - стратегия кросс-валидации\n",
    "    - четвертый параметр - метрика, по которой оптмизируется алгоритм\n",
    "    \n",
    "- Обучите решетку методов fit()"
   ]
  },
  {
   "cell_type": "code",
   "execution_count": 18,
   "metadata": {},
   "outputs": [
    {
     "name": "stderr",
     "output_type": "stream",
     "text": [
      "/anaconda3/lib/python3.7/site-packages/sklearn/linear_model/coordinate_descent.py:492: ConvergenceWarning: Objective did not converge. You might want to increase the number of iterations. Fitting data with very small alpha may cause precision problems.\n",
      "  ConvergenceWarning)\n",
      "/anaconda3/lib/python3.7/site-packages/sklearn/linear_model/coordinate_descent.py:492: ConvergenceWarning: Objective did not converge. You might want to increase the number of iterations. Fitting data with very small alpha may cause precision problems.\n",
      "  ConvergenceWarning)\n"
     ]
    },
    {
     "data": {
      "text/plain": [
       "GridSearchCV(cv=5, error_score='raise-deprecating',\n",
       "       estimator=Lasso(alpha=1.0, copy_X=True, fit_intercept=True, max_iter=1000,\n",
       "   normalize=False, positive=False, precompute=False, random_state=None,\n",
       "   selection='cyclic', tol=0.0001, warm_start=False),\n",
       "       fit_params=None, iid='warn', n_jobs=None,\n",
       "       param_grid={'alpha': [0.001, 0.01, 0.05, 0.1, 0.5, 0.8, 1, 5, 10]},\n",
       "       pre_dispatch='2*n_jobs', refit=True, return_train_score='warn',\n",
       "       scoring='neg_mean_squared_error', verbose=0)"
      ]
     },
     "execution_count": 18,
     "metadata": {},
     "output_type": "execute_result"
    }
   ],
   "source": [
    "# Импортируйте функцию GridSearchCV\n",
    "from sklearn.model_selection import GridSearchCV\n",
    "\n",
    "# Объявите поиск по решетке\n",
    "grid_cv_lasso = GridSearchCV(model_lasso, params, cv=5, scoring='neg_mean_squared_error')\n",
    "\n",
    "# Обучите решетку\n",
    "grid_cv_lasso.fit(X_train, y_train)"
   ]
  },
  {
   "cell_type": "markdown",
   "metadata": {},
   "source": [
    "### Задание - поиск лучших параметров\n",
    "- Выведите на печать лучшее значение параметра, оно записано в поле best_params_ объекта решетки\n",
    "- Выведите на печать лучшее значение метрики качества, оно записано в поле best_score_ объекта решетки, домноженное на -1\n"
   ]
  },
  {
   "cell_type": "code",
   "execution_count": 19,
   "metadata": {},
   "outputs": [
    {
     "name": "stdout",
     "output_type": "stream",
     "text": [
      "Лучшее значение параметра: {'alpha': 0.01}\n",
      "Лучшее качество: 1816.6415245232438\n"
     ]
    }
   ],
   "source": [
    "# Распечатайте лучшее значение параметра\n",
    "print('Лучшее значение параметра:', grid_cv_lasso.best_params_)\n",
    "# Распечатайте лучшее значение метрики\n",
    "print('Лучшее качество:', -1*grid_cv_lasso.best_score_)"
   ]
  },
  {
   "cell_type": "markdown",
   "metadata": {},
   "source": [
    "### Задание - сохранить и применить модель\n",
    "- Запишите наилучшую модель в переменную model_lasso. Она сохранена в поле best_estimator_ объекта решетки\n",
    "- Сделайте прогнозы на тестовой выборке методом predict()\n",
    "- Посчитайте метрики качества пользовательской функцией count_metrics"
   ]
  },
  {
   "cell_type": "code",
   "execution_count": 25,
   "metadata": {},
   "outputs": [
    {
     "name": "stdout",
     "output_type": "stream",
     "text": [
      "MAE: 23.238005418038664\n",
      "MSE: 1828.871028581459\n",
      "RMSE 42.76530168935394\n",
      "R2 0.12674176583103247\n"
     ]
    }
   ],
   "source": [
    "# Запишите наилучшую модель \n",
    "model_lasso = grid_cv_lasso.best_estimator_\n",
    "\n",
    "# Сделайте прогнозы на тестовой выборке\n",
    "y_pred_lasso = model_lasso.predict(X_test)\n",
    "\n",
    "# Посчитайте метрики качества\n",
    "mae_lasso, mse_lasso, rmse_lasso, r2_lasso = count_metrics(y_test, y_pred_lasso)\n",
    "\n",
    "print(\"MAE:\", mae_lasso)\n",
    "print('MSE:', mse_lasso)\n",
    "print('RMSE', rmse_lasso)\n",
    "print('R2', r2_lasso)"
   ]
  },
  {
   "cell_type": "markdown",
   "metadata": {},
   "source": [
    "### Задание - подбор параметра для случайного леса\n",
    "\n",
    "- Импортируйте функцию RandomForestRegressor из модуля sklearn.ensemble \n",
    "- Задайте параметры случайного леса, которые будут тестироваться:\n",
    "    - количество деревьев 'n_estimators': [10, 50, 100]\n",
    "    - глубина деревьев 'max_depth': [5, 10, 15]\n",
    "- Объявите модель RandomForestRegressor и запишите в переменную model_rfr\n",
    "- Объявите поиск по решетке GridSearchCV()\n",
    "    - первый параметр - модель model_rfr\n",
    "    - второй параметр - словарь с параметрами params_forest\n",
    "    - третий параметр - стратегия кросс-валидации\n",
    "    - четвертый параметр - метрика, по которой оптмизируется алгоритм"
   ]
  },
  {
   "cell_type": "code",
   "execution_count": 32,
   "metadata": {},
   "outputs": [],
   "source": [
    "# Импортируйте функцию RandomForestRegressor\n",
    "from sklearn.ensemble import RandomForestRegressor\n",
    "\n",
    "# Задайте параметры\n",
    "params_forest = {'n_estimators': [10, 50, 100], 'max_depth': [5, 10, 15]}\n",
    "\n",
    "# Объявите модель\n",
    "model_rfr = RandomForestRegressor()\n",
    "\n",
    "# Объявите решетку\n",
    "grid_cv_rf = GridSearchCV(model_rfr, params_forest, cv=5, scoring='neg_mean_squared_error')"
   ]
  },
  {
   "cell_type": "markdown",
   "metadata": {},
   "source": [
    "### Задание - обучение и лучшие параметры модели\n",
    "- Обучите решетку методов fit()\n",
    "- Выведите на печать лучшее значение параметра, оно записано в поле best_params_ объекта решетки\n",
    "- Выведите на печать лучшее значение метрики качества, оно записано в поле best_score_ объекта решетки, домноженное на -1"
   ]
  },
  {
   "cell_type": "code",
   "execution_count": 33,
   "metadata": {},
   "outputs": [
    {
     "name": "stdout",
     "output_type": "stream",
     "text": [
      "Лучшее значение параметра: {'max_depth': 15, 'n_estimators': 100}\n",
      "Лучшее качество: -98.04336494974584\n"
     ]
    }
   ],
   "source": [
    "# Обучите решетку\n",
    "grid_cv_rf.fit(X_train, y_train)\n",
    "\n",
    "# Распечатайте лучшее значение параметра\n",
    "print('Лучшее значение параметра:', grid_cv_rf.best_params_)\n",
    "# Распечатайте лучшее значение метрики\n",
    "print('Лучшее качество:', -1*grid_cv_rf.best_score_)"
   ]
  },
  {
   "cell_type": "markdown",
   "metadata": {},
   "source": [
    "### Задача - Прогноз по лучшей комбинации \n",
    "- Запишите наилучшую модель в переменную model_rfrЁ. Она сохранена в поле best_estimator_ объекта решетки\n",
    "- Сделайте прогнозы на тестовой выборке методом predict()\n",
    "- Посчитайте метрики качества пользовательской функцией count_metrics"
   ]
  },
  {
   "cell_type": "code",
   "execution_count": 34,
   "metadata": {},
   "outputs": [
    {
     "name": "stdout",
     "output_type": "stream",
     "text": [
      "MAE: 2.7552037892536476\n",
      "MSE: 29.50298764004235\n",
      "RMSE 5.431665273195906\n",
      "R2 0.985912769962114\n"
     ]
    }
   ],
   "source": [
    "# Запишите наилучшую модель \n",
    "model_rfr = grid_cv_rf.best_estimator_\n",
    "\n",
    "# Сделайте прогнозы на тестовой выборке\n",
    "y_pred_rfr = model_rfr.predict(X_test)\n",
    "\n",
    "# Посчитайте метрики качества\n",
    "mae_rfr, mse_rfr, rmse_rfr, r2_rfr = count_metrics(y_test, y_pred_rfr)\n",
    "\n",
    "print(\"MAE:\", mae_rfr)\n",
    "print('MSE:', mse_rfr)\n",
    "print('RMSE', rmse_rfr)\n",
    "print('R2', r2_rfr)"
   ]
  },
  {
   "cell_type": "markdown",
   "metadata": {},
   "source": [
    "# Урок 3. Сравнение валидированных моделей"
   ]
  },
  {
   "cell_type": "markdown",
   "metadata": {},
   "source": [
    "### Задание\n",
    "- Создайте лист с названиями моделей ['Линейная регрессия', 'Lasso-регрессия', 'Регрессия случайным лесом']\n",
    "- Создайте лист с метрикой RMSE для соответствующих моделей [rmse_val, rmse_lasso, rmse_rfr] \n",
    "- Создайте датафрейм metrics_df из словаря metrics_dict функцией pd.DataFrame()"
   ]
  },
  {
   "cell_type": "code",
   "execution_count": 36,
   "metadata": {},
   "outputs": [
    {
     "data": {
      "text/html": [
       "<div>\n",
       "<style scoped>\n",
       "    .dataframe tbody tr th:only-of-type {\n",
       "        vertical-align: middle;\n",
       "    }\n",
       "\n",
       "    .dataframe tbody tr th {\n",
       "        vertical-align: top;\n",
       "    }\n",
       "\n",
       "    .dataframe thead th {\n",
       "        text-align: right;\n",
       "    }\n",
       "</style>\n",
       "<table border=\"1\" class=\"dataframe\">\n",
       "  <thead>\n",
       "    <tr style=\"text-align: right;\">\n",
       "      <th></th>\n",
       "      <th>Модели</th>\n",
       "      <th>RMSE</th>\n",
       "    </tr>\n",
       "  </thead>\n",
       "  <tbody>\n",
       "    <tr>\n",
       "      <th>0</th>\n",
       "      <td>Линейная регрессия</td>\n",
       "      <td>42.604683</td>\n",
       "    </tr>\n",
       "    <tr>\n",
       "      <th>1</th>\n",
       "      <td>Lasso-регрессия</td>\n",
       "      <td>42.765302</td>\n",
       "    </tr>\n",
       "    <tr>\n",
       "      <th>2</th>\n",
       "      <td>Регрессия случайным лесом</td>\n",
       "      <td>5.431665</td>\n",
       "    </tr>\n",
       "  </tbody>\n",
       "</table>\n",
       "</div>"
      ],
      "text/plain": [
       "                      Модели       RMSE\n",
       "0         Линейная регрессия  42.604683\n",
       "1            Lasso-регрессия  42.765302\n",
       "2  Регрессия случайным лесом   5.431665"
      ]
     },
     "execution_count": 36,
     "metadata": {},
     "output_type": "execute_result"
    }
   ],
   "source": [
    "# Создайте лист с названиями моделей\n",
    "models = ['Линейная регрессия', 'Lasso-регрессия', 'Регрессия случайным лесом']\n",
    "# Создайте лист с метрикой MSE для соответствующих моделей\n",
    "rmse = [rmse_val, rmse_lasso, rmse_rfr] \n",
    "# Соберите в словарь модели и метрики\n",
    "metrics_dict = {'Модели': models,\n",
    "               'RMSE': rmse}\n",
    "# Соберите датафрейм из словаря metrics_dict\n",
    "metrics_df = pd.DataFrame(metrics_dict)\n",
    "metrics_df"
   ]
  },
  {
   "cell_type": "markdown",
   "metadata": {},
   "source": [
    "### Закрыть инструкцией по работе над моделью\n",
    "от и до"
   ]
  }
 ],
 "metadata": {
  "file_extension": ".py",
  "kernelspec": {
   "display_name": "Python 3",
   "language": "python",
   "name": "python3"
  },
  "language_info": {
   "codemirror_mode": {
    "name": "ipython",
    "version": 3
   },
   "file_extension": ".py",
   "mimetype": "text/x-python",
   "name": "python",
   "nbconvert_exporter": "python",
   "pygments_lexer": "ipython3",
   "version": "3.7.1"
  },
  "mimetype": "text/x-python",
  "name": "python",
  "npconvert_exporter": "python",
  "pygments_lexer": "ipython3",
  "version": 3
 },
 "nbformat": 4,
 "nbformat_minor": 2
}
