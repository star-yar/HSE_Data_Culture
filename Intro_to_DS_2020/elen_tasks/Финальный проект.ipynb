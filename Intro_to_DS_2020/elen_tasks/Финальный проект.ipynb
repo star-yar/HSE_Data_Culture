{
 "cells": [
  {
   "cell_type": "markdown",
   "metadata": {},
   "source": [
    "## Модель прогнозирования оттока сотрудников"
   ]
  },
  {
   "cell_type": "markdown",
   "metadata": {},
   "source": [
    "HR-аналитика - одна из областей, где машинное обучение может помочь компании оптимизировать работу. Среди перспективных направлений особенно выделяется задача прогнозирования ухода сотрудника, т.к. недоукомплектованный штат сотрудников порождает сложности в бизнес-процессах и может принести компании существенные убытки. \n",
    "\n",
    "Любого нового сотрудника в компании нужно:\n",
    "- найти;\n",
    "- обучить и адаптировать к работе;\n",
    "- передать дела от ушедшего сотрудника.\n",
    "\n",
    "Каждый из этапов требует:\n",
    "- человеческих ресурсов для поиска, найма, обучения и адаптации новых сотрудников;\n",
    "- временных ресурсов.\n",
    "\n",
    "Прогнозирование оттока позволяет предотвратить уход сотрудника, т.к. работодатель заранее понимает истощенность сотрудника и может направить ресурсы на восстановление и укрепление отношений с сотрудником. \n",
    "\n",
    "В этом проекте мы научимся прогнозировать отток сотрудников на данных, подготовленных компанией IBM.<br>\n",
    "Целевая переменная, которую мы прогнозируем - Attrition, истощение сотрудника. Истощенность сотрудника - идентификатор его ухода"
   ]
  },
  {
   "cell_type": "markdown",
   "metadata": {},
   "source": [
    "https://www.kaggle.com/pavansubhasht/ibm-hr-analytics-attrition-dataset"
   ]
  },
  {
   "cell_type": "markdown",
   "metadata": {},
   "source": [
    "### Образец https://www.datacamp.com/projects/558"
   ]
  },
  {
   "cell_type": "markdown",
   "metadata": {},
   "source": [
    "## 1. Баланс классов"
   ]
  },
  {
   "cell_type": "markdown",
   "metadata": {},
   "source": [
    "### Задача"
   ]
  },
  {
   "cell_type": "markdown",
   "metadata": {},
   "source": [
    "Ни один проект нельзя начать, пока не подгружены данные и не визуально не проинспектированы на корректное чтение. \n",
    "- Импортируйте библиотеку pandas\n",
    "- Считайте файл 'HR-Employee-Attrition.csv' с помощью метода read_csv()\n",
    "- Посмотрите на первые 5 наблюдений в датасете методом head()"
   ]
  },
  {
   "cell_type": "code",
   "execution_count": 2,
   "metadata": {},
   "outputs": [
    {
     "data": {
      "text/html": [
       "<div>\n",
       "<style scoped>\n",
       "    .dataframe tbody tr th:only-of-type {\n",
       "        vertical-align: middle;\n",
       "    }\n",
       "\n",
       "    .dataframe tbody tr th {\n",
       "        vertical-align: top;\n",
       "    }\n",
       "\n",
       "    .dataframe thead th {\n",
       "        text-align: right;\n",
       "    }\n",
       "</style>\n",
       "<table border=\"1\" class=\"dataframe\">\n",
       "  <thead>\n",
       "    <tr style=\"text-align: right;\">\n",
       "      <th></th>\n",
       "      <th>Age</th>\n",
       "      <th>Attrition</th>\n",
       "      <th>BusinessTravel</th>\n",
       "      <th>DailyRate</th>\n",
       "      <th>Department</th>\n",
       "      <th>DistanceFromHome</th>\n",
       "      <th>Education</th>\n",
       "      <th>EducationField</th>\n",
       "      <th>EmployeeCount</th>\n",
       "      <th>EmployeeNumber</th>\n",
       "      <th>...</th>\n",
       "      <th>RelationshipSatisfaction</th>\n",
       "      <th>StandardHours</th>\n",
       "      <th>StockOptionLevel</th>\n",
       "      <th>TotalWorkingYears</th>\n",
       "      <th>TrainingTimesLastYear</th>\n",
       "      <th>WorkLifeBalance</th>\n",
       "      <th>YearsAtCompany</th>\n",
       "      <th>YearsInCurrentRole</th>\n",
       "      <th>YearsSinceLastPromotion</th>\n",
       "      <th>YearsWithCurrManager</th>\n",
       "    </tr>\n",
       "  </thead>\n",
       "  <tbody>\n",
       "    <tr>\n",
       "      <th>0</th>\n",
       "      <td>41</td>\n",
       "      <td>Yes</td>\n",
       "      <td>Travel_Rarely</td>\n",
       "      <td>1102</td>\n",
       "      <td>Sales</td>\n",
       "      <td>1</td>\n",
       "      <td>2</td>\n",
       "      <td>Life Sciences</td>\n",
       "      <td>1</td>\n",
       "      <td>1</td>\n",
       "      <td>...</td>\n",
       "      <td>1</td>\n",
       "      <td>80</td>\n",
       "      <td>0</td>\n",
       "      <td>8</td>\n",
       "      <td>0</td>\n",
       "      <td>1</td>\n",
       "      <td>6</td>\n",
       "      <td>4</td>\n",
       "      <td>0</td>\n",
       "      <td>5</td>\n",
       "    </tr>\n",
       "    <tr>\n",
       "      <th>1</th>\n",
       "      <td>49</td>\n",
       "      <td>No</td>\n",
       "      <td>Travel_Frequently</td>\n",
       "      <td>279</td>\n",
       "      <td>Research &amp; Development</td>\n",
       "      <td>8</td>\n",
       "      <td>1</td>\n",
       "      <td>Life Sciences</td>\n",
       "      <td>1</td>\n",
       "      <td>2</td>\n",
       "      <td>...</td>\n",
       "      <td>4</td>\n",
       "      <td>80</td>\n",
       "      <td>1</td>\n",
       "      <td>10</td>\n",
       "      <td>3</td>\n",
       "      <td>3</td>\n",
       "      <td>10</td>\n",
       "      <td>7</td>\n",
       "      <td>1</td>\n",
       "      <td>7</td>\n",
       "    </tr>\n",
       "    <tr>\n",
       "      <th>2</th>\n",
       "      <td>37</td>\n",
       "      <td>Yes</td>\n",
       "      <td>Travel_Rarely</td>\n",
       "      <td>1373</td>\n",
       "      <td>Research &amp; Development</td>\n",
       "      <td>2</td>\n",
       "      <td>2</td>\n",
       "      <td>Other</td>\n",
       "      <td>1</td>\n",
       "      <td>4</td>\n",
       "      <td>...</td>\n",
       "      <td>2</td>\n",
       "      <td>80</td>\n",
       "      <td>0</td>\n",
       "      <td>7</td>\n",
       "      <td>3</td>\n",
       "      <td>3</td>\n",
       "      <td>0</td>\n",
       "      <td>0</td>\n",
       "      <td>0</td>\n",
       "      <td>0</td>\n",
       "    </tr>\n",
       "    <tr>\n",
       "      <th>3</th>\n",
       "      <td>33</td>\n",
       "      <td>No</td>\n",
       "      <td>Travel_Frequently</td>\n",
       "      <td>1392</td>\n",
       "      <td>Research &amp; Development</td>\n",
       "      <td>3</td>\n",
       "      <td>4</td>\n",
       "      <td>Life Sciences</td>\n",
       "      <td>1</td>\n",
       "      <td>5</td>\n",
       "      <td>...</td>\n",
       "      <td>3</td>\n",
       "      <td>80</td>\n",
       "      <td>0</td>\n",
       "      <td>8</td>\n",
       "      <td>3</td>\n",
       "      <td>3</td>\n",
       "      <td>8</td>\n",
       "      <td>7</td>\n",
       "      <td>3</td>\n",
       "      <td>0</td>\n",
       "    </tr>\n",
       "    <tr>\n",
       "      <th>4</th>\n",
       "      <td>27</td>\n",
       "      <td>No</td>\n",
       "      <td>Travel_Rarely</td>\n",
       "      <td>591</td>\n",
       "      <td>Research &amp; Development</td>\n",
       "      <td>2</td>\n",
       "      <td>1</td>\n",
       "      <td>Medical</td>\n",
       "      <td>1</td>\n",
       "      <td>7</td>\n",
       "      <td>...</td>\n",
       "      <td>4</td>\n",
       "      <td>80</td>\n",
       "      <td>1</td>\n",
       "      <td>6</td>\n",
       "      <td>3</td>\n",
       "      <td>3</td>\n",
       "      <td>2</td>\n",
       "      <td>2</td>\n",
       "      <td>2</td>\n",
       "      <td>2</td>\n",
       "    </tr>\n",
       "  </tbody>\n",
       "</table>\n",
       "<p>5 rows × 35 columns</p>\n",
       "</div>"
      ],
      "text/plain": [
       "   Age Attrition     BusinessTravel  DailyRate              Department  \\\n",
       "0   41       Yes      Travel_Rarely       1102                   Sales   \n",
       "1   49        No  Travel_Frequently        279  Research & Development   \n",
       "2   37       Yes      Travel_Rarely       1373  Research & Development   \n",
       "3   33        No  Travel_Frequently       1392  Research & Development   \n",
       "4   27        No      Travel_Rarely        591  Research & Development   \n",
       "\n",
       "   DistanceFromHome  Education EducationField  EmployeeCount  EmployeeNumber  \\\n",
       "0                 1          2  Life Sciences              1               1   \n",
       "1                 8          1  Life Sciences              1               2   \n",
       "2                 2          2          Other              1               4   \n",
       "3                 3          4  Life Sciences              1               5   \n",
       "4                 2          1        Medical              1               7   \n",
       "\n",
       "           ...           RelationshipSatisfaction StandardHours  \\\n",
       "0          ...                                  1            80   \n",
       "1          ...                                  4            80   \n",
       "2          ...                                  2            80   \n",
       "3          ...                                  3            80   \n",
       "4          ...                                  4            80   \n",
       "\n",
       "   StockOptionLevel  TotalWorkingYears  TrainingTimesLastYear WorkLifeBalance  \\\n",
       "0                 0                  8                      0               1   \n",
       "1                 1                 10                      3               3   \n",
       "2                 0                  7                      3               3   \n",
       "3                 0                  8                      3               3   \n",
       "4                 1                  6                      3               3   \n",
       "\n",
       "   YearsAtCompany YearsInCurrentRole  YearsSinceLastPromotion  \\\n",
       "0               6                  4                        0   \n",
       "1              10                  7                        1   \n",
       "2               0                  0                        0   \n",
       "3               8                  7                        3   \n",
       "4               2                  2                        2   \n",
       "\n",
       "   YearsWithCurrManager  \n",
       "0                     5  \n",
       "1                     7  \n",
       "2                     0  \n",
       "3                     0  \n",
       "4                     2  \n",
       "\n",
       "[5 rows x 35 columns]"
      ]
     },
     "execution_count": 2,
     "metadata": {},
     "output_type": "execute_result"
    }
   ],
   "source": [
    "# Импортируте библиотеку pandas\n",
    "import pandas as pd\n",
    "\n",
    "# Считайте файл HR-Employee-Attrition.csv\n",
    "data = pd.read_csv('HR-Employee-Attrition.csv')\n",
    "\n",
    "# Посмотрите на первые 5 записей\n",
    "data.head()"
   ]
  },
  {
   "cell_type": "markdown",
   "metadata": {},
   "source": [
    "### Задача"
   ]
  },
  {
   "cell_type": "markdown",
   "metadata": {},
   "source": [
    "В этом курсе мы много обсуждали задачу классификации и несбалансированности классов. <br> \n",
    "Изучение данных начнем с целевой переменной  Attrition и проверим, есть ли дисбаланс классов. \n",
    "\n",
    "- Используя метод value_counts() посчитайте частоту появления классов и сохраните частотную таблицу в переменную class_frequency\n",
    "- Визуализируйте таблицу class_frequency методом plot(kind='bar'), чтобы увидеть дисбаланс классов"
   ]
  },
  {
   "cell_type": "code",
   "execution_count": 3,
   "metadata": {},
   "outputs": [
    {
     "data": {
      "text/plain": [
       "<matplotlib.axes._subplots.AxesSubplot at 0x11e92b470>"
      ]
     },
     "execution_count": 3,
     "metadata": {},
     "output_type": "execute_result"
    }
   ],
   "source": [
    "# Посчитайте распределение по классам\n",
    "class_frequency = data['Attrition'].value_counts()\n",
    "\n",
    "# Нарисуйте barplot для визуальной проверки баланса классов\n",
    "class_frequency.plot(kind='bar')"
   ]
  },
  {
   "cell_type": "markdown",
   "metadata": {},
   "source": [
    "### Задача"
   ]
  },
  {
   "cell_type": "markdown",
   "metadata": {},
   "source": [
    "Налицо несбалансированность классов. Используйте метод subsampling для балансировки классов. \n",
    "- Выделите в отдельный датафрейм attrition_yes данные с сотрудниками, которые покинули компанию, по условию: <br> data['Attrition'] == 'Yes'\n",
    "- Посчитайте количество наблюдений в этом классе и сохраните в переменную size_yes. Для этого вам нужно взять первое значение из поля shape датафрейма attrition_yes\n",
    "- Создайте датафрейм attrition_no одного размера с attrition_yes, используя метод sample\n",
    "- Объедините датафреймы attrition_no и attrition_yes в один методом pd.concat, записав один датафрейм за другим\n",
    "- Методом reset_index() сбросьте индексы объединенного датафрейма\n",
    "- Создайте столбцовую диаграмму, показывающую баланс классов: методом value_counts() посчитайте частоту классов, а затем к частотной таблице примените метод plot(kind='bar')\n"
   ]
  },
  {
   "cell_type": "code",
   "execution_count": 4,
   "metadata": {},
   "outputs": [
    {
     "data": {
      "text/plain": [
       "<matplotlib.axes._subplots.AxesSubplot at 0x11ec99208>"
      ]
     },
     "execution_count": 4,
     "metadata": {},
     "output_type": "execute_result"
    },
    {
     "data": {
      "image/png": "[encoded data removed]",
      "text/plain": [
       "<Figure size 432x288 with 1 Axes>"
      ]
     },
     "metadata": {
      "needs_background": "light"
     },
     "output_type": "display_data"
    }
   ],
   "source": [
    "# Выделите в отдельный датафрейм attrition_yes данные с сотрудниками, которые истощены\n",
    "attrition_yes = data[data['Attrition'] == 'Yes']\n",
    "\n",
    "# Посчитайте количество наблюдений в этом классе.\n",
    "size_yes = attrition_yes.shape[0]\n",
    "\n",
    "# Создайте датафрейм attrition_no одного размера с attrition_yes\n",
    "attrition_no = data[data['Attrition'] == 'No'].sample(size_yes)\n",
    "\n",
    "# Объедините датафреймы attrition_no и attrition_yes в один\n",
    "data = pd.concat([attrition_yes, attrition_no], axis=0)\n",
    "\n",
    "# Сбросьте индексы объединенного датафрейма\n",
    "data = data.reset_index(drop=True)\n",
    "\n",
    "# Создайте столбцовую диаграмму, показывающую баланс классов\n",
    "data['Attrition'].value_counts().plot(kind='bar')"
   ]
  },
  {
   "cell_type": "markdown",
   "metadata": {},
   "source": [
    "## 2. Категориальные признаки"
   ]
  },
  {
   "cell_type": "markdown",
   "metadata": {},
   "source": [
    "Теперь можно приступить к изучению данных. В датасете есть X признаков. <br> \n",
    "Сколько из них числовых? Сколько из них категориальных?<br> \n",
    "Сколько из них категориальных, которые маскируются под числовые?<br> "
   ]
  },
  {
   "cell_type": "markdown",
   "metadata": {},
   "source": [
    "### Задача"
   ]
  },
  {
   "cell_type": "markdown",
   "metadata": {},
   "source": [
    "- Создайте датафрейм types, в котором записана информация о колонка и типах данных. Используйте метод pd.DataFrame, в качестве аргумента передайте поле dtypes\n",
    "- Соберите список категориальных переменных var_cat: по условию types[0] == 'object' найдите названия колонок с категориальными переменными\n"
   ]
  },
  {
   "cell_type": "code",
   "execution_count": 5,
   "metadata": {},
   "outputs": [],
   "source": [
    "# Создайте датафрейм types, в котором записана информация о колонка и типах данных\n",
    "types = pd.DataFrame(data.dtypes)\n",
    "types\n",
    "# Соберите список категориальных переменных\n",
    "var_cat = list(types[types[0] == 'object'].index)"
   ]
  },
  {
   "cell_type": "markdown",
   "metadata": {},
   "source": [
    "Не все переменные, которые категориальные, могут быть считаны программой как категориальые. Например, различные уровни образования могут быть зашифрованы цифрами: 1 - Высшее, 2 - Среднее специальное, 3 - Среднее общее. Являются ли в таком случае 1, 2, 3 цифрами? Нет, это имена категорий. Поэтому мы проверим, нет ли таких обозначений в датафрейме.  \n",
    "\n",
    "- Найдите количество уникальных записей в каждом из столбцов. Используйте лямбда-функцию, которая считает длину колонки через функции len() и метод drop_duplicates(). Написанная лямбда-функция распространяется на все колонки методом agg с параметром axis=0\n",
    "- Отсортируйте получившуюся таблицу и обратите ее в датафрейм методом sort_values() и функцией pd.DataFrame()\n",
    "- Удалите из нее записи тех переменных, которые попали в var_cat. Воспользуйтесь методом isin(var_cat), а затем возьмите отрицание, чтобы найти строки, которых нет в var_cat\n",
    "- Проинспектируйте визуально, все ли признаки действительно числовые\n"
   ]
  },
  {
   "cell_type": "code",
   "execution_count": 6,
   "metadata": {},
   "outputs": [
    {
     "data": {
      "text/html": [
       "<div>\n",
       "<style scoped>\n",
       "    .dataframe tbody tr th:only-of-type {\n",
       "        vertical-align: middle;\n",
       "    }\n",
       "\n",
       "    .dataframe tbody tr th {\n",
       "        vertical-align: top;\n",
       "    }\n",
       "\n",
       "    .dataframe thead th {\n",
       "        text-align: right;\n",
       "    }\n",
       "</style>\n",
       "<table border=\"1\" class=\"dataframe\">\n",
       "  <thead>\n",
       "    <tr style=\"text-align: right;\">\n",
       "      <th></th>\n",
       "      <th>0</th>\n",
       "    </tr>\n",
       "  </thead>\n",
       "  <tbody>\n",
       "    <tr>\n",
       "      <th>Over18</th>\n",
       "      <td>1</td>\n",
       "    </tr>\n",
       "    <tr>\n",
       "      <th>StandardHours</th>\n",
       "      <td>1</td>\n",
       "    </tr>\n",
       "    <tr>\n",
       "      <th>EmployeeCount</th>\n",
       "      <td>1</td>\n",
       "    </tr>\n",
       "    <tr>\n",
       "      <th>Gender</th>\n",
       "      <td>2</td>\n",
       "    </tr>\n",
       "    <tr>\n",
       "      <th>Attrition</th>\n",
       "      <td>2</td>\n",
       "    </tr>\n",
       "    <tr>\n",
       "      <th>PerformanceRating</th>\n",
       "      <td>2</td>\n",
       "    </tr>\n",
       "    <tr>\n",
       "      <th>OverTime</th>\n",
       "      <td>2</td>\n",
       "    </tr>\n",
       "    <tr>\n",
       "      <th>MaritalStatus</th>\n",
       "      <td>3</td>\n",
       "    </tr>\n",
       "    <tr>\n",
       "      <th>Department</th>\n",
       "      <td>3</td>\n",
       "    </tr>\n",
       "    <tr>\n",
       "      <th>BusinessTravel</th>\n",
       "      <td>3</td>\n",
       "    </tr>\n",
       "    <tr>\n",
       "      <th>StockOptionLevel</th>\n",
       "      <td>4</td>\n",
       "    </tr>\n",
       "    <tr>\n",
       "      <th>EnvironmentSatisfaction</th>\n",
       "      <td>4</td>\n",
       "    </tr>\n",
       "    <tr>\n",
       "      <th>JobInvolvement</th>\n",
       "      <td>4</td>\n",
       "    </tr>\n",
       "    <tr>\n",
       "      <th>JobSatisfaction</th>\n",
       "      <td>4</td>\n",
       "    </tr>\n",
       "    <tr>\n",
       "      <th>RelationshipSatisfaction</th>\n",
       "      <td>4</td>\n",
       "    </tr>\n",
       "    <tr>\n",
       "      <th>WorkLifeBalance</th>\n",
       "      <td>4</td>\n",
       "    </tr>\n",
       "    <tr>\n",
       "      <th>Education</th>\n",
       "      <td>5</td>\n",
       "    </tr>\n",
       "    <tr>\n",
       "      <th>JobLevel</th>\n",
       "      <td>5</td>\n",
       "    </tr>\n",
       "    <tr>\n",
       "      <th>EducationField</th>\n",
       "      <td>6</td>\n",
       "    </tr>\n",
       "    <tr>\n",
       "      <th>TrainingTimesLastYear</th>\n",
       "      <td>7</td>\n",
       "    </tr>\n",
       "    <tr>\n",
       "      <th>JobRole</th>\n",
       "      <td>9</td>\n",
       "    </tr>\n",
       "    <tr>\n",
       "      <th>NumCompaniesWorked</th>\n",
       "      <td>10</td>\n",
       "    </tr>\n",
       "    <tr>\n",
       "      <th>PercentSalaryHike</th>\n",
       "      <td>15</td>\n",
       "    </tr>\n",
       "    <tr>\n",
       "      <th>YearsSinceLastPromotion</th>\n",
       "      <td>16</td>\n",
       "    </tr>\n",
       "    <tr>\n",
       "      <th>YearsWithCurrManager</th>\n",
       "      <td>18</td>\n",
       "    </tr>\n",
       "    <tr>\n",
       "      <th>YearsInCurrentRole</th>\n",
       "      <td>19</td>\n",
       "    </tr>\n",
       "    <tr>\n",
       "      <th>DistanceFromHome</th>\n",
       "      <td>29</td>\n",
       "    </tr>\n",
       "    <tr>\n",
       "      <th>YearsAtCompany</th>\n",
       "      <td>30</td>\n",
       "    </tr>\n",
       "    <tr>\n",
       "      <th>TotalWorkingYears</th>\n",
       "      <td>39</td>\n",
       "    </tr>\n",
       "    <tr>\n",
       "      <th>Age</th>\n",
       "      <td>42</td>\n",
       "    </tr>\n",
       "    <tr>\n",
       "      <th>HourlyRate</th>\n",
       "      <td>71</td>\n",
       "    </tr>\n",
       "    <tr>\n",
       "      <th>DailyRate</th>\n",
       "      <td>396</td>\n",
       "    </tr>\n",
       "    <tr>\n",
       "      <th>MonthlyIncome</th>\n",
       "      <td>464</td>\n",
       "    </tr>\n",
       "    <tr>\n",
       "      <th>MonthlyRate</th>\n",
       "      <td>470</td>\n",
       "    </tr>\n",
       "    <tr>\n",
       "      <th>EmployeeNumber</th>\n",
       "      <td>474</td>\n",
       "    </tr>\n",
       "  </tbody>\n",
       "</table>\n",
       "</div>"
      ],
      "text/plain": [
       "                            0\n",
       "Over18                      1\n",
       "StandardHours               1\n",
       "EmployeeCount               1\n",
       "Gender                      2\n",
       "Attrition                   2\n",
       "PerformanceRating           2\n",
       "OverTime                    2\n",
       "MaritalStatus               3\n",
       "Department                  3\n",
       "BusinessTravel              3\n",
       "StockOptionLevel            4\n",
       "EnvironmentSatisfaction     4\n",
       "JobInvolvement              4\n",
       "JobSatisfaction             4\n",
       "RelationshipSatisfaction    4\n",
       "WorkLifeBalance             4\n",
       "Education                   5\n",
       "JobLevel                    5\n",
       "EducationField              6\n",
       "TrainingTimesLastYear       7\n",
       "JobRole                     9\n",
       "NumCompaniesWorked         10\n",
       "PercentSalaryHike          15\n",
       "YearsSinceLastPromotion    16\n",
       "YearsWithCurrManager       18\n",
       "YearsInCurrentRole         19\n",
       "DistanceFromHome           29\n",
       "YearsAtCompany             30\n",
       "TotalWorkingYears          39\n",
       "Age                        42\n",
       "HourlyRate                 71\n",
       "DailyRate                 396\n",
       "MonthlyIncome             464\n",
       "MonthlyRate               470\n",
       "EmployeeNumber            474"
      ]
     },
     "execution_count": 6,
     "metadata": {},
     "output_type": "execute_result"
    }
   ],
   "source": [
    "# Найдите количество уникальных записей в каждом из столбцов\n",
    "unique_val = data.agg(lambda x: len(x.drop_duplicates()), axis=0)\n",
    "# Отсортируйте получившуюся таблицу и обратите ее в датафрейм\n",
    "unique_val = pd.DataFrame(unique_val.sort_values())\n",
    "# Удалите из нее записи тех переменных, которые попали в var_cat\n",
    "unique_val = unique_val[~unique_val.isin(var_cat)]\n",
    "# Проинспектируйте визуально, все ли признаки действительно числовые\n",
    "unique_val"
   ]
  },
  {
   "cell_type": "markdown",
   "metadata": {},
   "source": [
    "### Задача"
   ]
  },
  {
   "cell_type": "markdown",
   "metadata": {},
   "source": [
    "- Over18, StandardHours, EmployeeCount не являются информативными признаками совсем, т.к. в этих столбцах одна и та же запись, их нужно удалить из датафрейма. Соберите их в лист var_non_informative\n",
    "\n",
    "- Числовыми столбцами являются: *Age, DailyRate, DistanceFromHome, EmployeeNumber, HourlyRate, MonthlyIncome, MonthlyRate, NumCompaniesWorked, PercentSalaryHike , TotalWorkingYears, YearsAtCompany, YearsInCurrentRole, YearsSinceLastPromotion*. Соберите их в список var_num\n",
    "\n",
    "\n",
    "- Остальные признаки - категориальные. Соберите их в переменную var_cat. "
   ]
  },
  {
   "cell_type": "code",
   "execution_count": 7,
   "metadata": {},
   "outputs": [
    {
     "name": "stdout",
     "output_type": "stream",
     "text": [
      "Соотношение категориальных признаков к числовым = 1.5\n"
     ]
    }
   ],
   "source": [
    "# Сохраните в отдельный список неинформативные признаки\n",
    "var_non_informative = ['EmployeeCount', 'Over18', 'StandardHours', 'Attrition']\n",
    "\n",
    "# Соберите в один список все числовые переменные\n",
    "var_num = ['Age', 'DailyRate', 'DistanceFromHome', 'EmployeeNumber', 'HourlyRate', 'MonthlyIncome', \n",
    "            'MonthlyRate', 'NumCompaniesWorked', 'PercentSalaryHike' , 'TotalWorkingYears', 'YearsAtCompany', \n",
    "            'YearsInCurrentRole', 'YearsSinceLastPromotion', 'YearsWithCurrManager']\n",
    "# Соберите в список категориальные переменные\n",
    "var_cat = list(set(data.columns) - set(var_num))\n",
    "\n",
    "# Посчитайте соотношение категориальных признаков к числовым\n",
    "k = len(var_cat) / len(var_num)\n",
    "print(f\"Соотношение категориальных признаков к числовым = {k}\")"
   ]
  },
  {
   "cell_type": "markdown",
   "metadata": {},
   "source": [
    "## 3. Предобработка данных"
   ]
  },
  {
   "cell_type": "markdown",
   "metadata": {},
   "source": [
    "- Мы выяснили, что EmployeeCount, Over18, StandardHours следует выкинуть, также следует выкинуть признак EmployeeID, так как он не несет никакой важной информации, только ID работника. <br>\n",
    "- Выделим целевую переменную и удалим из основного датасета"
   ]
  },
  {
   "cell_type": "markdown",
   "metadata": {},
   "source": [
    "### Задача"
   ]
  },
  {
   "cell_type": "code",
   "execution_count": 8,
   "metadata": {},
   "outputs": [],
   "source": [
    "# Выделите столбец с целевой переменной в отдельную переменную \n",
    "y = data['Attrition']\n",
    "# Переобозначьте категории  Yes и No в 1 и 0 соответственно\n",
    "y = y.map({'Yes':1, 'No':0})\n",
    "# Удалите из датафрейма неинформативные признаки\n",
    "data = data.drop(var_non_informative + ['Attrition'], axis=1)       \n",
    "# Обновите var_cat и var_num\n",
    "var_cat = list(set(var_cat) - set(['EmployeeCount', 'Over18', 'StandardHours', 'Attrition']))\n",
    "var_num = list(set(var_num) - {\"EmployeeID\"})"
   ]
  },
  {
   "cell_type": "markdown",
   "metadata": {},
   "source": [
    "### Задача"
   ]
  },
  {
   "cell_type": "code",
   "execution_count": 9,
   "metadata": {},
   "outputs": [],
   "source": [
    "# проверьте данные на пропуски\n",
    "data.isna().sum(axis=0)\n",
    "\n",
    "# замените пропуски в колонках NumCompaniesWorked, TotalWorkingYears на медианное значение\n",
    "data['NumCompaniesWorked'] = data['NumCompaniesWorked'].fillna(value=data['NumCompaniesWorked'].median())\n",
    "data['TotalWorkingYears'] = data['TotalWorkingYears'].fillna(value=data['TotalWorkingYears'].median())"
   ]
  },
  {
   "cell_type": "markdown",
   "metadata": {},
   "source": [
    "### Задача"
   ]
  },
  {
   "cell_type": "code",
   "execution_count": 10,
   "metadata": {},
   "outputs": [],
   "source": [
    "# проведите OHE для категориальных переменных \n",
    "data = pd.get_dummies(data, drop_first=True, columns=var_cat)"
   ]
  },
  {
   "cell_type": "markdown",
   "metadata": {},
   "source": [
    "### Задача "
   ]
  },
  {
   "cell_type": "code",
   "execution_count": 11,
   "metadata": {},
   "outputs": [
    {
     "data": {
      "text/plain": [
       "<matplotlib.axes._subplots.AxesSubplot at 0x1a215f1e80>"
      ]
     },
     "execution_count": 11,
     "metadata": {},
     "output_type": "execute_result"
    },
    {
     "data": {
      "image/png": "[encoded data removed]",
      "text/plain": [
       "<Figure size 432x288 with 1 Axes>"
      ]
     },
     "metadata": {
      "needs_background": "light"
     },
     "output_type": "display_data"
    }
   ],
   "source": [
    "# Импортируйте функцию train_test_split\n",
    "from sklearn.model_selection import train_test_split\n",
    "\n",
    "# Разделите данные на тренировочную и тестовую выборки\n",
    "X_train, X_test, y_train, y_test = train_test_split(data, y, test_size=0.3, random_state=42)\n",
    "\n",
    "# Проверьте баланс классов\n",
    "y_train.value_counts().plot(kind='bar')\n",
    "y_test.value_counts().plot(kind='bar')"
   ]
  },
  {
   "cell_type": "markdown",
   "metadata": {},
   "source": [
    "### Задача "
   ]
  },
  {
   "cell_type": "code",
   "execution_count": 12,
   "metadata": {},
   "outputs": [
    {
     "name": "stderr",
     "output_type": "stream",
     "text": [
      "/anaconda3/lib/python3.7/site-packages/sklearn/preprocessing/data.py:625: DataConversionWarning: Data with input dtype int64 were all converted to float64 by StandardScaler.\n",
      "  return self.partial_fit(X, y)\n",
      "/anaconda3/lib/python3.7/site-packages/ipykernel_launcher.py:7: DataConversionWarning: Data with input dtype int64 were all converted to float64 by StandardScaler.\n",
      "  import sys\n",
      "/anaconda3/lib/python3.7/site-packages/ipykernel_launcher.py:7: SettingWithCopyWarning: \n",
      "A value is trying to be set on a copy of a slice from a DataFrame.\n",
      "Try using .loc[row_indexer,col_indexer] = value instead\n",
      "\n",
      "See the caveats in the documentation: http://pandas.pydata.org/pandas-docs/stable/indexing.html#indexing-view-versus-copy\n",
      "  import sys\n",
      "/anaconda3/lib/python3.7/site-packages/pandas/core/indexing.py:543: SettingWithCopyWarning: \n",
      "A value is trying to be set on a copy of a slice from a DataFrame.\n",
      "Try using .loc[row_indexer,col_indexer] = value instead\n",
      "\n",
      "See the caveats in the documentation: http://pandas.pydata.org/pandas-docs/stable/indexing.html#indexing-view-versus-copy\n",
      "  self.obj[item] = s\n",
      "/anaconda3/lib/python3.7/site-packages/ipykernel_launcher.py:8: DataConversionWarning: Data with input dtype int64 were all converted to float64 by StandardScaler.\n",
      "  \n",
      "/anaconda3/lib/python3.7/site-packages/ipykernel_launcher.py:8: SettingWithCopyWarning: \n",
      "A value is trying to be set on a copy of a slice from a DataFrame.\n",
      "Try using .loc[row_indexer,col_indexer] = value instead\n",
      "\n",
      "See the caveats in the documentation: http://pandas.pydata.org/pandas-docs/stable/indexing.html#indexing-view-versus-copy\n",
      "  \n",
      "/anaconda3/lib/python3.7/site-packages/pandas/core/indexing.py:543: SettingWithCopyWarning: \n",
      "A value is trying to be set on a copy of a slice from a DataFrame.\n",
      "Try using .loc[row_indexer,col_indexer] = value instead\n",
      "\n",
      "See the caveats in the documentation: http://pandas.pydata.org/pandas-docs/stable/indexing.html#indexing-view-versus-copy\n",
      "  self.obj[item] = s\n"
     ]
    }
   ],
   "source": [
    "# Импортируйте шкалировщик\n",
    "from sklearn.preprocessing import StandardScaler\n",
    "# Обучите шкалировщик на данных\n",
    "scaler = StandardScaler()\n",
    "scaler.fit(X_train[var_num])\n",
    "# Отшкалируйте тестовые и тренировочные данные\n",
    "X_train[var_num] = scaler.transform(X_train[var_num])\n",
    "X_test[var_num] = scaler.transform(X_test[var_num])"
   ]
  },
  {
   "cell_type": "markdown",
   "metadata": {},
   "source": [
    "## 4. Обучение base-line модели"
   ]
  },
  {
   "cell_type": "markdown",
   "metadata": {},
   "source": [
    "### Задача "
   ]
  },
  {
   "cell_type": "code",
   "execution_count": 13,
   "metadata": {},
   "outputs": [
    {
     "name": "stdout",
     "output_type": "stream",
     "text": [
      "ROC_AUC =  0.7147749510763209\n",
      "f1_score =  0.6474820143884891\n"
     ]
    }
   ],
   "source": [
    "# импортируйте KNN\n",
    "from sklearn.neighbors import KNeighborsClassifier\n",
    "\n",
    "# Объявите модель\n",
    "knn = KNeighborsClassifier()\n",
    "\n",
    "# Обучите\n",
    "knn.fit(X_train, y_train)\n",
    "\n",
    "# Спрогнозируйте вероятность принадлежности к классу 1\n",
    "y_pred_knn_proba = knn.predict_proba(X_test)[:,1]\n",
    "# Спрогнозируйте класс\n",
    "y_pred_knn_class = knn.predict(X_test)\n",
    "\n",
    "# импортируйте метрики качества\n",
    "from sklearn.metrics import roc_auc_score, f1_score\n",
    "# Посчитайте метрики качества ROC_AUC и F1\n",
    "print('ROC_AUC = ', roc_auc_score(y_test, y_pred_knn_proba))\n",
    "print('f1_score = ', f1_score(y_test, y_pred_knn_class))"
   ]
  },
  {
   "cell_type": "markdown",
   "metadata": {},
   "source": [
    "## 5. Обучение альтернативных алгоритмов"
   ]
  },
  {
   "cell_type": "code",
   "execution_count": 14,
   "metadata": {},
   "outputs": [
    {
     "name": "stdout",
     "output_type": "stream",
     "text": [
      "ROC_AUC =  0.7796477495107632\n",
      "f1_score =  0.7066666666666667\n"
     ]
    },
    {
     "name": "stderr",
     "output_type": "stream",
     "text": [
      "/anaconda3/lib/python3.7/site-packages/sklearn/linear_model/logistic.py:433: FutureWarning: Default solver will be changed to 'lbfgs' in 0.22. Specify a solver to silence this warning.\n",
      "  FutureWarning)\n"
     ]
    }
   ],
   "source": [
    "# импортируйте LogisticRegression\n",
    "from sklearn.linear_model import LogisticRegression\n",
    "# Объявите модель\n",
    "log_reg = LogisticRegression(random_state=42)\n",
    "# Обучите\n",
    "log_reg.fit(X_train, y_train)\n",
    "# спрогнозируйте вероятность к истощению\n",
    "y_pred_logreg_proba = log_reg.predict_proba(X_test)[:,1] \n",
    "\n",
    "# спрогнозируйте принадлежит ли человек к группе истощенных\n",
    "y_pred_logreg_class = log_reg.predict(X_test)\n",
    "\n",
    "# Посчитайте метрики качества ROC_AUC и F1\n",
    "print('ROC_AUC = ', roc_auc_score(y_test, y_pred_logreg_proba))\n",
    "print('f1_score = ', f1_score(y_test, y_pred_logreg_class))"
   ]
  },
  {
   "cell_type": "markdown",
   "metadata": {},
   "source": [
    "### Задача "
   ]
  },
  {
   "cell_type": "code",
   "execution_count": 15,
   "metadata": {},
   "outputs": [
    {
     "name": "stdout",
     "output_type": "stream",
     "text": [
      "ROC_AUC =  0.6743639921722113\n",
      "f1_score =  0.5454545454545454\n"
     ]
    }
   ],
   "source": [
    "# импортируйте Random Forest\n",
    "from sklearn.ensemble import RandomForestClassifier\n",
    "\n",
    "# Обучите\n",
    "rfc = RandomForestClassifier(n_estimators=10, random_state=42)\n",
    "rfc.fit(X_train, y_train)\n",
    "\n",
    "# Спрогнозируйте\n",
    "pred_rfc_proba = rfc.predict_proba(X_test)[:,1]\n",
    "pred_rfc_class = rfc.predict(X_test)\n",
    "\n",
    "print('ROC_AUC = ', roc_auc_score(y_test, pred_rfc_proba))\n",
    "print('f1_score = ', f1_score(y_test, pred_rfc_class))"
   ]
  },
  {
   "cell_type": "markdown",
   "metadata": {},
   "source": [
    "## 6. Валидация логистической регрессии"
   ]
  },
  {
   "cell_type": "markdown",
   "metadata": {},
   "source": [
    "### Задача "
   ]
  },
  {
   "cell_type": "code",
   "execution_count": 16,
   "metadata": {},
   "outputs": [
    {
     "name": "stderr",
     "output_type": "stream",
     "text": [
      "/anaconda3/lib/python3.7/site-packages/sklearn/linear_model/logistic.py:433: FutureWarning: Default solver will be changed to 'lbfgs' in 0.22. Specify a solver to silence this warning.\n",
      "  FutureWarning)\n",
      "/anaconda3/lib/python3.7/site-packages/sklearn/linear_model/logistic.py:433: FutureWarning: Default solver will be changed to 'lbfgs' in 0.22. Specify a solver to silence this warning.\n",
      "  FutureWarning)\n",
      "/anaconda3/lib/python3.7/site-packages/sklearn/linear_model/logistic.py:433: FutureWarning: Default solver will be changed to 'lbfgs' in 0.22. Specify a solver to silence this warning.\n",
      "  FutureWarning)\n",
      "/anaconda3/lib/python3.7/site-packages/sklearn/linear_model/logistic.py:433: FutureWarning: Default solver will be changed to 'lbfgs' in 0.22. Specify a solver to silence this warning.\n",
      "  FutureWarning)\n"
     ]
    },
    {
     "name": "stdout",
     "output_type": "stream",
     "text": [
      "[0.87344029 0.81283422 0.82277319 0.80532599 0.79356061]\n",
      "0.8215868578836494\n"
     ]
    },
    {
     "name": "stderr",
     "output_type": "stream",
     "text": [
      "/anaconda3/lib/python3.7/site-packages/sklearn/linear_model/logistic.py:433: FutureWarning: Default solver will be changed to 'lbfgs' in 0.22. Specify a solver to silence this warning.\n",
      "  FutureWarning)\n"
     ]
    }
   ],
   "source": [
    "# импортируйте cross_val_score\n",
    "from sklearn.model_selection import cross_val_score\n",
    "\n",
    "# объявите модель для валидации\n",
    "log_reg_cv = LogisticRegression(random_state=42)\n",
    "\n",
    "# валидируйте модель\n",
    "roc_auc_val = cross_val_score(log_reg_cv, X_train, y_train, cv=5, scoring='roc_auc')\n",
    "# \n",
    "print(roc_auc_val)\n",
    "\n",
    "# импортируйте библиотеку numpy\n",
    "import numpy as np\n",
    "\n",
    "# получите среднюю оценку качества модели\n",
    "print(np.mean(roc_auc_val))"
   ]
  },
  {
   "cell_type": "markdown",
   "metadata": {},
   "source": [
    "## 7. Тюнинг и валидация случайного леса"
   ]
  },
  {
   "cell_type": "markdown",
   "metadata": {},
   "source": [
    "### Задача "
   ]
  },
  {
   "cell_type": "code",
   "execution_count": 17,
   "metadata": {},
   "outputs": [
    {
     "name": "stderr",
     "output_type": "stream",
     "text": [
      "/anaconda3/lib/python3.7/site-packages/sklearn/model_selection/_search.py:841: DeprecationWarning: The default of the `iid` parameter will change from True to False in version 0.22 and will be removed in 0.24. This will change numeric results when test-set sizes are unequal.\n",
      "  DeprecationWarning)\n"
     ]
    },
    {
     "data": {
      "text/plain": [
       "GridSearchCV(cv=4, error_score='raise-deprecating',\n",
       "       estimator=RandomForestClassifier(bootstrap=True, class_weight=None, criterion='gini',\n",
       "            max_depth=None, max_features='auto', max_leaf_nodes=None,\n",
       "            min_impurity_decrease=0.0, min_impurity_split=None,\n",
       "            min_samples_leaf=1, min_samples_split=2,\n",
       "            min_weight_fraction_leaf=0.0, n_estimators='warn', n_jobs=None,\n",
       "            oob_score=False, random_state=42, verbose=0, warm_start=False),\n",
       "       fit_params=None, iid='warn', n_jobs=4,\n",
       "       param_grid={'n_estimators': [10, 100, 200], 'max_depth': [5, 10, 20]},\n",
       "       pre_dispatch='2*n_jobs', refit=True, return_train_score='warn',\n",
       "       scoring='roc_auc', verbose=0)"
      ]
     },
     "execution_count": 17,
     "metadata": {},
     "output_type": "execute_result"
    }
   ],
   "source": [
    "# Импортируйте GridSearchCV\n",
    "from sklearn.model_selection import GridSearchCV\n",
    "\n",
    "# Объявите модель\n",
    "rfc = RandomForestClassifier(random_state=42)\n",
    "\n",
    "# Задайте параметры\n",
    "params = {\n",
    "    'n_estimators': [10, 100, 200],\n",
    "    'max_depth': [5, 10, 20],\n",
    "}\n",
    "\n",
    "# Обучите решетку\n",
    "gcv = GridSearchCV(rfc, params, cv=4, scoring='roc_auc', n_jobs=4)\n",
    "gcv.fit(X_train, y_train)"
   ]
  },
  {
   "cell_type": "markdown",
   "metadata": {},
   "source": [
    "### Задача "
   ]
  },
  {
   "cell_type": "code",
   "execution_count": 18,
   "metadata": {},
   "outputs": [
    {
     "name": "stdout",
     "output_type": "stream",
     "text": [
      "bestCV ROC_AUC =  0.7794649655603159\n",
      "best params = {'max_depth': 20, 'n_estimators': 200}\n",
      "ROC_AUC =  0.7336594911937379\n",
      "f1_score =  0.6323529411764707\n"
     ]
    }
   ],
   "source": [
    "# Найдите лучшее значение метрики\n",
    "print('bestCV ROC_AUC = ', gcv.best_score_)\n",
    "# Найдите лучшее сочетание параметров\n",
    "print('best params =', gcv.best_params_)\n",
    "\n",
    "# Объявите лучшую модель\n",
    "best_model = gcv.best_estimator_\n",
    "\n",
    "# Обучите ее\n",
    "best_model.fit(X_train, y_train)\n",
    "\n",
    "# Сделайте прогнозы\n",
    "pred_proba = best_model.predict_proba(X_test)[:,1]\n",
    "pred_class = best_model.predict(X_test)\n",
    "\n",
    "# проверьте метрики качества\n",
    "print('ROC_AUC = ', roc_auc_score(y_test, pred_proba))\n",
    "print('f1_score = ', f1_score(y_test, pred_class))"
   ]
  },
  {
   "cell_type": "markdown",
   "metadata": {},
   "source": [
    "## 8. Выводы"
   ]
  }
 ],
 "metadata": {
  "kernelspec": {
   "display_name": "Python 3",
   "language": "python",
   "name": "python3"
  },
  "language_info": {
   "codemirror_mode": {
    "name": "ipython",
    "version": 3
   },
   "file_extension": ".py",
   "mimetype": "text/x-python",
   "name": "python",
   "nbconvert_exporter": "python",
   "pygments_lexer": "ipython3",
   "version": "3.7.1"
  }
 },
 "nbformat": 4,
 "nbformat_minor": 2
}
